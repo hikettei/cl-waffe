{
 "cells": [
  {
   "cell_type": "code",
   "execution_count": 1,
   "id": "699c046e-cfc2-4345-9763-f3ec3e34ef7c",
   "metadata": {},
   "outputs": [
    {
     "data": {
      "text/plain": [
       "T"
      ]
     },
     "execution_count": 1,
     "metadata": {},
     "output_type": "execute_result"
    },
    {
     "data": {
      "text/plain": [
       "(:CL-WAFFE)"
      ]
     },
     "execution_count": 1,
     "metadata": {},
     "output_type": "execute_result"
    },
    {
     "data": {
      "text/plain": [
       "T"
      ]
     },
     "execution_count": 1,
     "metadata": {},
     "output_type": "execute_result"
    },
    {
     "data": {
      "text/plain": [
       "T"
      ]
     },
     "execution_count": 1,
     "metadata": {},
     "output_type": "execute_result"
    },
    {
     "name": "stderr",
     "output_type": "stream",
     "text": [
      "Unable to find framework CUDA\n"
     ]
    }
   ],
   "source": [
    "; cl-waffeを読み込む\n",
    "(load \"../../cl-waffe.asd\")\n",
    "(ql:quickload :cl-waffe :silent t)\n",
    "(use-package :cl-waffe)\n",
    "(use-package :cl-waffe.nn)"
   ]
  },
  {
   "cell_type": "code",
   "execution_count": 82,
   "id": "9f52e871-5bda-444d-92f9-69f0ffad9c6f",
   "metadata": {},
   "outputs": [
    {
     "data": {
      "text/plain": [
       "#<PACKAGE \"SEQ2SEQ-EXAMPLE\">"
      ]
     },
     "execution_count": 82,
     "metadata": {},
     "output_type": "execute_result"
    },
    {
     "data": {
      "text/plain": [
       "#<PACKAGE \"SEQ2SEQ-EXAMPLE\">"
      ]
     },
     "execution_count": 82,
     "metadata": {},
     "output_type": "execute_result"
    }
   ],
   "source": [
    "(defpackage :seq2seq-example\n",
    "  (:use :cl :cl-waffe :cl-waffe.nn :mgl-mat :alexandria :cl-ppcre :split-sequence)\n",
    "  (:export demo))\n",
    "\n",
    "(in-package :seq2seq-example)"
   ]
  },
  {
   "cell_type": "code",
   "execution_count": 83,
   "id": "c55f41c0-2ab2-448a-a5c4-608c50eefba9",
   "metadata": {},
   "outputs": [
    {
     "data": {
      "text/plain": [
       "NIL"
      ]
     },
     "execution_count": 83,
     "metadata": {},
     "output_type": "execute_result"
    },
    {
     "data": {
      "text/plain": [
       "NIL"
      ]
     },
     "execution_count": 83,
     "metadata": {},
     "output_type": "execute_result"
    },
    {
     "data": {
      "text/plain": [
       "NIL"
      ]
     },
     "execution_count": 83,
     "metadata": {},
     "output_type": "execute_result"
    },
    {
     "name": "stdout",
     "output_type": "stream",
     "text": [
      "SB-KERNEL:REDEFINITION-WITH-DEFUN: redefining SEQ2SEQ-EXAMPLE::COPY-ENCODER in DEFUN\n",
      "SB-KERNEL:REDEFINITION-WITH-DEFUN: redefining SEQ2SEQ-EXAMPLE::ENCODER-P in DEFUN\n",
      "SB-KERNEL:REDEFINITION-WITH-DEFUN: redefining (COMMON-LISP:SETF SEQ2SEQ-EXAMPLE::ENCODER-MODEL-IDENT) in DEFUN\n",
      "SB-KERNEL:REDEFINITION-WITH-DEFUN: redefining SEQ2SEQ-EXAMPLE::ENCODER-MODEL-IDENT in DEFUN\n",
      "SB-KERNEL:REDEFINITION-WITH-DEFUN: redefining (COMMON-LISP:SETF SEQ2SEQ-EXAMPLE::ENCODER-HIDE-FROM-TREE) in DEFUN\n",
      "SB-KERNEL:REDEFINITION-WITH-DEFUN: redefining SEQ2SEQ-EXAMPLE::ENCODER-HIDE-FROM-TREE in DEFUN\n",
      "SB-KERNEL:REDEFINITION-WITH-DEFUN: redefining (COMMON-LISP:SETF SEQ2SEQ-EXAMPLE::ENCODER-FORWARD) in DEFUN\n",
      "SB-KERNEL:REDEFINITION-WITH-DEFUN: redefining SEQ2SEQ-EXAMPLE::ENCODER-FORWARD in DEFUN\n",
      "SB-KERNEL:REDEFINITION-WITH-DEFUN: redefining (COMMON-LISP:SETF SEQ2SEQ-EXAMPLE::ENCODER-OBJECT-TYPE) in DEFUN\n",
      "SB-KERNEL:REDEFINITION-WITH-DEFUN: redefining SEQ2SEQ-EXAMPLE::ENCODER-OBJECT-TYPE in DEFUN\n",
      "SB-KERNEL:REDEFINITION-WITH-DEFUN: redefining (COMMON-LISP:SETF SEQ2SEQ-EXAMPLE::ENCODER-BACKWARD) in DEFUN\n",
      "SB-KERNEL:REDEFINITION-WITH-DEFUN: redefining SEQ2SEQ-EXAMPLE::ENCODER-BACKWARD in DEFUN\n",
      "SB-KERNEL:REDEFINITION-WITH-DEFUN: redefining (COMMON-LISP:SETF SEQ2SEQ-EXAMPLE::ENCODER-PARAMETERS) in DEFUN\n",
      "SB-KERNEL:REDEFINITION-WITH-DEFUN: redefining SEQ2SEQ-EXAMPLE::ENCODER-PARAMETERS in DEFUN\n",
      "SB-KERNEL:REDEFINITION-WITH-DEFUN: redefining (COMMON-LISP:SETF SEQ2SEQ-EXAMPLE::ENCODER-EMBEDDING) in DEFUN\n",
      "SB-KERNEL:REDEFINITION-WITH-DEFUN: redefining SEQ2SEQ-EXAMPLE::ENCODER-EMBEDDING in DEFUN\n",
      "SB-KERNEL:REDEFINITION-WITH-DEFUN: redefining (COMMON-LISP:SETF SEQ2SEQ-EXAMPLE::ENCODER-LAYER) in DEFUN\n",
      "SB-KERNEL:REDEFINITION-WITH-DEFUN: redefining SEQ2SEQ-EXAMPLE::ENCODER-LAYER in DEFUN\n",
      "SB-KERNEL:REDEFINITION-WITH-DEFUN: redefining SEQ2SEQ-EXAMPLE::ENCODER in DEFUN\n",
      "SB-KERNEL:REDEFINITION-WITH-DEFMETHOD: redefining PRINT-OBJECT (#<STRUCTURE-CLASS SEQ2SEQ-EXAMPLE::ENCODER>\n",
      "                                                                #<SB-PCL:SYSTEM-CLASS COMMON-LISP:T>) in DEFMETHOD\n",
      "SB-KERNEL:REDEFINITION-WITH-DEFMETHOD: redefining CL-WAFFE::CALL-FORWARD CL-WAFFE::BACKEND-DISPATCHER (#<STRUCTURE-CLASS SEQ2SEQ-EXAMPLE::ENCODER>) in DEFMETHOD\n",
      "SB-KERNEL:REDEFINITION-WITH-DEFMETHOD: redefining CL-WAFFE::CALL-BACKWARD CL-WAFFE::BACKEND-DISPATCHER (#<STRUCTURE-CLASS SEQ2SEQ-EXAMPLE::ENCODER>) in DEFMETHOD\n",
      "SB-KERNEL:REDEFINITION-WITH-DEFUN: redefining SEQ2SEQ-EXAMPLE::COPY-DECODER in DEFUN\n",
      "SB-KERNEL:REDEFINITION-WITH-DEFUN: redefining SEQ2SEQ-EXAMPLE::DECODER-P in DEFUN\n",
      "SB-KERNEL:REDEFINITION-WITH-DEFUN: redefining (COMMON-LISP:SETF SEQ2SEQ-EXAMPLE::DECODER-MODEL-IDENT) in DEFUN\n",
      "SB-KERNEL:REDEFINITION-WITH-DEFUN: redefining SEQ2SEQ-EXAMPLE::DECODER-MODEL-IDENT in DEFUN\n",
      "SB-KERNEL:REDEFINITION-WITH-DEFUN: redefining (COMMON-LISP:SETF SEQ2SEQ-EXAMPLE::DECODER-HIDE-FROM-TREE) in DEFUN\n",
      "SB-KERNEL:REDEFINITION-WITH-DEFUN: redefining SEQ2SEQ-EXAMPLE::DECODER-HIDE-FROM-TREE in DEFUN\n",
      "SB-KERNEL:REDEFINITION-WITH-DEFUN: redefining (COMMON-LISP:SETF SEQ2SEQ-EXAMPLE::DECODER-FORWARD) in DEFUN\n",
      "SB-KERNEL:REDEFINITION-WITH-DEFUN: redefining SEQ2SEQ-EXAMPLE::DECODER-FORWARD in DEFUN\n",
      "SB-KERNEL:REDEFINITION-WITH-DEFUN: redefining (COMMON-LISP:SETF SEQ2SEQ-EXAMPLE::DECODER-OBJECT-TYPE) in DEFUN\n",
      "SB-KERNEL:REDEFINITION-WITH-DEFUN: redefining SEQ2SEQ-EXAMPLE::DECODER-OBJECT-TYPE in DEFUN\n",
      "SB-KERNEL:REDEFINITION-WITH-DEFUN: redefining (COMMON-LISP:SETF SEQ2SEQ-EXAMPLE::DECODER-BACKWARD) in DEFUN\n",
      "SB-KERNEL:REDEFINITION-WITH-DEFUN: redefining SEQ2SEQ-EXAMPLE::DECODER-BACKWARD in DEFUN\n",
      "SB-KERNEL:REDEFINITION-WITH-DEFUN: redefining (COMMON-LISP:SETF SEQ2SEQ-EXAMPLE::DECODER-PARAMETERS) in DEFUN\n",
      "SB-KERNEL:REDEFINITION-WITH-DEFUN: redefining SEQ2SEQ-EXAMPLE::DECODER-PARAMETERS in DEFUN\n",
      "SB-KERNEL:REDEFINITION-WITH-DEFUN: redefining (COMMON-LISP:SETF SEQ2SEQ-EXAMPLE::DECODER-EMBEDDING) in DEFUN\n",
      "SB-KERNEL:REDEFINITION-WITH-DEFUN: redefining SEQ2SEQ-EXAMPLE::DECODER-EMBEDDING in DEFUN\n",
      "SB-KERNEL:REDEFINITION-WITH-DEFUN: redefining (COMMON-LISP:SETF SEQ2SEQ-EXAMPLE::DECODER-LAYER) in DEFUN\n",
      "SB-KERNEL:REDEFINITION-WITH-DEFUN: redefining SEQ2SEQ-EXAMPLE::DECODER-LAYER in DEFUN\n",
      "SB-KERNEL:REDEFINITION-WITH-DEFUN: redefining (COMMON-LISP:SETF SEQ2SEQ-EXAMPLE::DECODER-H2L) in DEFUN\n",
      "SB-KERNEL:REDEFINITION-WITH-DEFUN: redefining SEQ2SEQ-EXAMPLE::DECODER-H2L in DEFUN\n",
      "SB-KERNEL:REDEFINITION-WITH-DEFUN: redefining SEQ2SEQ-EXAMPLE::DECODER in DEFUN\n",
      "SB-KERNEL:REDEFINITION-WITH-DEFMETHOD: redefining PRINT-OBJECT (#<STRUCTURE-CLASS SEQ2SEQ-EXAMPLE::DECODER>\n",
      "                                                                #<SB-PCL:SYSTEM-CLASS COMMON-LISP:T>) in DEFMETHOD\n",
      "SB-KERNEL:REDEFINITION-WITH-DEFMETHOD: redefining CL-WAFFE::CALL-FORWARD CL-WAFFE::BACKEND-DISPATCHER (#<STRUCTURE-CLASS SEQ2SEQ-EXAMPLE::DECODER>) in DEFMETHOD\n",
      "SB-KERNEL:REDEFINITION-WITH-DEFMETHOD: redefining CL-WAFFE::CALL-BACKWARD CL-WAFFE::BACKEND-DISPATCHER (#<STRUCTURE-CLASS SEQ2SEQ-EXAMPLE::DECODER>) in DEFMETHOD\n",
      "SB-KERNEL:REDEFINITION-WITH-DEFUN: redefining SEQ2SEQ-EXAMPLE::COPY-SEQ2SEQ in DEFUN\n",
      "SB-KERNEL:REDEFINITION-WITH-DEFUN: redefining SEQ2SEQ-EXAMPLE::SEQ2SEQ-P in DEFUN\n",
      "SB-KERNEL:REDEFINITION-WITH-DEFUN: redefining (COMMON-LISP:SETF SEQ2SEQ-EXAMPLE::SEQ2SEQ-MODEL-IDENT) in DEFUN\n",
      "SB-KERNEL:REDEFINITION-WITH-DEFUN: redefining SEQ2SEQ-EXAMPLE::SEQ2SEQ-MODEL-IDENT in DEFUN\n",
      "SB-KERNEL:REDEFINITION-WITH-DEFUN: redefining (COMMON-LISP:SETF SEQ2SEQ-EXAMPLE::SEQ2SEQ-HIDE-FROM-TREE) in DEFUN\n",
      "SB-KERNEL:REDEFINITION-WITH-DEFUN: redefining SEQ2SEQ-EXAMPLE::SEQ2SEQ-HIDE-FROM-TREE in DEFUN\n",
      "SB-KERNEL:REDEFINITION-WITH-DEFUN: redefining (COMMON-LISP:SETF SEQ2SEQ-EXAMPLE::SEQ2SEQ-FORWARD) in DEFUN\n",
      "SB-KERNEL:REDEFINITION-WITH-DEFUN: redefining SEQ2SEQ-EXAMPLE::SEQ2SEQ-FORWARD in DEFUN\n",
      "SB-KERNEL:REDEFINITION-WITH-DEFUN: redefining (COMMON-LISP:SETF SEQ2SEQ-EXAMPLE::SEQ2SEQ-OBJECT-TYPE) in DEFUN\n",
      "SB-KERNEL:REDEFINITION-WITH-DEFUN: redefining SEQ2SEQ-EXAMPLE::SEQ2SEQ-OBJECT-TYPE in DEFUN\n",
      "SB-KERNEL:REDEFINITION-WITH-DEFUN: redefining (COMMON-LISP:SETF SEQ2SEQ-EXAMPLE::SEQ2SEQ-BACKWARD) in DEFUN\n",
      "SB-KERNEL:REDEFINITION-WITH-DEFUN: redefining SEQ2SEQ-EXAMPLE::SEQ2SEQ-BACKWARD in DEFUN\n",
      "SB-KERNEL:REDEFINITION-WITH-DEFUN: redefining (COMMON-LISP:SETF SEQ2SEQ-EXAMPLE::SEQ2SEQ-PARAMETERS) in DEFUN\n",
      "SB-KERNEL:REDEFINITION-WITH-DEFUN: redefining SEQ2SEQ-EXAMPLE::SEQ2SEQ-PARAMETERS in DEFUN\n",
      "SB-KERNEL:REDEFINITION-WITH-DEFUN: redefining (COMMON-LISP:SETF SEQ2SEQ-EXAMPLE::SEQ2SEQ-ENCODER) in DEFUN\n",
      "SB-KERNEL:REDEFINITION-WITH-DEFUN: redefining SEQ2SEQ-EXAMPLE::SEQ2SEQ-ENCODER in DEFUN\n",
      "SB-KERNEL:REDEFINITION-WITH-DEFUN: redefining (COMMON-LISP:SETF SEQ2SEQ-EXAMPLE::SEQ2SEQ-DECODER) in DEFUN\n",
      "SB-KERNEL:REDEFINITION-WITH-DEFUN: redefining SEQ2SEQ-EXAMPLE::SEQ2SEQ-DECODER in DEFUN\n",
      "SB-KERNEL:REDEFINITION-WITH-DEFUN: redefining SEQ2SEQ-EXAMPLE::SEQ2SEQ in DEFUN\n",
      "SB-KERNEL:REDEFINITION-WITH-DEFMETHOD: redefining PRINT-OBJECT (#<STRUCTURE-CLASS SEQ2SEQ-EXAMPLE::SEQ2SEQ>\n",
      "                                                                #<SB-PCL:SYSTEM-CLASS COMMON-LISP:T>) in DEFMETHOD\n",
      "SB-KERNEL:REDEFINITION-WITH-DEFMETHOD: redefining CL-WAFFE::CALL-FORWARD CL-WAFFE::BACKEND-DISPATCHER (#<STRUCTURE-CLASS SEQ2SEQ-EXAMPLE::SEQ2SEQ>) in DEFMETHOD\n",
      "SB-KERNEL:REDEFINITION-WITH-DEFMETHOD: redefining CL-WAFFE::CALL-BACKWARD CL-WAFFE::BACKEND-DISPATCHER (#<STRUCTURE-CLASS SEQ2SEQ-EXAMPLE::SEQ2SEQ>) in DEFMETHOD\n"
     ]
    }
   ],
   "source": [
    "(defmodel Encoder (vocab-size embedding-dim hidden-size)\n",
    "  :parameters ((embedding (Embedding vocab-size embedding-dim :pad-idx 0))\n",
    "               (layer     (RNN embedding-dim hidden-size :num-layers 1)))\n",
    "  :forward ((x)\n",
    "            (with-calling-layers x\n",
    "                (embedding x)\n",
    "                (layer x))))\n",
    "\n",
    "(defmodel Decoder (vocab-size embedding-dim hidden-size)\n",
    "  :parameters ((embedding (Embedding vocab-size embedding-dim :pad-idx 0))\n",
    "               (layer     (RNN embedding-dim hidden-size :num-layers 1))\n",
    "               (h2l       (linearlayer hidden-size vocab-size)))\n",
    "  \n",
    "  :forward ((encoder-state y)\n",
    "            (let* ((ye (call (self embedding) y))\n",
    "                   (hs (call (self layer) ye encoder-state))\n",
    "                   (h-output (call (self h2l) hs)))\n",
    "                  (list h-output hs))))\n",
    "\n",
    "(defmodel Seq2Seq (vocab-size embedding-dim input-size)\n",
    "  :parameters ((encoder (Encoder vocab-size embedding-dim input-size))\n",
    "               (decoder (Decoder vocab-size embedding-dim input-size)))  \n",
    "  :forward ((x y)\n",
    "            (let ((x-state (call (self encoder) x))\n",
    "                  (y1 (!zeros (!shape y))))\n",
    "                 (setq y1 (setf (!aref y1 t) (!aref y '(1 t))))\n",
    "                 (call (self decoder) x-state y1))))"
   ]
  },
  {
   "cell_type": "code",
   "execution_count": 84,
   "id": "4b2ef749-8010-4214-b9ac-849f65073131",
   "metadata": {},
   "outputs": [
    {
     "data": {
      "text/plain": [
       "NIL"
      ]
     },
     "execution_count": 84,
     "metadata": {},
     "output_type": "execute_result"
    },
    {
     "name": "stdout",
     "output_type": "stream",
     "text": [
      "SB-KERNEL:REDEFINITION-WITH-DEFUN: redefining SEQ2SEQ-EXAMPLE::COPY-SEQ2SEQTRAINER in DEFUN\n",
      "SB-KERNEL:REDEFINITION-WITH-DEFUN: redefining SEQ2SEQ-EXAMPLE::SEQ2SEQTRAINER-P in DEFUN\n",
      "SB-KERNEL:REDEFINITION-WITH-DEFUN: redefining (COMMON-LISP:SETF SEQ2SEQ-EXAMPLE::SEQ2SEQTRAINER-MODEL) in DEFUN\n",
      "SB-KERNEL:REDEFINITION-WITH-DEFUN: redefining SEQ2SEQ-EXAMPLE::SEQ2SEQTRAINER-MODEL in DEFUN\n",
      "SB-KERNEL:REDEFINITION-WITH-DEFUN: redefining (COMMON-LISP:SETF SEQ2SEQ-EXAMPLE::SEQ2SEQTRAINER-OPTIMIZER) in DEFUN\n",
      "SB-KERNEL:REDEFINITION-WITH-DEFUN: redefining SEQ2SEQ-EXAMPLE::SEQ2SEQTRAINER-OPTIMIZER in DEFUN\n",
      "SB-KERNEL:REDEFINITION-WITH-DEFUN: redefining (COMMON-LISP:SETF SEQ2SEQ-EXAMPLE::SEQ2SEQTRAINER-OPTIMIZER-REPORT) in DEFUN\n",
      "SB-KERNEL:REDEFINITION-WITH-DEFUN: redefining SEQ2SEQ-EXAMPLE::SEQ2SEQTRAINER-OPTIMIZER-REPORT in DEFUN\n",
      "SB-KERNEL:REDEFINITION-WITH-DEFUN: redefining (COMMON-LISP:SETF SEQ2SEQ-EXAMPLE::SEQ2SEQTRAINER-PREDICT) in DEFUN\n",
      "SB-KERNEL:REDEFINITION-WITH-DEFUN: redefining SEQ2SEQ-EXAMPLE::SEQ2SEQTRAINER-PREDICT in DEFUN\n",
      "SB-KERNEL:REDEFINITION-WITH-DEFUN: redefining (COMMON-LISP:SETF SEQ2SEQ-EXAMPLE::SEQ2SEQTRAINER-STEP-MODEL) in DEFUN\n",
      "SB-KERNEL:REDEFINITION-WITH-DEFUN: redefining SEQ2SEQ-EXAMPLE::SEQ2SEQTRAINER-STEP-MODEL in DEFUN\n",
      "SB-KERNEL:REDEFINITION-WITH-DEFUN: redefining SEQ2SEQ-EXAMPLE::SEQ2SEQTRAINER in DEFUN\n",
      "SB-KERNEL:REDEFINITION-WITH-DEFMETHOD: redefining PRINT-OBJECT (#<STRUCTURE-CLASS SEQ2SEQ-EXAMPLE::SEQ2SEQTRAINER>\n",
      "                                                                #<SB-PCL:SYSTEM-CLASS COMMON-LISP:T>) in DEFMETHOD\n",
      "SB-KERNEL:REDEFINITION-WITH-DEFMETHOD: redefining CL-WAFFE::TRAINER-STEP-MODEL (#<STRUCTURE-CLASS SEQ2SEQ-EXAMPLE::SEQ2SEQTRAINER>) in DEFMETHOD\n",
      "SB-KERNEL:REDEFINITION-WITH-DEFMETHOD: redefining CL-WAFFE::TRAINER-PREDICT (#<STRUCTURE-CLASS SEQ2SEQ-EXAMPLE::SEQ2SEQTRAINER>) in DEFMETHOD\n"
     ]
    }
   ],
   "source": [
    "(deftrainer Seq2SeqTrainer (vocab-size embedding-dim hidden-size)\n",
    "  :model (Seq2Seq vocab-size embedding-dim hidden-size)\n",
    "  :optimizer cl-waffe.optimizers:Adam\n",
    "  :optimizer (:lr 1e-3)\n",
    "  :step-model ((x y)\n",
    "               (zero-grad)\n",
    "               (let* ((outs (call (self model) x y))\n",
    "                      (out (softmax-cross-entropy (car outs) y)))\n",
    "                     (backward out)\n",
    "                     (update)\n",
    "                     out))\n",
    "  :predict ((x) (call (model) x)))"
   ]
  },
  {
   "cell_type": "code",
   "execution_count": 85,
   "id": "8d39bb21-bc80-4ff8-8d8d-0711ab576e77",
   "metadata": {},
   "outputs": [
    {
     "data": {
      "text/plain": [
       "*WORDS2IDX*"
      ]
     },
     "execution_count": 85,
     "metadata": {},
     "output_type": "execute_result"
    },
    {
     "data": {
      "text/plain": [
       "*IDX2WORDS*"
      ]
     },
     "execution_count": 85,
     "metadata": {},
     "output_type": "execute_result"
    },
    {
     "data": {
      "text/plain": [
       "*MAXLEN*"
      ]
     },
     "execution_count": 85,
     "metadata": {},
     "output_type": "execute_result"
    },
    {
     "data": {
      "text/plain": [
       "*TRAIN-SIZE*"
      ]
     },
     "execution_count": 85,
     "metadata": {},
     "output_type": "execute_result"
    },
    {
     "data": {
      "text/plain": [
       "*VALID-SIZE*"
      ]
     },
     "execution_count": 85,
     "metadata": {},
     "output_type": "execute_result"
    }
   ],
   "source": [
    "(defparameter *words2idx* (alist-hash-table\n",
    "\t\t\t    `((0 . 0)\n",
    "\t\t\t      (1 . 1)\n",
    "\t\t\t      (2 . 2)\n",
    "\t\t\t      (3 . 3)\n",
    "\t\t\t      (4 . 4)\n",
    "\t\t\t      (5 . 5)\n",
    "\t\t\t      (6 . 6)\n",
    "\t\t\t      (7 . 7)\n",
    "\t\t\t      (8 . 8)\n",
    "\t\t\t      (9 . 9)\n",
    "\t\t\t      (+ . 10)\n",
    "\t\t\t      (- . 11)\n",
    "\t\t\t      (* . 12)\n",
    "\t\t\t      (= . 13)\n",
    "\t\t\t      (EOS . 14))))\n",
    "\n",
    "(defparameter *idx2words* (alist-hash-table\n",
    "\t\t\t    `((0 . 0)\n",
    "\t\t\t      (1 . 1)\n",
    "\t\t\t      (2 . 2)\n",
    "\t\t\t      (3 . 3)\n",
    "\t\t\t      (4 . 4)\n",
    "\t\t\t      (5 . 5)\n",
    "\t\t\t      (6 . 6)\n",
    "\t\t\t      (7 . 7)\n",
    "\t\t\t      (8 . 8)\n",
    "\t\t\t      (9 . 9)\n",
    "\t\t\t      (10 . +)\n",
    "\t\t\t      (11 . -)\n",
    "\t\t\t      (12 . *)\n",
    "\t\t\t      (13 . =)\n",
    "\t\t\t      (14 . EOS))))\n",
    "\n",
    "(defparameter *maxlen* 20)\n",
    "\n",
    "(defparameter *train-size* 60000)\n",
    "(defparameter *valid-size* 10000)"
   ]
  },
  {
   "cell_type": "code",
   "execution_count": 76,
   "id": "801910ef-d201-41c0-bad7-07701d79f2b5",
   "metadata": {},
   "outputs": [
    {
     "data": {
      "text/plain": [
       "GENERATE-PROBLEM"
      ]
     },
     "execution_count": 86,
     "metadata": {},
     "output_type": "execute_result"
    },
    {
     "data": {
      "text/plain": [
       "GENERATE-PROBLEM-PAD"
      ]
     },
     "execution_count": 86,
     "metadata": {},
     "output_type": "execute_result"
    },
    {
     "data": {
      "text/plain": [
       "TRANSLATE-INTO-IDS"
      ]
     },
     "execution_count": 86,
     "metadata": {},
     "output_type": "execute_result"
    },
    {
     "name": "stdout",
     "output_type": "stream",
     "text": [
      "SB-KERNEL:REDEFINITION-WITH-DEFUN: redefining SEQ2SEQ-EXAMPLE::GENERATE-PROBLEM in DEFUN\n",
      "SB-KERNEL:REDEFINITION-WITH-DEFUN: redefining SEQ2SEQ-EXAMPLE::GENERATE-PROBLEM-PAD in DEFUN\n",
      "SB-KERNEL:REDEFINITION-WITH-DEFUN: redefining SEQ2SEQ-EXAMPLE::TRANSLATE-INTO-IDS in DEFUN\n"
     ]
    }
   ],
   "source": [
    "(defun generate-problem ()\n",
    "  (declare (optimize (speed 3)))\n",
    "  (labels ((gen-num ()\n",
    "\t     (random 100))\n",
    "\t   (split-num (fn &aux\n",
    "\t\t\t    (str (format nil \"~a\" fn))\n",
    "\t\t\t    (arr (make-array (length str)\n",
    "\t\t\t\t\t     :initial-contents str)))\n",
    "\t     (loop for i fixnum upfrom 0 below (length str)\n",
    "\t\t   collect (digit-char-p (aref arr i))))\n",
    "\t   (gen-symbol ()\n",
    "\t     (nth (random 3) `(+ - *))))\n",
    "\n",
    "    (let ((x (gen-num))\n",
    "\t  (y (gen-num))\n",
    "\t  (sym (gen-symbol)))\n",
    "\n",
    "      (values `(,@(split-num x)\n",
    "\t\t,sym\n",
    "\t\t,@(split-num y)\n",
    "\t\tEOS)\n",
    "\t      `(=\n",
    "\t\t,@(split-num\n",
    "\t\t   (case sym\n",
    "\t\t     (+ (+ x y))\n",
    "\t\t     (- (- x y))\n",
    "\t\t     (* (* x y))))\n",
    "\t\tEOS)))))\n",
    "\n",
    "(defun generate-problem-pad ()\n",
    "  (multiple-value-bind (x y) (generate-problem)\n",
    "    (values\n",
    "     (loop for i fixnum upfrom 0 below *maxlen*\n",
    "\t   if (nth i x)\n",
    "\t     collect (nth i x)\n",
    "\t   else\n",
    "\t     collect 0)\n",
    "     (loop for i fixnum upfrom 0 below *maxlen*\n",
    "\t   if (nth i y)\n",
    "\t     collect (nth i y)\n",
    "\t   else\n",
    "\t     collect 0))))\n",
    "\n",
    "(defun translate-into-ids (list)\n",
    "  (map 'list #'(lambda (x) (gethash x *words2idx*)) list))"
   ]
  },
  {
   "cell_type": "code",
   "execution_count": 77,
   "id": "4f253073-c5c0-416d-b71d-4d4430d97bc6",
   "metadata": {},
   "outputs": [
    {
     "data": {
      "text/plain": [
       "CREATE-DATASET"
      ]
     },
     "execution_count": 87,
     "metadata": {},
     "output_type": "execute_result"
    },
    {
     "data": {
      "text/plain": [
       "TRAIN"
      ]
     },
     "execution_count": 87,
     "metadata": {},
     "output_type": "execute_result"
    },
    {
     "name": "stdout",
     "output_type": "stream",
     "text": [
      "SB-KERNEL:REDEFINITION-WITH-DEFUN: redefining SEQ2SEQ-EXAMPLE::CREATE-DATASET in DEFUN\n",
      "SB-KERNEL:REDEFINITION-WITH-DEFUN: redefining CL-WAFFE:TRAIN in DEFUN\n"
     ]
    }
   ],
   "source": [
    "(defun create-dataset (n batch-size)\n",
    "  (let ((train-data nil)\n",
    "\t(train-label nil))\n",
    "    (dotimes (i n)\n",
    "      (multiple-value-bind (x y) (generate-problem-pad)\n",
    "\t(push (translate-into-ids x) train-data)\n",
    "\t(push (translate-into-ids y) train-label)))\n",
    "    (setq train-data (make-mat `(,n ,*maxlen*)\n",
    "\t\t\t       :initial-contents train-data))\n",
    "    (setq train-label (make-mat `(,n ,*maxlen*)\n",
    "\t\t\t\t:initial-contents train-label))\n",
    "    (setq train-data (const train-data))\n",
    "    (setq train-label (const train-label))\n",
    "\n",
    "    (WaffeDataset\n",
    "     train-data\n",
    "     train-label\n",
    "     :batch-size batch-size)))\n",
    "\n",
    "(defun train (&key\n",
    "\t\t(epoch-num 10)\n",
    "\t\t(batch-size 100)\n",
    "\t\t(embedding-dim 128)\n",
    "\t\t(hidden-size 256))\n",
    "  (let ((trainer (Seq2SeqTrainer (hash-table-count *words2idx*)\n",
    "\t\t\t\t embedding-dim\n",
    "\t\t\t\t hidden-size))\n",
    "\t(dataset (create-dataset 100 batch-size)))\n",
    "\n",
    "    (dotimes (epoch epoch-num)\n",
    "      (format t \"~ath Epoch\" epoch)\n",
    "      (dotimes (i 1)\n",
    "\t(let ((loss (apply\n",
    "\t\t     #'step-model\n",
    "\t\t     trainer\n",
    "\t\t     (get-dataset dataset i))))\n",
    "\t  (print loss))))\n",
    "    trainer))"
   ]
  },
  {
   "cell_type": "code",
   "execution_count": 78,
   "id": "91489018-70b5-4b81-aeae-8af360fc36b7",
   "metadata": {},
   "outputs": [
    {
     "data": {
      "text/plain": [
       "<Trainer: SEQ2SEQTRAINER()>"
      ]
     },
     "execution_count": 88,
     "metadata": {},
     "output_type": "execute_result"
    },
    {
     "name": "stdout",
     "output_type": "stream",
     "text": [
      "0th Epoch\n",
      "#Const(2.7080507) \n",
      "Evaluation took:\n",
      "  0.826 seconds of real time\n",
      "  0.813294 seconds of total run time (0.800144 user, 0.013150 system)\n",
      "  [ Run times consist of 0.047 seconds GC time, and 0.767 seconds non-GC time. ]\n",
      "  98.43% CPU\n",
      "  220 lambdas converted\n",
      "  1,903,924,676 processor cycles\n",
      "  711,919,712 bytes consed\n",
      "  \n"
     ]
    }
   ],
   "source": [
    "(time (train :epoch-num 1 :batch-size 2 :embedding-dim 64 :hidden-size 64))"
   ]
  },
  {
   "cell_type": "code",
   "execution_count": 90,
   "id": "0e66733f-b99a-46f8-9f72-d8554d4ca3c2",
   "metadata": {},
   "outputs": [
    {
     "data": {
      "text/plain": [
       "#<PACKAGE \"CL-WAFFE.NN\">"
      ]
     },
     "execution_count": 90,
     "metadata": {},
     "output_type": "execute_result"
    },
    {
     "data": {
      "text/plain": [
       "NIL"
      ]
     },
     "execution_count": 90,
     "metadata": {},
     "output_type": "execute_result"
    },
    {
     "name": "stdout",
     "output_type": "stream",
     "text": [
      "SB-KERNEL:REDEFINITION-WITH-DEFUN: redefining CL-WAFFE.NN::COPY-LSTMHIDDENLAYER in DEFUN\n",
      "SB-KERNEL:REDEFINITION-WITH-DEFUN: redefining CL-WAFFE.NN::LSTMHIDDENLAYER-P in DEFUN\n",
      "SB-KERNEL:REDEFINITION-WITH-DEFUN: redefining (COMMON-LISP:SETF CL-WAFFE.NN::LSTMHIDDENLAYER-MODEL-IDENT) in DEFUN\n",
      "SB-KERNEL:REDEFINITION-WITH-DEFUN: redefining CL-WAFFE.NN::LSTMHIDDENLAYER-MODEL-IDENT in DEFUN\n",
      "SB-KERNEL:REDEFINITION-WITH-DEFUN: redefining (COMMON-LISP:SETF CL-WAFFE.NN::LSTMHIDDENLAYER-HIDE-FROM-TREE) in DEFUN\n",
      "SB-KERNEL:REDEFINITION-WITH-DEFUN: redefining CL-WAFFE.NN::LSTMHIDDENLAYER-HIDE-FROM-TREE in DEFUN\n",
      "SB-KERNEL:REDEFINITION-WITH-DEFUN: redefining (COMMON-LISP:SETF CL-WAFFE.NN::LSTMHIDDENLAYER-FORWARD) in DEFUN\n",
      "SB-KERNEL:REDEFINITION-WITH-DEFUN: redefining CL-WAFFE.NN::LSTMHIDDENLAYER-FORWARD in DEFUN\n",
      "SB-KERNEL:REDEFINITION-WITH-DEFUN: redefining (COMMON-LISP:SETF CL-WAFFE.NN::LSTMHIDDENLAYER-OBJECT-TYPE) in DEFUN\n",
      "SB-KERNEL:REDEFINITION-WITH-DEFUN: redefining CL-WAFFE.NN::LSTMHIDDENLAYER-OBJECT-TYPE in DEFUN\n",
      "SB-KERNEL:REDEFINITION-WITH-DEFUN: redefining (COMMON-LISP:SETF CL-WAFFE.NN::LSTMHIDDENLAYER-BACKWARD) in DEFUN\n",
      "SB-KERNEL:REDEFINITION-WITH-DEFUN: redefining CL-WAFFE.NN::LSTMHIDDENLAYER-BACKWARD in DEFUN\n",
      "SB-KERNEL:REDEFINITION-WITH-DEFUN: redefining (COMMON-LISP:SETF CL-WAFFE.NN::LSTMHIDDENLAYER-PARAMETERS) in DEFUN\n",
      "SB-KERNEL:REDEFINITION-WITH-DEFUN: redefining CL-WAFFE.NN::LSTMHIDDENLAYER-PARAMETERS in DEFUN\n",
      "SB-KERNEL:REDEFINITION-WITH-DEFUN: redefining (COMMON-LISP:SETF CL-WAFFE.NN::LSTMHIDDENLAYER-WEIGHT) in DEFUN\n",
      "SB-KERNEL:REDEFINITION-WITH-DEFUN: redefining CL-WAFFE.NN::LSTMHIDDENLAYER-WEIGHT in DEFUN\n",
      "SB-KERNEL:REDEFINITION-WITH-DEFUN: redefining (COMMON-LISP:SETF CL-WAFFE.NN::LSTMHIDDENLAYER-RECURRENT-WEIGHT) in DEFUN\n",
      "SB-KERNEL:REDEFINITION-WITH-DEFUN: redefining CL-WAFFE.NN::LSTMHIDDENLAYER-RECURRENT-WEIGHT in DEFUN\n",
      "SB-KERNEL:REDEFINITION-WITH-DEFUN: redefining (COMMON-LISP:SETF CL-WAFFE.NN::LSTMHIDDENLAYER-BIAS) in DEFUN\n",
      "SB-KERNEL:REDEFINITION-WITH-DEFUN: redefining CL-WAFFE.NN::LSTMHIDDENLAYER-BIAS in DEFUN\n",
      "SB-KERNEL:REDEFINITION-WITH-DEFUN: redefining (COMMON-LISP:SETF CL-WAFFE.NN::LSTMHIDDENLAYER-DROPOUT) in DEFUN\n",
      "SB-KERNEL:REDEFINITION-WITH-DEFUN: redefining CL-WAFFE.NN::LSTMHIDDENLAYER-DROPOUT in DEFUN\n",
      "SB-KERNEL:REDEFINITION-WITH-DEFUN: redefining (COMMON-LISP:SETF CL-WAFFE.NN::LSTMHIDDENLAYER-ACTIVATION) in DEFUN\n",
      "SB-KERNEL:REDEFINITION-WITH-DEFUN: redefining CL-WAFFE.NN::LSTMHIDDENLAYER-ACTIVATION in DEFUN\n",
      "SB-KERNEL:REDEFINITION-WITH-DEFUN: redefining (COMMON-LISP:SETF CL-WAFFE.NN::LSTMHIDDENLAYER-RECURRENT-ACTIVATION) in DEFUN\n",
      "SB-KERNEL:REDEFINITION-WITH-DEFUN: redefining CL-WAFFE.NN::LSTMHIDDENLAYER-RECURRENT-ACTIVATION in DEFUN\n",
      "SB-KERNEL:REDEFINITION-WITH-DEFUN: redefining CL-WAFFE.NN::LSTMHIDDENLAYER in DEFUN\n",
      "SB-KERNEL:REDEFINITION-WITH-DEFMETHOD: redefining PRINT-OBJECT (#<STRUCTURE-CLASS CL-WAFFE.NN::LSTMHIDDENLAYER>\n",
      "                                                                #<SB-PCL:SYSTEM-CLASS COMMON-LISP:T>) in DEFMETHOD\n",
      "SB-KERNEL:REDEFINITION-WITH-DEFMETHOD: redefining CL-WAFFE::CALL-FORWARD CL-WAFFE::BACKEND-DISPATCHER (#<STRUCTURE-CLASS CL-WAFFE.NN::LSTMHIDDENLAYER>) in DEFMETHOD\n",
      "SB-KERNEL:REDEFINITION-WITH-DEFMETHOD: redefining CL-WAFFE::CALL-BACKWARD CL-WAFFE::BACKEND-DISPATCHER (#<STRUCTURE-CLASS CL-WAFFE.NN::LSTMHIDDENLAYER>) in DEFMETHOD\n"
     ]
    }
   ],
   "source": [
    "(in-package :cl-waffe.nn)\n",
    "\n",
    "(defmodel LSTMHiddenLayer (input-size\n",
    "                           hidden-size\n",
    "                           recurrent-weight\n",
    "                           &key\n",
    "                           (activation :tanh)\n",
    "                           (recurrent-activation :sigmoid)\n",
    "                           (bias nil)\n",
    "                           (dropout nil))\n",
    "  :parameters ((weight (parameter (!div (!randn `(,input-size\n",
    "                                                  ,hidden-size))\n",
    "                                        (sqrt hidden-size))))\n",
    "               (recurrent-weight (if recurrent-weight\n",
    "                                     recurrent-weight\n",
    "                                     (parameter (!div (!randn `(,hidden-size ,hidden-size))\n",
    "                                                  (sqrt hidden-size)))))\n",
    "               (bias (if bias\n",
    "                         (parameter (!zeros `(1 ,hidden-size)))\n",
    "                         nil))\n",
    "               (dropout (if dropout\n",
    "                            (dropout dropout)\n",
    "                            nil))\n",
    "               (activation (if (find activation `(:tanh :relu))\n",
    "                               activation\n",
    "                               (error \"cl-waffe.nn.LSTMHiddenLayer: available activations are following: :tanh :relu, but got ~a\" activation)))\n",
    "               (recurrent-activation (if (find recurrent-activation `(:sigmoid :tanh))\n",
    "                                          recurrent-activation\n",
    "                                          (error \"cl-waffe.nn.LSTMHiddenLayer: available recurrent activations are following: :sigmoid :tanh, but got ~a\" recurrent-activation))))\n",
    "\n",
    "  :forward ((x h c)\n",
    "            (let* ((h1 (!add (!matmul x (self weight))\n",
    "                             (!matmul h (self recurrent-weight))))\n",
    "                   (h1 (if (self bias)\n",
    "                           (!add h1 (self bias))\n",
    "                           h1))\n",
    "                   (h1 (if (self dropout)\n",
    "                           (call (self dropout) h1)\n",
    "                           h1))\n",
    "                   (h1 (case (self activation)\n",
    "                           (:tanh (!tanh h1))\n",
    "                           (:relu (!relu h1))))\n",
    "                   (c1 (case (self recurrent-activation)\n",
    "                           (:sigmoid (!sigmoid c))\n",
    "                           (:tanh (!tanh c))))\n",
    "                   (c1 (!mul c1 h1)))\n",
    "              (list h1 c1))))"
   ]
  },
  {
   "cell_type": "code",
   "execution_count": 91,
   "id": "20ca50da-6af2-4671-98f7-cf6cb86d0285",
   "metadata": {},
   "outputs": [
    {
     "data": {
      "text/plain": [
       "NIL"
      ]
     },
     "execution_count": 91,
     "metadata": {},
     "output_type": "execute_result"
    },
    {
     "name": "stdout",
     "output_type": "stream",
     "text": [
      "SB-INT:SIMPLE-STYLE-WARNING: The variable CS-SPECIFIED? is defined but never used.\n",
      "SB-KERNEL:REDEFINITION-WITH-DEFUN: redefining CL-WAFFE.NN::COPY-LSTM in DEFUN\n",
      "SB-KERNEL:REDEFINITION-WITH-DEFUN: redefining CL-WAFFE.NN::LSTM-P in DEFUN\n",
      "SB-KERNEL:REDEFINITION-WITH-DEFUN: redefining (COMMON-LISP:SETF CL-WAFFE.NN::LSTM-MODEL-IDENT) in DEFUN\n",
      "SB-KERNEL:REDEFINITION-WITH-DEFUN: redefining CL-WAFFE.NN::LSTM-MODEL-IDENT in DEFUN\n",
      "SB-KERNEL:REDEFINITION-WITH-DEFUN: redefining (COMMON-LISP:SETF CL-WAFFE.NN::LSTM-HIDE-FROM-TREE) in DEFUN\n",
      "SB-KERNEL:REDEFINITION-WITH-DEFUN: redefining CL-WAFFE.NN::LSTM-HIDE-FROM-TREE in DEFUN\n",
      "SB-KERNEL:REDEFINITION-WITH-DEFUN: redefining (COMMON-LISP:SETF CL-WAFFE.NN::LSTM-FORWARD) in DEFUN\n",
      "SB-KERNEL:REDEFINITION-WITH-DEFUN: redefining CL-WAFFE.NN::LSTM-FORWARD in DEFUN\n",
      "SB-KERNEL:REDEFINITION-WITH-DEFUN: redefining (COMMON-LISP:SETF CL-WAFFE.NN::LSTM-OBJECT-TYPE) in DEFUN\n",
      "SB-KERNEL:REDEFINITION-WITH-DEFUN: redefining CL-WAFFE.NN::LSTM-OBJECT-TYPE in DEFUN\n",
      "SB-KERNEL:REDEFINITION-WITH-DEFUN: redefining (COMMON-LISP:SETF CL-WAFFE.NN::LSTM-BACKWARD) in DEFUN\n",
      "SB-KERNEL:REDEFINITION-WITH-DEFUN: redefining CL-WAFFE.NN::LSTM-BACKWARD in DEFUN\n",
      "SB-KERNEL:REDEFINITION-WITH-DEFUN: redefining (COMMON-LISP:SETF CL-WAFFE.NN::LSTM-PARAMETERS) in DEFUN\n",
      "SB-KERNEL:REDEFINITION-WITH-DEFUN: redefining CL-WAFFE.NN::LSTM-PARAMETERS in DEFUN\n",
      "SB-KERNEL:REDEFINITION-WITH-DEFUN: redefining (COMMON-LISP:SETF CL-WAFFE.NN::LSTM-LSTM-LAYERS) in DEFUN\n",
      "SB-KERNEL:REDEFINITION-WITH-DEFUN: redefining CL-WAFFE.NN::LSTM-LSTM-LAYERS in DEFUN\n",
      "SB-KERNEL:REDEFINITION-WITH-DEFUN: redefining (COMMON-LISP:SETF CL-WAFFE.NN::LSTM-NUM-LAYERS) in DEFUN\n",
      "SB-KERNEL:REDEFINITION-WITH-DEFUN: redefining CL-WAFFE.NN::LSTM-NUM-LAYERS in DEFUN\n",
      "SB-KERNEL:REDEFINITION-WITH-DEFUN: redefining (COMMON-LISP:SETF CL-WAFFE.NN::LSTM-HIDDEN-SIZE) in DEFUN\n",
      "SB-KERNEL:REDEFINITION-WITH-DEFUN: redefining CL-WAFFE.NN::LSTM-HIDDEN-SIZE in DEFUN\n",
      "SB-KERNEL:REDEFINITION-WITH-DEFUN: redefining (COMMON-LISP:SETF CL-WAFFE.NN::LSTM-BIDIRECTIONAL) in DEFUN\n",
      "SB-KERNEL:REDEFINITION-WITH-DEFUN: redefining CL-WAFFE.NN::LSTM-BIDIRECTIONAL in DEFUN\n",
      "SB-KERNEL:REDEFINITION-WITH-DEFUN: redefining (COMMON-LISP:SETF CL-WAFFE.NN::LSTM-WO) in DEFUN\n",
      "SB-KERNEL:REDEFINITION-WITH-DEFUN: redefining CL-WAFFE.NN::LSTM-WO in DEFUN\n",
      "SB-KERNEL:REDEFINITION-WITH-DEFUN: redefining CL-WAFFE.NN::LSTM in DEFUN\n",
      "SB-KERNEL:REDEFINITION-WITH-DEFMETHOD: redefining PRINT-OBJECT (#<STRUCTURE-CLASS CL-WAFFE.NN::LSTM>\n",
      "                                                                #<SB-PCL:SYSTEM-CLASS COMMON-LISP:T>) in DEFMETHOD\n",
      "SB-KERNEL:REDEFINITION-WITH-DEFMETHOD: redefining CL-WAFFE::CALL-FORWARD CL-WAFFE::BACKEND-DISPATCHER (#<STRUCTURE-CLASS CL-WAFFE.NN::LSTM>) in DEFMETHOD\n",
      "SB-KERNEL:REDEFINITION-WITH-DEFMETHOD: redefining CL-WAFFE::CALL-BACKWARD CL-WAFFE::BACKEND-DISPATCHER (#<STRUCTURE-CLASS CL-WAFFE.NN::LSTM>) in DEFMETHOD\n"
     ]
    }
   ],
   "source": [
    "(defmodel LSTM (input-size\n",
    "                hidden-size\n",
    "                &key\n",
    "                (num-layers 1)\n",
    "                (activation :tanh)\n",
    "                (recurrent-activation :sigmoid)\n",
    "                (bias nil)\n",
    "                (dropout nil)\n",
    "                (bidirectional nil))\n",
    "  :parameters ((lstm-layers (model-list\n",
    "                             (loop for i upfrom 0 below num-layers\n",
    "                                   collect (LSTMHiddenLayer\n",
    "                                            input-size\n",
    "                                            hidden-size\n",
    "                                            nil\n",
    "                                            :activation activation\n",
    "                                            :recurrent-activation recurrent-activation\n",
    "                                            :bias bias\n",
    "                                            :dropout dropout))))\n",
    "                (num-layers num-layers :type fixnum)\n",
    "                (hidden-size hidden-size :type fixnum)\n",
    "                (bidirectional bidirectional :type boolean)\n",
    "                (wo (linearlayer hidden-size hidden-size) :type linearlayer))\n",
    "  :forward ((x &optional (hs (const nil)) (cs (const nil)))\n",
    "            \"Input: X = (BatchSize SentenceLength Embedding_Dim)\n",
    "             Output (values x{t+1} h{t+1} c{t+1})\"\n",
    "            (let* ((batch-size (!shape x 0))\n",
    "                   (sentence-length (!shape x 1))\n",
    "                   (hs-specified? (not (null (data hs))))\n",
    "                   (cs-specified? (not (null (data cs))))\n",
    "                   (hs (if (null (value hs))\n",
    "                           (!zeros `(,batch-size\n",
    "                                     1\n",
    "                                     ,(self hidden-size)))\n",
    "                           hs))\n",
    "                   (cs (if (null (value cs))\n",
    "                           (!zeros `(,batch-size\n",
    "                                     1\n",
    "                                     ,(self hidden-size)))\n",
    "                           cs))\n",
    "                   (words))\n",
    "              (loop for xn fixnum upfrom 0 below sentence-length\n",
    "                    do (push (!aref x t xn t) words))\n",
    "\n",
    "              (unless (self bidirectional)\n",
    "                (setq words (reverse words)))\n",
    "\n",
    "              (if hs-specified?\n",
    "                  (dotimes (w-i (length words))\n",
    "                    (dotimes (lstm-i (self num-layers))\n",
    "                      (let ((result  (call (self lstm-layers)\n",
    "                                           (const lstm-i)\n",
    "                                           (nth w-i words)\n",
    "                                           (!aref hs t w-i)\n",
    "                                           (!aref cs t w-i))))\n",
    "                        (setq hs (setf (!aref hs t w-i) (car result)))\n",
    "                        (setq cs (setf (!aref cs t w-i) (second result))))\n",
    "                      (setf (nth w-i words) (!aref hs t w-i))))\n",
    "                (dotimes (w-i (length words))\n",
    "                  (dotimes (lstm-i (self num-layers))\n",
    "                    (let ((result (call (self lstm-layers)\n",
    "                                        (const lstm-i)\n",
    "                                        (nth w-i words)\n",
    "                                        hs\n",
    "                                        cs)))\n",
    "                      (setq hs (car result))\n",
    "                      (setq cs (second result)))\n",
    "                    (setf (nth w-i words) (!add 0.0 hs))))) ; this `!add` is intended to make a copy.\n",
    "              (call (self wo) (apply #'!concatenate 1 words)))))"
   ]
  },
  {
   "cell_type": "code",
   "execution_count": 92,
   "id": "5719dc42-89e6-459f-a999-0fd0e2824fa4",
   "metadata": {},
   "outputs": [
    {
     "data": {
      "text/plain": [
       "#Const((((-0.05... 0.127... ~ 0.011... -0.04...)         \n",
       "                   ...\n",
       "         (0.024... -0.03... ~ -0.05... 0.039...))) :mgl t :shape (1 10 128) :backward <Node: BROADCASTINGADDTENSOR{W125614}>)"
      ]
     },
     "execution_count": 92,
     "metadata": {},
     "output_type": "execute_result"
    }
   ],
   "source": [
    "(call (LSTM 100 128) (!randn `(1 10 100)))"
   ]
  },
  {
   "cell_type": "code",
   "execution_count": 93,
   "id": "3089ee73-3611-425c-98fe-600e946605cf",
   "metadata": {},
   "outputs": [
    {
     "data": {
      "text/plain": [
       "NIL"
      ]
     },
     "execution_count": 93,
     "metadata": {},
     "output_type": "execute_result"
    },
    {
     "name": "stdout",
     "output_type": "stream",
     "text": [
      "Evaluation took:\n",
      "  0.057 seconds of real time\n",
      "  0.046773 seconds of total run time (0.040957 user, 0.005816 system)\n",
      "  82.46% CPU\n",
      "  65 lambdas converted\n",
      "  133,037,854 processor cycles\n",
      "  22,028,112 bytes consed\n",
      "  \n"
     ]
    }
   ],
   "source": [
    "(time (backward (!sum *)))"
   ]
  },
  {
   "cell_type": "code",
   "execution_count": 94,
   "id": "6a37de6e-76cc-4f72-9434-e025598e610b",
   "metadata": {},
   "outputs": [
    {
     "data": {
      "text/plain": [
       "NIL"
      ]
     },
     "execution_count": 94,
     "metadata": {},
     "output_type": "execute_result"
    },
    {
     "data": {
      "text/plain": [
       "NIL"
      ]
     },
     "execution_count": 94,
     "metadata": {},
     "output_type": "execute_result"
    },
    {
     "data": {
      "text/plain": [
       "NIL"
      ]
     },
     "execution_count": 94,
     "metadata": {},
     "output_type": "execute_result"
    },
    {
     "name": "stdout",
     "output_type": "stream",
     "text": [
      "SB-KERNEL:REDEFINITION-WITH-DEFUN: redefining CL-WAFFE.NN::COPY-ENCODER in DEFUN\n",
      "SB-KERNEL:REDEFINITION-WITH-DEFUN: redefining CL-WAFFE.NN::ENCODER-P in DEFUN\n",
      "SB-KERNEL:REDEFINITION-WITH-DEFUN: redefining (COMMON-LISP:SETF CL-WAFFE.NN::ENCODER-MODEL-IDENT) in DEFUN\n",
      "SB-KERNEL:REDEFINITION-WITH-DEFUN: redefining CL-WAFFE.NN::ENCODER-MODEL-IDENT in DEFUN\n",
      "SB-KERNEL:REDEFINITION-WITH-DEFUN: redefining (COMMON-LISP:SETF CL-WAFFE.NN::ENCODER-HIDE-FROM-TREE) in DEFUN\n",
      "SB-KERNEL:REDEFINITION-WITH-DEFUN: redefining CL-WAFFE.NN::ENCODER-HIDE-FROM-TREE in DEFUN\n",
      "SB-KERNEL:REDEFINITION-WITH-DEFUN: redefining (COMMON-LISP:SETF CL-WAFFE.NN::ENCODER-FORWARD) in DEFUN\n",
      "SB-KERNEL:REDEFINITION-WITH-DEFUN: redefining CL-WAFFE.NN::ENCODER-FORWARD in DEFUN\n",
      "SB-KERNEL:REDEFINITION-WITH-DEFUN: redefining (COMMON-LISP:SETF CL-WAFFE.NN::ENCODER-OBJECT-TYPE) in DEFUN\n",
      "SB-KERNEL:REDEFINITION-WITH-DEFUN: redefining CL-WAFFE.NN::ENCODER-OBJECT-TYPE in DEFUN\n",
      "SB-KERNEL:REDEFINITION-WITH-DEFUN: redefining (COMMON-LISP:SETF CL-WAFFE.NN::ENCODER-BACKWARD) in DEFUN\n",
      "SB-KERNEL:REDEFINITION-WITH-DEFUN: redefining CL-WAFFE.NN::ENCODER-BACKWARD in DEFUN\n",
      "SB-KERNEL:REDEFINITION-WITH-DEFUN: redefining (COMMON-LISP:SETF CL-WAFFE.NN::ENCODER-PARAMETERS) in DEFUN\n",
      "SB-KERNEL:REDEFINITION-WITH-DEFUN: redefining CL-WAFFE.NN::ENCODER-PARAMETERS in DEFUN\n",
      "SB-KERNEL:REDEFINITION-WITH-DEFUN: redefining (COMMON-LISP:SETF CL-WAFFE.NN::ENCODER-EMBEDDING) in DEFUN\n",
      "SB-KERNEL:REDEFINITION-WITH-DEFUN: redefining CL-WAFFE.NN::ENCODER-EMBEDDING in DEFUN\n",
      "SB-KERNEL:REDEFINITION-WITH-DEFUN: redefining (COMMON-LISP:SETF CL-WAFFE.NN::ENCODER-LAYER) in DEFUN\n",
      "SB-KERNEL:REDEFINITION-WITH-DEFUN: redefining CL-WAFFE.NN::ENCODER-LAYER in DEFUN\n",
      "SB-KERNEL:REDEFINITION-WITH-DEFUN: redefining CL-WAFFE.NN::ENCODER in DEFUN\n",
      "SB-KERNEL:REDEFINITION-WITH-DEFMETHOD: redefining PRINT-OBJECT (#<STRUCTURE-CLASS CL-WAFFE.NN::ENCODER>\n",
      "                                                                #<SB-PCL:SYSTEM-CLASS COMMON-LISP:T>) in DEFMETHOD\n",
      "SB-KERNEL:REDEFINITION-WITH-DEFMETHOD: redefining CL-WAFFE::CALL-FORWARD CL-WAFFE::BACKEND-DISPATCHER (#<STRUCTURE-CLASS CL-WAFFE.NN::ENCODER>) in DEFMETHOD\n",
      "SB-KERNEL:REDEFINITION-WITH-DEFMETHOD: redefining CL-WAFFE::CALL-BACKWARD CL-WAFFE::BACKEND-DISPATCHER (#<STRUCTURE-CLASS CL-WAFFE.NN::ENCODER>) in DEFMETHOD\n",
      "SB-KERNEL:REDEFINITION-WITH-DEFUN: redefining CL-WAFFE.NN::COPY-DECODER in DEFUN\n",
      "SB-KERNEL:REDEFINITION-WITH-DEFUN: redefining CL-WAFFE.NN::DECODER-P in DEFUN\n",
      "SB-KERNEL:REDEFINITION-WITH-DEFUN: redefining (COMMON-LISP:SETF CL-WAFFE.NN::DECODER-MODEL-IDENT) in DEFUN\n",
      "SB-KERNEL:REDEFINITION-WITH-DEFUN: redefining CL-WAFFE.NN::DECODER-MODEL-IDENT in DEFUN\n",
      "SB-KERNEL:REDEFINITION-WITH-DEFUN: redefining (COMMON-LISP:SETF CL-WAFFE.NN::DECODER-HIDE-FROM-TREE) in DEFUN\n",
      "SB-KERNEL:REDEFINITION-WITH-DEFUN: redefining CL-WAFFE.NN::DECODER-HIDE-FROM-TREE in DEFUN\n",
      "SB-KERNEL:REDEFINITION-WITH-DEFUN: redefining (COMMON-LISP:SETF CL-WAFFE.NN::DECODER-FORWARD) in DEFUN\n",
      "SB-KERNEL:REDEFINITION-WITH-DEFUN: redefining CL-WAFFE.NN::DECODER-FORWARD in DEFUN\n",
      "SB-KERNEL:REDEFINITION-WITH-DEFUN: redefining (COMMON-LISP:SETF CL-WAFFE.NN::DECODER-OBJECT-TYPE) in DEFUN\n",
      "SB-KERNEL:REDEFINITION-WITH-DEFUN: redefining CL-WAFFE.NN::DECODER-OBJECT-TYPE in DEFUN\n",
      "SB-KERNEL:REDEFINITION-WITH-DEFUN: redefining (COMMON-LISP:SETF CL-WAFFE.NN::DECODER-BACKWARD) in DEFUN\n",
      "SB-KERNEL:REDEFINITION-WITH-DEFUN: redefining CL-WAFFE.NN::DECODER-BACKWARD in DEFUN\n",
      "SB-KERNEL:REDEFINITION-WITH-DEFUN: redefining (COMMON-LISP:SETF CL-WAFFE.NN::DECODER-PARAMETERS) in DEFUN\n",
      "SB-KERNEL:REDEFINITION-WITH-DEFUN: redefining CL-WAFFE.NN::DECODER-PARAMETERS in DEFUN\n",
      "SB-KERNEL:REDEFINITION-WITH-DEFUN: redefining (COMMON-LISP:SETF CL-WAFFE.NN::DECODER-EMBEDDING) in DEFUN\n",
      "SB-KERNEL:REDEFINITION-WITH-DEFUN: redefining CL-WAFFE.NN::DECODER-EMBEDDING in DEFUN\n",
      "SB-KERNEL:REDEFINITION-WITH-DEFUN: redefining (COMMON-LISP:SETF CL-WAFFE.NN::DECODER-LAYER) in DEFUN\n",
      "SB-KERNEL:REDEFINITION-WITH-DEFUN: redefining CL-WAFFE.NN::DECODER-LAYER in DEFUN\n",
      "SB-KERNEL:REDEFINITION-WITH-DEFUN: redefining (COMMON-LISP:SETF CL-WAFFE.NN::DECODER-H2L) in DEFUN\n",
      "SB-KERNEL:REDEFINITION-WITH-DEFUN: redefining CL-WAFFE.NN::DECODER-H2L in DEFUN\n",
      "SB-KERNEL:REDEFINITION-WITH-DEFUN: redefining CL-WAFFE.NN::DECODER in DEFUN\n",
      "SB-KERNEL:REDEFINITION-WITH-DEFMETHOD: redefining PRINT-OBJECT (#<STRUCTURE-CLASS CL-WAFFE.NN::DECODER>\n",
      "                                                                #<SB-PCL:SYSTEM-CLASS COMMON-LISP:T>) in DEFMETHOD\n",
      "SB-KERNEL:REDEFINITION-WITH-DEFMETHOD: redefining CL-WAFFE::CALL-FORWARD CL-WAFFE::BACKEND-DISPATCHER (#<STRUCTURE-CLASS CL-WAFFE.NN::DECODER>) in DEFMETHOD\n",
      "SB-KERNEL:REDEFINITION-WITH-DEFMETHOD: redefining CL-WAFFE::CALL-BACKWARD CL-WAFFE::BACKEND-DISPATCHER (#<STRUCTURE-CLASS CL-WAFFE.NN::DECODER>) in DEFMETHOD\n",
      "SB-KERNEL:REDEFINITION-WITH-DEFUN: redefining CL-WAFFE.NN::COPY-SEQ2SEQ in DEFUN\n",
      "SB-KERNEL:REDEFINITION-WITH-DEFUN: redefining CL-WAFFE.NN::SEQ2SEQ-P in DEFUN\n",
      "SB-KERNEL:REDEFINITION-WITH-DEFUN: redefining (COMMON-LISP:SETF CL-WAFFE.NN::SEQ2SEQ-MODEL-IDENT) in DEFUN\n",
      "SB-KERNEL:REDEFINITION-WITH-DEFUN: redefining CL-WAFFE.NN::SEQ2SEQ-MODEL-IDENT in DEFUN\n",
      "SB-KERNEL:REDEFINITION-WITH-DEFUN: redefining (COMMON-LISP:SETF CL-WAFFE.NN::SEQ2SEQ-HIDE-FROM-TREE) in DEFUN\n",
      "SB-KERNEL:REDEFINITION-WITH-DEFUN: redefining CL-WAFFE.NN::SEQ2SEQ-HIDE-FROM-TREE in DEFUN\n",
      "SB-KERNEL:REDEFINITION-WITH-DEFUN: redefining (COMMON-LISP:SETF CL-WAFFE.NN::SEQ2SEQ-FORWARD) in DEFUN\n",
      "SB-KERNEL:REDEFINITION-WITH-DEFUN: redefining CL-WAFFE.NN::SEQ2SEQ-FORWARD in DEFUN\n",
      "SB-KERNEL:REDEFINITION-WITH-DEFUN: redefining (COMMON-LISP:SETF CL-WAFFE.NN::SEQ2SEQ-OBJECT-TYPE) in DEFUN\n",
      "SB-KERNEL:REDEFINITION-WITH-DEFUN: redefining CL-WAFFE.NN::SEQ2SEQ-OBJECT-TYPE in DEFUN\n",
      "SB-KERNEL:REDEFINITION-WITH-DEFUN: redefining (COMMON-LISP:SETF CL-WAFFE.NN::SEQ2SEQ-BACKWARD) in DEFUN\n",
      "SB-KERNEL:REDEFINITION-WITH-DEFUN: redefining CL-WAFFE.NN::SEQ2SEQ-BACKWARD in DEFUN\n",
      "SB-KERNEL:REDEFINITION-WITH-DEFUN: redefining (COMMON-LISP:SETF CL-WAFFE.NN::SEQ2SEQ-PARAMETERS) in DEFUN\n",
      "SB-KERNEL:REDEFINITION-WITH-DEFUN: redefining CL-WAFFE.NN::SEQ2SEQ-PARAMETERS in DEFUN\n",
      "SB-KERNEL:REDEFINITION-WITH-DEFUN: redefining (COMMON-LISP:SETF CL-WAFFE.NN::SEQ2SEQ-ENCODER) in DEFUN\n",
      "SB-KERNEL:REDEFINITION-WITH-DEFUN: redefining CL-WAFFE.NN::SEQ2SEQ-ENCODER in DEFUN\n",
      "SB-KERNEL:REDEFINITION-WITH-DEFUN: redefining (COMMON-LISP:SETF CL-WAFFE.NN::SEQ2SEQ-DECODER) in DEFUN\n",
      "SB-KERNEL:REDEFINITION-WITH-DEFUN: redefining CL-WAFFE.NN::SEQ2SEQ-DECODER in DEFUN\n",
      "SB-KERNEL:REDEFINITION-WITH-DEFUN: redefining CL-WAFFE.NN::SEQ2SEQ in DEFUN\n",
      "SB-KERNEL:REDEFINITION-WITH-DEFMETHOD: redefining PRINT-OBJECT (#<STRUCTURE-CLASS CL-WAFFE.NN::SEQ2SEQ>\n",
      "                                                                #<SB-PCL:SYSTEM-CLASS COMMON-LISP:T>) in DEFMETHOD\n",
      "SB-KERNEL:REDEFINITION-WITH-DEFMETHOD: redefining CL-WAFFE::CALL-FORWARD CL-WAFFE::BACKEND-DISPATCHER (#<STRUCTURE-CLASS CL-WAFFE.NN::SEQ2SEQ>) in DEFMETHOD\n",
      "SB-KERNEL:REDEFINITION-WITH-DEFMETHOD: redefining CL-WAFFE::CALL-BACKWARD CL-WAFFE::BACKEND-DISPATCHER (#<STRUCTURE-CLASS CL-WAFFE.NN::SEQ2SEQ>) in DEFMETHOD\n"
     ]
    }
   ],
   "source": [
    "(defmodel Encoder (vocab-size embedding-dim hidden-size)\n",
    "  :parameters ((embedding (Embedding vocab-size embedding-dim :pad-idx 0))\n",
    "               (layer     (LSTM embedding-dim hidden-size :num-layers 1)))\n",
    "  :forward ((x)\n",
    "            (with-calling-layers x\n",
    "                (embedding x)\n",
    "                (layer x))))\n",
    "\n",
    "(defmodel Decoder (vocab-size embedding-dim hidden-size)\n",
    "  :parameters ((embedding (Embedding vocab-size embedding-dim :pad-idx 0))\n",
    "               (layer     (LSTM embedding-dim hidden-size :num-layers 1))\n",
    "               (h2l       (linearlayer hidden-size vocab-size)))\n",
    "  \n",
    "  :forward ((encoder-state y)\n",
    "            (let* ((ye (call (self embedding) y))\n",
    "                   (hs (call (self layer) ye encoder-state))\n",
    "                   (h-output (call (self h2l) hs)))\n",
    "                  (list h-output hs))))\n",
    "\n",
    "(defmodel Seq2Seq (vocab-size embedding-dim input-size)\n",
    "  :parameters ((encoder (Encoder vocab-size embedding-dim input-size))\n",
    "               (decoder (Decoder vocab-size embedding-dim input-size)))  \n",
    "  :forward ((x y)\n",
    "            (let ((x-state (call (self encoder) x))\n",
    "                  (y1 (!zeros (!shape y))))\n",
    "                 (setq y1 (setf (!aref y1 t) (!aref y '(1 t))))\n",
    "                 (call (self decoder) x-state y1))))"
   ]
  },
  {
   "cell_type": "code",
   "execution_count": 95,
   "id": "d1285d04-3bcc-42ec-b741-b3972253ebf2",
   "metadata": {},
   "outputs": [
    {
     "data": {
      "text/plain": [
       "NIL"
      ]
     },
     "execution_count": 95,
     "metadata": {},
     "output_type": "execute_result"
    },
    {
     "name": "stdout",
     "output_type": "stream",
     "text": [
      "SB-KERNEL:REDEFINITION-WITH-DEFUN: redefining CL-WAFFE.NN::COPY-SEQ2SEQTRAINER in DEFUN\n",
      "SB-KERNEL:REDEFINITION-WITH-DEFUN: redefining CL-WAFFE.NN::SEQ2SEQTRAINER-P in DEFUN\n",
      "SB-KERNEL:REDEFINITION-WITH-DEFUN: redefining (COMMON-LISP:SETF CL-WAFFE.NN::SEQ2SEQTRAINER-MODEL) in DEFUN\n",
      "SB-KERNEL:REDEFINITION-WITH-DEFUN: redefining CL-WAFFE.NN::SEQ2SEQTRAINER-MODEL in DEFUN\n",
      "SB-KERNEL:REDEFINITION-WITH-DEFUN: redefining (COMMON-LISP:SETF CL-WAFFE.NN::SEQ2SEQTRAINER-OPTIMIZER) in DEFUN\n",
      "SB-KERNEL:REDEFINITION-WITH-DEFUN: redefining CL-WAFFE.NN::SEQ2SEQTRAINER-OPTIMIZER in DEFUN\n",
      "SB-KERNEL:REDEFINITION-WITH-DEFUN: redefining (COMMON-LISP:SETF CL-WAFFE.NN::SEQ2SEQTRAINER-OPTIMIZER-REPORT) in DEFUN\n",
      "SB-KERNEL:REDEFINITION-WITH-DEFUN: redefining CL-WAFFE.NN::SEQ2SEQTRAINER-OPTIMIZER-REPORT in DEFUN\n",
      "SB-KERNEL:REDEFINITION-WITH-DEFUN: redefining (COMMON-LISP:SETF CL-WAFFE.NN::SEQ2SEQTRAINER-PREDICT) in DEFUN\n",
      "SB-KERNEL:REDEFINITION-WITH-DEFUN: redefining CL-WAFFE.NN::SEQ2SEQTRAINER-PREDICT in DEFUN\n",
      "SB-KERNEL:REDEFINITION-WITH-DEFUN: redefining (COMMON-LISP:SETF CL-WAFFE.NN::SEQ2SEQTRAINER-STEP-MODEL) in DEFUN\n",
      "SB-KERNEL:REDEFINITION-WITH-DEFUN: redefining CL-WAFFE.NN::SEQ2SEQTRAINER-STEP-MODEL in DEFUN\n",
      "SB-KERNEL:REDEFINITION-WITH-DEFUN: redefining CL-WAFFE.NN::SEQ2SEQTRAINER in DEFUN\n",
      "SB-KERNEL:REDEFINITION-WITH-DEFMETHOD: redefining PRINT-OBJECT (#<STRUCTURE-CLASS CL-WAFFE.NN::SEQ2SEQTRAINER>\n",
      "                                                                #<SB-PCL:SYSTEM-CLASS COMMON-LISP:T>) in DEFMETHOD\n",
      "SB-KERNEL:REDEFINITION-WITH-DEFMETHOD: redefining CL-WAFFE::TRAINER-STEP-MODEL (#<STRUCTURE-CLASS CL-WAFFE.NN::SEQ2SEQTRAINER>) in DEFMETHOD\n",
      "SB-KERNEL:REDEFINITION-WITH-DEFMETHOD: redefining CL-WAFFE::TRAINER-PREDICT (#<STRUCTURE-CLASS CL-WAFFE.NN::SEQ2SEQTRAINER>) in DEFMETHOD\n"
     ]
    }
   ],
   "source": [
    "(deftrainer Seq2SeqTrainer (vocab-size embedding-dim hidden-size)\n",
    "  :model (Seq2Seq vocab-size embedding-dim hidden-size)\n",
    "  :optimizer cl-waffe.optimizers:Adam\n",
    "  :optimizer (:lr 1e-4)\n",
    "  :step-model ((x y)\n",
    "               (zero-grad)\n",
    "               (let* ((outs (call (self model) x y))\n",
    "                      (out (softmax-cross-entropy (car outs) y)))\n",
    "                     (backward out)\n",
    "                     (update)\n",
    "                     out))\n",
    "  :predict ((x) (call (model) x)))"
   ]
  },
  {
   "cell_type": "code",
   "execution_count": 96,
   "id": "087b78be-acf3-42f2-8e7b-04340d09b689",
   "metadata": {},
   "outputs": [
    {
     "data": {
      "text/plain": [
       "<Trainer: SEQ2SEQTRAINER()>"
      ]
     },
     "execution_count": 96,
     "metadata": {},
     "output_type": "execute_result"
    },
    {
     "name": "stdout",
     "output_type": "stream",
     "text": [
      "SIMPLE-WARNING: undefined variable: CL-WAFFE:MODEL\n"
     ]
    }
   ],
   "source": [
    "(setq model (seq2seqtrainer 10 20 20))"
   ]
  },
  {
   "cell_type": "code",
   "execution_count": 97,
   "id": "16a81ce1-9145-4164-af81-8c0d135ceba1",
   "metadata": {},
   "outputs": [
    {
     "data": {
      "text/plain": [
       "#Const(((1.0 1.0 ~ 1.0 1.0)\n",
       "        (1.0 1.0 ~ 1.0 1.0)) :mgl t :shape (2 10) :backward NIL)"
      ]
     },
     "execution_count": 97,
     "metadata": {},
     "output_type": "execute_result"
    },
    {
     "data": {
      "text/plain": [
       "#Const(((1.0 1.0 ~ 1.0 1.0)\n",
       "        (1.0 1.0 ~ 1.0 1.0)) :mgl t :shape (2 10) :backward NIL)"
      ]
     },
     "execution_count": 97,
     "metadata": {},
     "output_type": "execute_result"
    },
    {
     "name": "stderr",
     "output_type": "stream",
     "text": [
      "SIMPLE-ERROR: !aref the index 1 is beyonds 1.\n",
      "#Const((((9.358... -0.00... ~ -4.16... 7.876...))\n",
      "        ((9.358... -0.00... ~ -4.16... 7.876...))) :mgl t :shape (2 1 20) :backward <Node: SETFAREFTENSOR{W126912}>)\n",
      "and\n",
      "(T 1 T)\n",
      "\n",
      " dims are specified in the range of (0 0)\n",
      "\n"
     ]
    },
    {
     "ename": "SIMPLE-ERROR",
     "evalue": "!aref the index 1 is beyonds 1.\n#Const((((9.358... -0.00... ~ -4.16... 7.876...))\n        ((9.358... -0.00... ~ -4.16... 7.876...))) :mgl t :shape (2 1 20) :backward <Node: SETFAREFTENSOR{W126912}>)\nand\n(T 1 T)\n\n dims are specified in the range of (0 0)",
     "output_type": "error",
     "traceback": [
      "0: (CL-WAFFE::SAREF-P NIL #Const((((0.0 0.0 ~ 0.0 0.0))\n        ((0.0 0.0 ~ 0.0 0.0))) :mgl t :shape (2 1 20) :backward NIL) #Const((((9.358... -0.00... ~ -4.16... 7.876...))\n        ((9.358... -0.00... ~ -4.16... 7.876...))) :mgl t :shape (2 1 20) :backward <Node: SETFAREFTENSOR{W126912}>) (T 1 T) #<unused argument>)",
      "1: (CL-WAFFE::%SAREF #<unavailable argument> #Const((((9.358... -0.00... ~ -4.16... 7.876...))\n        ((9.358... -0.00... ~ -4.16... 7.876...))) :mgl t :shape (2 1 20) :backward <Node: SETFAREFTENSOR{W126912}>) #<unavailable &REST argument>)",
      "2: (#:AREFTENSOR155 <Node: AREFTENSOR{W126915}> #Const((((9.358... -0.00... ~ -4.16... 7.876...))\n        ((9.358... -0.00... ~ -4.16... 7.876...))) :mgl t :shape (2 1 20) :backward <Node: SETFAREFTENSOR{W126912}>))",
      "3: (CALL <Node: AREFTENSOR{W126915}> #Const((((9.358... -0.00... ~ -4.16... 7.876...))\n        ((9.358... -0.00... ~ -4.16... 7.876...))) :mgl t :shape (2 1 20) :backward <Node: SETFAREFTENSOR{W126912}>))",
      "4: (!AREF #Const((((9.358... -0.00... ~ -4.16... 7.876...))\n        ((9.358... -0.00... ~ -4.16... 7.876...))) :mgl t :shape (2 1 20) :backward <Node: SETFAREFTENSOR{W126912}>) T 1)",
      "5: (#:LSTM35 [Model: LSTM :ident {W126513}] #Const((((-0.00... 0.006... ~ 0.012... 0.001...)         \n                   ...\n         (-0.00... 0.006... ~ 0.012... 0.001...))\n        ((-0.00... 0.006... ~ 0.012... 0.001...)         \n                   ...\n         (-0.00... 0.006... ~ 0.012... 0.001...))) :mgl t :shape (2 10 20) :backward <Node: EMBEDDINGTENSOR{W126886}>) #Const((((0.001... -0.00... ~ -8.32... 0.001...)         \n                   ...\n         (-5.09... -1.66... ~ -0.00... -0.00...))\n        ((0.001... -0.00... ~ -8.32... 0.001...)         \n                   ...\n         (-5.09... -1.66... ~ -0.00... -0.00...))) :mgl t :shape (2 10 20) :backward <Node: BROADCASTINGADDTENSOR{W126853}>) #Const(NIL))",
      "6: (#:DECODER8 [Model: DECODER :ident {W126510}] #Const((((0.001... -0.00... ~ -8.32... 0.001...)         \n                   ...\n         (-5.09... -1.66... ~ -0.00... -0.00...))\n        ((0.001... -0.00... ~ -8.32... 0.001...)         \n                   ...\n         (-5.09... -1.66... ~ -0.00... -0.00...))) :mgl t :shape (2 10 20) :backward <Node: BROADCASTINGADDTENSOR{W126853}>) #Const(((1.0 1.0 ~ 1.0 1.0)\n        (1.0 1.0 ~ 1.0 1.0)) :mgl t :shape (2 10) :backward <Node: SETFAREFTENSOR{W126865}>))",
      "7: (#:SEQ2SEQ8 [Model: SEQ2SEQ :ident {W126457}] #Const(((1.0 1.0 ~ 1.0 1.0)\n        (1.0 1.0 ~ 1.0 1.0)) :mgl t :shape (2 10) :backward NIL) #Const(((1.0 1.0 ~ 1.0 1.0)\n        (1.0 1.0 ~ 1.0 1.0)) :mgl t :shape (2 10) :backward NIL))",
      "8: (#:SEQ2SEQTRAINER4 <Trainer: SEQ2SEQTRAINER()> #Const(((1.0 1.0 ~ 1.0 1.0)\n        (1.0 1.0 ~ 1.0 1.0)) :mgl t :shape (2 10) :backward NIL) #Const(((1.0 1.0 ~ 1.0 1.0)\n        (1.0 1.0 ~ 1.0 1.0)) :mgl t :shape (2 10) :backward NIL))",
      "9: (#:TRAINERINPUTLAYER150 #<unavailable argument>)",
      "10: (CL-WAFFE::STEP-MODEL1 <Trainer: SEQ2SEQTRAINER()> (#Const(((1.0 1.0 ~ 1.0 1.0)\n        (1.0 1.0 ~ 1.0 1.0)) :mgl t :shape (2 10) :backward NIL) #Const(((1.0 1.0 ~ 1.0 1.0)\n        (1.0 1.0 ~ 1.0 1.0)) :mgl t :shape (2 10) :backward NIL)))",
      "11: ((LAMBDA NIL :IN \"/private/var/folders/0z/78dxt82s1ks803wxpkvbmmqw0000gn/T/7A93D029923343839A0E69AD18929F35-4108025437.lisp\"))",
      "12: (SB-EXT:CALL-WITH-TIMING #<FUNCTION SB-IMPL::PRINT-TIME> #<FUNCTION (LAMBDA NIL :IN \"/private/var/folders/0z/78dxt82s1ks803wxpkvbmmqw0000gn/T/7A93D029923343839A0E69AD18929F35-4108025437.lisp\") {5397540B}>)",
      "13: (JUPYTER/COMMON-LISP::EVAL-AND-PRINT (TIME (DOTIMES (I 10) (PRINT (STEP-MODEL MODEL X Y)))) 2 NIL)",
      "14: ((:METHOD JUPYTER:EVALUATE-FORM (JUPYTER/COMMON-LISP:KERNEL T T T)) #<unused argument> #<FORM-TRACKING-STREAM for \"file /private/var/folders/0z/78dxt82s1ks803wxpkvbmmqw0000gn/T/7A93D029923343839A0E69AD18929F35-4108025437.lisp\" {101702F113}> CELL:4108025437.LISP.NEWEST NIL #<unused argument> #<unused argument>)",
      "15: (JUPYTER/COMMON-LISP::REPL (setq x (!ones `(2 10)))\n(setq y (!ones `(2 10)))\n\n(time (dotimes (i 10) (print (step-model model x y)))) CELL:4108025437.LISP.NEWEST NIL)",
      "16: ((:METHOD JUPYTER:EVALUATE-CODE (JUPYTER/COMMON-LISP:KERNEL T)) #<unused argument> (setq x (!ones `(2 10)))\n(setq y (!ones `(2 10)))\n\n(time (dotimes (i 10) (print (step-model model x y)))) CELL:4108025437.LISP.NEWEST NIL)",
      "17: (JUPYTER::HANDLE-EXECUTE-REQUEST)",
      "18: (JUPYTER::RUN-SHELL #<KERNEL {10083F4313}>)",
      "19: ((LABELS BORDEAUX-THREADS::%BINDING-DEFAULT-SPECIALS-WRAPPER :IN BORDEAUX-THREADS::BINDING-DEFAULT-SPECIALS))",
      "20: ((FLET SB-UNIX::BODY :IN SB-THREAD::RUN))",
      "21: ((FLET \"WITHOUT-INTERRUPTS-BODY-11\" :IN SB-THREAD::RUN))",
      "22: ((FLET SB-UNIX::BODY :IN SB-THREAD::RUN))",
      "23: ((FLET \"WITHOUT-INTERRUPTS-BODY-4\" :IN SB-THREAD::RUN))",
      "24: (SB-THREAD::RUN)",
      "25: (\"foreign function: call_into_lisp\")",
      "26: (\"foreign function: funcall1\")"
     ]
    },
    {
     "name": "stdout",
     "output_type": "stream",
     "text": [
      "SIMPLE-WARNING: undefined variable: CL-WAFFE.NN::X\n",
      "SIMPLE-WARNING: undefined variable: CL-WAFFE.NN::Y\n",
      "SIMPLE-WARNING: undefined variable: CL-WAFFE:MODEL\n",
      "SIMPLE-WARNING: undefined variable: CL-WAFFE.NN::X\n",
      "SIMPLE-WARNING: undefined variable: CL-WAFFE.NN::Y\n",
      "Evaluation took:\n",
      "  0.048 seconds of real time\n",
      "  0.040354 seconds of total run time (0.039189 user, 0.001165 system)\n",
      "  83.33% CPU\n",
      "  117 lambdas converted\n",
      "  111,901,566 processor cycles\n",
      "  11,912,512 bytes consed\n",
      "  \n",
      "  before it was aborted by a non-local transfer of control.\n",
      "  \n"
     ]
    }
   ],
   "source": [
    "(setq x (!ones `(2 10)))\n",
    "(setq y (!ones `(2 10)))\n",
    "\n",
    "(time (dotimes (i 10) (print (step-model model x y))))"
   ]
  },
  {
   "cell_type": "code",
   "execution_count": 103,
   "id": "e075e6e2-6c2b-41cb-b782-9b2b56ecc210",
   "metadata": {},
   "outputs": [
    {
     "data": {
      "text/plain": [
       "NIL"
      ]
     },
     "execution_count": 103,
     "metadata": {},
     "output_type": "execute_result"
    },
    {
     "name": "stdout",
     "output_type": "stream",
     "text": [
      "SB-KERNEL:REDEFINITION-WITH-DEFUN: redefining CL-WAFFE.NN::COPY-GRUHIDDENLAYER in DEFUN\n",
      "SB-KERNEL:REDEFINITION-WITH-DEFUN: redefining CL-WAFFE.NN::GRUHIDDENLAYER-P in DEFUN\n",
      "SB-KERNEL:REDEFINITION-WITH-DEFUN: redefining (COMMON-LISP:SETF CL-WAFFE.NN::GRUHIDDENLAYER-MODEL-IDENT) in DEFUN\n",
      "SB-KERNEL:REDEFINITION-WITH-DEFUN: redefining CL-WAFFE.NN::GRUHIDDENLAYER-MODEL-IDENT in DEFUN\n",
      "SB-KERNEL:REDEFINITION-WITH-DEFUN: redefining (COMMON-LISP:SETF CL-WAFFE.NN::GRUHIDDENLAYER-HIDE-FROM-TREE) in DEFUN\n",
      "SB-KERNEL:REDEFINITION-WITH-DEFUN: redefining CL-WAFFE.NN::GRUHIDDENLAYER-HIDE-FROM-TREE in DEFUN\n",
      "SB-KERNEL:REDEFINITION-WITH-DEFUN: redefining (COMMON-LISP:SETF CL-WAFFE.NN::GRUHIDDENLAYER-FORWARD) in DEFUN\n",
      "SB-KERNEL:REDEFINITION-WITH-DEFUN: redefining CL-WAFFE.NN::GRUHIDDENLAYER-FORWARD in DEFUN\n",
      "SB-KERNEL:REDEFINITION-WITH-DEFUN: redefining (COMMON-LISP:SETF CL-WAFFE.NN::GRUHIDDENLAYER-OBJECT-TYPE) in DEFUN\n",
      "SB-KERNEL:REDEFINITION-WITH-DEFUN: redefining CL-WAFFE.NN::GRUHIDDENLAYER-OBJECT-TYPE in DEFUN\n",
      "SB-KERNEL:REDEFINITION-WITH-DEFUN: redefining (COMMON-LISP:SETF CL-WAFFE.NN::GRUHIDDENLAYER-BACKWARD) in DEFUN\n",
      "SB-KERNEL:REDEFINITION-WITH-DEFUN: redefining CL-WAFFE.NN::GRUHIDDENLAYER-BACKWARD in DEFUN\n",
      "SB-KERNEL:REDEFINITION-WITH-DEFUN: redefining (COMMON-LISP:SETF CL-WAFFE.NN::GRUHIDDENLAYER-PARAMETERS) in DEFUN\n",
      "SB-KERNEL:REDEFINITION-WITH-DEFUN: redefining CL-WAFFE.NN::GRUHIDDENLAYER-PARAMETERS in DEFUN\n",
      "SB-KERNEL:REDEFINITION-WITH-DEFUN: redefining (COMMON-LISP:SETF CL-WAFFE.NN::GRUHIDDENLAYER-WEIGHT-Z) in DEFUN\n",
      "SB-KERNEL:REDEFINITION-WITH-DEFUN: redefining CL-WAFFE.NN::GRUHIDDENLAYER-WEIGHT-Z in DEFUN\n",
      "SB-KERNEL:REDEFINITION-WITH-DEFUN: redefining (COMMON-LISP:SETF CL-WAFFE.NN::GRUHIDDENLAYER-WEIGHT-R) in DEFUN\n",
      "SB-KERNEL:REDEFINITION-WITH-DEFUN: redefining CL-WAFFE.NN::GRUHIDDENLAYER-WEIGHT-R in DEFUN\n",
      "SB-KERNEL:REDEFINITION-WITH-DEFUN: redefining (COMMON-LISP:SETF CL-WAFFE.NN::GRUHIDDENLAYER-WEIGHT-H) in DEFUN\n",
      "SB-KERNEL:REDEFINITION-WITH-DEFUN: redefining CL-WAFFE.NN::GRUHIDDENLAYER-WEIGHT-H in DEFUN\n",
      "SB-KERNEL:REDEFINITION-WITH-DEFUN: redefining (COMMON-LISP:SETF CL-WAFFE.NN::GRUHIDDENLAYER-RECURRENT-WEIGHT-Z) in DEFUN\n",
      "SB-KERNEL:REDEFINITION-WITH-DEFUN: redefining CL-WAFFE.NN::GRUHIDDENLAYER-RECURRENT-WEIGHT-Z in DEFUN\n",
      "SB-KERNEL:REDEFINITION-WITH-DEFUN: redefining (COMMON-LISP:SETF CL-WAFFE.NN::GRUHIDDENLAYER-RECURRENT-WEIGHT-R) in DEFUN\n",
      "SB-KERNEL:REDEFINITION-WITH-DEFUN: redefining CL-WAFFE.NN::GRUHIDDENLAYER-RECURRENT-WEIGHT-R in DEFUN\n",
      "SB-KERNEL:REDEFINITION-WITH-DEFUN: redefining (COMMON-LISP:SETF CL-WAFFE.NN::GRUHIDDENLAYER-RECURRENT-WEIGHT-H) in DEFUN\n",
      "SB-KERNEL:REDEFINITION-WITH-DEFUN: redefining CL-WAFFE.NN::GRUHIDDENLAYER-RECURRENT-WEIGHT-H in DEFUN\n",
      "SB-KERNEL:REDEFINITION-WITH-DEFUN: redefining (COMMON-LISP:SETF CL-WAFFE.NN::GRUHIDDENLAYER-BIAS-Z) in DEFUN\n",
      "SB-KERNEL:REDEFINITION-WITH-DEFUN: redefining CL-WAFFE.NN::GRUHIDDENLAYER-BIAS-Z in DEFUN\n",
      "SB-KERNEL:REDEFINITION-WITH-DEFUN: redefining (COMMON-LISP:SETF CL-WAFFE.NN::GRUHIDDENLAYER-BIAS-R) in DEFUN\n",
      "SB-KERNEL:REDEFINITION-WITH-DEFUN: redefining CL-WAFFE.NN::GRUHIDDENLAYER-BIAS-R in DEFUN\n",
      "SB-KERNEL:REDEFINITION-WITH-DEFUN: redefining (COMMON-LISP:SETF CL-WAFFE.NN::GRUHIDDENLAYER-BIAS-H) in DEFUN\n",
      "SB-KERNEL:REDEFINITION-WITH-DEFUN: redefining CL-WAFFE.NN::GRUHIDDENLAYER-BIAS-H in DEFUN\n",
      "SB-KERNEL:REDEFINITION-WITH-DEFUN: redefining (COMMON-LISP:SETF CL-WAFFE.NN::GRUHIDDENLAYER-DROPOUT) in DEFUN\n",
      "SB-KERNEL:REDEFINITION-WITH-DEFUN: redefining CL-WAFFE.NN::GRUHIDDENLAYER-DROPOUT in DEFUN\n",
      "SB-KERNEL:REDEFINITION-WITH-DEFUN: redefining (COMMON-LISP:SETF CL-WAFFE.NN::GRUHIDDENLAYER-ACTIVATION) in DEFUN\n",
      "SB-KERNEL:REDEFINITION-WITH-DEFUN: redefining CL-WAFFE.NN::GRUHIDDENLAYER-ACTIVATION in DEFUN\n",
      "SB-KERNEL:REDEFINITION-WITH-DEFUN: redefining (COMMON-LISP:SETF CL-WAFFE.NN::GRUHIDDENLAYER-RECURRENT-ACTIVATION) in DEFUN\n",
      "SB-KERNEL:REDEFINITION-WITH-DEFUN: redefining CL-WAFFE.NN::GRUHIDDENLAYER-RECURRENT-ACTIVATION in DEFUN\n",
      "SB-KERNEL:REDEFINITION-WITH-DEFUN: redefining CL-WAFFE.NN::GRUHIDDENLAYER in DEFUN\n",
      "SB-KERNEL:REDEFINITION-WITH-DEFMETHOD: redefining PRINT-OBJECT (#<STRUCTURE-CLASS CL-WAFFE.NN::GRUHIDDENLAYER>\n",
      "                                                                #<SB-PCL:SYSTEM-CLASS COMMON-LISP:T>) in DEFMETHOD\n",
      "SB-KERNEL:REDEFINITION-WITH-DEFMETHOD: redefining CL-WAFFE::CALL-FORWARD CL-WAFFE::BACKEND-DISPATCHER (#<STRUCTURE-CLASS CL-WAFFE.NN::GRUHIDDENLAYER>) in DEFMETHOD\n",
      "SB-KERNEL:REDEFINITION-WITH-DEFMETHOD: redefining CL-WAFFE::CALL-BACKWARD CL-WAFFE::BACKEND-DISPATCHER (#<STRUCTURE-CLASS CL-WAFFE.NN::GRUHIDDENLAYER>) in DEFMETHOD\n"
     ]
    }
   ],
   "source": [
    "(defmodel GRUHiddenLayer (input-size\n",
    "                          hidden-size\n",
    "                          recurrent-weight\n",
    "                          &key\n",
    "                          (activation :tanh)\n",
    "                          (recurrent-activation :sigmoid)\n",
    "                          (bias nil)\n",
    "                          (dropout nil))\n",
    "  :parameters ((weight-z (parameter (!div (!randn `(,input-size ,hidden-size))\n",
    "                                          (sqrt hidden-size))))\n",
    "               (weight-r (parameter (!div (!randn `(,input-size ,hidden-size))\n",
    "                                          (sqrt hidden-size))))\n",
    "               (weight-h (parameter (!div (!randn `(,input-size ,hidden-size))\n",
    "                                          (sqrt hidden-size))))\n",
    "               (recurrent-weight-z (if recurrent-weight\n",
    "                                       recurrent-weight\n",
    "                                       (parameter (!div (!randn `(,hidden-size ,hidden-size))\n",
    "                                                    (sqrt hidden-size)))))\n",
    "               (recurrent-weight-r (if recurrent-weight\n",
    "                                       recurrent-weight\n",
    "                                       (parameter (!div (!randn `(,hidden-size ,hidden-size))\n",
    "                                                    (sqrt hidden-size)))))\n",
    "               (recurrent-weight-h (if recurrent-weight\n",
    "                                       recurrent-weight\n",
    "                                       (parameter (!div (!randn `(,hidden-size ,hidden-size))\n",
    "                                                    (sqrt hidden-size)))))\n",
    "               (bias-z (if bias\n",
    "                           (parameter (!zeros `(1 ,hidden-size)))\n",
    "                           nil))\n",
    "               (bias-r (if bias\n",
    "                           (parameter (!zeros `(1 ,hidden-size)))\n",
    "                           nil))\n",
    "               (bias-h (if bias\n",
    "                           (parameter (!zeros `(1 ,hidden-size)))\n",
    "                           nil))\n",
    "               (dropout (if dropout\n",
    "                            (dropout dropout)\n",
    "                            nil))\n",
    "               (activation (if (find activation `(:tanh :relu))\n",
    "                               activation\n",
    "                               (error \"cl-waffe.nn.GRUHiddenLayer: available activations are following: :tanh :relu, but got ~a\" activation)))\n",
    "               (recurrent-activation (if (find recurrent-activation `(:sigmoid))\n",
    "                                          recurrent-activation\n",
    "                                          (error \"cl-waffe.nn.GRUHiddenLayer: available recurrent-activations are following: :sigmoid, but got ~a\" recurrent-activation))))\n",
    "  :forward ((x h)\n",
    "            (let* ((z (!add (!matmul x (self weight-z))\n",
    "                            (!matmul h (self recurrent-weight-z))))\n",
    "                   (r (!add (!matmul x (self weight-r))\n",
    "                            (!matmul h (self recurrent-weight-r))))\n",
    "                   (z (if (self bias-z)\n",
    "                          (!add z (self bias-z))\n",
    "                          z))\n",
    "                   (r (if (self bias-r)\n",
    "                          (!add r (self bias-r))\n",
    "                          r))\n",
    "                   (z (!sigmoid z))\n",
    "                   (r (!sigmoid r))\n",
    "                   (rh (!mul r h))\n",
    "                   (candidate-h (!add (!matmul x (self weight-h))\n",
    "                                      (!matmul rh (self recurrent-weight-h))))\n",
    "                   (candidate-h (if (self bias-h)\n",
    "                                   (!add candidate-h (self bias-h))\n",
    "                                   candidate-h))\n",
    "                   (candidate-h (case (self activation)\n",
    "                                     (:tanh (!tanh candidate-h))\n",
    "                                     (:relu (!relu candidate-h))))\n",
    "                   (h (!add (!mul (!sub (!ones-like z) z) candidate-h) (!mul z h))))\n",
    "              h)))\n"
   ]
  },
  {
   "cell_type": "code",
   "execution_count": 107,
   "id": "61900226-5887-44c9-bb67-38140ee04939",
   "metadata": {},
   "outputs": [
    {
     "data": {
      "text/plain": [
       "NIL"
      ]
     },
     "execution_count": 107,
     "metadata": {},
     "output_type": "execute_result"
    },
    {
     "name": "stdout",
     "output_type": "stream",
     "text": [
      "SB-KERNEL:REDEFINITION-WITH-DEFUN: redefining CL-WAFFE.NN::COPY-GRU in DEFUN\n",
      "SB-KERNEL:REDEFINITION-WITH-DEFUN: redefining CL-WAFFE.NN::GRU-P in DEFUN\n",
      "SB-KERNEL:REDEFINITION-WITH-DEFUN: redefining (COMMON-LISP:SETF CL-WAFFE.NN::GRU-MODEL-IDENT) in DEFUN\n",
      "SB-KERNEL:REDEFINITION-WITH-DEFUN: redefining CL-WAFFE.NN::GRU-MODEL-IDENT in DEFUN\n",
      "SB-KERNEL:REDEFINITION-WITH-DEFUN: redefining (COMMON-LISP:SETF CL-WAFFE.NN::GRU-HIDE-FROM-TREE) in DEFUN\n",
      "SB-KERNEL:REDEFINITION-WITH-DEFUN: redefining CL-WAFFE.NN::GRU-HIDE-FROM-TREE in DEFUN\n",
      "SB-KERNEL:REDEFINITION-WITH-DEFUN: redefining (COMMON-LISP:SETF CL-WAFFE.NN::GRU-FORWARD) in DEFUN\n",
      "SB-KERNEL:REDEFINITION-WITH-DEFUN: redefining CL-WAFFE.NN::GRU-FORWARD in DEFUN\n",
      "SB-KERNEL:REDEFINITION-WITH-DEFUN: redefining (COMMON-LISP:SETF CL-WAFFE.NN::GRU-OBJECT-TYPE) in DEFUN\n",
      "SB-KERNEL:REDEFINITION-WITH-DEFUN: redefining CL-WAFFE.NN::GRU-OBJECT-TYPE in DEFUN\n",
      "SB-KERNEL:REDEFINITION-WITH-DEFUN: redefining (COMMON-LISP:SETF CL-WAFFE.NN::GRU-BACKWARD) in DEFUN\n",
      "SB-KERNEL:REDEFINITION-WITH-DEFUN: redefining CL-WAFFE.NN::GRU-BACKWARD in DEFUN\n",
      "SB-KERNEL:REDEFINITION-WITH-DEFUN: redefining (COMMON-LISP:SETF CL-WAFFE.NN::GRU-PARAMETERS) in DEFUN\n",
      "SB-KERNEL:REDEFINITION-WITH-DEFUN: redefining CL-WAFFE.NN::GRU-PARAMETERS in DEFUN\n",
      "SB-KERNEL:REDEFINITION-WITH-DEFUN: redefining (COMMON-LISP:SETF CL-WAFFE.NN::GRU-GRU-LAYERS) in DEFUN\n",
      "SB-KERNEL:REDEFINITION-WITH-DEFUN: redefining CL-WAFFE.NN::GRU-GRU-LAYERS in DEFUN\n",
      "SB-KERNEL:REDEFINITION-WITH-DEFUN: redefining (COMMON-LISP:SETF CL-WAFFE.NN::GRU-NUM-LAYERS) in DEFUN\n",
      "SB-KERNEL:REDEFINITION-WITH-DEFUN: redefining CL-WAFFE.NN::GRU-NUM-LAYERS in DEFUN\n",
      "SB-KERNEL:REDEFINITION-WITH-DEFUN: redefining (COMMON-LISP:SETF CL-WAFFE.NN::GRU-HIDDEN-SIZE) in DEFUN\n",
      "SB-KERNEL:REDEFINITION-WITH-DEFUN: redefining CL-WAFFE.NN::GRU-HIDDEN-SIZE in DEFUN\n",
      "SB-KERNEL:REDEFINITION-WITH-DEFUN: redefining (COMMON-LISP:SETF CL-WAFFE.NN::GRU-BIDIRECTIONAL) in DEFUN\n",
      "SB-KERNEL:REDEFINITION-WITH-DEFUN: redefining CL-WAFFE.NN::GRU-BIDIRECTIONAL in DEFUN\n",
      "SB-KERNEL:REDEFINITION-WITH-DEFUN: redefining (COMMON-LISP:SETF CL-WAFFE.NN::GRU-WO) in DEFUN\n",
      "SB-KERNEL:REDEFINITION-WITH-DEFUN: redefining CL-WAFFE.NN::GRU-WO in DEFUN\n",
      "SB-KERNEL:REDEFINITION-WITH-DEFUN: redefining CL-WAFFE.NN::GRU in DEFUN\n",
      "SB-KERNEL:REDEFINITION-WITH-DEFMETHOD: redefining PRINT-OBJECT (#<STRUCTURE-CLASS CL-WAFFE.NN::GRU>\n",
      "                                                                #<SB-PCL:SYSTEM-CLASS COMMON-LISP:T>) in DEFMETHOD\n",
      "SB-KERNEL:REDEFINITION-WITH-DEFMETHOD: redefining CL-WAFFE::CALL-FORWARD CL-WAFFE::BACKEND-DISPATCHER (#<STRUCTURE-CLASS CL-WAFFE.NN::GRU>) in DEFMETHOD\n",
      "SB-KERNEL:REDEFINITION-WITH-DEFMETHOD: redefining CL-WAFFE::CALL-BACKWARD CL-WAFFE::BACKEND-DISPATCHER (#<STRUCTURE-CLASS CL-WAFFE.NN::GRU>) in DEFMETHOD\n"
     ]
    }
   ],
   "source": [
    "(defmodel GRU (input-size\n",
    "               hidden-size\n",
    "               &key\n",
    "               (num-layers 1)\n",
    "               (activation :tanh)\n",
    "               (recurrent-activation :sigmoid)\n",
    "               (bias nil)\n",
    "               (dropout nil)\n",
    "               (bidirectional nil))\n",
    "  :parameters ((gru-layers (model-list\n",
    "                            (loop for i upfrom 0 below num-layers\n",
    "                                  collect (GRUHiddenLayer\n",
    "                                           input-size\n",
    "                                           hidden-size\n",
    "                                           nil\n",
    "                                           :activation activation\n",
    "                                           :recurrent-activation recurrent-activation\n",
    "                                           :bias bias\n",
    "                                           :dropout dropout))))\n",
    "               (num-layers num-layers :type fixnum)\n",
    "               (hidden-size hidden-size :type fixnum)\n",
    "               (bidirectional bidirectional :type boolean)\n",
    "               (wo (linearlayer hidden-size hidden-size) :type linearlayer))\n",
    "  :forward ((x &optional (hs (const nil)))\n",
    "            \"Input: X = (BatchSize SentenceLength Embedding_Dim)\n",
    "             Output (values x{t+1} h{t+1})\"\n",
    "\n",
    "            (let* ((batch-size (!shape x 0))\n",
    "                   (sentence-length (!shape x 1))\n",
    "                   (hs-specified? (not (null (data hs))))\n",
    "                   (hs (if (null (value hs))\n",
    "                           (!zeros `(,batch-size\n",
    "                                     1\n",
    "                                     ,(self hidden-size)))\n",
    "                           hs))\n",
    "                   (words))\n",
    "              (loop for xn fixnum upfrom 0 below sentence-length\n",
    "                    do (push (!aref x t xn t) words))\n",
    "\n",
    "              (unless (self bidirectional)\n",
    "                (setq words (reverse words)))\n",
    "\n",
    "              (if hs-specified?\n",
    "                  (dotimes (w-i (length words))\n",
    "                    (dotimes (gru-i (self num-layers))\n",
    "                      (setq hs (setf (!aref hs t w-i)\n",
    "                                     (call (self gru-layers)\n",
    "                                           (const gru-i)\n",
    "                                           (nth w-i words)\n",
    "                                           (!aref hs t w-i)))))\n",
    "                    (setf (nth w-i words) (!aref hs t w-i)))\n",
    "                (dotimes (w-i (length words))\n",
    "                  (dotimes (gru-i (self num-layers))\n",
    "                    (setq hs (call (self gru-layers)\n",
    "                                   (const gru-i)\n",
    "                                   (nth w-i words)\n",
    "                                   hs)))\n",
    "                  (setf (nth w-i words) (!add 0.0 hs)))) ; this `!add` is intended to make a copy.\n",
    "              (call (self wo) (apply #'!concatenate 1 words)))))\n"
   ]
  },
  {
   "cell_type": "code",
   "execution_count": 108,
   "id": "07469f0e-246b-46ea-a72e-649a753bcaea",
   "metadata": {},
   "outputs": [
    {
     "data": {
      "text/plain": [
       "[Model: GRU :ident {W127577}]"
      ]
     },
     "execution_count": 108,
     "metadata": {},
     "output_type": "execute_result"
    }
   ],
   "source": [
    "(GRU 10 10)"
   ]
  },
  {
   "cell_type": "code",
   "execution_count": 109,
   "id": "b458011f-c76f-48bb-a860-cf5ecce76cdd",
   "metadata": {},
   "outputs": [
    {
     "data": {
      "text/plain": [
       "#Const((((-0.00... 6.990... ~ -0.00... 0.008...)         \n",
       "                   ...\n",
       "         (0.010... 0.011... ~ -0.02... -0.01...))        \n",
       "                 ...\n",
       "        ((0.009... 0.003... ~ -0.00... 0.012...)         \n",
       "                   ...\n",
       "         (0.013... 0.017... ~ -0.00... -0.01...))) :mgl t :shape (10 10 10) :backward <Node: BROADCASTINGADDTENSOR{W128058}>)"
      ]
     },
     "execution_count": 109,
     "metadata": {},
     "output_type": "execute_result"
    }
   ],
   "source": [
    "(call * (!randn `(10 10 10)))"
   ]
  },
  {
   "cell_type": "code",
   "execution_count": 111,
   "id": "c8351955-7443-4e77-b424-7709ed8eab54",
   "metadata": {},
   "outputs": [
    {
     "ename": "interrupt",
     "evalue": "Execution interrupted",
     "output_type": "error",
     "traceback": []
    }
   ],
   "source": [
    "(backward (!sum *))"
   ]
  },
  {
   "cell_type": "code",
   "execution_count": 116,
   "id": "dbf2ae50-9b96-4e31-bf3b-ed94ee9c2653",
   "metadata": {},
   "outputs": [
    {
     "data": {
      "text/plain": [
       "#<PACKAGE \"KNN\">"
      ]
     },
     "execution_count": 116,
     "metadata": {},
     "output_type": "execute_result"
    },
    {
     "data": {
      "text/plain": [
       "#<PACKAGE \"KNN\">"
      ]
     },
     "execution_count": 116,
     "metadata": {},
     "output_type": "execute_result"
    },
    {
     "data": {
      "text/plain": [
       "Q4"
      ]
     },
     "execution_count": 116,
     "metadata": {},
     "output_type": "execute_result"
    },
    {
     "data": {
      "text/plain": [
       "EUCLIDEAN-DISTANCE"
      ]
     },
     "execution_count": 116,
     "metadata": {},
     "output_type": "execute_result"
    },
    {
     "data": {
      "text/plain": [
       "KNN"
      ]
     },
     "execution_count": 116,
     "metadata": {},
     "output_type": "execute_result"
    },
    {
     "data": {
      "text/plain": [
       "*DATASET*"
      ]
     },
     "execution_count": 116,
     "metadata": {},
     "output_type": "execute_result"
    },
    {
     "data": {
      "text/plain": [
       "*QUERY*"
      ]
     },
     "execution_count": 116,
     "metadata": {},
     "output_type": "execute_result"
    },
    {
     "data": {
      "text/plain": [
       "((2.236068 A) (3.7416575 B))"
      ]
     },
     "execution_count": 116,
     "metadata": {},
     "output_type": "execute_result"
    },
    {
     "name": "stdout",
     "output_type": "stream",
     "text": [
      "SB-KERNEL:REDEFINITION-WITH-DEFUN: redefining KNN::EUCLIDEAN-DISTANCE in DEFUN\n",
      "SB-INT:SIMPLE-STYLE-WARNING: The return value of STABLE-SORT-LIST should not be discarded.\n",
      "SB-KERNEL:REDEFINITION-WITH-DEFUN: redefining KNN::KNN in DEFUN\n",
      "\n",
      "((2.236068 A) (3.7416575 B)) "
     ]
    }
   ],
   "source": [
    "(defpackage #:knn\n",
    "  (:use #:cl))\n",
    "\n",
    "(in-package #:knn)\n",
    "\n",
    ";;; 型の定義\n",
    "(deftype q4 () '(unsigned-byte 4))\n",
    "\n",
    ";;; ユークリッド距離の計算\n",
    "(defun euclidean-distance (p1 p2)\n",
    "  (declare (optimize (speed 3) (safety 0))\n",
    "           (type (vector q4) p1 p2))\n",
    "  (let ((distance 0))\n",
    "    (dotimes (i (length p1))\n",
    "      (incf distance (expt (- (aref p1 i) (aref p2 i)) 2)))\n",
    "    (sqrt distance)))\n",
    "\n",
    ";;; KNNアルゴリズム\n",
    "(defun knn (k dataset query)\n",
    "  (declare (optimize (speed 3) (safety 0))\n",
    "           (type (vector (vector q4)) dataset)\n",
    "           (type (vector q4) query))\n",
    "  (let ((distances (mapcar (lambda (data)\n",
    "                             (list (euclidean-distance query (car data)) (cdr data)))\n",
    "                           dataset)))\n",
    "    (sort distances #'< :key #'car)\n",
    "    (subseq distances 0 k)))\n",
    "\n",
    ";;; サンプルデータセット\n",
    "(defparameter *dataset*\n",
    "  (list (cons #(1 2 3) 'A)\n",
    "        (cons #(4 5 6) 'B)\n",
    "        (cons #(7 8 9) 'C)\n",
    "        (cons #(10 11 12) 'D)))\n",
    "\n",
    ";;; サンプルクエリ\n",
    "(defparameter *query* #(3 3 3))\n",
    "\n",
    ";;; テスト実行\n",
    "(print (knn 2 *dataset* *query*))\n"
   ]
  },
  {
   "cell_type": "code",
   "execution_count": 133,
   "id": "6992d6e5-aad1-4fbf-9d04-58373e8d7ae4",
   "metadata": {},
   "outputs": [
    {
     "data": {
      "text/plain": [
       "#<PACKAGE \"KNN-KDTREE\">"
      ]
     },
     "execution_count": 133,
     "metadata": {},
     "output_type": "execute_result"
    },
    {
     "data": {
      "text/plain": [
       "#<PACKAGE \"KNN-KDTREE\">"
      ]
     },
     "execution_count": 133,
     "metadata": {},
     "output_type": "execute_result"
    },
    {
     "data": {
      "text/plain": [
       "Q4"
      ]
     },
     "execution_count": 133,
     "metadata": {},
     "output_type": "execute_result"
    },
    {
     "data": {
      "text/plain": [
       "KDTREE-NODE"
      ]
     },
     "execution_count": 133,
     "metadata": {},
     "output_type": "execute_result"
    },
    {
     "data": {
      "text/plain": [
       "BUILD-KDTREE"
      ]
     },
     "execution_count": 133,
     "metadata": {},
     "output_type": "execute_result"
    },
    {
     "data": {
      "text/plain": [
       "EUCLIDEAN-DISTANCE"
      ]
     },
     "execution_count": 133,
     "metadata": {},
     "output_type": "execute_result"
    },
    {
     "data": {
      "text/plain": [
       "KNN-KDTREE"
      ]
     },
     "execution_count": 133,
     "metadata": {},
     "output_type": "execute_result"
    },
    {
     "name": "stdout",
     "output_type": "stream",
     "text": [
      "SB-KERNEL:REDEFINITION-WITH-DEFUN: redefining KNN-KDTREE::COPY-KDTREE-NODE in DEFUN\n",
      "SB-KERNEL:REDEFINITION-WITH-DEFUN: redefining KNN-KDTREE::KDTREE-NODE-P in DEFUN\n",
      "SB-KERNEL:REDEFINITION-WITH-DEFUN: redefining (COMMON-LISP:SETF KNN-KDTREE::KDTREE-NODE-POINT) in DEFUN\n",
      "SB-KERNEL:REDEFINITION-WITH-DEFUN: redefining KNN-KDTREE::KDTREE-NODE-POINT in DEFUN\n",
      "SB-KERNEL:REDEFINITION-WITH-DEFUN: redefining (COMMON-LISP:SETF KNN-KDTREE::KDTREE-NODE-LABEL) in DEFUN\n",
      "SB-KERNEL:REDEFINITION-WITH-DEFUN: redefining KNN-KDTREE::KDTREE-NODE-LABEL in DEFUN\n",
      "SB-KERNEL:REDEFINITION-WITH-DEFUN: redefining (COMMON-LISP:SETF KNN-KDTREE::KDTREE-NODE-LEFT) in DEFUN\n",
      "SB-KERNEL:REDEFINITION-WITH-DEFUN: redefining KNN-KDTREE::KDTREE-NODE-LEFT in DEFUN\n",
      "SB-KERNEL:REDEFINITION-WITH-DEFUN: redefining (COMMON-LISP:SETF KNN-KDTREE::KDTREE-NODE-RIGHT) in DEFUN\n",
      "SB-KERNEL:REDEFINITION-WITH-DEFUN: redefining KNN-KDTREE::KDTREE-NODE-RIGHT in DEFUN\n",
      "SB-KERNEL:REDEFINITION-WITH-DEFUN: redefining KNN-KDTREE::MAKE-KDTREE-NODE in DEFUN\n",
      "SB-KERNEL:REDEFINITION-WITH-DEFUN: redefining KNN-KDTREE::BUILD-KDTREE in DEFUN\n",
      "SB-KERNEL:REDEFINITION-WITH-DEFUN: redefining KNN-KDTREE::EUCLIDEAN-DISTANCE in DEFUN\n",
      "SB-KERNEL:REDEFINITION-WITH-DEFUN: redefining KNN-KDTREE::KNN-KDTREE in DEFUN\n"
     ]
    }
   ],
   "source": [
    "(defpackage #:knn-kdtree\n",
    "  (:use #:cl))\n",
    "\n",
    "(in-package #:knn-kdtree)\n",
    "\n",
    "(deftype q4 () '(unsigned-byte 4))\n",
    "\n",
    "(defstruct kdtree-node\n",
    "  point\n",
    "  label\n",
    "  left\n",
    "  right)\n",
    "\n",
    "(defun build-kdtree (points depth)\n",
    "  (if (null points)\n",
    "      nil\n",
    "      (let* ((axis (mod depth (length (car (car points)))))\n",
    "             (sorted-points (sort points #'< :key (lambda (point) (aref (car point) axis))))\n",
    "             (median-index (floor (length sorted-points) 2))\n",
    "             (median-point (elt sorted-points median-index)))\n",
    "        (make-kdtree-node\n",
    "         :point (car median-point)\n",
    "         :label (cdr median-point)\n",
    "         :left (build-kdtree (subseq sorted-points 0 median-index) (1+ depth))\n",
    "         :right (build-kdtree (subseq sorted-points (1+ median-index)) (1+ depth))))))\n",
    "\n",
    "(defun euclidean-distance (p1 p2)\n",
    "  (declare (optimize (speed 3) (safety 0))\n",
    "           (type (vector q4) p1 p2))\n",
    "  (let ((distance 0))\n",
    "    (dotimes (i (length p1))\n",
    "      (incf distance (expt (- (aref p1 i) (aref p2 i)) 2)))\n",
    "    (sqrt distance)))\n",
    "\n",
    "(defun knn-kdtree (k kdtree query)\n",
    "  (let ((results (make-array k :initial-element (cons most-positive-double-float nil))))\n",
    "    (labels ((search-kdtree (node depth)\n",
    "               (when node\n",
    "                 (let* ((axis (mod depth (length query)))\n",
    "                        (point (kdtree-node-point node))\n",
    "                        (label (kdtree-node-label node))\n",
    "                        (distance (euclidean-distance query point))\n",
    "                        (next (if (< (aref query axis) (aref point axis))\n",
    "                                  (kdtree-node-left node)\n",
    "                                  (kdtree-node-right node)))\n",
    "                        (other (if (eq next (kdtree-node-left node))\n",
    "                                   (kdtree-node-right node)\n",
    "                                   (kdtree-node-left node))))\n",
    "                   (search-kdtree next (1+ depth))\n",
    "                   (let ((farthest (position (cons most-positive-double-float nil) results)))\n",
    "                     (when (or farthest\n",
    "                               (< distance (euclidean-distance query\n",
    "                                                               (kdtree-node-point\n",
    "                                                                (cdr (aref results (- k 1)))))))\n",
    "                       (setf (aref results (if farthest farthest (- k 1))) (cons distance label))\n",
    "                       (sort results #'< :key #'car)))\n",
    "                   (when (< (abs (- (aref query axis) (aref point axis)))\n",
    "                            (euclidean-distance query\n",
    "                                                (kdtree-node-point\n",
    "                                                 (cdr (aref results (- k 1))))))\n",
    "                     (search-kdtree other (1+ depth)))))))\n",
    "      (search-kdtree kdtree 0))\n",
    "    results))\n"
   ]
  },
  {
   "cell_type": "code",
   "execution_count": 134,
   "id": "dffa499e-46a3-46b6-a791-18a599eb6228",
   "metadata": {},
   "outputs": [
    {
     "data": {
      "text/plain": [
       "*DATASET*"
      ]
     },
     "execution_count": 134,
     "metadata": {},
     "output_type": "execute_result"
    },
    {
     "data": {
      "text/plain": [
       "*QUERY*"
      ]
     },
     "execution_count": 134,
     "metadata": {},
     "output_type": "execute_result"
    },
    {
     "data": {
      "text/plain": [
       "*KDTREE*"
      ]
     },
     "execution_count": 134,
     "metadata": {},
     "output_type": "execute_result"
    },
    {
     "name": "stderr",
     "output_type": "stream",
     "text": [
      "TYPE-ERROR: The value\n",
      "  NIL\n",
      "is not of type\n",
      "  KNN-KDTREE::KDTREE-NODE\n",
      "\n"
     ]
    },
    {
     "ename": "TYPE-ERROR",
     "evalue": "The value\n  NIL\nis not of type\n  KNN-KDTREE::KDTREE-NODE",
     "output_type": "error",
     "traceback": [
      "0: ((LABELS SEARCH-KDTREE :IN KNN-KDTREE) #S(KDTREE-NODE :POINT #(1 2 3) :LABEL A :LEFT NIL :RIGHT NIL) 2)",
      "1: ((LABELS SEARCH-KDTREE :IN KNN-KDTREE) #S(KDTREE-NODE :POINT #(4 5 6) :LABEL B :LEFT #S(KDTREE-NODE :POINT #(1 2 3) :LABEL A :LEFT NIL :RIGHT NIL) :RIGHT NIL) 1)",
      "2: ((LABELS SEARCH-KDTREE :IN KNN-KDTREE) #S(KDTREE-NODE :POINT #(7 8 9) :LABEL C :LEFT #S(KDTREE-NODE :POINT #(4 5 6) :LABEL B :LEFT #S(KDTREE-NODE :POINT #(1 2 3) :LABEL A :LEFT NIL :RIGHT NIL) :RIGHT NIL) :RIGHT #S(KDTREE-NODE :POINT #(10 11 12) :LABEL D :LEFT NIL :RIGHT NIL)) 0)",
      "3: (KNN-KDTREE 2 #S(KDTREE-NODE :POINT #(7 8 9) :LABEL C :LEFT #S(KDTREE-NODE :POINT #(4 5 6) :LABEL B :LEFT #S(KDTREE-NODE :POINT #(1 2 3) :LABEL A :LEFT NIL :RIGHT NIL) :RIGHT NIL) :RIGHT #S(KDTREE-NODE :POINT #(10 11 12) :LABEL D :LEFT NIL :RIGHT NIL)) #(3 3 3))",
      "4: ((LAMBDA NIL :IN \"/private/var/folders/0z/78dxt82s1ks803wxpkvbmmqw0000gn/T/7A93D029923343839A0E69AD18929F35-750966918.lisp\"))",
      "5: (JUPYTER/COMMON-LISP::EVAL-AND-PRINT (PRINT (KNN-KDTREE 2 *KDTREE* *QUERY*)) 3 NIL)",
      "6: ((:METHOD JUPYTER:EVALUATE-FORM (JUPYTER/COMMON-LISP:KERNEL T T T)) #<unused argument> #<FORM-TRACKING-STREAM for \"file /private/var/folders/0z/78dxt82s1ks803wxpkvbmmqw0000gn/T/7A93D029923343839A0E69AD18929F35-750966918.lisp\" {1008B50A03}> CELL:750966918.LISP.NEWEST NIL #<unused argument> #<unused argument>)",
      "7: (JUPYTER/COMMON-LISP::REPL (defparameter *dataset*\n  (list (cons #(1 2 3) 'A)\n        (cons #(4 5 6) 'B)\n        (cons #(7 8 9) 'C)\n        (cons #(10 11 12) 'D)))\n\n(defparameter *query* #(3 3 3))\n\n;;; KD木の構築\n(defparameter *kdtree* (build-kdtree *dataset* 0))\n\n;;; KNN検索の実行\n(print (knn-kdtree 2 *kdtree* *query*)) CELL:750966918.LISP.NEWEST NIL)",
      "8: ((:METHOD JUPYTER:EVALUATE-CODE (JUPYTER/COMMON-LISP:KERNEL T)) #<unused argument> (defparameter *dataset*\n  (list (cons #(1 2 3) 'A)\n        (cons #(4 5 6) 'B)\n        (cons #(7 8 9) 'C)\n        (cons #(10 11 12) 'D)))\n\n(defparameter *query* #(3 3 3))\n\n;;; KD木の構築\n(defparameter *kdtree* (build-kdtree *dataset* 0))\n\n;;; KNN検索の実行\n(print (knn-kdtree 2 *kdtree* *query*)) CELL:750966918.LISP.NEWEST NIL)",
      "9: (JUPYTER::HANDLE-EXECUTE-REQUEST)",
      "10: (JUPYTER::RUN-SHELL #<KERNEL {10083F4313}>)",
      "11: ((LABELS BORDEAUX-THREADS::%BINDING-DEFAULT-SPECIALS-WRAPPER :IN BORDEAUX-THREADS::BINDING-DEFAULT-SPECIALS))",
      "12: ((FLET SB-UNIX::BODY :IN SB-THREAD::RUN))",
      "13: ((FLET \"WITHOUT-INTERRUPTS-BODY-11\" :IN SB-THREAD::RUN))",
      "14: ((FLET SB-UNIX::BODY :IN SB-THREAD::RUN))",
      "15: ((FLET \"WITHOUT-INTERRUPTS-BODY-4\" :IN SB-THREAD::RUN))",
      "16: (SB-THREAD::RUN)",
      "17: (\"foreign function: call_into_lisp\")",
      "18: (\"foreign function: funcall1\")"
     ]
    }
   ],
   "source": [
    "(defparameter *dataset*\n",
    "  (list (cons #(1 2 3) 'A)\n",
    "        (cons #(4 5 6) 'B)\n",
    "        (cons #(7 8 9) 'C)\n",
    "        (cons #(10 11 12) 'D)))\n",
    "\n",
    "(defparameter *query* #(3 3 3))\n",
    "\n",
    ";;; KD木の構築\n",
    "(defparameter *kdtree* (build-kdtree *dataset* 0))\n",
    "\n",
    ";;; KNN検索の実行\n",
    "(print (knn-kdtree 2 *kdtree* *query*))"
   ]
  },
  {
   "cell_type": "code",
   "execution_count": 1,
   "id": "3089f9fd-5de3-41e0-8a6f-d7541e905fb6",
   "metadata": {},
   "outputs": [
    {
     "data": {
      "text/plain": [
       "APPROX-INNER-PRODUCT"
      ]
     },
     "execution_count": 1,
     "metadata": {},
     "output_type": "execute_result"
    },
    {
     "data": {
      "text/plain": [
       "MADDNESS"
      ]
     },
     "execution_count": 1,
     "metadata": {},
     "output_type": "execute_result"
    }
   ],
   "source": [
    ";; 助ける関数: 内積の近似\n",
    "(defun approx-inner-product (vec1 vec2 k)\n",
    "  (let ((result 0)\n",
    "        (length (length vec1)))\n",
    "    (dotimes (i k)\n",
    "      (let ((rand-index (random length)))\n",
    "        (incf result (* (aref vec1 rand-index) (aref vec2 rand-index)))))\n",
    "    (/ result k)))\n",
    "\n",
    ";; Maddnessアルゴリズム\n",
    "(defun maddness (matrix1 matrix2 k)\n",
    "  (let* ((rows1 (length matrix1))\n",
    "         (cols1 (length (aref matrix1 0)))\n",
    "         (rows2 (length matrix2))\n",
    "         (cols2 (length (aref matrix2 0)))\n",
    "         (result (make-array (list rows1 cols2) :initial-element 0)))\n",
    "    (unless (= cols1 rows2)\n",
    "      (error \"Incompatible matrix dimensions\"))\n",
    "    (dotimes (i rows1)\n",
    "      (dotimes (j cols2)\n",
    "        (setf (aref result i j) (approx-inner-product (aref matrix1 i) (map 'vector #'identity (mapcar (lambda (row) (aref row j)) matrix2)) k))))\n",
    "    result))\n"
   ]
  },
  {
   "cell_type": "code",
   "execution_count": 8,
   "id": "f7f1ff01-ea40-451c-9686-d785c62495fe",
   "metadata": {},
   "outputs": [
    {
     "data": {
      "text/plain": [
       "*MATRIX1*"
      ]
     },
     "execution_count": 8,
     "metadata": {},
     "output_type": "execute_result"
    },
    {
     "data": {
      "text/plain": [
       "*MATRIX2*"
      ]
     },
     "execution_count": 8,
     "metadata": {},
     "output_type": "execute_result"
    },
    {
     "data": {
      "text/plain": [
       "*K*"
      ]
     },
     "execution_count": 8,
     "metadata": {},
     "output_type": "execute_result"
    },
    {
     "name": "stderr",
     "output_type": "stream",
     "text": [
      "TYPE-ERROR: The value\n",
      "  ((1 2 3) (4 5 6) (7 8 9))\n",
      "is not of type\n",
      "  VECTOR\n",
      "\n"
     ]
    },
    {
     "ename": "TYPE-ERROR",
     "evalue": "The value\n  ((1 2 3) (4 5 6) (7 8 9))\nis not of type\n  VECTOR",
     "output_type": "error",
     "traceback": [
      "0: (MADDNESS ((1 2 3) (4 5 6) (7 8 9)) ((9 8 7) (6 5 4) (3 2 1)) 10)",
      "1: ((LAMBDA NIL :IN \"/private/var/folders/0z/78dxt82s1ks803wxpkvbmmqw0000gn/T/B9D24F185A69495037B4DB8D8E11133C-2925370865.lisp\"))",
      "2: (JUPYTER/COMMON-LISP::EVAL-AND-PRINT (DEFPARAMETER *RESULT* (MADDNESS *MATRIX1* *MATRIX2* *K*)) 3 NIL)",
      "3: ((:METHOD JUPYTER:EVALUATE-FORM (JUPYTER/COMMON-LISP:KERNEL T T T)) #<unused argument> #<FORM-TRACKING-STREAM for \"file /private/var/folders/0z/78dxt82s1ks803wxpkvbmmqw0000gn/T/B9D24F185A69495037B4DB8D8E11133C-2925370865.lisp\" {100B5291F3}> CELL:2925370865.LISP.NEWEST NIL #<unused argument> #<unused argument>)",
      "4: (JUPYTER/COMMON-LISP::REPL ;; 行列を作成\n;; 行列を作成\n(defparameter *matrix1* '((1 2 3)\n                           (4 5 6)\n                           (7 8 9)))\n(defparameter *matrix2* '((9 8 7)\n                           (6 5 4)\n                           (3 2 1)))\n\n;; kの値を設定\n(defparameter *k* 10)\n\n;; Maddnessアルゴリズムを使用して行列積を計算\n(defparameter *result* (maddness *matrix1* *matrix2* *k*))\n\n;; 結果を表示\n(format t \"Matrix1:~%~A~%~%Matrix2:~%~A~%~%Result:~%~A~%\" *matrix1* *matrix2* *result*)\n CELL:2925370865.LISP.NEWEST NIL)",
      "5: ((:METHOD JUPYTER:EVALUATE-CODE (JUPYTER/COMMON-LISP:KERNEL T)) #<unused argument> ;; 行列を作成\n;; 行列を作成\n(defparameter *matrix1* '((1 2 3)\n                           (4 5 6)\n                           (7 8 9)))\n(defparameter *matrix2* '((9 8 7)\n                           (6 5 4)\n                           (3 2 1)))\n\n;; kの値を設定\n(defparameter *k* 10)\n\n;; Maddnessアルゴリズムを使用して行列積を計算\n(defparameter *result* (maddness *matrix1* *matrix2* *k*))\n\n;; 結果を表示\n(format t \"Matrix1:~%~A~%~%Matrix2:~%~A~%~%Result:~%~A~%\" *matrix1* *matrix2* *result*)\n CELL:2925370865.LISP.NEWEST NIL)",
      "6: (JUPYTER::HANDLE-EXECUTE-REQUEST)",
      "7: (JUPYTER::RUN-SHELL #<KERNEL {10083F4313}>)",
      "8: ((LABELS BORDEAUX-THREADS::%BINDING-DEFAULT-SPECIALS-WRAPPER :IN BORDEAUX-THREADS::BINDING-DEFAULT-SPECIALS))",
      "9: ((FLET SB-UNIX::BODY :IN SB-THREAD::RUN))",
      "10: ((FLET \"WITHOUT-INTERRUPTS-BODY-11\" :IN SB-THREAD::RUN))",
      "11: ((FLET SB-UNIX::BODY :IN SB-THREAD::RUN))",
      "12: ((FLET \"WITHOUT-INTERRUPTS-BODY-4\" :IN SB-THREAD::RUN))",
      "13: (SB-THREAD::RUN)",
      "14: (\"foreign function: call_into_lisp\")",
      "15: (\"foreign function: funcall1\")"
     ]
    }
   ],
   "source": [
    ";; 行列を作成\n",
    ";; 行列を作成\n",
    "(defparameter *matrix1* '((1 2 3)\n",
    "                           (4 5 6)\n",
    "                           (7 8 9)))\n",
    "(defparameter *matrix2* '((9 8 7)\n",
    "                           (6 5 4)\n",
    "                           (3 2 1)))\n",
    "\n",
    ";; kの値を設定\n",
    "(defparameter *k* 10)\n",
    "\n",
    ";; Maddnessアルゴリズムを使用して行列積を計算\n",
    "(defparameter *result* (maddness *matrix1* *matrix2* *k*))\n",
    "\n",
    ";; 結果を表示\n",
    "(format t \"Matrix1:~%~A~%~%Matrix2:~%~A~%~%Result:~%~A~%\" *matrix1* *matrix2* *result*)\n"
   ]
  },
  {
   "cell_type": "code",
   "execution_count": 36,
   "id": "fbb18097-00bc-4ac5-81f6-43d0dcc849bb",
   "metadata": {},
   "outputs": [
    {
     "data": {
      "text/plain": [
       "GENERATE-SKETCH"
      ]
     },
     "execution_count": 36,
     "metadata": {},
     "output_type": "execute_result"
    },
    {
     "data": {
      "text/plain": [
       "MADDNESS"
      ]
     },
     "execution_count": 36,
     "metadata": {},
     "output_type": "execute_result"
    },
    {
     "data": {
      "text/plain": [
       "*MATRIX1*"
      ]
     },
     "execution_count": 36,
     "metadata": {},
     "output_type": "execute_result"
    },
    {
     "data": {
      "text/plain": [
       "*MATRIX2*"
      ]
     },
     "execution_count": 36,
     "metadata": {},
     "output_type": "execute_result"
    },
    {
     "data": {
      "text/plain": [
       "*K*"
      ]
     },
     "execution_count": 36,
     "metadata": {},
     "output_type": "execute_result"
    },
    {
     "data": {
      "text/plain": [
       "*RESULT*"
      ]
     },
     "execution_count": 36,
     "metadata": {},
     "output_type": "execute_result"
    },
    {
     "name": "stdout",
     "output_type": "stream",
     "text": [
      "SB-KERNEL:REDEFINITION-WITH-DEFUN: redefining COMMON-LISP-USER::GENERATE-SKETCH in DEFUN\n",
      "SB-INT:SIMPLE-STYLE-WARNING: The variable K is defined but never used.\n",
      "SB-KERNEL:REDEFINITION-WITH-DEFUN: redefining COMMON-LISP-USER::MADDNESS in DEFUN\n",
      "Evaluation took:\n",
      "  0.044 seconds of real time\n",
      "  0.032144 seconds of total run time (0.031138 user, 0.001006 system)\n",
      "  72.73% CPU\n",
      "  101,965,214 processor cycles\n",
      "  5,632 bytes consed\n",
      "  \n"
     ]
    }
   ],
   "source": [
    "(defun generate-sketch (matrix k)\n",
    "  (declare (optimize (speed 3)))\n",
    "  (let ((n (array-dimension matrix 0))\n",
    "        (m (array-dimension matrix 1)))\n",
    "    (loop for i below k\n",
    "          collect (loop for j below n\n",
    "                        collect (loop for l below m\n",
    "                                      collect (random 1.0))))))\n",
    "\n",
    "(defun maddness (matrix1 matrix2 k)\n",
    "    (declare (optimize (speed 3) (safety 0)))\n",
    "  (let* ((n (array-dimension matrix1 0))\n",
    "         (m (array-dimension matrix1 1))\n",
    "         (p (array-dimension matrix2 1))\n",
    "         (result (make-array (list n p) :initial-element 0)))\n",
    "    (loop for i fixnum below n do\n",
    "          (loop for j fixnum below p do\n",
    "                (loop for l fixnum below m do\n",
    "                      (setf (aref result i j)\n",
    "                            (+ (aref result i j)\n",
    "                               (* (aref matrix1 i l) (aref matrix2 l j)))))))\n",
    "    result))\n",
    "\n",
    ";; 行列を作成\n",
    "(defparameter *matrix1* (mgl-mat:mat-to-array (data (!randn `(100 100)))))\n",
    "(defparameter *matrix2* (mgl-mat:mat-to-array (data (!randn `(100 100)))))\n",
    "\n",
    ";; kの値を設定\n",
    "(defparameter *k* 2)\n",
    "\n",
    ";; Maddnessアルゴリズムを使用して行列積を計算\n",
    "(defparameter *result* (const (time (maddness *matrix1* *matrix2* *k*))))\n",
    "\n",
    ";; 結果を表示\n",
    ";;(format t \"Matrix1:~%~A~%~%Matrix2:~%~A~%~%Result:~%~A~%\" *matrix1* *matrix2* *result*)\n"
   ]
  },
  {
   "cell_type": "code",
   "execution_count": 37,
   "id": "573ada84-39f9-4b28-80cb-0fe34957efae",
   "metadata": {},
   "outputs": [
    {
     "data": {
      "text/plain": [
       "#Const(((-1.21... 0.151... ~ 0.127... 0.168...)        \n",
       "                 ...\n",
       "        (-2.14... 0.777... ~ 1.937... -0.50...)) :mgl t :shape (100 100) :backward NIL)"
      ]
     },
     "execution_count": 37,
     "metadata": {},
     "output_type": "execute_result"
    },
    {
     "data": {
      "text/plain": [
       "#Const(((0.906... 0.179... ~ -1.20... 0.210...)        \n",
       "                 ...\n",
       "        (-1.29... -0.84... ~ -0.31... -2.83...)) :mgl t :shape (100 100) :backward NIL)"
      ]
     },
     "execution_count": 37,
     "metadata": {},
     "output_type": "execute_result"
    },
    {
     "data": {
      "text/plain": [
       "#Const(((-0.75... 16.05... ~ -0.90... -0.17...)        \n",
       "                 ...\n",
       "        (-6.78... 2.045... ~ -0.41... -0.16...)) :mgl t :shape (100 100) :backward <Node: MATMULTENSOR{W1155}>)"
      ]
     },
     "execution_count": 37,
     "metadata": {},
     "output_type": "execute_result"
    },
    {
     "data": {
      "text/plain": [
       "#Const(205.52069)"
      ]
     },
     "execution_count": 37,
     "metadata": {},
     "output_type": "execute_result"
    },
    {
     "name": "stdout",
     "output_type": "stream",
     "text": [
      "SIMPLE-WARNING: undefined variable: COMMON-LISP-USER::A\n",
      "SIMPLE-WARNING: undefined variable: COMMON-LISP-USER::B\n",
      "SIMPLE-WARNING: undefined variable: COMMON-LISP-USER::A\n",
      "SIMPLE-WARNING: undefined variable: COMMON-LISP-USER::B\n",
      "Evaluation took:\n",
      "  0.000 seconds of real time\n",
      "  0.000311 seconds of total run time (0.000211 user, 0.000100 system)\n",
      "  100.00% CPU\n",
      "  1,650,912 processor cycles\n",
      "  31,184 bytes consed\n",
      "  \n",
      "SIMPLE-WARNING: undefined variable: COMMON-LISP-USER::A\n",
      "SIMPLE-WARNING: undefined variable: COMMON-LISP-USER::B\n",
      "\n",
      "#Const(205.52069) "
     ]
    }
   ],
   "source": [
    "(setq a (!randn `(100 100)))\n",
    "(setq b (!randn `(100 100)))\n",
    "(time (!matmul a b))\n",
    "(print (!mean (!pow (!sub (!matmul a b) *result*) 2)))"
   ]
  },
  {
   "cell_type": "code",
   "execution_count": 25,
   "id": "69385096-378e-4a75-b21f-70d23fe472dd",
   "metadata": {},
   "outputs": [
    {
     "data": {
      "text/plain": [
       "#<MGL-MAT:MAT 1x100 AF #2A((-0.49545425 -5.305735 -13.997342 28.007986\n",
       "                            -2.594347 -1.2911865 6.5753913 -5.714756 1.8296893\n",
       "                            -3.2922292 -13.190527 0.80957353 13.215735\n",
       "                            11.565565 9.719372 2.6458368 0.29624802 9.53103\n",
       "                            -8.088576 0.20805418 -26.028414 -3.514761 18.660955\n",
       "                            2.5531425 9.898793 -18.606857 -12.169224 0.9988657\n",
       "                            -4.772518 -7.0343065 3.6290677 -14.995586 -6.37944\n",
       "                            14.028107 -7.551515 -0.29187226 1.3555746 5.0737863\n",
       "                            4.4052734 3.5510952 2.939962 1.8602455 3.870017\n",
       "                            -4.274804 -7.8134904 -11.8520355 5.74457 -5.4845057\n",
       "                            -17.118929 -9.210734 1.6245509 -17.70405 17.914604\n",
       "                            1.964219 15.389162 -6.4760184 6.421321 2.611641\n",
       "                            -19.820463 -6.648786 10.862836 15.947446 3.6263452\n",
       "                            -7.334612 9.046708 10.697818 17.045376 20.976357\n",
       "                            19.450218 2.046275 -3.1708043 18.120897 9.101498\n",
       "                            12.290915 -7.70375 -6.3437233 5.464301 -9.221235\n",
       "                            -5.315508 -5.4701924 -6.5846934 4.342862 -2.4932456\n",
       "                            -1.1139222 0.9328871 -6.679577 7.0454926 32.647682\n",
       "                            -3.1519742 7.770087 -2.2427437 -4.481635 -14.133473\n",
       "                            15.757962 0.5595402 -8.299628 0.2222891 9.798761\n",
       "                            -2.300066 2.9868152))>"
      ]
     },
     "execution_count": 25,
     "metadata": {},
     "output_type": "execute_result"
    },
    {
     "data": {
      "text/plain": [
       "#<MGL-MAT:MAT 1x100 AF #2A((-4.4441066 3.3481796 -13.4010935 -15.112535\n",
       "                            9.226973 11.292281 -5.8585286 11.969655 4.054856\n",
       "                            -11.223967 0.94788384 9.678874 17.689087 6.1656957\n",
       "                            -10.930316 -2.1868513 -3.6648161 3.0717657\n",
       "                            4.1735363 3.365073 15.894049 3.4165764 -18.276333\n",
       "                            6.767449 -19.836681 -0.6699619 4.6614313 -9.023642\n",
       "                            -17.615822 6.150631 -2.3127556 -4.9474573 7.458398\n",
       "                            -1.4775314 20.84017 -6.6319575 6.3943863 -5.3959575\n",
       "                            -15.372004 -4.028539 2.7711883 -11.900663\n",
       "                            -0.20904692 -1.6715161 -1.5155478 -1.372943\n",
       "                            -6.7599897 -18.769058 -2.6182497 -3.3821375\n",
       "                            2.761403 15.366606 8.479706 -0.48214483 -11.818767\n",
       "                            -10.438639 0.5114527 -18.856258 -13.971599 20.58647\n",
       "                            -10.275991 -22.245897 14.219186 -0.7231292 5.472935\n",
       "                            -12.713025 3.3540778 3.4981356 -4.0943933 9.256146\n",
       "                            -7.241768 7.226022 -21.77127 -1.748065 4.9012823\n",
       "                            -7.8197913 0.6374265 15.097857 -8.218904 -9.045202\n",
       "                            -5.071536 -9.211053 12.586145 10.937922 6.229176\n",
       "                            1.6847659 0.6238084 16.140503 -20.753128 -5.0359445\n",
       "                            7.177035 5.532901 3.3565173 -14.575564 9.138434\n",
       "                            10.251221 12.091096 -1.841026 10.340809 -4.316481))>"
      ]
     },
     "execution_count": 25,
     "metadata": {},
     "output_type": "execute_result"
    },
    {
     "name": "stdout",
     "output_type": "stream",
     "text": [
      "\n",
      "#<MGL-MAT:MAT 1x100 F #2A((-0.49545425 -5.305735 -13.997342 28.007986 -2.594347\n",
      "                           -1.2911865 6.5753913 -5.714756 1.8296893 -3.2922292\n",
      "                           -13.190527 0.80957353 13.215735 11.565565 9.719372\n",
      "                           2.6458368 0.29624802 9.53103 -8.088576 0.20805418\n",
      "                           -26.028414 -3.514761 18.660955 2.5531425 9.898793\n",
      "                           -18.606857 -12.169224 0.9988657 -4.772518 -7.0343065\n",
      "                           3.6290677 -14.995586 -6.37944 14.028107 -7.551515\n",
      "                           -0.29187226 1.3555746 5.0737863 4.4052734 3.5510952\n",
      "                           2.939962 1.8602455 3.870017 -4.274804 -7.8134904\n",
      "                           -11.8520355 5.74457 -5.4845057 -17.118929 -9.210734\n",
      "                           1.6245509 -17.70405 17.914604 1.964219 15.389162\n",
      "                           -6.4760184 6.421321 2.611641 -19.820463 -6.648786\n",
      "                           10.862836 15.947446 3.6263452 -7.334612 9.046708\n",
      "                           10.697818 17.045376 20.976357 19.450218 2.046275\n",
      "                           -3.1708043 18.120897 9.101498 12.290915 -7.70375\n",
      "                           -6.3437233 5.464301 -9.221235 -5.315508 -5.4701924\n",
      "                           -6.5846934 4.342862 -2.4932456 -1.1139222 0.9328871\n",
      "                           -6.679577 7.0454926 32.647682 -3.1519742 7.770087\n",
      "                           -2.2427437 -4.481635 -14.133473 15.757962 0.5595402\n",
      "                           -8.299628 0.2222891 9.798761 -2.300066 2.9868152))> SIMPLE-WARNING: undefined variable: COMMON-LISP-USER::A\n",
      "SIMPLE-WARNING: undefined variable: COMMON-LISP-USER::B\n",
      "\n",
      "#<MGL-MAT:MAT 1x100 F #2A((-4.4441066 3.3481796 -13.4010935 -15.112535 9.226973\n",
      "                           11.292281 -5.8585286 11.969655 4.054856 -11.223967\n",
      "                           0.94788384 9.678874 17.689087 6.1656957 -10.930316\n",
      "                           -2.1868513 -3.6648161 3.0717657 4.1735363 3.365073\n",
      "                           15.894049 3.4165764 -18.276333 6.767449 -19.836681\n",
      "                           -0.6699619 4.6614313 -9.023642 -17.615822 6.150631\n",
      "                           -2.3127556 -4.9474573 7.458398 -1.4775314 20.84017\n",
      "                           -6.6319575 6.3943863 -5.3959575 -15.372004 -4.028539\n",
      "                           2.7711883 -11.900663 -0.20904692 -1.6715161\n",
      "                           -1.5155478 -1.372943 -6.7599897 -18.769058\n",
      "                           -2.6182497 -3.3821375 2.761403 15.366606 8.479706\n",
      "                           -0.48214483 -11.818767 -10.438639 0.5114527\n",
      "                           -18.856258 -13.971599 20.58647 -10.275991 -22.245897\n",
      "                           14.219186 -0.7231292 5.472935 -12.713025 3.3540778\n",
      "                           3.4981356 -4.0943933 9.256146 -7.241768 7.226022\n",
      "                           -21.77127 -1.748065 4.9012823 -7.8197913 0.6374265\n",
      "                           15.097857 -8.218904 -9.045202 -5.071536 -9.211053\n",
      "                           12.586145 10.937922 6.229176 1.6847659 0.6238084\n",
      "                           16.140503 -20.753128 -5.0359445 7.177035 5.532901\n",
      "                           3.3565173 -14.575564 9.138434 10.251221 12.091096\n",
      "                           -1.841026 10.340809 -4.316481))> "
     ]
    }
   ],
   "source": [
    "(print (data (!aref *result* 0)))\n",
    "(print (data (!aref (!matmul a b) 0)))"
   ]
  },
  {
   "cell_type": "code",
   "execution_count": 41,
   "id": "e57b6edf-175e-4522-9d38-0a1277609eb8",
   "metadata": {},
   "outputs": [
    {
     "data": {
      "text/plain": [
       "#<PACKAGE \"MADDNESS\">"
      ]
     },
     "execution_count": 41,
     "metadata": {},
     "output_type": "execute_result"
    },
    {
     "data": {
      "text/plain": [
       "#<PACKAGE \"MADDNESS\">"
      ]
     },
     "execution_count": 41,
     "metadata": {},
     "output_type": "execute_result"
    },
    {
     "data": {
      "text/plain": [
       "GENERATE-SKETCH"
      ]
     },
     "execution_count": 41,
     "metadata": {},
     "output_type": "execute_result"
    },
    {
     "data": {
      "text/plain": [
       "MADDNESS"
      ]
     },
     "execution_count": 41,
     "metadata": {},
     "output_type": "execute_result"
    },
    {
     "data": {
      "text/plain": [
       "*MATRIX1*"
      ]
     },
     "execution_count": 41,
     "metadata": {},
     "output_type": "execute_result"
    },
    {
     "data": {
      "text/plain": [
       "*MATRIX2*"
      ]
     },
     "execution_count": 41,
     "metadata": {},
     "output_type": "execute_result"
    },
    {
     "data": {
      "text/plain": [
       "*K*"
      ]
     },
     "execution_count": 41,
     "metadata": {},
     "output_type": "execute_result"
    },
    {
     "name": "stderr",
     "output_type": "stream",
     "text": [
      "TYPE-ERROR: The value\n",
      "  #2A(((0.7347125 0.8907819 0.25242198) (0.95553684 0.55056083 0.543277)\n",
      "       (0.2900803 0.5137366 0.28994548))\n",
      "      ((0.085674405 0.42533958 0.95669484) (0.6329727 0.46191883 0.02787149)\n",
      "       (0.9571886 0.36831236 0.41711044)))\n",
      "\n",
      "is not of type\n",
      "  VECTOR\n",
      "\n"
     ]
    },
    {
     "ename": "TYPE-ERROR",
     "evalue": "The value\n  #2A(((0.7347125 0.8907819 0.25242198) (0.95553684 0.55056083 0.543277)\n       (0.2900803 0.5137366 0.28994548))\n      ((0.085674405 0.42533958 0.95669484) (0.6329727 0.46191883 0.02787149)\n       (0.9571886 0.36831236 0.41711044)))\n\nis not of type\n  VECTOR",
     "output_type": "error",
     "traceback": [
      "0: (MADDNESS #2A((1 2 3) (4 5 6) (7 8 9)) #2A((9 8 7) (6 5 4) (3 2 1)) 2)",
      "1: ((LAMBDA NIL :IN \"/private/var/folders/0z/78dxt82s1ks803wxpkvbmmqw0000gn/T/4BED2454B18444C16703C3B443B5360A-1168284777.lisp\"))",
      "2: (JUPYTER/COMMON-LISP::EVAL-AND-PRINT (DEFPARAMETER *RESULT* (MADDNESS *MATRIX1* *MATRIX2* *K*)) 7 NIL)",
      "3: ((:METHOD JUPYTER:EVALUATE-FORM (JUPYTER/COMMON-LISP:KERNEL T T T)) #<unused argument> #<FORM-TRACKING-STREAM for \"file /private/var/folders/0z/78dxt82s1ks803wxpkvbmmqw0000gn/T/4BED2454B18444C16703C3B443B5360A-1168284777.lisp\" {1007B7EE03}> CELL:1168284777.LISP.NEWEST NIL #<unused argument> #<unused argument>)",
      "4: (JUPYTER/COMMON-LISP::REPL (defpackage :maddness\n  (:use :cl))\n(in-package :maddness)\n\n(defun generate-sketch (matrix k)\n  (let ((n (array-dimension matrix 0))\n        (m (array-dimension matrix 1)))\n       (make-array (list k m)\n                   :initial-contents\n                   (loop for i below k\n                         collect (loop for j below n\n                                       collect (loop for l below m\n                                                     collect (random 1.0)))))))\n\n(defun maddness (matrix1 matrix2 k)\n  (let* ((n (array-dimension matrix1 0))\n         (m (array-dimension matrix1 1))\n         (p (array-dimension matrix2 1))\n         (s1 (generate-sketch matrix1 k))\n         (s2 (generate-sketch matrix2 k))\n         (result (make-array (list n p) :initial-element 0)))\n    (loop for i below n do\n          (loop for j below p do\n                (loop for l below k do\n                      (setf (aref result i j)\n                            (+ (aref result i j)\n                               (* (reduce #'+ (mapcar #'* (aref s1 l) (aref matrix1 i)))\n                                  (reduce #'+ (mapcar #'* (aref s2 l) (aref matrix2 j))))))))))\n    result)\n\n;; 行列を作成\n(defparameter *matrix1* (make-array '(3 3)\n                                    :initial-contents '((1 2 3)\n                                                        (4 5 6)\n                                                        (7 8 9))))\n(defparameter *matrix2* (make-array '(3 3)\n                                    :initial-contents '((9 8 7)\n                                                        (6 5 4)\n                                                        (3 2 1))))\n\n;; kの値を設定\n(defparameter *k* 2)\n\n;; Maddnessアルゴリズムを使用して行列積を計算\n(defparameter *result* (maddness *matrix1* *matrix2* *k*))\n\n;; 結果を表示\n(format t \"Matrix1:~%~A~%~%Matrix2:~%~A~%~%Result:~%~A~%\" *matrix1* *matrix2* *result*)\n CELL:1168284777.LISP.NEWEST NIL)",
      "5: ((:METHOD JUPYTER:EVALUATE-CODE (JUPYTER/COMMON-LISP:KERNEL T)) #<unused argument> (defpackage :maddness\n  (:use :cl))\n(in-package :maddness)\n\n(defun generate-sketch (matrix k)\n  (let ((n (array-dimension matrix 0))\n        (m (array-dimension matrix 1)))\n       (make-array (list k m)\n                   :initial-contents\n                   (loop for i below k\n                         collect (loop for j below n\n                                       collect (loop for l below m\n                                                     collect (random 1.0)))))))\n\n(defun maddness (matrix1 matrix2 k)\n  (let* ((n (array-dimension matrix1 0))\n         (m (array-dimension matrix1 1))\n         (p (array-dimension matrix2 1))\n         (s1 (generate-sketch matrix1 k))\n         (s2 (generate-sketch matrix2 k))\n         (result (make-array (list n p) :initial-element 0)))\n    (loop for i below n do\n          (loop for j below p do\n                (loop for l below k do\n                      (setf (aref result i j)\n                            (+ (aref result i j)\n                               (* (reduce #'+ (mapcar #'* (aref s1 l) (aref matrix1 i)))\n                                  (reduce #'+ (mapcar #'* (aref s2 l) (aref matrix2 j))))))))))\n    result)\n\n;; 行列を作成\n(defparameter *matrix1* (make-array '(3 3)\n                                    :initial-contents '((1 2 3)\n                                                        (4 5 6)\n                                                        (7 8 9))))\n(defparameter *matrix2* (make-array '(3 3)\n                                    :initial-contents '((9 8 7)\n                                                        (6 5 4)\n                                                        (3 2 1))))\n\n;; kの値を設定\n(defparameter *k* 2)\n\n;; Maddnessアルゴリズムを使用して行列積を計算\n(defparameter *result* (maddness *matrix1* *matrix2* *k*))\n\n;; 結果を表示\n(format t \"Matrix1:~%~A~%~%Matrix2:~%~A~%~%Result:~%~A~%\" *matrix1* *matrix2* *result*)\n CELL:1168284777.LISP.NEWEST NIL)",
      "6: (JUPYTER::HANDLE-EXECUTE-REQUEST)",
      "7: (JUPYTER::RUN-SHELL #<KERNEL {10083F4313}>)",
      "8: ((LABELS BORDEAUX-THREADS::%BINDING-DEFAULT-SPECIALS-WRAPPER :IN BORDEAUX-THREADS::BINDING-DEFAULT-SPECIALS))",
      "9: ((FLET SB-UNIX::BODY :IN SB-THREAD::RUN))",
      "10: ((FLET \"WITHOUT-INTERRUPTS-BODY-11\" :IN SB-THREAD::RUN))",
      "11: ((FLET SB-UNIX::BODY :IN SB-THREAD::RUN))",
      "12: ((FLET \"WITHOUT-INTERRUPTS-BODY-4\" :IN SB-THREAD::RUN))",
      "13: (SB-THREAD::RUN)",
      "14: (\"foreign function: call_into_lisp\")",
      "15: (\"foreign function: funcall1\")"
     ]
    },
    {
     "name": "stdout",
     "output_type": "stream",
     "text": [
      "SB-KERNEL:REDEFINITION-WITH-DEFUN: redefining MADDNESS::GENERATE-SKETCH in DEFUN\n",
      "SB-INT:SIMPLE-STYLE-WARNING: The variable M is defined but never used.\n",
      "SIMPLE-WARNING: undefined variable: MADDNESS::RESULT\n",
      "SB-KERNEL:REDEFINITION-WITH-DEFUN: redefining MADDNESS::MADDNESS in DEFUN\n"
     ]
    }
   ],
   "source": [
    "(defpackage :maddness\n",
    "  (:use :cl))\n",
    "(in-package :maddness)\n",
    "\n",
    "(defun generate-sketch (matrix k)\n",
    "  (let ((n (array-dimension matrix 0))\n",
    "        (m (array-dimension matrix 1)))\n",
    "       (make-array (list k m)\n",
    "                   :initial-contents\n",
    "                   (loop for i below k\n",
    "                         collect (loop for j below n\n",
    "                                       collect (loop for l below m\n",
    "                                                     collect (random 1.0)))))))\n",
    "\n",
    "(defun maddness (matrix1 matrix2 k)\n",
    "  (let* ((n (array-dimension matrix1 0))\n",
    "         (m (array-dimension matrix1 1))\n",
    "         (p (array-dimension matrix2 1))\n",
    "         (s1 (generate-sketch matrix1 k))\n",
    "         (s2 (generate-sketch matrix2 k))\n",
    "         (result (make-array (list n p) :initial-element 0)))\n",
    "    (loop for i below n do\n",
    "          (loop for j below p do\n",
    "                (loop for l below k do\n",
    "                      (setf (aref result i j)\n",
    "                            (+ (aref result i j)\n",
    "                               (* (reduce #'+ (mapcar #'* (aref s1 l) (aref matrix1 i)))\n",
    "                                  (reduce #'+ (mapcar #'* (aref s2 l) (aref matrix2 j))))))))))\n",
    "    result)\n",
    "\n",
    ";; 行列を作成\n",
    "(defparameter *matrix1* (make-array '(3 3)\n",
    "                                    :initial-contents '((1 2 3)\n",
    "                                                        (4 5 6)\n",
    "                                                        (7 8 9))))\n",
    "(defparameter *matrix2* (make-array '(3 3)\n",
    "                                    :initial-contents '((9 8 7)\n",
    "                                                        (6 5 4)\n",
    "                                                        (3 2 1))))\n",
    "\n",
    ";; kの値を設定\n",
    "(defparameter *k* 2)\n",
    "\n",
    ";; Maddnessアルゴリズムを使用して行列積を計算\n",
    "(defparameter *result* (maddness *matrix1* *matrix2* *k*))\n",
    "\n",
    ";; 結果を表示\n",
    "(format t \"Matrix1:~%~A~%~%Matrix2:~%~A~%~%Result:~%~A~%\" *matrix1* *matrix2* *result*)\n"
   ]
  },
  {
   "cell_type": "code",
   "execution_count": 44,
   "id": "6d09b442-5da9-4a98-83ea-455f5a266807",
   "metadata": {},
   "outputs": [
    {
     "data": {
      "text/plain": [
       "#<PACKAGE \"MADDNESS\">"
      ]
     },
     "execution_count": 44,
     "metadata": {},
     "output_type": "execute_result"
    },
    {
     "data": {
      "text/plain": [
       "#<PACKAGE \"MADDNESS\">"
      ]
     },
     "execution_count": 44,
     "metadata": {},
     "output_type": "execute_result"
    },
    {
     "data": {
      "text/plain": [
       "NIL"
      ]
     },
     "execution_count": 44,
     "metadata": {},
     "output_type": "execute_result"
    },
    {
     "data": {
      "text/plain": [
       "GENERATE-SKETCH"
      ]
     },
     "execution_count": 44,
     "metadata": {},
     "output_type": "execute_result"
    },
    {
     "data": {
      "text/plain": [
       "MADDNESS"
      ]
     },
     "execution_count": 44,
     "metadata": {},
     "output_type": "execute_result"
    },
    {
     "data": {
      "text/plain": [
       "*MATRIX1*"
      ]
     },
     "execution_count": 44,
     "metadata": {},
     "output_type": "execute_result"
    },
    {
     "data": {
      "text/plain": [
       "*MATRIX2*"
      ]
     },
     "execution_count": 44,
     "metadata": {},
     "output_type": "execute_result"
    },
    {
     "data": {
      "text/plain": [
       "*K*"
      ]
     },
     "execution_count": 44,
     "metadata": {},
     "output_type": "execute_result"
    },
    {
     "name": "stderr",
     "output_type": "stream",
     "text": [
      "SIMPLE-TYPE-ERROR: Value of MATRIX1 in\n",
      "(AREF MATRIX1 I)\n",
      "is\n",
      "  #2A((1.0 2.0 3.0) (4.0 5.0 6.0) (7.0 8.0 9.0)),\n",
      "not a\n",
      "  VECTOR.\n",
      "\n"
     ]
    },
    {
     "ename": "SIMPLE-TYPE-ERROR",
     "evalue": "Value of MATRIX1 in\n(AREF MATRIX1 I)\nis\n  #2A((1.0 2.0 3.0) (4.0 5.0 6.0) (7.0 8.0 9.0)),\nnot a\n  VECTOR.",
     "output_type": "error",
     "traceback": [
      "0: (SB-C::%COMPILE-TIME-TYPE-ERROR (#2A((1.0 2.0 3.0) (4.0 5.0 6.0) (7.0 8.0 9.0))) VECTOR #<unused argument> (MATRIX1) (AREF MATRIX1 I) NIL)",
      "1: (MADDNESS #<unavailable argument> #<unavailable argument> #<unavailable argument>)",
      "2: ((LAMBDA NIL :IN \"/private/var/folders/0z/78dxt82s1ks803wxpkvbmmqw0000gn/T/4BED2454B18444C16703C3B443B5360A-3733772884.lisp\"))",
      "3: (JUPYTER/COMMON-LISP::EVAL-AND-PRINT (DEFPARAMETER *RESULT* (MADDNESS *MATRIX1* *MATRIX2* *K*)) 8 NIL)",
      "4: ((:METHOD JUPYTER:EVALUATE-FORM (JUPYTER/COMMON-LISP:KERNEL T T T)) #<unused argument> #<FORM-TRACKING-STREAM for \"file /private/var/folders/0z/78dxt82s1ks803wxpkvbmmqw0000gn/T/4BED2454B18444C16703C3B443B5360A-3733772884.lisp\" {100883FB53}> CELL:3733772884.LISP.NEWEST NIL #<unused argument> #<unused argument>)",
      "5: (JUPYTER/COMMON-LISP::REPL (defpackage :maddness\n  (:use :cl))\n(in-package :maddness)\n\n(declaim (optimize (speed 3) (safety 0)))\n\n(defun generate-sketch (matrix k)\n  (let* ((n (array-dimension matrix 0))\n         (m (array-dimension matrix 1))\n         (sketch (make-array (list k n m) :element-type 'single-float)))\n    (loop for i below k do\n          (loop for j below n do\n                (loop for l below m do\n                      (setf (aref sketch i j l) (random 1.0f0)))))\n    sketch))\n\n(defun maddness (matrix1 matrix2 k)\n  (declare (type (simple-array single-float (* *)) matrix1 matrix2)\n           (type fixnum k))\n  (let* ((n (array-dimension matrix1 0))\n         (m (array-dimension matrix1 1))\n         (p (array-dimension matrix2 1))\n         (s1 (generate-sketch matrix1 k))\n         (s2 (generate-sketch matrix2 k))\n         (result (make-array (list n p) :element-type 'single-float :initial-element 0.0f0)))\n    (loop for i below n do\n          (loop for j below p do\n                (loop for l below k do\n                      (setf (aref result i j)\n                            (+ (aref result i j)\n                               (* (reduce #'+ (map 'list #'* (aref s1 l i) (aref matrix1 i)))\n                                  (reduce #'+ (map 'list #'* (aref s2 l j) (aref matrix2 j)))))))))\n    result))\n\n;; 行列を作成\n(defparameter *matrix1* (make-array '(3 3) :element-type 'single-float\n                                    :initial-contents '((1.0 2.0 3.0)\n                                                        (4.0 5.0 6.0)\n                                                        (7.0 8.0 9.0))))\n(defparameter *matrix2* (make-array '(3 3) :element-type 'single-float\n                                    :initial-contents '((9.0 8.0 7.0)\n                                                        (6.0 5.0 4.0)\n                                                        (3.0 2.0 1.0))))\n\n;; kの値を設定\n(defparameter *k* 2)\n\n;; Maddnessアルゴリズムを使用して行列積を計算\n(defparameter *result* (maddness *matrix1* *matrix2* *k*))\n\n;; 結果を表示\n(format t \"Matrix1:~%~A~%~%Matrix2:~%~A~%~%Result:~%~A~%\" *matrix1* *matrix2* *result*)\n CELL:3733772884.LISP.NEWEST NIL)",
      "6: ((:METHOD JUPYTER:EVALUATE-CODE (JUPYTER/COMMON-LISP:KERNEL T)) #<unused argument> (defpackage :maddness\n  (:use :cl))\n(in-package :maddness)\n\n(declaim (optimize (speed 3) (safety 0)))\n\n(defun generate-sketch (matrix k)\n  (let* ((n (array-dimension matrix 0))\n         (m (array-dimension matrix 1))\n         (sketch (make-array (list k n m) :element-type 'single-float)))\n    (loop for i below k do\n          (loop for j below n do\n                (loop for l below m do\n                      (setf (aref sketch i j l) (random 1.0f0)))))\n    sketch))\n\n(defun maddness (matrix1 matrix2 k)\n  (declare (type (simple-array single-float (* *)) matrix1 matrix2)\n           (type fixnum k))\n  (let* ((n (array-dimension matrix1 0))\n         (m (array-dimension matrix1 1))\n         (p (array-dimension matrix2 1))\n         (s1 (generate-sketch matrix1 k))\n         (s2 (generate-sketch matrix2 k))\n         (result (make-array (list n p) :element-type 'single-float :initial-element 0.0f0)))\n    (loop for i below n do\n          (loop for j below p do\n                (loop for l below k do\n                      (setf (aref result i j)\n                            (+ (aref result i j)\n                               (* (reduce #'+ (map 'list #'* (aref s1 l i) (aref matrix1 i)))\n                                  (reduce #'+ (map 'list #'* (aref s2 l j) (aref matrix2 j)))))))))\n    result))\n\n;; 行列を作成\n(defparameter *matrix1* (make-array '(3 3) :element-type 'single-float\n                                    :initial-contents '((1.0 2.0 3.0)\n                                                        (4.0 5.0 6.0)\n                                                        (7.0 8.0 9.0))))\n(defparameter *matrix2* (make-array '(3 3) :element-type 'single-float\n                                    :initial-contents '((9.0 8.0 7.0)\n                                                        (6.0 5.0 4.0)\n                                                        (3.0 2.0 1.0))))\n\n;; kの値を設定\n(defparameter *k* 2)\n\n;; Maddnessアルゴリズムを使用して行列積を計算\n(defparameter *result* (maddness *matrix1* *matrix2* *k*))\n\n;; 結果を表示\n(format t \"Matrix1:~%~A~%~%Matrix2:~%~A~%~%Result:~%~A~%\" *matrix1* *matrix2* *result*)\n CELL:3733772884.LISP.NEWEST NIL)",
      "7: (JUPYTER::HANDLE-EXECUTE-REQUEST)",
      "8: (JUPYTER::RUN-SHELL #<KERNEL {10083F4313}>)",
      "9: ((LABELS BORDEAUX-THREADS::%BINDING-DEFAULT-SPECIALS-WRAPPER :IN BORDEAUX-THREADS::BINDING-DEFAULT-SPECIALS))",
      "10: ((FLET SB-UNIX::BODY :IN SB-THREAD::RUN))",
      "11: ((FLET \"WITHOUT-INTERRUPTS-BODY-11\" :IN SB-THREAD::RUN))",
      "12: ((FLET SB-UNIX::BODY :IN SB-THREAD::RUN))",
      "13: ((FLET \"WITHOUT-INTERRUPTS-BODY-4\" :IN SB-THREAD::RUN))",
      "14: (SB-THREAD::RUN)",
      "15: (\"foreign function: call_into_lisp\")",
      "16: (\"foreign function: funcall1\")"
     ]
    },
    {
     "name": "stdout",
     "output_type": "stream",
     "text": [
      "SB-INT:SIMPLE-STYLE-WARNING: DECLAIM where DECLARE was probably intended\n",
      "SB-KERNEL:REDEFINITION-WITH-DEFUN: redefining MADDNESS::GENERATE-SKETCH in DEFUN\n",
      "SB-INT:SIMPLE-STYLE-WARNING: The variable M is defined but never used.\n",
      "SB-INT:TYPE-WARNING: Derived type of MATRIX1 is\n",
      "                       (VALUES (SIMPLE-ARRAY SINGLE-FLOAT (* *)) &OPTIONAL),\n",
      "                     conflicting with its asserted type\n",
      "                       VECTOR.\n",
      "See also:\n",
      "  The SBCL Manual, Node \"Handling of Types\"\n",
      "SB-KERNEL:REDEFINITION-WITH-DEFUN: redefining MADDNESS::MADDNESS in DEFUN\n"
     ]
    }
   ],
   "source": [
    "(defpackage :maddness\n",
    "  (:use :cl))\n",
    "(in-package :maddness)\n",
    "\n",
    "(declaim (optimize (speed 3) (safety 0)))\n",
    "\n",
    "(defun generate-sketch (matrix k)\n",
    "  (let* ((n (array-dimension matrix 0))\n",
    "         (m (array-dimension matrix 1))\n",
    "         (sketch (make-array (list k n m) :element-type 'single-float)))\n",
    "    (loop for i below k do\n",
    "          (loop for j below n do\n",
    "                (loop for l below m do\n",
    "                      (setf (aref sketch i j l) (random 1.0f0)))))\n",
    "    sketch))\n",
    "\n",
    "(defun maddness (matrix1 matrix2 k)\n",
    "  (declare (type (simple-array single-float (* *)) matrix1 matrix2)\n",
    "           (type fixnum k))\n",
    "  (let* ((n (array-dimension matrix1 0))\n",
    "         (m (array-dimension matrix1 1))\n",
    "         (p (array-dimension matrix2 1))\n",
    "         (s1 (generate-sketch matrix1 k))\n",
    "         (s2 (generate-sketch matrix2 k))\n",
    "         (result (make-array (list n p) :element-type 'single-float :initial-element 0.0f0)))\n",
    "    (loop for i below n do\n",
    "          (loop for j below p do\n",
    "                (loop for l below k do\n",
    "                      (setf (aref result i j)\n",
    "                            (+ (aref result i j)\n",
    "                               (* (reduce #'+ (map 'list #'* (aref s1 l i) (aref matrix1 i)))\n",
    "                                  (reduce #'+ (map 'list #'* (aref s2 l j) (aref matrix2 j)))))))))\n",
    "    result))\n",
    "\n",
    ";; 行列を作成\n",
    "(defparameter *matrix1* (make-array '(3 3) :element-type 'single-float\n",
    "                                    :initial-contents '((1.0 2.0 3.0)\n",
    "                                                        (4.0 5.0 6.0)\n",
    "                                                        (7.0 8.0 9.0))))\n",
    "(defparameter *matrix2* (make-array '(3 3) :element-type 'single-float\n",
    "                                    :initial-contents '((9.0 8.0 7.0)\n",
    "                                                        (6.0 5.0 4.0)\n",
    "                                                        (3.0 2.0 1.0))))\n",
    "\n",
    ";; kの値を設定\n",
    "(defparameter *k* 2)\n",
    "\n",
    ";; Maddnessアルゴリズムを使用して行列積を計算\n",
    "(defparameter *result* (maddness *matrix1* *matrix2* *k*))\n",
    "\n",
    ";; 結果を表示\n",
    "(format t \"Matrix1:~%~A~%~%Matrix2:~%~A~%~%Result:~%~A~%\" *matrix1* *matrix2* *result*)\n"
   ]
  },
  {
   "cell_type": "code",
   "execution_count": 57,
   "id": "b6fb93bc-ff01-48c7-a86b-9ad40a43d370",
   "metadata": {},
   "outputs": [
    {
     "data": {
      "text/plain": [
       "!CHISQUARE"
      ]
     },
     "execution_count": 57,
     "metadata": {},
     "output_type": "execute_result"
    },
    {
     "name": "stdout",
     "output_type": "stream",
     "text": [
      "SB-KERNEL:REDEFINITION-WITH-DEFUN: redefining CL-WAFFE:!CHISQUARE in DEFUN\n"
     ]
    }
   ],
   "source": [
    "(defun !chisquare (dims df)\n",
    "  \"Initializes tensor with samples of chi-square distribution using the gamma distribution.\n",
    "  Parameters:\n",
    "  dims - The dimensions of the tensor.\n",
    "  df   - The degrees of freedom of the chi-square distribution.\"\n",
    "  (declare (optimize (speed 3))\n",
    "           (type cons dims)\n",
    "           (type single-float df))\n",
    "  (let ((result (!gamma dims (/ df 2.0) 2.0)))\n",
    "    result))"
   ]
  },
  {
   "cell_type": "code",
   "execution_count": 81,
   "id": "2a3aeb88-aef8-40b0-bfaf-8856020a2e63",
   "metadata": {},
   "outputs": [
    {
     "data": {
      "text/plain": [
       "*ZIGGURAT-NORM*"
      ]
     },
     "execution_count": 82,
     "metadata": {},
     "output_type": "execute_result"
    },
    {
     "data": {
      "text/plain": [
       "*ZIGGURAT-EXP*"
      ]
     },
     "execution_count": 82,
     "metadata": {},
     "output_type": "execute_result"
    },
    {
     "data": {
      "text/plain": [
       "INIT-ZIGGURAT-TABLES"
      ]
     },
     "execution_count": 82,
     "metadata": {},
     "output_type": "execute_result"
    },
    {
     "name": "stderr",
     "output_type": "stream",
     "text": [
      "DIVISION-BY-ZERO: arithmetic error DIVISION-BY-ZERO signalled\n",
      "Operation was (/ 1.0 0.0).\n",
      "\n"
     ]
    },
    {
     "ename": "DIVISION-BY-ZERO",
     "evalue": "arithmetic error DIVISION-BY-ZERO signalled\nOperation was (/ 1.0 0.0).",
     "output_type": "error",
     "traceback": [
      "0: (SB-KERNEL:TWO-ARG-/ 1 0.0)",
      "1: (INIT-ZIGGURAT-TABLES)",
      "2: (JUPYTER/COMMON-LISP::EVAL-AND-PRINT (INIT-ZIGGURAT-TABLES) 3 NIL)",
      "3: ((:METHOD JUPYTER:EVALUATE-FORM (JUPYTER/COMMON-LISP:KERNEL T T T)) #<unused argument> #<FORM-TRACKING-STREAM for \"file /private/var/folders/0z/78dxt82s1ks803wxpkvbmmqw0000gn/T/4BED2454B18444C16703C3B443B5360A-1951862626.lisp\" {100C269433}> CELL:1951862626.LISP.NEWEST NIL #<unused argument> #<unused argument>)",
      "4: (JUPYTER/COMMON-LISP::REPL \n; Ziggurat Algorithm Constants\n(defparameter *ziggurat-norm* (make-array 257 :element-type 'single-float))\n(defparameter *ziggurat-exp* (make-array 257 :element-type 'single-float))\n\n(defun init-ziggurat-tables ()\n  (let ((r 3.4426199))\n    (loop for i fixnum from 0 below 256\n          do (progn\n                 (print (/ r (+ r (exp (- (/ 1.0 r))))))\n               (setf (aref *ziggurat-norm* i)\n                     (if (= i 0)\n                         (/ r (+ r (exp (- (/ 1.0 r)))))\n                         (exp (- (/ (aref *ziggurat-norm* (1- i)))))))\n               (setf (aref *ziggurat-exp* i)\n                     (if (= i 0)\n                         (* r (- 1.0 (log (/ r (+ r (exp (- (/ 1.0 r))))))))\n                         (- (aref *ziggurat-norm* (1- i))))))\n          finally (setf (aref *ziggurat-norm* 256) 0.0\n                        (aref *ziggurat-exp* 256) 0.0))))\n\n\n(init-ziggurat-tables)\n\n(defun !exp (dims lambda)\n  \"Initializes tensor with samples of exponential distribution using the Ziggurat algorithm.\n  Reference: Marsaglia, G., & Tsang, W. W. (2000). A simple method for generating gamma variables.\n  ACM Transactions on Mathematical Software (TOMS), 26(3), 363-372.\n  \n  Parameters:\n  dims   - The dimensions of the tensor.\n  lambda - The shape parameter of the exponential distribution.\"\n  (declare (optimize (speed 3))\n           (type cons dims)\n           (type single-float lambda))\n  (let* ((result (!zeros dims))\n         (size (!size result)))\n    (declare (type fixnum size))\n    (with-facet (array ((data result) 'backing-array :direction :output))\n      (declare (type (simple-array single-float) array))\n      (loop for i fixnum upfrom 0 below size\n            do (setf (aref array i)\n                     (/ (ziggurat-sample) lambda)))\n      result)))\n\n(defun ziggurat-sample ()\n  \"Generate a sample from the exponential distribution using the Ziggurat algorithm.\n  Reference: Marsaglia, G., & Tsang, W. W. (2000). A simple method for generating gamma variables.\n  ACM Transactions on Mathematical Software (TOMS), 26(3), 363-372.\"\n  (labels ((sample ()\n             (let* ((j (random 256))\n                    (u (random 1.0))\n                    (x (* u (aref *ziggurat-norm* j))))\n               (declare (type fixnum j))\n               (declare (type single-float u x))\n               (if (< x (aref *ziggurat-exp* j))\n                   x\n                   (if (< j 255)\n                       (if (< (abs (- x (aref *ziggurat-norm* j)))\n                              (abs (- x (aref *ziggurat-norm* (1+ j)))))\n                           (sample)\n                           (let ((y (exp (- 1.0 x))))\n                             (declare (type single-float y))\n                             (if (< (log (random 1.0)) y)\n                                 x\n                                 (sample))))\n                       (let ((y (- 1.0 (log (random 1.0)))))\n                         (declare (type single-float y))\n                         (if (< (log (random 1.0)) y)\n                             (+ x y)\n                             (sample))))))))\n    (sample)))\n\n\n(defun !gamma (dims k &optional (theta 1.0))\n  \"Initializes tensor with samples of gamma distribution using the Ziggurat algorithm.\n  Reference: Marsaglia, G., & Tsang, W. W. (2000). A simple method for generating gamma variables.\n  ACM Transactions on Mathematical Software (TOMS), 26(3), 363-372.\n  \n  Parameters:\n  dims   - The dimensions of the tensor.\n  k      - The shape parameter of the gamma distribution.\n  theta  - The scale parameter of the gamma distribution (default: 1.0).\"\n  (declare (optimize (speed 3))\n           (type cons dims)\n           (type single-float k theta))\n  (let* ((result (!zeros dims))\n         (size (!size result)))\n    (declare (type fixnum size))\n    (with-facet (array ((data result) 'backing-array :direction :output))\n      (declare (type (simple-array single-float) array))\n      (loop for i fixnum upfrom 0 below size\n            do (setf (aref array i)\n                     (* (ziggurat-sample-gamma k) theta)))\n      result)))\n\n(defun ziggurat-sample-gamma (k)\n  \"Generates a gamma-distributed random number using the Ziggurat algorithm.\n  Reference: Marsaglia, G., & Tsang, W. W. (2000). A simple method for generating gamma variables.\n  ACM Transactions on Mathematical Software (TOMS), 26(3), 363-372.\n  \n  Parameters:\n  k - The shape parameter of the gamma distribution.\"\n  (declare (optimize (speed 3))\n           (type single-float k))\n  (let* ((d (- (* 0.5 k) 1.0))\n        (c (+ 1.0 (/ 1.0 (sqrt (* 2.0 d)))))\n        (x 0.0)\n        (v 0.0))\n    (loop\n      (setq x (expt (/ (+ (ziggurat-sample) 1.0) 2.0) (/ 1.0 d)))\n      (setq v (* x c))\n      (when (< (random 1.0) (exp (- (* d (log v)) v)))\n        (return (* x x)))))) \n\n CELL:1951862626.LISP.NEWEST NIL)",
      "5: ((:METHOD JUPYTER:EVALUATE-CODE (JUPYTER/COMMON-LISP:KERNEL T)) #<unused argument> \n; Ziggurat Algorithm Constants\n(defparameter *ziggurat-norm* (make-array 257 :element-type 'single-float))\n(defparameter *ziggurat-exp* (make-array 257 :element-type 'single-float))\n\n(defun init-ziggurat-tables ()\n  (let ((r 3.4426199))\n    (loop for i fixnum from 0 below 256\n          do (progn\n                 (print (/ r (+ r (exp (- (/ 1.0 r))))))\n               (setf (aref *ziggurat-norm* i)\n                     (if (= i 0)\n                         (/ r (+ r (exp (- (/ 1.0 r)))))\n                         (exp (- (/ (aref *ziggurat-norm* (1- i)))))))\n               (setf (aref *ziggurat-exp* i)\n                     (if (= i 0)\n                         (* r (- 1.0 (log (/ r (+ r (exp (- (/ 1.0 r))))))))\n                         (- (aref *ziggurat-norm* (1- i))))))\n          finally (setf (aref *ziggurat-norm* 256) 0.0\n                        (aref *ziggurat-exp* 256) 0.0))))\n\n\n(init-ziggurat-tables)\n\n(defun !exp (dims lambda)\n  \"Initializes tensor with samples of exponential distribution using the Ziggurat algorithm.\n  Reference: Marsaglia, G., & Tsang, W. W. (2000). A simple method for generating gamma variables.\n  ACM Transactions on Mathematical Software (TOMS), 26(3), 363-372.\n  \n  Parameters:\n  dims   - The dimensions of the tensor.\n  lambda - The shape parameter of the exponential distribution.\"\n  (declare (optimize (speed 3))\n           (type cons dims)\n           (type single-float lambda))\n  (let* ((result (!zeros dims))\n         (size (!size result)))\n    (declare (type fixnum size))\n    (with-facet (array ((data result) 'backing-array :direction :output))\n      (declare (type (simple-array single-float) array))\n      (loop for i fixnum upfrom 0 below size\n            do (setf (aref array i)\n                     (/ (ziggurat-sample) lambda)))\n      result)))\n\n(defun ziggurat-sample ()\n  \"Generate a sample from the exponential distribution using the Ziggurat algorithm.\n  Reference: Marsaglia, G., & Tsang, W. W. (2000). A simple method for generating gamma variables.\n  ACM Transactions on Mathematical Software (TOMS), 26(3), 363-372.\"\n  (labels ((sample ()\n             (let* ((j (random 256))\n                    (u (random 1.0))\n                    (x (* u (aref *ziggurat-norm* j))))\n               (declare (type fixnum j))\n               (declare (type single-float u x))\n               (if (< x (aref *ziggurat-exp* j))\n                   x\n                   (if (< j 255)\n                       (if (< (abs (- x (aref *ziggurat-norm* j)))\n                              (abs (- x (aref *ziggurat-norm* (1+ j)))))\n                           (sample)\n                           (let ((y (exp (- 1.0 x))))\n                             (declare (type single-float y))\n                             (if (< (log (random 1.0)) y)\n                                 x\n                                 (sample))))\n                       (let ((y (- 1.0 (log (random 1.0)))))\n                         (declare (type single-float y))\n                         (if (< (log (random 1.0)) y)\n                             (+ x y)\n                             (sample))))))))\n    (sample)))\n\n\n(defun !gamma (dims k &optional (theta 1.0))\n  \"Initializes tensor with samples of gamma distribution using the Ziggurat algorithm.\n  Reference: Marsaglia, G., & Tsang, W. W. (2000). A simple method for generating gamma variables.\n  ACM Transactions on Mathematical Software (TOMS), 26(3), 363-372.\n  \n  Parameters:\n  dims   - The dimensions of the tensor.\n  k      - The shape parameter of the gamma distribution.\n  theta  - The scale parameter of the gamma distribution (default: 1.0).\"\n  (declare (optimize (speed 3))\n           (type cons dims)\n           (type single-float k theta))\n  (let* ((result (!zeros dims))\n         (size (!size result)))\n    (declare (type fixnum size))\n    (with-facet (array ((data result) 'backing-array :direction :output))\n      (declare (type (simple-array single-float) array))\n      (loop for i fixnum upfrom 0 below size\n            do (setf (aref array i)\n                     (* (ziggurat-sample-gamma k) theta)))\n      result)))\n\n(defun ziggurat-sample-gamma (k)\n  \"Generates a gamma-distributed random number using the Ziggurat algorithm.\n  Reference: Marsaglia, G., & Tsang, W. W. (2000). A simple method for generating gamma variables.\n  ACM Transactions on Mathematical Software (TOMS), 26(3), 363-372.\n  \n  Parameters:\n  k - The shape parameter of the gamma distribution.\"\n  (declare (optimize (speed 3))\n           (type single-float k))\n  (let* ((d (- (* 0.5 k) 1.0))\n        (c (+ 1.0 (/ 1.0 (sqrt (* 2.0 d)))))\n        (x 0.0)\n        (v 0.0))\n    (loop\n      (setq x (expt (/ (+ (ziggurat-sample) 1.0) 2.0) (/ 1.0 d)))\n      (setq v (* x c))\n      (when (< (random 1.0) (exp (- (* d (log v)) v)))\n        (return (* x x)))))) \n\n CELL:1951862626.LISP.NEWEST NIL)",
      "6: (JUPYTER::HANDLE-EXECUTE-REQUEST)",
      "7: (JUPYTER::RUN-SHELL #<KERNEL {10083F4313}>)",
      "8: ((LABELS BORDEAUX-THREADS::%BINDING-DEFAULT-SPECIALS-WRAPPER :IN BORDEAUX-THREADS::BINDING-DEFAULT-SPECIALS))",
      "9: ((FLET SB-UNIX::BODY :IN SB-THREAD::RUN))",
      "10: ((FLET \"WITHOUT-INTERRUPTS-BODY-11\" :IN SB-THREAD::RUN))",
      "11: ((FLET SB-UNIX::BODY :IN SB-THREAD::RUN))",
      "12: ((FLET \"WITHOUT-INTERRUPTS-BODY-4\" :IN SB-THREAD::RUN))",
      "13: (SB-THREAD::RUN)",
      "14: (\"foreign function: call_into_lisp\")",
      "15: (\"foreign function: funcall1\")"
     ]
    },
    {
     "name": "stdout",
     "output_type": "stream",
     "text": [
      "SB-KERNEL:REDEFINITION-WITH-DEFUN: redefining CL-WAFFE::INIT-ZIGGURAT-TABLES in DEFUN\n",
      "\n",
      "0.8215243 \n",
      "0.8215243 \n",
      "0.8215243 \n",
      "0.8215243 \n",
      "0.8215243 \n",
      "0.8215243 "
     ]
    }
   ],
   "source": [
    "\n",
    "; Ziggurat Algorithm Constants\n",
    "(defparameter *ziggurat-norm* (make-array 257 :element-type 'single-float))\n",
    "(defparameter *ziggurat-exp* (make-array 257 :element-type 'single-float))\n",
    "\n",
    "(defun init-ziggurat-tables ()\n",
    "  (let ((r 3.4426199))\n",
    "    (loop for i fixnum from 0 below 256\n",
    "          do (progn\n",
    "               (setf (aref *ziggurat-norm* i)\n",
    "                     (if (= i 0)\n",
    "                         (/ r (+ r (exp (- (/ 1.0 r)))))\n",
    "                         (exp (- (/ (aref *ziggurat-norm* (1- i)))))))\n",
    "               (setf (aref *ziggurat-exp* i)\n",
    "                     (if (= i 0)\n",
    "                         (* r (- 1.0 (log (/ r (+ r (exp (- (/ 1.0 r))))))))\n",
    "                         (- (aref *ziggurat-norm* (1- i))))))\n",
    "          finally (setf (aref *ziggurat-norm* 256) 0.0\n",
    "                        (aref *ziggurat-exp* 256) 0.0))))\n",
    "\n",
    "\n",
    "(init-ziggurat-tables)\n",
    "\n",
    "(defun !exp (dims lambda)\n",
    "  \"Initializes tensor with samples of exponential distribution using the Ziggurat algorithm.\n",
    "  Reference: Marsaglia, G., & Tsang, W. W. (2000). A simple method for generating gamma variables.\n",
    "  ACM Transactions on Mathematical Software (TOMS), 26(3), 363-372.\n",
    "  \n",
    "  Parameters:\n",
    "  dims   - The dimensions of the tensor.\n",
    "  lambda - The shape parameter of the exponential distribution.\"\n",
    "  (declare (optimize (speed 3))\n",
    "           (type cons dims)\n",
    "           (type single-float lambda))\n",
    "  (let* ((result (!zeros dims))\n",
    "         (size (!size result)))\n",
    "    (declare (type fixnum size))\n",
    "    (with-facet (array ((data result) 'backing-array :direction :output))\n",
    "      (declare (type (simple-array single-float) array))\n",
    "      (loop for i fixnum upfrom 0 below size\n",
    "            do (setf (aref array i)\n",
    "                     (/ (ziggurat-sample) lambda)))\n",
    "      result)))\n",
    "\n",
    "(defun ziggurat-sample ()\n",
    "  \"Generate a sample from the exponential distribution using the Ziggurat algorithm.\n",
    "  Reference: Marsaglia, G., & Tsang, W. W. (2000). A simple method for generating gamma variables.\n",
    "  ACM Transactions on Mathematical Software (TOMS), 26(3), 363-372.\"\n",
    "  (labels ((sample ()\n",
    "             (let* ((j (random 256))\n",
    "                    (u (random 1.0))\n",
    "                    (x (* u (aref *ziggurat-norm* j))))\n",
    "               (declare (type fixnum j))\n",
    "               (declare (type single-float u x))\n",
    "               (if (< x (aref *ziggurat-exp* j))\n",
    "                   x\n",
    "                   (if (< j 255)\n",
    "                       (if (< (abs (- x (aref *ziggurat-norm* j)))\n",
    "                              (abs (- x (aref *ziggurat-norm* (1+ j)))))\n",
    "                           (sample)\n",
    "                           (let ((y (exp (- 1.0 x))))\n",
    "                             (declare (type single-float y))\n",
    "                             (if (< (log (random 1.0)) y)\n",
    "                                 x\n",
    "                                 (sample))))\n",
    "                       (let ((y (- 1.0 (log (random 1.0)))))\n",
    "                         (declare (type single-float y))\n",
    "                         (if (< (log (random 1.0)) y)\n",
    "                             (+ x y)\n",
    "                             (sample))))))))\n",
    "    (sample)))\n",
    "\n",
    "\n",
    "(defun !gamma (dims k &optional (theta 1.0))\n",
    "  \"Initializes tensor with samples of gamma distribution using the Ziggurat algorithm.\n",
    "  Reference: Marsaglia, G., & Tsang, W. W. (2000). A simple method for generating gamma variables.\n",
    "  ACM Transactions on Mathematical Software (TOMS), 26(3), 363-372.\n",
    "  \n",
    "  Parameters:\n",
    "  dims   - The dimensions of the tensor.\n",
    "  k      - The shape parameter of the gamma distribution.\n",
    "  theta  - The scale parameter of the gamma distribution (default: 1.0).\"\n",
    "  (declare (optimize (speed 3))\n",
    "           (type cons dims)\n",
    "           (type single-float k theta))\n",
    "  (let* ((result (!zeros dims))\n",
    "         (size (!size result)))\n",
    "    (declare (type fixnum size))\n",
    "    (with-facet (array ((data result) 'backing-array :direction :output))\n",
    "      (declare (type (simple-array single-float) array))\n",
    "      (loop for i fixnum upfrom 0 below size\n",
    "            do (setf (aref array i)\n",
    "                     (* (ziggurat-sample-gamma k) theta)))\n",
    "      result)))\n",
    "\n",
    "(defun ziggurat-sample-gamma (k)\n",
    "  \"Generates a gamma-distributed random number using the Ziggurat algorithm.\n",
    "  Reference: Marsaglia, G., & Tsang, W. W. (2000). A simple method for generating gamma variables.\n",
    "  ACM Transactions on Mathematical Software (TOMS), 26(3), 363-372.\n",
    "  \n",
    "  Parameters:\n",
    "  k - The shape parameter of the gamma distribution.\"\n",
    "  (declare (optimize (speed 3))\n",
    "           (type single-float k))\n",
    "  (let* ((d (- (* 0.5 k) 1.0))\n",
    "        (c (+ 1.0 (/ 1.0 (sqrt (* 2.0 d)))))\n",
    "        (x 0.0)\n",
    "        (v 0.0))\n",
    "    (loop\n",
    "      (setq x (expt (/ (+ (ziggurat-sample) 1.0) 2.0) (/ 1.0 d)))\n",
    "      (setq v (* x c))\n",
    "      (when (< (random 1.0) (exp (- (* d (log v)) v)))\n",
    "        (return (* x x)))))) \n",
    "\n"
   ]
  },
  {
   "cell_type": "code",
   "execution_count": 88,
   "id": "f5338cf7-b1ac-42a0-8c10-47f335cc823a",
   "metadata": {},
   "outputs": [
    {
     "data": {
      "text/plain": [
       "*ZIGGURAT-NORM*"
      ]
     },
     "execution_count": 88,
     "metadata": {},
     "output_type": "execute_result"
    },
    {
     "data": {
      "text/plain": [
       "*ZIGGURAT-EXP*"
      ]
     },
     "execution_count": 88,
     "metadata": {},
     "output_type": "execute_result"
    },
    {
     "data": {
      "text/plain": [
       "INIT-ZIGGURAT-TABLES"
      ]
     },
     "execution_count": 88,
     "metadata": {},
     "output_type": "execute_result"
    },
    {
     "name": "stderr",
     "output_type": "stream",
     "text": [
      "DIVISION-BY-ZERO: arithmetic error DIVISION-BY-ZERO signalled\n",
      "Operation was (/ 1.0 0.0).\n",
      "\n"
     ]
    },
    {
     "ename": "DIVISION-BY-ZERO",
     "evalue": "arithmetic error DIVISION-BY-ZERO signalled\nOperation was (/ 1.0 0.0).",
     "output_type": "error",
     "traceback": [
      "0: (SB-KERNEL:TWO-ARG-/ 1.0 0.0)",
      "1: (INIT-ZIGGURAT-TABLES)",
      "2: (JUPYTER/COMMON-LISP::EVAL-AND-PRINT (INIT-ZIGGURAT-TABLES) 3 NIL)",
      "3: ((:METHOD JUPYTER:EVALUATE-FORM (JUPYTER/COMMON-LISP:KERNEL T T T)) #<unused argument> #<FORM-TRACKING-STREAM for \"file /private/var/folders/0z/78dxt82s1ks803wxpkvbmmqw0000gn/T/4BED2454B18444C16703C3B443B5360A-595474317.lisp\" {100C9FFCC3}> CELL:595474317.LISP.NEWEST NIL #<unused argument> #<unused argument>)",
      "4: (JUPYTER/COMMON-LISP::REPL ; Ziggurat Algorithm Constants\n(defparameter *ziggurat-norm* (make-array 257 :element-type 'single-float))\n(defparameter *ziggurat-exp* (make-array 257 :element-type 'single-float))\n\n(defun init-ziggurat-tables ()\n  (let ((r 3.4426199))\n    (loop for i fixnum from 0 below 256\n          do (progn\n               (setf (aref *ziggurat-norm* i)\n                     (if (= i 0)\n                         (/ r (+ r (exp (- (/ 1.0 r)))))\n                         (exp (- (/ 1.0 (aref *ziggurat-norm* (1- i)))))))\n               (setf (aref *ziggurat-exp* i)\n                     (if (= i 0)\n                         (* r (- 1.0 (log (/ r (+ r (exp (- (/ 1.0 r))))))))\n                         (- (aref *ziggurat-norm* (1- i))))))\n          finally (setf (aref *ziggurat-norm* 256) 0.0\n                        (aref *ziggurat-exp* 256) 0.0))))\n\n(init-ziggurat-tables) CELL:595474317.LISP.NEWEST NIL)",
      "5: ((:METHOD JUPYTER:EVALUATE-CODE (JUPYTER/COMMON-LISP:KERNEL T)) #<unused argument> ; Ziggurat Algorithm Constants\n(defparameter *ziggurat-norm* (make-array 257 :element-type 'single-float))\n(defparameter *ziggurat-exp* (make-array 257 :element-type 'single-float))\n\n(defun init-ziggurat-tables ()\n  (let ((r 3.4426199))\n    (loop for i fixnum from 0 below 256\n          do (progn\n               (setf (aref *ziggurat-norm* i)\n                     (if (= i 0)\n                         (/ r (+ r (exp (- (/ 1.0 r)))))\n                         (exp (- (/ 1.0 (aref *ziggurat-norm* (1- i)))))))\n               (setf (aref *ziggurat-exp* i)\n                     (if (= i 0)\n                         (* r (- 1.0 (log (/ r (+ r (exp (- (/ 1.0 r))))))))\n                         (- (aref *ziggurat-norm* (1- i))))))\n          finally (setf (aref *ziggurat-norm* 256) 0.0\n                        (aref *ziggurat-exp* 256) 0.0))))\n\n(init-ziggurat-tables) CELL:595474317.LISP.NEWEST NIL)",
      "6: (JUPYTER::HANDLE-EXECUTE-REQUEST)",
      "7: (JUPYTER::RUN-SHELL #<KERNEL {10083F4313}>)",
      "8: ((LABELS BORDEAUX-THREADS::%BINDING-DEFAULT-SPECIALS-WRAPPER :IN BORDEAUX-THREADS::BINDING-DEFAULT-SPECIALS))",
      "9: ((FLET SB-UNIX::BODY :IN SB-THREAD::RUN))",
      "10: ((FLET \"WITHOUT-INTERRUPTS-BODY-11\" :IN SB-THREAD::RUN))",
      "11: ((FLET SB-UNIX::BODY :IN SB-THREAD::RUN))",
      "12: ((FLET \"WITHOUT-INTERRUPTS-BODY-4\" :IN SB-THREAD::RUN))",
      "13: (SB-THREAD::RUN)",
      "14: (\"foreign function: call_into_lisp\")",
      "15: (\"foreign function: funcall1\")"
     ]
    },
    {
     "name": "stdout",
     "output_type": "stream",
     "text": [
      "SB-KERNEL:REDEFINITION-WITH-DEFUN: redefining CL-WAFFE::INIT-ZIGGURAT-TABLES in DEFUN\n"
     ]
    }
   ],
   "source": [
    "; Ziggurat Algorithm Constants\n",
    "(defparameter *ziggurat-norm* (make-array 257 :element-type 'single-float))\n",
    "(defparameter *ziggurat-exp* (make-array 257 :element-type 'single-float))\n",
    "\n",
    "(defun init-ziggurat-tables ()\n",
    "  (let ((r 3.4426199))\n",
    "    (loop for i fixnum from 0 below 256\n",
    "          do (progn\n",
    "               (setf (aref *ziggurat-norm* i)\n",
    "                     (if (= i 0)\n",
    "                         (/ r (+ r (exp (- (/ 1.0 r)))))\n",
    "                         (exp (- (/ 1.0 (aref *ziggurat-norm* (1- i)))))))\n",
    "               (setf (aref *ziggurat-exp* i)\n",
    "                     (if (= i 0)\n",
    "                         (* r (- 1.0 (log (/ r (+ r (exp (- (/ 1.0 r))))))))\n",
    "                         (- (aref *ziggurat-norm* (1- i))))))\n",
    "          finally (setf (aref *ziggurat-norm* 256) 0.0\n",
    "                        (aref *ziggurat-exp* 256) 0.0))))\n",
    "\n",
    "(init-ziggurat-tables)"
   ]
  },
  {
   "cell_type": "code",
   "execution_count": 71,
   "id": "b8e61ba6-d1d7-4337-a8d4-d8361ce4adc6",
   "metadata": {},
   "outputs": [
    {
     "name": "stderr",
     "output_type": "stream",
     "text": [
      "TYPE-ERROR: The value\n",
      "  #C(-0.027958516 0.017944627)\n",
      "is not of type\n",
      "  REAL\n",
      "\n"
     ]
    },
    {
     "ename": "TYPE-ERROR",
     "evalue": "The value\n  #C(-0.027958516 0.017944627)\nis not of type\n  REAL",
     "output_type": "error",
     "traceback": [
      "0: (SB-KERNEL:TWO-ARG-< 0.29758275 #C(-0.027958516 0.017944627))",
      "1: (SB-VM::GENERIC-<)",
      "2: (ZIGGURAT-SAMPLE-GAMMA #<unavailable argument>)",
      "3: ((LAMBDA (ARRAY) :IN !GAMMA) #(0.0 0.0 0.0 0.0 0.0 0.0 0.0 0.0 0.0 0.0 0.0 0.0 0.0 0.0 0.0 0.0 0.0 0.0 0.0 0.0 0.0 0.0 0.0 0.0 0.0 0.0 0.0 0.0 0.0 0.0 0.0 0.0 0.0 0.0 0.0 0.0 0.0 0.0 0.0 0.0 0.0 0.0 0.0 0.0 0.0 0.0 0.0 0.0 0.0 0.0 0.0 0.0 0.0 0.0 0.0 0.0 0.0 0.0 0.0 0.0 0.0 0.0 0.0 0.0 0.0 0.0 0.0 0.0 0.0 0.0 0.0 0.0 0.0 0.0 0.0 0.0 0.0 0.0 0.0 0.0 0.0 0.0 0.0 0.0 0.0 0.0 0.0 0.0 0.0 0.0 0.0 0.0 0.0 0.0 0.0 0.0 0.0 0.0 0.0 0.0))",
      "4: ((:METHOD MGL-CUBE:CALL-WITH-FACET* (MGL-CUBE:CUBE T T T)) #<VEC 100 L {100AC126B3}> LISP-VECTOR OUTPUT #<FUNCTION (LAMBDA (ARRAY) :IN !GAMMA) {100AC1289B}>)",
      "5: ((:METHOD MGL-CUBE:CALL-WITH-FACET* (MGL-CUBE:CUBE T T T)) #<MAT 10x10 B #2A((0.0 0.0 0.0 0.0 0.0 0.0 0.0 0.0 0.0 0.0) (0.0 0.0 0.0 0.0 0.0 0.0 0.0 0.0 0.0 0.0) (0.0 0.0 0.0 0.0 0.0 0.0 0.0 0.0 0.0 0.0) (0.0 0.0 0.0 0.0 0.0 0.0 0.0 0.0 0.0 0.0) (0.0 0.0 0.0 0.0 0.0 0.0 0.0 0.0 0.0 0.0) (0.0 0.0 0.0 0.0 0.0 0.0 0.0 0.0 0.0 0.0) (0.0 0.0 0.0 0.0 0.0 0.0 0.0 0.0 0.0 0.0) (0.0 0.0 0.0 0.0 0.0 0.0 0.0 0.0 0.0 0.0) (0.0 0.0 0.0 0.0 0.0 0.0 0.0 0.0 0.0 0.0) (0.0 0.0 0.0 0.0 0.0 0.0 0.0 0.0 0.0 0.0))> BACKING-ARRAY OUTPUT #<FUNCTION (LAMBDA (MGL-CUBE:FACET) :IN MGL-CUBE:CALL-WITH-FACET*) {100AC128CB}>)",
      "6: ((:METHOD MGL-CUBE:CALL-WITH-FACET* (MAT (EQL (QUOTE BACKING-ARRAY)) T T)) #<MAT 10x10 AB #2A((0.0 0.0 0.0 0.0 0.0 0.0 0.0 0.0 0.0 0.0) (0.0 0.0 0.0 0.0 0.0 0.0 0.0 0.0 0.0 0.0) (0.0 0.0 0.0 0.0 0.0 0.0 0.0 0.0 0.0 0.0) (0.0 0.0 0.0 0.0 0.0 0.0 0.0 0.0 0.0 0.0) (0.0 0.0 0.0 0.0 0.0 0.0 0.0 0.0 0.0 0.0) (0.0 0.0 0.0 0.0 0.0 0.0 0.0 0.0 0.0 0.0) (0.0 0.0 0.0 0.0 0.0 0.0 0.0 0.0 0.0 0.0) (0.0 0.0 0.0 0.0 0.0 0.0 0.0 0.0 0.0 0.0) (0.0 0.0 0.0 0.0 0.0 0.0 0.0 0.0 0.0 0.0) (0.0 0.0 0.0 0.0 0.0 0.0 0.0 0.0 0.0 0.0))> BACKING-ARRAY OUTPUT #<FUNCTION (LAMBDA (ARRAY) :IN !GAMMA) {100AC1289B}>)",
      "7: (JUPYTER/COMMON-LISP::EVAL-AND-PRINT (!GAMMA (QUOTE (10 10)) 0.5 THETA 2.0) 0 NIL)",
      "8: ((:METHOD JUPYTER:EVALUATE-FORM (JUPYTER/COMMON-LISP:KERNEL T T T)) #<unused argument> #<FORM-TRACKING-STREAM for \"file /private/var/folders/0z/78dxt82s1ks803wxpkvbmmqw0000gn/T/4BED2454B18444C16703C3B443B5360A-1329392944.lisp\" {100AC007B3}> CELL:1329392944.LISP.NEWEST NIL #<unused argument> #<unused argument>)",
      "9: (JUPYTER/COMMON-LISP::REPL (!gamma '(10 10) 0.5 :theta 2.0) CELL:1329392944.LISP.NEWEST NIL)",
      "10: ((:METHOD JUPYTER:EVALUATE-CODE (JUPYTER/COMMON-LISP:KERNEL T)) #<unused argument> (!gamma '(10 10) 0.5 :theta 2.0) CELL:1329392944.LISP.NEWEST NIL)",
      "11: (JUPYTER::HANDLE-EXECUTE-REQUEST)",
      "12: (JUPYTER::RUN-SHELL #<KERNEL {10083F4313}>)",
      "13: ((LABELS BORDEAUX-THREADS::%BINDING-DEFAULT-SPECIALS-WRAPPER :IN BORDEAUX-THREADS::BINDING-DEFAULT-SPECIALS))",
      "14: ((FLET SB-UNIX::BODY :IN SB-THREAD::RUN))",
      "15: ((FLET \"WITHOUT-INTERRUPTS-BODY-11\" :IN SB-THREAD::RUN))",
      "16: ((FLET SB-UNIX::BODY :IN SB-THREAD::RUN))",
      "17: ((FLET \"WITHOUT-INTERRUPTS-BODY-4\" :IN SB-THREAD::RUN))",
      "18: (SB-THREAD::RUN)",
      "19: (\"foreign function: call_into_lisp\")",
      "20: (\"foreign function: funcall1\")"
     ]
    },
    {
     "name": "stdout",
     "output_type": "stream",
     "text": [
      "SB-INT:SIMPLE-STYLE-WARNING: The function !GAMMA called with four arguments, but wants at most three.\n"
     ]
    }
   ],
   "source": [
    "(!gamma '(10 10) 0.5 :theta 2.0)"
   ]
  },
  {
   "cell_type": "code",
   "execution_count": null,
   "id": "27abb28b-907d-4058-983c-229006606514",
   "metadata": {},
   "outputs": [],
   "source": []
  }
 ],
 "metadata": {
  "kernelspec": {
   "display_name": "Common Lisp",
   "language": "common-lisp",
   "name": "common-lisp"
  },
  "language_info": {
   "codemirror_mode": "text/x-common-lisp",
   "file_extension": ".lisp",
   "mimetype": "text/x-common-lisp",
   "name": "common-lisp",
   "pygments_lexer": "common-lisp",
   "version": "2.1.0"
  }
 },
 "nbformat": 4,
 "nbformat_minor": 5
}
