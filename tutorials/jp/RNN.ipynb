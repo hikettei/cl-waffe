{
 "cells": [
  {
   "cell_type": "code",
   "execution_count": 1,
   "id": "28aceae3-385f-4cb7-a348-21c92844f712",
   "metadata": {},
   "outputs": [
    {
     "data": {
      "text/plain": [
       "T"
      ]
     },
     "execution_count": 1,
     "metadata": {},
     "output_type": "execute_result"
    },
    {
     "data": {
      "text/plain": [
       "T"
      ]
     },
     "execution_count": 1,
     "metadata": {},
     "output_type": "execute_result"
    },
    {
     "data": {
      "text/plain": [
       "(:CLGPLOT :CL-WAFFE)"
      ]
     },
     "execution_count": 1,
     "metadata": {},
     "output_type": "execute_result"
    },
    {
     "name": "stdout",
     "output_type": "stream",
     "text": [
      "SB-INT:SIMPLE-STYLE-WARNING: undefined function: KFTT-DATA-PARSER::REGISTER-WORD\n",
      "SB-INT:SIMPLE-STYLE-WARNING: undefined function: KFTT-DATA-PARSER:CALC-DATA-SIZE\n",
      "SB-INT:SIMPLE-STYLE-WARNING: undefined function: KFTT-DATA-PARSER:CALC-MAX-LENGTH\n"
     ]
    },
    {
     "name": "stderr",
     "output_type": "stream",
     "text": [
      "Unable to find framework CUDA\n"
     ]
    }
   ],
   "source": [
    "; cl-waffeを読み込む\n",
    "(load \"../../cl-waffe.asd\")\n",
    "; kfttを読み込むための自作ライブラリ\n",
    "(load \"../../examples/kftt-data-parser.lisp\")\n",
    "(ql:quickload `(:clgplot :cl-waffe) :silent t)"
   ]
  },
  {
   "cell_type": "markdown",
   "id": "11b7bb8e-b93e-4ba9-b38d-3a7c95b11dfc",
   "metadata": {},
   "source": [
    "## Seq2Seqを用いてKFTTを学習\n",
    "\n",
    "cl-waffeのRNNを用いて[京都フリー翻訳タスク (KFTT)](http://www.phontron.com/kftt/index-ja.html#leaders)を学習させる例です。\n",
    "\n",
    "学習データのダウンロード (0.4GB程度の容量が必要です。)\n",
    "```shell\n",
    "$ curl -O http://www.phontron.com/kftt/download/kftt-data-1.0.tar.gz\n",
    "$ tar xzvf kftt-data-1.0.tar.gz\n",
    "```"
   ]
  },
  {
   "cell_type": "code",
   "execution_count": 2,
   "id": "6223cd18-6d07-44db-be74-0401e5df8dc2",
   "metadata": {},
   "outputs": [
    {
     "data": {
      "text/plain": [
       "#<PACKAGE \"SEQ2SEQ-KFTT\">"
      ]
     },
     "execution_count": 2,
     "metadata": {},
     "output_type": "execute_result"
    },
    {
     "data": {
      "text/plain": [
       "#<PACKAGE \"SEQ2SEQ-KFTT\">"
      ]
     },
     "execution_count": 2,
     "metadata": {},
     "output_type": "execute_result"
    }
   ],
   "source": [
    "(defpackage :seq2seq-kftt\n",
    "    (:use :cl :cl-waffe :cl-waffe.nn :clgplot :mgl-mat :kftt-data-parser))\n",
    "\n",
    "(in-package :seq2seq-kftt)"
   ]
  },
  {
   "cell_type": "markdown",
   "id": "12a48b47-180a-4f42-91ea-d1d1ba0aa3b9",
   "metadata": {},
   "source": [
    "### Seq2Seq\n",
    "\n",
    "Seq2Seq\n",
    "\n",
    "問題："
   ]
  },
  {
   "cell_type": "markdown",
   "id": "343b1d63-d11b-4bfc-b1aa-2394d291f42b",
   "metadata": {},
   "source": [
    "### Seq2Seqモデルを定義する。"
   ]
  },
  {
   "cell_type": "code",
   "execution_count": 3,
   "id": "b84e8642-7b38-4337-b4c5-285154147e9e",
   "metadata": {},
   "outputs": [
    {
     "data": {
      "text/plain": [
       "NIL"
      ]
     },
     "execution_count": 3,
     "metadata": {},
     "output_type": "execute_result"
    },
    {
     "data": {
      "text/plain": [
       "NIL"
      ]
     },
     "execution_count": 3,
     "metadata": {},
     "output_type": "execute_result"
    },
    {
     "data": {
      "text/plain": [
       "NIL"
      ]
     },
     "execution_count": 3,
     "metadata": {},
     "output_type": "execute_result"
    },
    {
     "name": "stdout",
     "output_type": "stream",
     "text": [
      "SB-INT:SIMPLE-STYLE-WARNING: Cannot find type for specializer\n",
      "                             SEQ2SEQ-KFTT::ENCODER when executing\n",
      "                             SB-PCL:SPECIALIZER-TYPE-SPECIFIER for a\n",
      "                             STANDARD-METHOD of a STANDARD-GENERIC-FUNCTION.\n",
      "SB-INT:SIMPLE-STYLE-WARNING: Cannot find type for specializer\n",
      "                             SEQ2SEQ-KFTT::ENCODER when executing\n",
      "                             SB-PCL:SPECIALIZER-TYPE-SPECIFIER for a\n",
      "                             STANDARD-METHOD of a STANDARD-GENERIC-FUNCTION.\n",
      "SB-INT:SIMPLE-STYLE-WARNING: Cannot find type for specializer\n",
      "                             SEQ2SEQ-KFTT::ENCODER when executing\n",
      "                             SB-PCL:SPECIALIZER-TYPE-SPECIFIER for a\n",
      "                             STANDARD-METHOD of a STANDARD-GENERIC-FUNCTION.\n",
      "SB-INT:SIMPLE-STYLE-WARNING: undefined type: SEQ2SEQ-KFTT::ENCODER\n",
      "SB-INT:SIMPLE-STYLE-WARNING: Cannot find type for specializer\n",
      "                             SEQ2SEQ-KFTT::DECODER when executing\n",
      "                             SB-PCL:SPECIALIZER-TYPE-SPECIFIER for a\n",
      "                             STANDARD-METHOD of a STANDARD-GENERIC-FUNCTION.\n",
      "SB-INT:SIMPLE-STYLE-WARNING: Cannot find type for specializer\n",
      "                             SEQ2SEQ-KFTT::DECODER when executing\n",
      "                             SB-PCL:SPECIALIZER-TYPE-SPECIFIER for a\n",
      "                             STANDARD-METHOD of a STANDARD-GENERIC-FUNCTION.\n",
      "SB-INT:SIMPLE-STYLE-WARNING: Cannot find type for specializer\n",
      "                             SEQ2SEQ-KFTT::DECODER when executing\n",
      "                             SB-PCL:SPECIALIZER-TYPE-SPECIFIER for a\n",
      "                             STANDARD-METHOD of a STANDARD-GENERIC-FUNCTION.\n",
      "SB-INT:SIMPLE-STYLE-WARNING: undefined type: SEQ2SEQ-KFTT::DECODER\n",
      "SB-INT:SIMPLE-STYLE-WARNING: Cannot find type for specializer\n",
      "                             SEQ2SEQ-KFTT::SEQ2SEQ when executing\n",
      "                             SB-PCL:SPECIALIZER-TYPE-SPECIFIER for a\n",
      "                             STANDARD-METHOD of a STANDARD-GENERIC-FUNCTION.\n",
      "SB-INT:SIMPLE-STYLE-WARNING: Cannot find type for specializer\n",
      "                             SEQ2SEQ-KFTT::SEQ2SEQ when executing\n",
      "                             SB-PCL:SPECIALIZER-TYPE-SPECIFIER for a\n",
      "                             STANDARD-METHOD of a STANDARD-GENERIC-FUNCTION.\n",
      "SB-INT:SIMPLE-STYLE-WARNING: Cannot find type for specializer\n",
      "                             SEQ2SEQ-KFTT::SEQ2SEQ when executing\n",
      "                             SB-PCL:SPECIALIZER-TYPE-SPECIFIER for a\n",
      "                             STANDARD-METHOD of a STANDARD-GENERIC-FUNCTION.\n",
      "SB-INT:SIMPLE-STYLE-WARNING: undefined type: SEQ2SEQ-KFTT::SEQ2SEQ\n"
     ]
    }
   ],
   "source": [
    "(defmodel Encoder (vocab-size embedding-dim hidden-size)\n",
    "  :parameters ((embedding (Embedding vocab-size embedding-dim :pad-idx 0))\n",
    "               (layer     (RNN embedding-dim hidden-size :num-layers 1)))\n",
    "  :forward ((x)\n",
    "            (with-calling-layers x\n",
    "                (embedding x)\n",
    "                (layer x))))\n",
    "\n",
    "(defmodel Decoder (vocab-size embedding-dim hidden-size)\n",
    "  :parameters ((embedding (Embedding vocab-size embedding-dim :pad-idx 0))\n",
    "               (layer     (RNN embedding-dim hidden-size :num-layers 1))\n",
    "               (h2l       (linearlayer hidden-size vocab-size)))\n",
    "  :forward ((encoder-state y)\n",
    "            (let* ((ye (call (self embedding) y))\n",
    "                   (hs (call (self layer) ye encoder-state))\n",
    "                   (h-output (call (self h2l) hs)))\n",
    "                  (list h-output hs))))\n",
    "\n",
    "(defmodel Seq2Seq (vocab-size-lang1 vocab-size-lang2 embedding-dim input-size)\n",
    "  :parameters ((encoder (Encoder vocab-size-lang1 embedding-dim input-size))\n",
    "               (decoder (Decoder vocab-size-lang2 embedding-dim input-size)))  \n",
    "  :forward ((x y)\n",
    "            (let ((x-state (call (self encoder) x))\n",
    "                  (y1 (!zeros (!shape y))))\n",
    "                 (setq y1 (setf (!aref y1 t) (!aref y '(1 t))))\n",
    "                 (call (self decoder) x-state y1))))\n"
   ]
  },
  {
   "cell_type": "markdown",
   "id": "cd0d5cfd-d560-402b-8ea3-3f8df6a0f5bb",
   "metadata": {},
   "source": [
    "### パラメーターの設定"
   ]
  },
  {
   "cell_type": "code",
   "execution_count": 4,
   "id": "ed1fc44e-f0b0-4ebe-af27-db2ddffcad07",
   "metadata": {},
   "outputs": [
    {
     "data": {
      "text/plain": [
       "LANG1"
      ]
     },
     "execution_count": 4,
     "metadata": {},
     "output_type": "execute_result"
    },
    {
     "data": {
      "text/plain": [
       "LANG2"
      ]
     },
     "execution_count": 4,
     "metadata": {},
     "output_type": "execute_result"
    },
    {
     "data": {
      "text/plain": [
       "BATCH-SIZE"
      ]
     },
     "execution_count": 4,
     "metadata": {},
     "output_type": "execute_result"
    },
    {
     "data": {
      "text/plain": [
       "EPOCH-NUM"
      ]
     },
     "execution_count": 4,
     "metadata": {},
     "output_type": "execute_result"
    },
    {
     "data": {
      "text/plain": [
       "LR"
      ]
     },
     "execution_count": 4,
     "metadata": {},
     "output_type": "execute_result"
    },
    {
     "data": {
      "text/plain": [
       "EMBEDDING-DIM"
      ]
     },
     "execution_count": 4,
     "metadata": {},
     "output_type": "execute_result"
    },
    {
     "data": {
      "text/plain": [
       "HIDDEN-SIZE"
      ]
     },
     "execution_count": 4,
     "metadata": {},
     "output_type": "execute_result"
    },
    {
     "data": {
      "text/plain": [
       "SENTENCE-MAXLEN"
      ]
     },
     "execution_count": 4,
     "metadata": {},
     "output_type": "execute_result"
    }
   ],
   "source": [
    "(defparameter lang1 :ja)\n",
    "(defparameter lang2 :en)\n",
    "\n",
    "(defparameter batch-size 16)\n",
    "(defparameter epoch-num 2)\n",
    "(defparameter lr 1e-4)\n",
    "(defparameter embedding-dim 16)\n",
    "(defparameter hidden-size 32)\n",
    "\n",
    "(defparameter sentence-maxlen 16)\n",
    "; ja -> en"
   ]
  },
  {
   "cell_type": "code",
   "execution_count": 5,
   "id": "f79b61b5-bd26-4256-8fdc-63cb516c7523",
   "metadata": {},
   "outputs": [
    {
     "data": {
      "text/plain": [
       "NIL"
      ]
     },
     "execution_count": 5,
     "metadata": {},
     "output_type": "execute_result"
    },
    {
     "name": "stdout",
     "output_type": "stream",
     "text": [
      "SB-INT:SIMPLE-STYLE-WARNING: Cannot find type for specializer\n",
      "                             SEQ2SEQ-KFTT::SEQ2SEQTRAINER when executing\n",
      "                             SB-PCL:SPECIALIZER-TYPE-SPECIFIER for a\n",
      "                             STANDARD-METHOD of a STANDARD-GENERIC-FUNCTION.\n",
      "SB-INT:SIMPLE-STYLE-WARNING: Cannot find type for specializer\n",
      "                             SEQ2SEQ-KFTT::SEQ2SEQTRAINER when executing\n",
      "                             SB-PCL:SPECIALIZER-TYPE-SPECIFIER for a\n",
      "                             STANDARD-METHOD of a STANDARD-GENERIC-FUNCTION.\n",
      "SB-INT:SIMPLE-STYLE-WARNING: Cannot find type for specializer\n",
      "                             SEQ2SEQ-KFTT::SEQ2SEQTRAINER when executing\n",
      "                             SB-PCL:SPECIALIZER-TYPE-SPECIFIER for a\n",
      "                             STANDARD-METHOD of a STANDARD-GENERIC-FUNCTION.\n"
     ]
    }
   ],
   "source": [
    "(deftrainer Seq2SeqTrainer (vocab-size-lang1 vocab-size-lang2 embedding-dim hidden-size)\n",
    "  :model (Seq2Seq vocab-size-lang1 vocab-size-lang2 embedding-dim hidden-size)\n",
    "  :optimizer cl-waffe.optimizers:Adam\n",
    "  :optimizer-args (:lr lr)\n",
    "  :step-model ((x y)\n",
    "               (zero-grad)\n",
    "               (let* ((outs (call (self model) x y))\n",
    "                      (out (softmax-cross-entropy (car outs) y)))\n",
    "                     (backward out)\n",
    "                     (update)\n",
    "                     out))\n",
    "  :predict ((x y) (call (model) x y))) ; todo"
   ]
  },
  {
   "cell_type": "markdown",
   "id": "78f80580-0318-47a9-8942-1910518eea12",
   "metadata": {},
   "source": [
    "### データの前処理\n",
    "\n",
    "語彙数削減のためSentencePieceを用いる（TODO)\n",
    "\n",
    "文字数でソートしてPaddingのコストを減らす（TODO)"
   ]
  },
  {
   "cell_type": "code",
   "execution_count": 6,
   "id": "9fb98f9b-5c19-4436-ab9e-53a09f898403",
   "metadata": {},
   "outputs": [
    {
     "data": {
      "text/plain": [
       "I2W-LANG1"
      ]
     },
     "execution_count": 6,
     "metadata": {},
     "output_type": "execute_result"
    },
    {
     "data": {
      "text/plain": [
       "I2W-LANG2"
      ]
     },
     "execution_count": 6,
     "metadata": {},
     "output_type": "execute_result"
    },
    {
     "data": {
      "text/plain": [
       "\"Vocab_Size: \n",
       " Lang1: 4519 \n",
       " Lang2: 4780\""
      ]
     },
     "execution_count": 6,
     "metadata": {},
     "output_type": "execute_result"
    }
   ],
   "source": [
    "; 辞書データを作る\n",
    "(multiple-value-bind (lang1-w2i lang1-i2w) (collect-tokens :dev lang1 T)\n",
    "    (defparameter w2i-lang1 lang1-w2i)\n",
    "    (defparameter i2w-lang1 lang1-i2w))\n",
    "\n",
    "(multiple-value-bind (lang2-w2i lang2-i2w) (collect-tokens :dev lang2 T)\n",
    "    (defparameter w2i-lang2 lang2-w2i)\n",
    "    (defparameter i2w-lang2 lang2-i2w))\n",
    "\n",
    ";w2i: Hash Table, 単語(英語+日本語) -> Index, i2w: Index -> 単語\n",
    "\n",
    "(format nil \"Vocab_Size: ~% Lang1: ~a ~% Lang2: ~a\" (hash-table-count w2i-lang1) (hash-table-count w2i-lang2))"
   ]
  },
  {
   "cell_type": "code",
   "execution_count": 7,
   "id": "e8ebac4a-e309-4387-92ba-0085572832df",
   "metadata": {},
   "outputs": [
    {
     "data": {
      "text/plain": [
       "SPLIT"
      ]
     },
     "execution_count": 7,
     "metadata": {},
     "output_type": "execute_result"
    },
    {
     "data": {
      "text/plain": [
       "LIST-TO-TENSOR"
      ]
     },
     "execution_count": 7,
     "metadata": {},
     "output_type": "execute_result"
    },
    {
     "data": {
      "text/plain": [
       "WORDS-INTO-IDX"
      ]
     },
     "execution_count": 7,
     "metadata": {},
     "output_type": "execute_result"
    },
    {
     "data": {
      "text/plain": [
       "MAKE-TRAIN-DATA"
      ]
     },
     "execution_count": 7,
     "metadata": {},
     "output_type": "execute_result"
    },
    {
     "data": {
      "text/plain": [
       "DROPOUT-BY-SENTENCE-LEN"
      ]
     },
     "execution_count": 7,
     "metadata": {},
     "output_type": "execute_result"
    }
   ],
   "source": [
    "; 文字列操作のユーティリティ\n",
    "\n",
    "(defun split (x str)\n",
    "  (let ((pos (search x str))\n",
    "        (size (length x)))\n",
    "    (if pos\n",
    "      (cons (subseq str 0 pos)\n",
    "            (split x (subseq str (+ pos size))))\n",
    "      (list str))))\n",
    "\n",
    "(defun list-to-tensor (list)\n",
    "    (const (make-mat (length list) :initial-contents list)))\n",
    "\n",
    "(defun words-into-idx (words lang)\n",
    "    \"words: 単語のList, (e.g.: 臨済 宗 （ 臨濟 宗 、)... )\n",
    "     lang : :ja or :en\"\n",
    "    \n",
    "    (list-to-tensor\n",
    "     (map 'list #'(lambda (word)\n",
    "                          (cond\n",
    "                              ((eql lang lang1)\n",
    "                               (or (gethash word w2i-lang1)\n",
    "                                   (gethash \"<UNK>\" w2i-lang1)))\n",
    "                              ((eql lang lang2)\n",
    "                               (or (gethash word w2i-lang1)\n",
    "                                   (gethash \"<UNK>\" w2i-lang2)))\n",
    "                              (T (error \"\")))) `(\"<BOS>\" ,@words \"<EOS>\"))))\n",
    "\n",
    "(defun make-train-data (language data-type)\n",
    "    \"Language: 言語\n",
    "     data-type: :train or :test\"\n",
    "    \n",
    "    (let ((result nil))\n",
    "         (time (with-open-kftt-file line :tok data-type language\n",
    "                   (push\n",
    "                    (words-into-idx (split \" \" line) language)\n",
    "                    result)))\n",
    "         (reverse result)))\n",
    "\n",
    "(defun dropout-by-sentence-len (tx ty &aux r1 r2)\n",
    "    \"train_X, train_Yで、sentence-maxlen以上のデータセットを削除する\"\n",
    "    (loop for i fixnum upfrom 0 below (length tx)\n",
    "          unless (or (>= (!size (nth i tx)) sentence-maxlen)\n",
    "                     (>= (!size (nth i ty)) sentence-maxlen))\n",
    "          do (progn\n",
    "                 (push (nth i tx) r1)\n",
    "                 (push (nth i ty) r2)))\n",
    "    (values (reverse r1) (reverse r2)))"
   ]
  },
  {
   "cell_type": "code",
   "execution_count": 8,
   "id": "9c47179e-1ade-4ea5-8eda-73d8350423ce",
   "metadata": {},
   "outputs": [
    {
     "data": {
      "text/plain": [
       "TRAIN_X"
      ]
     },
     "execution_count": 8,
     "metadata": {},
     "output_type": "execute_result"
    },
    {
     "data": {
      "text/plain": [
       "1166"
      ]
     },
     "execution_count": 8,
     "metadata": {},
     "output_type": "execute_result"
    },
    {
     "name": "stdout",
     "output_type": "stream",
     "text": [
      "Evaluation took:\n",
      "  0.072 seconds of real time\n",
      "  0.046378 seconds of total run time (0.041804 user, 0.004574 system)\n",
      "  63.89% CPU\n",
      "  119 lambdas converted\n",
      "  167,464,018 processor cycles\n",
      "  15,401,760 bytes consed\n",
      "  \n"
     ]
    }
   ],
   "source": [
    "(defparameter train_X (make-train-data lang1 :dev))\n",
    "(length train_X)"
   ]
  },
  {
   "cell_type": "code",
   "execution_count": 9,
   "id": "a0d35f56-d0ef-4501-af6a-8cb1ec252ae9",
   "metadata": {},
   "outputs": [
    {
     "data": {
      "text/plain": [
       "TRAIN_Y"
      ]
     },
     "execution_count": 9,
     "metadata": {},
     "output_type": "execute_result"
    },
    {
     "name": "stdout",
     "output_type": "stream",
     "text": [
      "Evaluation took:\n",
      "  0.035 seconds of real time\n",
      "  0.024946 seconds of total run time (0.023610 user, 0.001336 system)\n",
      "  71.43% CPU\n",
      "  82,265,296 processor cycles\n",
      "  14,774,976 bytes consed\n",
      "  \n"
     ]
    }
   ],
   "source": [
    "(defparameter train_Y (make-train-data lang2 :dev))"
   ]
  },
  {
   "cell_type": "code",
   "execution_count": 10,
   "id": "fe2bedf6-8243-4659-8966-b79ea75bd057",
   "metadata": {},
   "outputs": [
    {
     "data": {
      "text/plain": [
       "TRAIN_Y"
      ]
     },
     "execution_count": 10,
     "metadata": {},
     "output_type": "execute_result"
    },
    {
     "data": {
      "text/plain": [
       "480"
      ]
     },
     "execution_count": 10,
     "metadata": {},
     "output_type": "execute_result"
    }
   ],
   "source": [
    "(multiple-value-bind (x y) (dropout-by-sentence-len train_X train_Y)\n",
    "    (defparameter train_X x)\n",
    "    (defparameter train_Y y))\n",
    "\n",
    "(length train_X)"
   ]
  },
  {
   "cell_type": "code",
   "execution_count": 11,
   "id": "e706a0b9-71cb-465b-9e39-1aff47e9b305",
   "metadata": {},
   "outputs": [
    {
     "data": {
      "text/plain": [
       "TEST_X"
      ]
     },
     "execution_count": 11,
     "metadata": {},
     "output_type": "execute_result"
    },
    {
     "data": {
      "text/plain": [
       "TEST_Y"
      ]
     },
     "execution_count": 11,
     "metadata": {},
     "output_type": "execute_result"
    },
    {
     "name": "stdout",
     "output_type": "stream",
     "text": [
      "Evaluation took:\n",
      "  0.040 seconds of real time\n",
      "  0.026336 seconds of total run time (0.024347 user, 0.001989 system)\n",
      "  65.00% CPU\n",
      "  94,278,042 processor cycles\n",
      "  10,381,328 bytes consed\n",
      "  \n",
      "Evaluation took:\n",
      "  0.057 seconds of real time\n",
      "  0.038740 seconds of total run time (0.030421 user, 0.008319 system)\n",
      "  68.42% CPU\n",
      "  132,406,198 processor cycles\n",
      "  14,788,704 bytes consed\n",
      "  \n"
     ]
    }
   ],
   "source": [
    "(defparameter test_X (make-train-data lang1 :dev))\n",
    "(defparameter test_Y (make-train-data lang2 :dev))"
   ]
  },
  {
   "cell_type": "code",
   "execution_count": 12,
   "id": "1ae4f108-89ba-418a-90bd-d35602e84d42",
   "metadata": {},
   "outputs": [
    {
     "data": {
      "text/plain": [
       "TEST_Y"
      ]
     },
     "execution_count": 12,
     "metadata": {},
     "output_type": "execute_result"
    },
    {
     "data": {
      "text/plain": [
       "480"
      ]
     },
     "execution_count": 12,
     "metadata": {},
     "output_type": "execute_result"
    }
   ],
   "source": [
    "(multiple-value-bind (x y) (dropout-by-sentence-len test_X test_Y)\n",
    "    (defparameter test_X x)\n",
    "    (defparameter test_Y y))\n",
    "\n",
    "(length test_X)"
   ]
  },
  {
   "cell_type": "markdown",
   "id": "9a5267dd-08f0-4162-8142-d0ac9a7e3eb7",
   "metadata": {},
   "source": [
    "### データセットを定義する\n",
    "\n"
   ]
  },
  {
   "cell_type": "code",
   "execution_count": 13,
   "id": "b1e560b4-04c6-46f3-8d2c-1786ed7b4879",
   "metadata": {},
   "outputs": [
    {
     "data": {
      "text/plain": [
       "NIL"
      ]
     },
     "execution_count": 13,
     "metadata": {},
     "output_type": "execute_result"
    },
    {
     "name": "stdout",
     "output_type": "stream",
     "text": [
      "SB-INT:SIMPLE-STYLE-WARNING: Cannot find type for specializer\n",
      "                             SEQ2SEQ-KFTT::KFTT-DATASET when executing\n",
      "                             SB-PCL:SPECIALIZER-TYPE-SPECIFIER for a\n",
      "                             STANDARD-METHOD of a STANDARD-GENERIC-FUNCTION.\n",
      "SB-INT:SIMPLE-STYLE-WARNING: Cannot find type for specializer\n",
      "                             SEQ2SEQ-KFTT::KFTT-DATASET when executing\n",
      "                             SB-PCL:SPECIALIZER-TYPE-SPECIFIER for a\n",
      "                             STANDARD-METHOD of a STANDARD-GENERIC-FUNCTION.\n",
      "SB-INT:SIMPLE-STYLE-WARNING: Cannot find type for specializer\n",
      "                             SEQ2SEQ-KFTT::KFTT-DATASET when executing\n",
      "                             SB-PCL:SPECIALIZER-TYPE-SPECIFIER for a\n",
      "                             STANDARD-METHOD of a STANDARD-GENERIC-FUNCTION.\n"
     ]
    }
   ],
   "source": [
    "(defdataset KFTT-Dataset (x y batch-size)\n",
    "    :parameters ((x x)\n",
    "                 (y y)\n",
    "                 (batch-size batch-size))\n",
    "    :next ((index)\n",
    "           \"Returns (list X[index:(+ index batch-size)] Y[index:(+ index batch-size)])\"\n",
    "           (let* ((batch-size (self batch-size))\n",
    "                  (end (min (length (self x)) (+ index (self batch-size))))\n",
    "                  (x (loop for i fixnum upfrom index below end\n",
    "                           collect (nth i (self x))))\n",
    "                  (y (loop for i fixnum upfrom index below end\n",
    "                           collect (nth i (self y))))\n",
    "                  (batch-maxlen (max (apply #'max (map 'list #'!size x))\n",
    "                                     (apply #'max (map 'list #'!size y))))\n",
    "                  (result-x (!zeros `(,(length x) ,batch-maxlen)))\n",
    "                  (result-y (!zeros `(,(length y) ,batch-maxlen))))\n",
    "                 \n",
    "                 (dotimes (index (1- (the fixnum (length x))))\n",
    "                     (setf (!aref result-x index `(0 ,(!size (nth index x)))) (nth index x))\n",
    "                     (setf (!aref result-y index `(0 ,(!size (nth index y)))) (nth index y)))\n",
    "                 (list result-x result-y)))\n",
    "    :length (() (length (self x))))"
   ]
  },
  {
   "cell_type": "code",
   "execution_count": 14,
   "id": "5cdfa20c-172c-41dc-97fd-991b2204bea3",
   "metadata": {},
   "outputs": [
    {
     "data": {
      "text/plain": [
       "*TRAIN-DATASET*"
      ]
     },
     "execution_count": 14,
     "metadata": {},
     "output_type": "execute_result"
    },
    {
     "data": {
      "text/plain": [
       "*TEST-DATASET*"
      ]
     },
     "execution_count": 14,
     "metadata": {},
     "output_type": "execute_result"
    },
    {
     "data": {
      "text/plain": [
       "NIL"
      ]
     },
     "execution_count": 14,
     "metadata": {},
     "output_type": "execute_result"
    },
    {
     "name": "stdout",
     "output_type": "stream",
     "text": [
      "Evaluation took:\n",
      "  0.082 seconds of real time\n",
      "  0.057887 seconds of total run time (0.049851 user, 0.008036 system)\n",
      "  70.73% CPU\n",
      "  99 lambdas converted\n",
      "  189,417,444 processor cycles\n",
      "  13,946,576 bytes consed\n",
      "  \n"
     ]
    }
   ],
   "source": [
    "(defparameter *train-dataset* (KFTT-Dataset train_x train_y batch-size))\n",
    "(defparameter *test-dataset*  (KFTT-Dataset test_x test_y batch-size))\n",
    "\n",
    "(time (dotimes (i 100) (get-dataset *train-dataset* 0)))"
   ]
  },
  {
   "cell_type": "code",
   "execution_count": 15,
   "id": "ecef0322-f2a9-4dfb-9c46-c9d173013dae",
   "metadata": {},
   "outputs": [
    {
     "data": {
      "text/plain": [
       "TRAINER"
      ]
     },
     "execution_count": 15,
     "metadata": {},
     "output_type": "execute_result"
    },
    {
     "data": {
      "text/plain": [
       "<Trainer: SEQ2SEQTRAINER()>"
      ]
     },
     "execution_count": 15,
     "metadata": {},
     "output_type": "execute_result"
    }
   ],
   "source": [
    "(defparameter trainer (seq2seqtrainer (hash-table-count w2i-lang1)\n",
    "                                      (hash-table-count w2i-lang2)\n",
    "                                      embedding-dim\n",
    "                                      hidden-size))\n",
    "trainer"
   ]
  },
  {
   "cell_type": "code",
   "execution_count": 16,
   "id": "a4c5eed2-4c30-43db-8de0-3b4244798d88",
   "metadata": {},
   "outputs": [
    {
     "data": {
      "text/plain": [
       "NIL"
      ]
     },
     "execution_count": 16,
     "metadata": {},
     "output_type": "execute_result"
    },
    {
     "data": {
      "text/plain": [
       "*START-TIME*"
      ]
     },
     "execution_count": 16,
     "metadata": {},
     "output_type": "execute_result"
    },
    {
     "data": {
      "text/plain": [
       "LOSSES"
      ]
     },
     "execution_count": 16,
     "metadata": {},
     "output_type": "execute_result"
    },
    {
     "data": {
      "text/plain": [
       "NIL"
      ]
     },
     "execution_count": 16,
     "metadata": {},
     "output_type": "execute_result"
    },
    {
     "data": {
      "text/plain": [
       "(8.457819 8.457807 8.4581785 8.458789 8.458921 8.459221 8.459518 8.460041\n",
       " 8.460466 8.460215 8.460338 8.461014 8.461284 8.461405 8.46152 8.461809\n",
       " 8.461968 8.46231 8.462627 8.463125 8.464764 8.464607 8.46372 8.463995 8.464374\n",
       " 8.464548 8.464721 8.464946 8.46512 8.465269 8.46575 8.465822 8.46608 8.466446\n",
       " 8.466594 8.466831 8.467046 8.4673605 8.467667 8.467622 8.467761 8.468107\n",
       " 8.468362 8.468486 8.468645 8.468866 8.469052 8.469279 8.4695 8.469781 8.47042\n",
       " 8.470477 8.470333 8.470543 8.470795 8.470989 8.471144 8.47133 8.471543\n",
       " 8.4717045)"
      ]
     },
     "execution_count": 16,
     "metadata": {},
     "output_type": "execute_result"
    },
    {
     "name": "stdout",
     "output_type": "stream",
     "text": [
      "0th Epoch: [0s]\n",
      "Loss: 8.4717045\n",
      "Loss: 8.4717045\n",
      "Loss: 8.4717045\n",
      "Loss: 8.4717045\n",
      "Loss: 8.4717045\n",
      "Loss: 8.4717045\n",
      "Loss: 8.4717045\n",
      "Loss: 8.4717045\n",
      "Loss: 8.4717045\n",
      "Loss: 8.4717045\n",
      "Loss: 8.4717045\n",
      "Loss: 8.4717045\n",
      "Loss: 8.4717045\n",
      "Loss: 8.4717045\n",
      "Loss: 8.4717045\n",
      "Loss: 8.4717045\n",
      "Loss: 8.4717045\n",
      "Loss: 8.4717045\n",
      "Loss: 8.4717045\n",
      "Loss: 8.4717045\n",
      "Loss: 8.4717045\n",
      "Loss: 8.4717045\n",
      "Loss: 8.4717045\n",
      "Loss: 8.4717045\n",
      "Loss: 8.4717045\n",
      "Loss: 8.4717045\n",
      "Loss: 8.4717045\n",
      "Loss: 8.4717045\n",
      "Loss: 8.4717045\n",
      "Loss: 8.4717045\n",
      "1th Epoch: [39s]\n",
      "Loss: 8.4717045\n",
      "Loss: 8.4717045\n",
      "Loss: 8.4717045\n",
      "Loss: 8.4717045\n",
      "Loss: 8.4717045\n",
      "Loss: 8.4717045\n",
      "Loss: 8.4717045\n",
      "Loss: 8.4717045\n",
      "Loss: 8.4717045\n",
      "Loss: 8.4717045\n",
      "Loss: 8.4717045\n",
      "Loss: 8.4717045\n",
      "Loss: 8.4717045\n",
      "Loss: 8.4717045\n",
      "Loss: 8.4717045\n",
      "Loss: 8.4717045\n",
      "Loss: 8.4717045\n",
      "Loss: 8.4717045\n",
      "Loss: 8.4717045\n",
      "Loss: 8.4717045\n",
      "Loss: 8.4717045\n",
      "Loss: 8.4717045\n",
      "Loss: 8.4717045\n",
      "Loss: 8.4717045\n",
      "Loss: 8.4717045\n",
      "Loss: 8.4717045\n",
      "Loss: 8.4717045\n",
      "Loss: 8.4717045\n",
      "Loss: 8.4717045\n",
      "Loss: 8.4717045\n",
      "measuring PROFILE overhead..done\n",
      "  seconds  |     gc     |     consed     |  calls  |  sec/call  |  name  \n",
      "--------------------------------------------------------------\n",
      "    47.441 |      1.682 | 26,515,136,176 | 372,240 |   0.000127 | !MATMUL\n",
      "     2.250 |      0.142 |  1,153,447,792 |  59,722 |   0.000038 | !AREF\n",
      "--------------------------------------------------------------\n",
      "    49.691 |      1.823 | 27,668,583,968 | 431,962 |            | Total\n",
      "\n",
      "estimated total profiling overhead: 0.58 seconds\n",
      "overhead estimation parameters:\n",
      "  4.408e-9s/call, 1.335704e-6s total profiling, 6.3160996e-7s internal profiling\n"
     ]
    }
   ],
   "source": [
    "(sb-profile:reset)\n",
    "(sb-profile:profile\n",
    " cl-waffe:!aref\n",
    " cl-waffe:!matmul)\n",
    "\n",
    "(defparameter *start-time* (get-universal-time))\n",
    "(defparameter losses nil)\n",
    "(dotimes (epoch epoch-num)\n",
    "    (format t \"~ath Epoch: [~as]~%\" epoch (- (get-universal-time) *start-time*))\n",
    "    (let ((dataset-size (get-dataset-length *train-dataset*)))\n",
    "          (loop for batch-num fixnum upfrom 0 below dataset-size by batch-size\n",
    "                do (let* ((datum (get-dataset *train-dataset* batch-num))\n",
    "                          (x (car datum))\n",
    "                          (y (second datum)))\n",
    "                         (push (data (step-model trainer x y)) losses)\n",
    "                         (format t \"Loss: ~a~%\" (car (last losses)))))))\n",
    "(sb-profile:report)"
   ]
  },
  {
   "cell_type": "code",
   "execution_count": 19,
   "id": "4b6a865b-3b6f-406e-814d-695fa7828384",
   "metadata": {},
   "outputs": [
    {
     "data": {
      "text/plain": [
       "*IMGPATH*"
      ]
     },
     "execution_count": 19,
     "metadata": {},
     "output_type": "execute_result"
    },
    {
     "data": {
      "text/plain": [
       "NIL"
      ]
     },
     "execution_count": 19,
     "metadata": {},
     "output_type": "execute_result"
    },
    {
     "data": {
      "text/plain": [
       "NIL"
      ]
     },
     "execution_count": 19,
     "metadata": {},
     "output_type": "execute_result"
    },
    {
     "data": {
      "text/plain": [
       "0"
      ]
     },
     "execution_count": 19,
     "metadata": {},
     "output_type": "execute_result"
    },
    {
     "data": {
      "image/png": "[encoded data removed]",
      "text/plain": [
       "./tmp/Seq2Seq_KFTT_Losses.png"
      ]
     },
     "metadata": {},
     "output_type": "display_data"
    }
   ],
   "source": [
    "(defparameter *imgpath* \"./tmp/Seq2Seq_KFTT_Losses.png\")\n",
    "; pushしてるからLossの向き反対だわ...\n",
    "\n",
    "(plot (reverse losses) :output *imgpath*)\n",
    "(jupyter:file *imgpath* :display t)"
   ]
  },
  {
   "cell_type": "code",
   "execution_count": null,
   "id": "791f9103-bab3-447e-8efe-dcf1b48671fc",
   "metadata": {},
   "outputs": [],
   "source": []
  }
 ],
 "metadata": {
  "kernelspec": {
   "display_name": "Common Lisp",
   "language": "common-lisp",
   "name": "common-lisp"
  },
  "language_info": {
   "codemirror_mode": "text/x-common-lisp",
   "file_extension": ".lisp",
   "mimetype": "text/x-common-lisp",
   "name": "common-lisp",
   "pygments_lexer": "common-lisp",
   "version": "2.1.0"
  }
 },
 "nbformat": 4,
 "nbformat_minor": 5
}
