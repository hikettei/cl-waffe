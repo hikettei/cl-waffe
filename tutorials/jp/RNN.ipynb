{
 "cells": [
  {
   "cell_type": "code",
   "execution_count": 1,
   "id": "28aceae3-385f-4cb7-a348-21c92844f712",
   "metadata": {},
   "outputs": [
    {
     "data": {
      "text/plain": [
       "T"
      ]
     },
     "execution_count": 1,
     "metadata": {},
     "output_type": "execute_result"
    },
    {
     "data": {
      "text/plain": [
       "T"
      ]
     },
     "execution_count": 1,
     "metadata": {},
     "output_type": "execute_result"
    },
    {
     "data": {
      "text/plain": [
       "(:CLGPLOT :CL-WAFFE)"
      ]
     },
     "execution_count": 1,
     "metadata": {},
     "output_type": "execute_result"
    },
    {
     "name": "stdout",
     "output_type": "stream",
     "text": [
      "SB-INT:SIMPLE-STYLE-WARNING: undefined function: KFTT-DATA-PARSER::REGISTER-WORD\n",
      "SB-INT:SIMPLE-STYLE-WARNING: undefined function: KFTT-DATA-PARSER:CALC-DATA-SIZE\n",
      "SB-INT:SIMPLE-STYLE-WARNING: undefined function: KFTT-DATA-PARSER:CALC-MAX-LENGTH\n"
     ]
    },
    {
     "name": "stderr",
     "output_type": "stream",
     "text": [
      "Unable to find framework CUDA\n"
     ]
    }
   ],
   "source": [
    "; cl-waffeを読み込む\n",
    "(load \"../../cl-waffe.asd\")\n",
    "; kfttを読み込むための自作ライブラリ\n",
    "(load \"../../examples/kftt-data-parser.lisp\")\n",
    "(ql:quickload `(:clgplot :cl-waffe) :silent t)"
   ]
  },
  {
   "cell_type": "markdown",
   "id": "11b7bb8e-b93e-4ba9-b38d-3a7c95b11dfc",
   "metadata": {},
   "source": [
    "## Seq2Seqを用いてKFTTを学習\n",
    "\n",
    "cl-waffeのRNNを用いて[京都フリー翻訳タスク (KFTT)](http://www.phontron.com/kftt/index-ja.html#leaders)を学習させる例です。\n",
    "\n",
    "学習データのダウンロード (0.4GB程度の容量が必要です。)\n",
    "```shell\n",
    "$ curl -O http://www.phontron.com/kftt/download/kftt-data-1.0.tar.gz\n",
    "$ tar xzvf kftt-data-1.0.tar.gz\n",
    "```"
   ]
  },
  {
   "cell_type": "code",
   "execution_count": 2,
   "id": "6223cd18-6d07-44db-be74-0401e5df8dc2",
   "metadata": {},
   "outputs": [
    {
     "data": {
      "text/plain": [
       "#<PACKAGE \"SEQ2SEQ-KFTT\">"
      ]
     },
     "execution_count": 2,
     "metadata": {},
     "output_type": "execute_result"
    },
    {
     "data": {
      "text/plain": [
       "#<PACKAGE \"SEQ2SEQ-KFTT\">"
      ]
     },
     "execution_count": 2,
     "metadata": {},
     "output_type": "execute_result"
    }
   ],
   "source": [
    "(defpackage :seq2seq-kftt\n",
    "    (:use :cl :cl-waffe :cl-waffe.nn :clgplot :mgl-mat :kftt-data-parser))\n",
    "\n",
    "(in-package :seq2seq-kftt)"
   ]
  },
  {
   "cell_type": "markdown",
   "id": "12a48b47-180a-4f42-91ea-d1d1ba0aa3b9",
   "metadata": {},
   "source": [
    "### Seq2Seq\n",
    "\n",
    "Seq2Seq\n",
    "\n",
    "問題："
   ]
  },
  {
   "cell_type": "markdown",
   "id": "343b1d63-d11b-4bfc-b1aa-2394d291f42b",
   "metadata": {},
   "source": [
    "### Seq2Seqモデルを定義する。"
   ]
  },
  {
   "cell_type": "code",
   "execution_count": 3,
   "id": "b84e8642-7b38-4337-b4c5-285154147e9e",
   "metadata": {},
   "outputs": [
    {
     "data": {
      "text/plain": [
       "NIL"
      ]
     },
     "execution_count": 3,
     "metadata": {},
     "output_type": "execute_result"
    },
    {
     "data": {
      "text/plain": [
       "NIL"
      ]
     },
     "execution_count": 3,
     "metadata": {},
     "output_type": "execute_result"
    },
    {
     "data": {
      "text/plain": [
       "NIL"
      ]
     },
     "execution_count": 3,
     "metadata": {},
     "output_type": "execute_result"
    },
    {
     "name": "stdout",
     "output_type": "stream",
     "text": [
      "SB-INT:SIMPLE-STYLE-WARNING: Cannot find type for specializer\n",
      "                             SEQ2SEQ-KFTT::ENCODER when executing\n",
      "                             SB-PCL:SPECIALIZER-TYPE-SPECIFIER for a\n",
      "                             STANDARD-METHOD of a STANDARD-GENERIC-FUNCTION.\n",
      "SB-INT:SIMPLE-STYLE-WARNING: Cannot find type for specializer\n",
      "                             SEQ2SEQ-KFTT::ENCODER when executing\n",
      "                             SB-PCL:SPECIALIZER-TYPE-SPECIFIER for a\n",
      "                             STANDARD-METHOD of a STANDARD-GENERIC-FUNCTION.\n",
      "SB-INT:SIMPLE-STYLE-WARNING: Cannot find type for specializer\n",
      "                             SEQ2SEQ-KFTT::ENCODER when executing\n",
      "                             SB-PCL:SPECIALIZER-TYPE-SPECIFIER for a\n",
      "                             STANDARD-METHOD of a STANDARD-GENERIC-FUNCTION.\n",
      "SB-INT:SIMPLE-STYLE-WARNING: undefined type: SEQ2SEQ-KFTT::ENCODER\n",
      "SB-INT:SIMPLE-STYLE-WARNING: Cannot find type for specializer\n",
      "                             SEQ2SEQ-KFTT::DECODER when executing\n",
      "                             SB-PCL:SPECIALIZER-TYPE-SPECIFIER for a\n",
      "                             STANDARD-METHOD of a STANDARD-GENERIC-FUNCTION.\n",
      "SB-INT:SIMPLE-STYLE-WARNING: Cannot find type for specializer\n",
      "                             SEQ2SEQ-KFTT::DECODER when executing\n",
      "                             SB-PCL:SPECIALIZER-TYPE-SPECIFIER for a\n",
      "                             STANDARD-METHOD of a STANDARD-GENERIC-FUNCTION.\n",
      "SB-INT:SIMPLE-STYLE-WARNING: Cannot find type for specializer\n",
      "                             SEQ2SEQ-KFTT::DECODER when executing\n",
      "                             SB-PCL:SPECIALIZER-TYPE-SPECIFIER for a\n",
      "                             STANDARD-METHOD of a STANDARD-GENERIC-FUNCTION.\n",
      "SB-INT:SIMPLE-STYLE-WARNING: undefined type: SEQ2SEQ-KFTT::DECODER\n",
      "SB-INT:SIMPLE-STYLE-WARNING: Cannot find type for specializer\n",
      "                             SEQ2SEQ-KFTT::SEQ2SEQ when executing\n",
      "                             SB-PCL:SPECIALIZER-TYPE-SPECIFIER for a\n",
      "                             STANDARD-METHOD of a STANDARD-GENERIC-FUNCTION.\n",
      "SB-INT:SIMPLE-STYLE-WARNING: Cannot find type for specializer\n",
      "                             SEQ2SEQ-KFTT::SEQ2SEQ when executing\n",
      "                             SB-PCL:SPECIALIZER-TYPE-SPECIFIER for a\n",
      "                             STANDARD-METHOD of a STANDARD-GENERIC-FUNCTION.\n",
      "SB-INT:SIMPLE-STYLE-WARNING: Cannot find type for specializer\n",
      "                             SEQ2SEQ-KFTT::SEQ2SEQ when executing\n",
      "                             SB-PCL:SPECIALIZER-TYPE-SPECIFIER for a\n",
      "                             STANDARD-METHOD of a STANDARD-GENERIC-FUNCTION.\n",
      "SB-INT:SIMPLE-STYLE-WARNING: undefined type: SEQ2SEQ-KFTT::SEQ2SEQ\n"
     ]
    }
   ],
   "source": [
    "(defmodel Encoder (vocab-size embedding-dim hidden-size)\n",
    "  :parameters ((embedding (Embedding vocab-size embedding-dim :pad-idx 0))\n",
    "               (layer     (RNN embedding-dim hidden-size :num-layers 1)))\n",
    "  :forward ((x)\n",
    "            \"Input:\n",
    "                x - 単語\n",
    "             Return:\n",
    "                隠れ層の出力\"\n",
    "            (with-calling-layers x\n",
    "                (embedding x)\n",
    "                (layer x))))\n",
    "\n",
    "(defmodel Decoder (vocab-size embedding-dim hidden-size)\n",
    "  :parameters ((embedding (Embedding vocab-size embedding-dim :pad-idx 0))\n",
    "               (layer     (RNN embedding-dim hidden-size :num-layers 1))\n",
    "               (h2l       (linearlayer hidden-size vocab-size)))\n",
    "  :forward ((encoder-state y)\n",
    "            (let* ((ye (call (self embedding) y))\n",
    "                   (hs (call (self layer) ye encoder-state))\n",
    "                   (h-output (call (self h2l) hs)))\n",
    "                  h-output)))\n",
    "\n",
    "(defmodel Seq2Seq (vocab-size-lang1 vocab-size-lang2 embedding-dim input-size)\n",
    "  :parameters ((encoder (Encoder vocab-size-lang1 embedding-dim input-size))\n",
    "               (decoder (Decoder vocab-size-lang2 embedding-dim input-size)))\n",
    "  :forward ((x y)\n",
    "            (let ((x-state (call (self encoder) x)))\n",
    "                 (call (self decoder)\n",
    "                       x-state\n",
    "                       (!aref y t '(0 -1))))))"
   ]
  },
  {
   "cell_type": "markdown",
   "id": "cd0d5cfd-d560-402b-8ea3-3f8df6a0f5bb",
   "metadata": {},
   "source": [
    "### パラメーターの設定"
   ]
  },
  {
   "cell_type": "code",
   "execution_count": 4,
   "id": "ed1fc44e-f0b0-4ebe-af27-db2ddffcad07",
   "metadata": {},
   "outputs": [
    {
     "data": {
      "text/plain": [
       "LANG1"
      ]
     },
     "execution_count": 4,
     "metadata": {},
     "output_type": "execute_result"
    },
    {
     "data": {
      "text/plain": [
       "LANG2"
      ]
     },
     "execution_count": 4,
     "metadata": {},
     "output_type": "execute_result"
    },
    {
     "data": {
      "text/plain": [
       "BATCH-SIZE"
      ]
     },
     "execution_count": 4,
     "metadata": {},
     "output_type": "execute_result"
    },
    {
     "data": {
      "text/plain": [
       "EPOCH-NUM"
      ]
     },
     "execution_count": 4,
     "metadata": {},
     "output_type": "execute_result"
    },
    {
     "data": {
      "text/plain": [
       "LR"
      ]
     },
     "execution_count": 4,
     "metadata": {},
     "output_type": "execute_result"
    },
    {
     "data": {
      "text/plain": [
       "EMBEDDING-DIM"
      ]
     },
     "execution_count": 4,
     "metadata": {},
     "output_type": "execute_result"
    },
    {
     "data": {
      "text/plain": [
       "HIDDEN-SIZE"
      ]
     },
     "execution_count": 4,
     "metadata": {},
     "output_type": "execute_result"
    },
    {
     "data": {
      "text/plain": [
       "SENTENCE-MAXLEN"
      ]
     },
     "execution_count": 4,
     "metadata": {},
     "output_type": "execute_result"
    }
   ],
   "source": [
    "(defparameter lang1 :ja)\n",
    "(defparameter lang2 :en)\n",
    "\n",
    "(defparameter batch-size 32)\n",
    "(defparameter epoch-num 10)\n",
    "(defparameter lr 1e-2)\n",
    "(defparameter embedding-dim 128)\n",
    "(defparameter hidden-size 128)\n",
    "\n",
    "(defparameter sentence-maxlen 16)\n",
    "; ja -> en"
   ]
  },
  {
   "cell_type": "code",
   "execution_count": 5,
   "id": "f79b61b5-bd26-4256-8fdc-63cb516c7523",
   "metadata": {},
   "outputs": [
    {
     "data": {
      "text/plain": [
       "NIL"
      ]
     },
     "execution_count": 5,
     "metadata": {},
     "output_type": "execute_result"
    },
    {
     "name": "stdout",
     "output_type": "stream",
     "text": [
      "SB-INT:SIMPLE-STYLE-WARNING: Cannot find type for specializer\n",
      "                             SEQ2SEQ-KFTT::SEQ2SEQTRAINER when executing\n",
      "                             SB-PCL:SPECIALIZER-TYPE-SPECIFIER for a\n",
      "                             STANDARD-METHOD of a STANDARD-GENERIC-FUNCTION.\n",
      "SB-INT:SIMPLE-STYLE-WARNING: Cannot find type for specializer\n",
      "                             SEQ2SEQ-KFTT::SEQ2SEQTRAINER when executing\n",
      "                             SB-PCL:SPECIALIZER-TYPE-SPECIFIER for a\n",
      "                             STANDARD-METHOD of a STANDARD-GENERIC-FUNCTION.\n",
      "SB-INT:SIMPLE-STYLE-WARNING: Cannot find type for specializer\n",
      "                             SEQ2SEQ-KFTT::SEQ2SEQTRAINER when executing\n",
      "                             SB-PCL:SPECIALIZER-TYPE-SPECIFIER for a\n",
      "                             STANDARD-METHOD of a STANDARD-GENERIC-FUNCTION.\n"
     ]
    }
   ],
   "source": [
    "(deftrainer Seq2SeqTrainer (vocab-size-lang1 vocab-size-lang2 embedding-dim hidden-size)\n",
    "  :model (Seq2Seq vocab-size-lang1 vocab-size-lang2 embedding-dim hidden-size)\n",
    "  :optimizer cl-waffe.optimizers:Adam\n",
    "  :optimizer-args (:lr lr)\n",
    "  :step-model ((x y)\n",
    "               (zero-grad)\n",
    "               (let* ((outs (call (self model) x y))\n",
    "                      (losses 0.0))\n",
    "                     (loop for i fixnum upfrom 0 below (!shape outs 1)\n",
    "                           do (setq losses (!add losses (softmax-cross-entropy\n",
    "                                                         (!aref outs t i t)\n",
    "                                                         (!aref y t (1+ i))))))\n",
    "                     (backward losses)\n",
    "                     (update)\n",
    "                     losses))\n",
    "  :predict ((x y) (call (model) x y))) ; argmaxするときsoftmax忘れない"
   ]
  },
  {
   "cell_type": "markdown",
   "id": "78f80580-0318-47a9-8942-1910518eea12",
   "metadata": {},
   "source": [
    "### データの前処理\n",
    "\n",
    "語彙数削減のためSentencePieceを用いる（TODO)\n",
    "\n",
    "文字数でソートしてPaddingのコストを減らす（TODO)"
   ]
  },
  {
   "cell_type": "code",
   "execution_count": 6,
   "id": "9fb98f9b-5c19-4436-ab9e-53a09f898403",
   "metadata": {},
   "outputs": [
    {
     "data": {
      "text/plain": [
       "I2W-LANG1"
      ]
     },
     "execution_count": 6,
     "metadata": {},
     "output_type": "execute_result"
    },
    {
     "data": {
      "text/plain": [
       "I2W-LANG2"
      ]
     },
     "execution_count": 6,
     "metadata": {},
     "output_type": "execute_result"
    },
    {
     "data": {
      "text/plain": [
       "\"Vocab_Size: \n",
       " Lang1: 4519 \n",
       " Lang2: 4780\""
      ]
     },
     "execution_count": 6,
     "metadata": {},
     "output_type": "execute_result"
    }
   ],
   "source": [
    "; 辞書データを作る\n",
    "(multiple-value-bind (lang1-w2i lang1-i2w) (collect-tokens :dev lang1 T)\n",
    "    (defparameter w2i-lang1 lang1-w2i)\n",
    "    (defparameter i2w-lang1 lang1-i2w))\n",
    "\n",
    "(multiple-value-bind (lang2-w2i lang2-i2w) (collect-tokens :dev lang2 T)\n",
    "    (defparameter w2i-lang2 lang2-w2i)\n",
    "    (defparameter i2w-lang2 lang2-i2w))\n",
    "\n",
    ";w2i: Hash Table, 単語(英語+日本語) -> Index, i2w: Index -> 単語\n",
    "\n",
    "(format nil \"Vocab_Size: ~% Lang1: ~a ~% Lang2: ~a\" (hash-table-count w2i-lang1) (hash-table-count w2i-lang2))"
   ]
  },
  {
   "cell_type": "code",
   "execution_count": 7,
   "id": "e8ebac4a-e309-4387-92ba-0085572832df",
   "metadata": {},
   "outputs": [
    {
     "data": {
      "text/plain": [
       "SPLIT"
      ]
     },
     "execution_count": 7,
     "metadata": {},
     "output_type": "execute_result"
    },
    {
     "data": {
      "text/plain": [
       "LIST-TO-TENSOR"
      ]
     },
     "execution_count": 7,
     "metadata": {},
     "output_type": "execute_result"
    },
    {
     "data": {
      "text/plain": [
       "WORDS-INTO-IDX"
      ]
     },
     "execution_count": 7,
     "metadata": {},
     "output_type": "execute_result"
    },
    {
     "data": {
      "text/plain": [
       "MAKE-TRAIN-DATA"
      ]
     },
     "execution_count": 7,
     "metadata": {},
     "output_type": "execute_result"
    },
    {
     "data": {
      "text/plain": [
       "DROPOUT-BY-SENTENCE-LEN"
      ]
     },
     "execution_count": 7,
     "metadata": {},
     "output_type": "execute_result"
    }
   ],
   "source": [
    "; 文字列操作のユーティリティ\n",
    "\n",
    "(defun split (x str)\n",
    "  (let ((pos (search x str))\n",
    "        (size (length x)))\n",
    "    (if pos\n",
    "      (cons (subseq str 0 pos)\n",
    "            (split x (subseq str (+ pos size))))\n",
    "      (list str))))\n",
    "\n",
    "(defun list-to-tensor (list)\n",
    "    (const (make-mat (length list) :initial-contents list)))\n",
    "\n",
    "(defun words-into-idx (words lang)\n",
    "    \"words: 単語のList, (e.g.: 臨済 宗 （ 臨濟 宗 、)... )\n",
    "     lang : :ja or :en\"\n",
    "    \n",
    "    (list-to-tensor\n",
    "     (map 'list #'(lambda (word)\n",
    "                          (cond\n",
    "                              ((eql lang lang1)\n",
    "                               (or (gethash word w2i-lang1)\n",
    "                                   (gethash \"<UNK>\" w2i-lang1)))\n",
    "                              ((eql lang lang2)\n",
    "                               (or (gethash word w2i-lang1)\n",
    "                                   (gethash \"<UNK>\" w2i-lang2)))\n",
    "                              (T (error \"\")))) `(\"<BOS>\" ,@words \"<EOS>\"))))\n",
    "\n",
    "(defun make-train-data (language data-type)\n",
    "    \"Language: 言語\n",
    "     data-type: :train or :test\"\n",
    "    \n",
    "    (let ((result nil))\n",
    "         (time (with-open-kftt-file line :tok data-type language\n",
    "                   (push\n",
    "                    (words-into-idx (split \" \" line) language)\n",
    "                    result)))\n",
    "         (reverse result)))\n",
    "\n",
    "(defun dropout-by-sentence-len (tx ty &aux r1 r2)\n",
    "    \"train_X, train_Yで、sentence-maxlen以上のデータセットを削除する\"\n",
    "    (loop for i fixnum upfrom 0 below (length tx)\n",
    "          unless (or (>= (!size (nth i tx)) sentence-maxlen)\n",
    "                     (>= (!size (nth i ty)) sentence-maxlen))\n",
    "          do (progn\n",
    "                 (push (nth i tx) r1)\n",
    "                 (push (nth i ty) r2)))\n",
    "    (values (reverse r1) (reverse r2)))"
   ]
  },
  {
   "cell_type": "code",
   "execution_count": 8,
   "id": "9c47179e-1ade-4ea5-8eda-73d8350423ce",
   "metadata": {},
   "outputs": [
    {
     "data": {
      "text/plain": [
       "TRAIN_X"
      ]
     },
     "execution_count": 8,
     "metadata": {},
     "output_type": "execute_result"
    },
    {
     "data": {
      "text/plain": [
       "1166"
      ]
     },
     "execution_count": 8,
     "metadata": {},
     "output_type": "execute_result"
    },
    {
     "name": "stdout",
     "output_type": "stream",
     "text": [
      "Evaluation took:\n",
      "  0.045 seconds of real time\n",
      "  0.034455 seconds of total run time (0.031025 user, 0.003430 system)\n",
      "  75.56% CPU\n",
      "  119 lambdas converted\n",
      "  103,799,018 processor cycles\n",
      "  15,396,976 bytes consed\n",
      "  \n"
     ]
    }
   ],
   "source": [
    "(defparameter train_X (make-train-data lang1 :dev))\n",
    "(length train_X)"
   ]
  },
  {
   "cell_type": "code",
   "execution_count": 9,
   "id": "a0d35f56-d0ef-4501-af6a-8cb1ec252ae9",
   "metadata": {},
   "outputs": [
    {
     "data": {
      "text/plain": [
       "TRAIN_Y"
      ]
     },
     "execution_count": 9,
     "metadata": {},
     "output_type": "execute_result"
    },
    {
     "name": "stdout",
     "output_type": "stream",
     "text": [
      "Evaluation took:\n",
      "  0.027 seconds of real time\n",
      "  0.023512 seconds of total run time (0.022018 user, 0.001494 system)\n",
      "  88.89% CPU\n",
      "  63,652,662 processor cycles\n",
      "  14,776,448 bytes consed\n",
      "  \n"
     ]
    }
   ],
   "source": [
    "(defparameter train_Y (make-train-data lang2 :dev))"
   ]
  },
  {
   "cell_type": "code",
   "execution_count": 10,
   "id": "fe2bedf6-8243-4659-8966-b79ea75bd057",
   "metadata": {},
   "outputs": [
    {
     "data": {
      "text/plain": [
       "TRAIN_Y"
      ]
     },
     "execution_count": 10,
     "metadata": {},
     "output_type": "execute_result"
    },
    {
     "data": {
      "text/plain": [
       "480"
      ]
     },
     "execution_count": 10,
     "metadata": {},
     "output_type": "execute_result"
    }
   ],
   "source": [
    "(multiple-value-bind (x y) (dropout-by-sentence-len train_X train_Y)\n",
    "    (defparameter train_X x)\n",
    "    (defparameter train_Y y))\n",
    "\n",
    "(length train_X)"
   ]
  },
  {
   "cell_type": "code",
   "execution_count": 11,
   "id": "e706a0b9-71cb-465b-9e39-1aff47e9b305",
   "metadata": {},
   "outputs": [
    {
     "data": {
      "text/plain": [
       "TEST_X"
      ]
     },
     "execution_count": 11,
     "metadata": {},
     "output_type": "execute_result"
    },
    {
     "data": {
      "text/plain": [
       "TEST_Y"
      ]
     },
     "execution_count": 11,
     "metadata": {},
     "output_type": "execute_result"
    },
    {
     "name": "stdout",
     "output_type": "stream",
     "text": [
      "Evaluation took:\n",
      "  0.036 seconds of real time\n",
      "  0.020063 seconds of total run time (0.018543 user, 0.001520 system)\n",
      "  55.56% CPU\n",
      "  83,449,540 processor cycles\n",
      "  10,382,304 bytes consed\n",
      "  \n",
      "Evaluation took:\n",
      "  0.041 seconds of real time\n",
      "  0.030826 seconds of total run time (0.023826 user, 0.007000 system)\n",
      "  75.61% CPU\n",
      "  95,025,594 processor cycles\n",
      "  14,788,816 bytes consed\n",
      "  \n"
     ]
    }
   ],
   "source": [
    "(defparameter test_X (make-train-data lang1 :dev))\n",
    "(defparameter test_Y (make-train-data lang2 :dev))"
   ]
  },
  {
   "cell_type": "code",
   "execution_count": 12,
   "id": "1ae4f108-89ba-418a-90bd-d35602e84d42",
   "metadata": {},
   "outputs": [
    {
     "data": {
      "text/plain": [
       "TEST_Y"
      ]
     },
     "execution_count": 12,
     "metadata": {},
     "output_type": "execute_result"
    },
    {
     "data": {
      "text/plain": [
       "480"
      ]
     },
     "execution_count": 12,
     "metadata": {},
     "output_type": "execute_result"
    }
   ],
   "source": [
    "(multiple-value-bind (x y) (dropout-by-sentence-len test_X test_Y)\n",
    "    (defparameter test_X x)\n",
    "    (defparameter test_Y y))\n",
    "\n",
    "(length test_X)"
   ]
  },
  {
   "cell_type": "markdown",
   "id": "9a5267dd-08f0-4162-8142-d0ac9a7e3eb7",
   "metadata": {},
   "source": [
    "### データセットを定義する\n",
    "\n"
   ]
  },
  {
   "cell_type": "code",
   "execution_count": 13,
   "id": "b1e560b4-04c6-46f3-8d2c-1786ed7b4879",
   "metadata": {},
   "outputs": [
    {
     "data": {
      "text/plain": [
       "NIL"
      ]
     },
     "execution_count": 13,
     "metadata": {},
     "output_type": "execute_result"
    },
    {
     "name": "stdout",
     "output_type": "stream",
     "text": [
      "SB-INT:SIMPLE-STYLE-WARNING: Cannot find type for specializer\n",
      "                             SEQ2SEQ-KFTT::KFTT-DATASET when executing\n",
      "                             SB-PCL:SPECIALIZER-TYPE-SPECIFIER for a\n",
      "                             STANDARD-METHOD of a STANDARD-GENERIC-FUNCTION.\n",
      "SB-INT:SIMPLE-STYLE-WARNING: Cannot find type for specializer\n",
      "                             SEQ2SEQ-KFTT::KFTT-DATASET when executing\n",
      "                             SB-PCL:SPECIALIZER-TYPE-SPECIFIER for a\n",
      "                             STANDARD-METHOD of a STANDARD-GENERIC-FUNCTION.\n",
      "SB-INT:SIMPLE-STYLE-WARNING: Cannot find type for specializer\n",
      "                             SEQ2SEQ-KFTT::KFTT-DATASET when executing\n",
      "                             SB-PCL:SPECIALIZER-TYPE-SPECIFIER for a\n",
      "                             STANDARD-METHOD of a STANDARD-GENERIC-FUNCTION.\n"
     ]
    }
   ],
   "source": [
    "(defdataset KFTT-Dataset (x y batch-size)\n",
    "    :parameters ((x x)\n",
    "                 (y y)\n",
    "                 (batch-size batch-size))\n",
    "    :next ((index)\n",
    "           \"Returns (list X[index:(+ index batch-size)] Y[index:(+ index batch-size)])\"\n",
    "           (let* ((batch-size (self batch-size))\n",
    "                  (end (min (length (self x)) (+ index (self batch-size))))\n",
    "                  (x (loop for i fixnum upfrom index below end\n",
    "                           collect (nth i (self x))))\n",
    "                  (y (loop for i fixnum upfrom index below end\n",
    "                           collect (nth i (self y))))\n",
    "                  (batch-maxlen (max (apply #'max (map 'list #'!size x))\n",
    "                                     (apply #'max (map 'list #'!size y))))\n",
    "                  (result-x (!zeros `(,(length x) ,batch-maxlen)))\n",
    "                  (result-y (!zeros `(,(length y) ,batch-maxlen))))\n",
    "                 \n",
    "                 (dotimes (index (the fixnum (!shape result-x 0)))\n",
    "                     (setf (!aref result-x index `(0 ,(!size (nth index x)))) (nth index x))\n",
    "                     (setf (!aref result-y index `(0 ,(!size (nth index y)))) (nth index y)))\n",
    "                 (list result-x result-y)))\n",
    "    :length (() (length (self x))))"
   ]
  },
  {
   "cell_type": "code",
   "execution_count": 14,
   "id": "5cdfa20c-172c-41dc-97fd-991b2204bea3",
   "metadata": {},
   "outputs": [
    {
     "data": {
      "text/plain": [
       "*TRAIN-DATASET*"
      ]
     },
     "execution_count": 14,
     "metadata": {},
     "output_type": "execute_result"
    },
    {
     "data": {
      "text/plain": [
       "*TEST-DATASET*"
      ]
     },
     "execution_count": 14,
     "metadata": {},
     "output_type": "execute_result"
    },
    {
     "data": {
      "text/plain": [
       "NIL"
      ]
     },
     "execution_count": 14,
     "metadata": {},
     "output_type": "execute_result"
    },
    {
     "name": "stdout",
     "output_type": "stream",
     "text": [
      "Evaluation took:\n",
      "  0.090 seconds of real time\n",
      "  0.073667 seconds of total run time (0.062245 user, 0.011422 system)\n",
      "  82.22% CPU\n",
      "  99 lambdas converted\n",
      "  208,474,352 processor cycles\n",
      "  22,580,960 bytes consed\n",
      "  \n"
     ]
    }
   ],
   "source": [
    "(defparameter *train-dataset* (KFTT-Dataset train_x train_y batch-size))\n",
    "(defparameter *test-dataset*  (KFTT-Dataset test_x test_y batch-size))\n",
    "\n",
    "(time (dotimes (i 100) (get-dataset *train-dataset* 0)))"
   ]
  },
  {
   "cell_type": "code",
   "execution_count": 15,
   "id": "ecef0322-f2a9-4dfb-9c46-c9d173013dae",
   "metadata": {},
   "outputs": [
    {
     "data": {
      "text/plain": [
       "TRAINER"
      ]
     },
     "execution_count": 15,
     "metadata": {},
     "output_type": "execute_result"
    },
    {
     "data": {
      "text/plain": [
       "<Trainer: SEQ2SEQTRAINER()>"
      ]
     },
     "execution_count": 15,
     "metadata": {},
     "output_type": "execute_result"
    }
   ],
   "source": [
    "(defparameter trainer (seq2seqtrainer (hash-table-count w2i-lang1)\n",
    "                                      (hash-table-count w2i-lang2)\n",
    "                                      embedding-dim\n",
    "                                      hidden-size))\n",
    "trainer"
   ]
  },
  {
   "cell_type": "code",
   "execution_count": 16,
   "id": "526f1d05-96e3-4428-96b7-9fd7df7ca4c6",
   "metadata": {},
   "outputs": [
    {
     "data": {
      "text/plain": [
       "#Const(25.497803)"
      ]
     },
     "execution_count": 16,
     "metadata": {},
     "output_type": "execute_result"
    },
    {
     "name": "stdout",
     "output_type": "stream",
     "text": [
      "Evaluation took:\n",
      "  0.108 seconds of real time\n",
      "  0.100038 seconds of total run time (0.093035 user, 0.007003 system)\n",
      "  [ Run times consist of 0.016 seconds GC time, and 0.085 seconds non-GC time. ]\n",
      "  92.59% CPU\n",
      "  220 lambdas converted\n",
      "  248,923,294 processor cycles\n",
      "  57,737,552 bytes consed\n",
      "  \n"
     ]
    }
   ],
   "source": [
    "(time (step-model trainer (!ones `(2 4)) (!ones `(2 4))))"
   ]
  },
  {
   "cell_type": "code",
   "execution_count": 17,
   "id": "12a52ce4-a060-4314-a02e-10713a937407",
   "metadata": {},
   "outputs": [
    {
     "data": {
      "text/plain": [
       "NIL"
      ]
     },
     "execution_count": 17,
     "metadata": {},
     "output_type": "execute_result"
    },
    {
     "data": {
      "text/plain": [
       "#Const(754.64056)"
      ]
     },
     "execution_count": 17,
     "metadata": {},
     "output_type": "execute_result"
    },
    {
     "name": "stdout",
     "output_type": "stream",
     "text": [
      "Evaluation took:\n",
      "  3.071 seconds of real time\n",
      "  3.154340 seconds of total run time (2.490831 user, 0.663509 system)\n",
      "  [ Run times consist of 0.205 seconds GC time, and 2.950 seconds non-GC time. ]\n",
      "  102.70% CPU\n",
      "  7,076,838,362 processor cycles\n",
      "  2,501,998,640 bytes consed\n",
      "  \n",
      "measuring PROFILE overhead..done\n",
      "  seconds  |     gc     |     consed    |  calls |  sec/call  |  name  \n",
      "------------------------------------------------------------\n",
      "     1.669 |      0.206 | 2,334,083,888 | 20,997 |   0.000079 | !MATMUL\n",
      "     1.258 |      0.000 |    48,544,992 |      5 |   0.251539 | CL-WAFFE::BACKWARD1\n",
      "     0.029 |      0.000 |    20,878,480 |      1 |   0.028853 | BACKWARD\n",
      "     0.006 |      0.000 |     1,698,336 |    199 |   0.000030 | !TANH\n",
      "------------------------------------------------------------\n",
      "     2.961 |      0.206 | 2,405,205,696 | 21,202 |            | Total\n",
      "\n",
      "estimated total profiling overhead: 0.03 seconds\n",
      "overhead estimation parameters:\n",
      "  4.6640003e-9s/call, 1.35518e-6s total profiling, 6.37918e-7s internal profiling\n"
     ]
    }
   ],
   "source": [
    "(sb-profile:reset)\n",
    "(sb-profile:profile\n",
    " cl-waffe:!matmul\n",
    " cl-waffe:!tanh\n",
    " cl-waffe:backward\n",
    " cl-waffe::backward1)\n",
    "\n",
    "(time (step-model trainer (!ones `(2 100)) (!ones `(2 100)))) ; Batchごとに並列化できないから遅い\n",
    "\n",
    "(sb-profile:report)"
   ]
  },
  {
   "cell_type": "code",
   "execution_count": 18,
   "id": "06313169-fa65-4580-952b-0985d786a5c6",
   "metadata": {},
   "outputs": [
    {
     "data": {
      "text/plain": [
       "NSHUFFLE"
      ]
     },
     "execution_count": 18,
     "metadata": {},
     "output_type": "execute_result"
    }
   ],
   "source": [
    "(defun nshuffle (sequence)\n",
    "  (loop for i from (length sequence) downto 2\n",
    "        do (rotatef (elt sequence (random i))\n",
    "                    (elt sequence (1- i))))\n",
    "  sequence)"
   ]
  },
  {
   "cell_type": "code",
   "execution_count": 19,
   "id": "a4c5eed2-4c30-43db-8de0-3b4244798d88",
   "metadata": {},
   "outputs": [
    {
     "data": {
      "text/plain": [
       "*START-TIME*"
      ]
     },
     "execution_count": 19,
     "metadata": {},
     "output_type": "execute_result"
    },
    {
     "data": {
      "text/plain": [
       "LOSSES"
      ]
     },
     "execution_count": 19,
     "metadata": {},
     "output_type": "execute_result"
    },
    {
     "data": {
      "text/plain": [
       "NIL"
      ]
     },
     "execution_count": 19,
     "metadata": {},
     "output_type": "execute_result"
    },
    {
     "name": "stdout",
     "output_type": "stream",
     "text": [
      "0th Epoch: [0s]\n",
      "Loss: 67.706635\n",
      "Loss: 84.69161\n",
      "Loss: 109.603516\n",
      "Loss: 116.95182\n",
      "Loss: 113.95984\n",
      "Loss: 96.824425\n",
      "Loss: 106.7794\n",
      "Loss: 86.85254\n",
      "Loss: 95.64429\n",
      "Loss: 89.696144\n",
      "Loss: 83.90976\n",
      "Loss: 76.07938\n",
      "Loss: 77.67457\n",
      "Loss: 75.90962\n",
      "Loss: 70.77876\n",
      "1th Epoch: [21s]\n",
      "Loss: 54.097305\n",
      "Loss: 68.93009\n",
      "Loss: 68.7091\n",
      "Loss: 71.142876\n",
      "Loss: 68.22545\n",
      "Loss: 58.431877\n",
      "Loss: 64.53127\n",
      "Loss: 67.12469\n",
      "Loss: 33.04122\n",
      "Loss: 61.17696\n",
      "Loss: 57.028637\n",
      "Loss: 58.58246\n",
      "Loss: 57.314835\n",
      "Loss: 59.02213\n",
      "Loss: 58.096893\n",
      "2th Epoch: [39s]\n",
      "Loss: 68.30224\n",
      "Loss: 68.3605\n",
      "Loss: 54.801525\n",
      "Loss: 60.38357\n",
      "Loss: 60.886044\n",
      "Loss: 61.901375\n",
      "Loss: 32.89836\n",
      "Loss: 60.329315\n",
      "Loss: 57.02813\n",
      "Loss: 55.05622\n",
      "Loss: 61.40453\n",
      "Loss: 50.17776\n",
      "Loss: 65.03648\n",
      "Loss: 58.776657\n",
      "Loss: 59.347816\n",
      "3th Epoch: [57s]\n",
      "Loss: 64.62664\n",
      "Loss: 57.170753\n",
      "Loss: 63.13812\n",
      "Loss: 65.7935\n",
      "Loss: 32.60221\n",
      "Loss: 64.957664\n",
      "Loss: 67.12606\n",
      "Loss: 62.4721\n",
      "Loss: 66.72823\n",
      "Loss: 50.425682\n",
      "Loss: 53.821056\n",
      "Loss: 58.645035\n",
      "Loss: 61.693916\n",
      "Loss: 67.94944\n",
      "Loss: 58.103996\n",
      "4th Epoch: [74s]\n",
      "Loss: 67.68938\n",
      "Loss: 57.89857\n",
      "Loss: 50.98798\n",
      "Loss: 56.923656\n",
      "Loss: 65.75529\n",
      "Loss: 31.731792\n",
      "Loss: 63.273537\n",
      "Loss: 63.956192\n",
      "Loss: 62.72525\n",
      "Loss: 66.40492\n",
      "Loss: 48.401325\n",
      "Loss: 61.50147\n",
      "Loss: 59.236267\n",
      "Loss: 55.97802\n",
      "Loss: 53.095963\n",
      "5th Epoch: [95s]\n",
      "Loss: 58.301575\n",
      "Loss: 66.90086\n",
      "Loss: 54.617355\n",
      "Loss: 55.920265\n",
      "Loss: 56.33846\n",
      "Loss: 31.923462\n",
      "Loss: 62.862885\n",
      "Loss: 53.61271\n",
      "Loss: 64.70812\n",
      "Loss: 47.98229\n",
      "Loss: 58.49381\n",
      "Loss: 53.955418\n",
      "Loss: 62.04663\n",
      "Loss: 62.34225\n",
      "Loss: 57.737724\n",
      "6th Epoch: [114s]\n",
      "Loss: 64.798355\n",
      "Loss: 53.438236\n",
      "Loss: 57.17614\n",
      "Loss: 53.241623\n",
      "Loss: 48.511757\n",
      "Loss: 59.234734\n",
      "Loss: 56.0071\n",
      "Loss: 62.025658\n",
      "Loss: 57.3013\n",
      "Loss: 63.08677\n",
      "Loss: 63.98293\n",
      "Loss: 30.546957\n",
      "Loss: 54.63069\n",
      "Loss: 62.41072\n",
      "Loss: 62.200455\n",
      "7th Epoch: [133s]\n",
      "Loss: 56.124943\n",
      "Loss: 56.943703\n",
      "Loss: 51.74061\n",
      "Loss: 62.046448\n",
      "Loss: 60.965393\n",
      "Loss: 50.160473\n",
      "Loss: 55.032352\n",
      "Loss: 64.66933\n",
      "Loss: 54.722633\n",
      "Loss: 63.52997\n",
      "Loss: 56.97214\n",
      "Loss: 60.684143\n",
      "Loss: 30.092312\n",
      "Loss: 57.505325\n",
      "Loss: 46.548203\n",
      "8th Epoch: [158s]\n",
      "Loss: 56.53976\n",
      "Loss: 57.07943\n",
      "Loss: 48.527775\n",
      "Loss: 30.506132\n",
      "Loss: 51.029224\n",
      "Loss: 45.23599\n",
      "Loss: 53.61741\n",
      "Loss: 61.881866\n",
      "Loss: 62.299377\n",
      "Loss: 53.961353\n",
      "Loss: 57.512444\n",
      "Loss: 60.89568\n",
      "Loss: 60.59424\n",
      "Loss: 53.459415\n",
      "Loss: 56.72747\n",
      "9th Epoch: [179s]\n",
      "Loss: 55.337513\n",
      "Loss: 56.606224\n",
      "Loss: 48.052402\n",
      "Loss: 30.514061\n",
      "Loss: 62.206924\n",
      "Loss: 60.98944\n",
      "Loss: 56.365894\n",
      "Loss: 61.956074\n",
      "Loss: 57.338066\n",
      "Loss: 52.84798\n",
      "Loss: 58.08136\n",
      "Loss: 52.57992\n",
      "Loss: 45.56402\n",
      "Loss: 62.542805\n",
      "Loss: 55.925007\n",
      "Evaluation took:\n",
      "  201.716 seconds of real time\n",
      "  189.997756 seconds of total run time (157.278211 user, 32.719545 system)\n",
      "  [ Run times consist of 12.149 seconds GC time, and 177.849 seconds non-GC time. ]\n",
      "  94.19% CPU\n",
      "  464,739,727,542 processor cycles\n",
      "  137,497,561,136 bytes consed\n",
      "  \n"
     ]
    }
   ],
   "source": [
    "(defparameter *start-time* (get-universal-time))\n",
    "(defparameter losses nil)\n",
    "\n",
    "(time\n",
    "(dotimes (epoch epoch-num)\n",
    "    (format t \"~ath Epoch: [~as]~%\" epoch (- (get-universal-time) *start-time*))\n",
    "    (let* ((dataset-size (get-dataset-length *train-dataset*))\n",
    "           (batch-indices (loop for batch-num fixnum upfrom 0 below dataset-size by batch-size\n",
    "                                collect batch-num))\n",
    "           (batch-indices (nshuffle batch-indices)))\n",
    "          (dolist (index batch-indices)\n",
    "              (let* ((datum (get-dataset *train-dataset* index))\n",
    "                     (x (car datum))\n",
    "                     (y (second datum)))\n",
    "                    (push (data (step-model trainer x y)) losses)\n",
    "                    (format t \"Loss: ~a~%\" (car losses)))))))"
   ]
  },
  {
   "cell_type": "code",
   "execution_count": 20,
   "id": "7e98f0bb-af68-40d0-a1e2-3036329c7b95",
   "metadata": {},
   "outputs": [
    {
     "data": {
      "text/plain": [
       "#Const(((0.043... 0.006... ~ 0.041... -0.00...)) :mgl t :shape (1 128) :backward <Node: MULTENSOR{W1464111}>)"
      ]
     },
     "execution_count": 20,
     "metadata": {},
     "output_type": "execute_result"
    }
   ],
   "source": [
    "(!mean (slot-value (slot-value (slot-value (slot-value trainer 'model) 'encoder) 'embedding) 'cl-waffe.nn::weights) 0)"
   ]
  },
  {
   "cell_type": "code",
   "execution_count": 21,
   "id": "4b6a865b-3b6f-406e-814d-695fa7828384",
   "metadata": {},
   "outputs": [
    {
     "data": {
      "text/plain": [
       "*IMGPATH*"
      ]
     },
     "execution_count": 21,
     "metadata": {},
     "output_type": "execute_result"
    },
    {
     "data": {
      "text/plain": [
       "NIL"
      ]
     },
     "execution_count": 21,
     "metadata": {},
     "output_type": "execute_result"
    },
    {
     "data": {
      "text/plain": [
       "NIL"
      ]
     },
     "execution_count": 21,
     "metadata": {},
     "output_type": "execute_result"
    },
    {
     "data": {
      "text/plain": [
       "0"
      ]
     },
     "execution_count": 21,
     "metadata": {},
     "output_type": "execute_result"
    },
    {
     "data": {
      "image/png": "[encoded data removed]",
      "text/plain": [
       "./tmp/Seq2Seq_KFTT_Losses.png"
      ]
     },
     "metadata": {},
     "output_type": "display_data"
    }
   ],
   "source": [
    "(defparameter *imgpath* \"./tmp/Seq2Seq_KFTT_Losses.png\")\n",
    "\n",
    "; Lossのx軸の向きは反対\n",
    "(plot (reverse losses) :output *imgpath*)\n",
    "(jupyter:file *imgpath* :display t)\n",
    "; Lossが近辺で停滞しちゃう・・・多分学習データが偏ってる"
   ]
  },
  {
   "cell_type": "code",
   "execution_count": null,
   "id": "08be7158-ca3a-40ec-a247-6bfc0346708d",
   "metadata": {},
   "outputs": [],
   "source": []
  }
 ],
 "metadata": {
  "kernelspec": {
   "display_name": "Common Lisp",
   "language": "common-lisp",
   "name": "common-lisp"
  },
  "language_info": {
   "codemirror_mode": "text/x-common-lisp",
   "file_extension": ".lisp",
   "mimetype": "text/x-common-lisp",
   "name": "common-lisp",
   "pygments_lexer": "common-lisp",
   "version": "2.1.0"
  }
 },
 "nbformat": 4,
 "nbformat_minor": 5
}
