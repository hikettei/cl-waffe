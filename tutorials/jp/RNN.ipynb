{
 "cells": [
  {
   "cell_type": "code",
   "execution_count": 1,
   "id": "28aceae3-385f-4cb7-a348-21c92844f712",
   "metadata": {},
   "outputs": [
    {
     "data": {
      "text/plain": [
       "T"
      ]
     },
     "execution_count": 1,
     "metadata": {},
     "output_type": "execute_result"
    },
    {
     "data": {
      "text/plain": [
       "T"
      ]
     },
     "execution_count": 1,
     "metadata": {},
     "output_type": "execute_result"
    },
    {
     "data": {
      "text/plain": [
       "(:CLGPLOT :CL-WAFFE)"
      ]
     },
     "execution_count": 1,
     "metadata": {},
     "output_type": "execute_result"
    },
    {
     "name": "stdout",
     "output_type": "stream",
     "text": [
      "SB-INT:SIMPLE-STYLE-WARNING: undefined function: KFTT-DATA-PARSER::REGISTER-WORD\n",
      "SB-INT:SIMPLE-STYLE-WARNING: undefined function: KFTT-DATA-PARSER:CALC-DATA-SIZE\n",
      "SB-INT:SIMPLE-STYLE-WARNING: undefined function: KFTT-DATA-PARSER:CALC-MAX-LENGTH\n"
     ]
    },
    {
     "name": "stderr",
     "output_type": "stream",
     "text": [
      "Unable to find framework CUDA\n"
     ]
    }
   ],
   "source": [
    "; cl-waffeを読み込む\n",
    "(load \"../../cl-waffe.asd\")\n",
    "; kfttを読み込むための自作ライブラリ\n",
    "(load \"../../examples/kftt-data-parser.lisp\")\n",
    "(ql:quickload `(:clgplot :cl-waffe) :silent t)"
   ]
  },
  {
   "cell_type": "markdown",
   "id": "11b7bb8e-b93e-4ba9-b38d-3a7c95b11dfc",
   "metadata": {},
   "source": [
    "## Seq2Seqを用いてKFTTを学習\n",
    "\n",
    "cl-waffeのRNNを用いて[京都フリー翻訳タスク (KFTT)](http://www.phontron.com/kftt/index-ja.html#leaders)を学習させる例です。\n",
    "\n",
    "学習データのダウンロード (0.4GB程度の容量が必要です。)\n",
    "```shell\n",
    "$ curl -O http://www.phontron.com/kftt/download/kftt-data-1.0.tar.gz\n",
    "$ tar xzvf kftt-data-1.0.tar.gz\n",
    "```"
   ]
  },
  {
   "cell_type": "code",
   "execution_count": 2,
   "id": "6223cd18-6d07-44db-be74-0401e5df8dc2",
   "metadata": {},
   "outputs": [
    {
     "data": {
      "text/plain": [
       "#<PACKAGE \"SEQ2SEQ-KFTT\">"
      ]
     },
     "execution_count": 2,
     "metadata": {},
     "output_type": "execute_result"
    },
    {
     "data": {
      "text/plain": [
       "#<PACKAGE \"SEQ2SEQ-KFTT\">"
      ]
     },
     "execution_count": 2,
     "metadata": {},
     "output_type": "execute_result"
    }
   ],
   "source": [
    "(defpackage :seq2seq-kftt\n",
    "    (:use :cl :cl-waffe :cl-waffe.nn :clgplot :mgl-mat :kftt-data-parser))\n",
    "\n",
    "(in-package :seq2seq-kftt)"
   ]
  },
  {
   "cell_type": "markdown",
   "id": "12a48b47-180a-4f42-91ea-d1d1ba0aa3b9",
   "metadata": {},
   "source": [
    "### Seq2Seq\n",
    "\n",
    "Seq2Seq\n",
    "\n",
    "問題："
   ]
  },
  {
   "cell_type": "markdown",
   "id": "343b1d63-d11b-4bfc-b1aa-2394d291f42b",
   "metadata": {},
   "source": [
    "### Seq2Seqモデルを定義する。"
   ]
  },
  {
   "cell_type": "code",
   "execution_count": 3,
   "id": "b84e8642-7b38-4337-b4c5-285154147e9e",
   "metadata": {},
   "outputs": [
    {
     "data": {
      "text/plain": [
       "NIL"
      ]
     },
     "execution_count": 3,
     "metadata": {},
     "output_type": "execute_result"
    },
    {
     "data": {
      "text/plain": [
       "NIL"
      ]
     },
     "execution_count": 3,
     "metadata": {},
     "output_type": "execute_result"
    },
    {
     "data": {
      "text/plain": [
       "NIL"
      ]
     },
     "execution_count": 3,
     "metadata": {},
     "output_type": "execute_result"
    },
    {
     "name": "stdout",
     "output_type": "stream",
     "text": [
      "SB-INT:SIMPLE-STYLE-WARNING: Cannot find type for specializer\n",
      "                             SEQ2SEQ-KFTT::ENCODER when executing\n",
      "                             SB-PCL:SPECIALIZER-TYPE-SPECIFIER for a\n",
      "                             STANDARD-METHOD of a STANDARD-GENERIC-FUNCTION.\n",
      "SB-INT:SIMPLE-STYLE-WARNING: Cannot find type for specializer\n",
      "                             SEQ2SEQ-KFTT::ENCODER when executing\n",
      "                             SB-PCL:SPECIALIZER-TYPE-SPECIFIER for a\n",
      "                             STANDARD-METHOD of a STANDARD-GENERIC-FUNCTION.\n",
      "SB-INT:SIMPLE-STYLE-WARNING: Cannot find type for specializer\n",
      "                             SEQ2SEQ-KFTT::ENCODER when executing\n",
      "                             SB-PCL:SPECIALIZER-TYPE-SPECIFIER for a\n",
      "                             STANDARD-METHOD of a STANDARD-GENERIC-FUNCTION.\n",
      "SB-INT:SIMPLE-STYLE-WARNING: undefined type: SEQ2SEQ-KFTT::ENCODER\n",
      "SB-INT:SIMPLE-STYLE-WARNING: Cannot find type for specializer\n",
      "                             SEQ2SEQ-KFTT::DECODER when executing\n",
      "                             SB-PCL:SPECIALIZER-TYPE-SPECIFIER for a\n",
      "                             STANDARD-METHOD of a STANDARD-GENERIC-FUNCTION.\n",
      "SB-INT:SIMPLE-STYLE-WARNING: Cannot find type for specializer\n",
      "                             SEQ2SEQ-KFTT::DECODER when executing\n",
      "                             SB-PCL:SPECIALIZER-TYPE-SPECIFIER for a\n",
      "                             STANDARD-METHOD of a STANDARD-GENERIC-FUNCTION.\n",
      "SB-INT:SIMPLE-STYLE-WARNING: Cannot find type for specializer\n",
      "                             SEQ2SEQ-KFTT::DECODER when executing\n",
      "                             SB-PCL:SPECIALIZER-TYPE-SPECIFIER for a\n",
      "                             STANDARD-METHOD of a STANDARD-GENERIC-FUNCTION.\n",
      "SB-INT:SIMPLE-STYLE-WARNING: undefined type: SEQ2SEQ-KFTT::DECODER\n",
      "SB-INT:SIMPLE-STYLE-WARNING: Cannot find type for specializer\n",
      "                             SEQ2SEQ-KFTT::SEQ2SEQ when executing\n",
      "                             SB-PCL:SPECIALIZER-TYPE-SPECIFIER for a\n",
      "                             STANDARD-METHOD of a STANDARD-GENERIC-FUNCTION.\n",
      "SB-INT:SIMPLE-STYLE-WARNING: Cannot find type for specializer\n",
      "                             SEQ2SEQ-KFTT::SEQ2SEQ when executing\n",
      "                             SB-PCL:SPECIALIZER-TYPE-SPECIFIER for a\n",
      "                             STANDARD-METHOD of a STANDARD-GENERIC-FUNCTION.\n",
      "SB-INT:SIMPLE-STYLE-WARNING: Cannot find type for specializer\n",
      "                             SEQ2SEQ-KFTT::SEQ2SEQ when executing\n",
      "                             SB-PCL:SPECIALIZER-TYPE-SPECIFIER for a\n",
      "                             STANDARD-METHOD of a STANDARD-GENERIC-FUNCTION.\n",
      "SB-INT:SIMPLE-STYLE-WARNING: undefined type: SEQ2SEQ-KFTT::SEQ2SEQ\n"
     ]
    }
   ],
   "source": [
    "(defmodel Encoder (vocab-size embedding-dim hidden-size)\n",
    "  :parameters ((embedding (Embedding vocab-size embedding-dim :pad-idx 0))\n",
    "               (layer     (RNN embedding-dim hidden-size :num-layers 1)))\n",
    "  :forward ((x)\n",
    "            \"Input:\n",
    "                x - 単語\n",
    "             Return:\n",
    "                隠れ層の出力\"\n",
    "            (with-calling-layers x\n",
    "                (embedding x)\n",
    "                (layer x))))\n",
    "\n",
    "(defmodel Decoder (vocab-size embedding-dim hidden-size)\n",
    "  :parameters ((embedding (Embedding vocab-size embedding-dim :pad-idx 0))\n",
    "               (layer     (RNN embedding-dim hidden-size :num-layers 1))\n",
    "               (h2l       (linearlayer hidden-size vocab-size)))\n",
    "  :forward ((encoder-state y)\n",
    "            (let* ((ye (call (self embedding) y))\n",
    "                   (hs (call (self layer) ye encoder-state))\n",
    "                   (h-output (call (self h2l) hs)))\n",
    "                  h-output)))\n",
    "\n",
    "(defmodel Seq2Seq (vocab-size-lang1 vocab-size-lang2 embedding-dim input-size)\n",
    "  :parameters ((encoder (Encoder vocab-size-lang1 embedding-dim input-size))\n",
    "               (decoder (Decoder vocab-size-lang2 embedding-dim input-size)))\n",
    "  :forward ((x y)\n",
    "            (let ((x-state (call (self encoder) x)))\n",
    "                 (call (self decoder)\n",
    "                       x-state\n",
    "                       (!aref y t '(0 -1))))))"
   ]
  },
  {
   "cell_type": "markdown",
   "id": "cd0d5cfd-d560-402b-8ea3-3f8df6a0f5bb",
   "metadata": {},
   "source": [
    "### パラメーターの設定"
   ]
  },
  {
   "cell_type": "code",
   "execution_count": 4,
   "id": "ed1fc44e-f0b0-4ebe-af27-db2ddffcad07",
   "metadata": {},
   "outputs": [
    {
     "data": {
      "text/plain": [
       "LANG1"
      ]
     },
     "execution_count": 4,
     "metadata": {},
     "output_type": "execute_result"
    },
    {
     "data": {
      "text/plain": [
       "LANG2"
      ]
     },
     "execution_count": 4,
     "metadata": {},
     "output_type": "execute_result"
    },
    {
     "data": {
      "text/plain": [
       "BATCH-SIZE"
      ]
     },
     "execution_count": 4,
     "metadata": {},
     "output_type": "execute_result"
    },
    {
     "data": {
      "text/plain": [
       "EPOCH-NUM"
      ]
     },
     "execution_count": 4,
     "metadata": {},
     "output_type": "execute_result"
    },
    {
     "data": {
      "text/plain": [
       "LR"
      ]
     },
     "execution_count": 4,
     "metadata": {},
     "output_type": "execute_result"
    },
    {
     "data": {
      "text/plain": [
       "EMBEDDING-DIM"
      ]
     },
     "execution_count": 4,
     "metadata": {},
     "output_type": "execute_result"
    },
    {
     "data": {
      "text/plain": [
       "HIDDEN-SIZE"
      ]
     },
     "execution_count": 4,
     "metadata": {},
     "output_type": "execute_result"
    },
    {
     "data": {
      "text/plain": [
       "SENTENCE-MAXLEN"
      ]
     },
     "execution_count": 4,
     "metadata": {},
     "output_type": "execute_result"
    }
   ],
   "source": [
    "(defparameter lang1 :ja)\n",
    "(defparameter lang2 :en)\n",
    "\n",
    "(defparameter batch-size 32)\n",
    "(defparameter epoch-num 1)\n",
    "(defparameter lr 1e-3)\n",
    "(defparameter embedding-dim 128)\n",
    "(defparameter hidden-size 128)\n",
    "\n",
    "(defparameter sentence-maxlen 16)\n",
    "; ja -> en"
   ]
  },
  {
   "cell_type": "code",
   "execution_count": 5,
   "id": "f79b61b5-bd26-4256-8fdc-63cb516c7523",
   "metadata": {},
   "outputs": [
    {
     "data": {
      "text/plain": [
       "NIL"
      ]
     },
     "execution_count": 5,
     "metadata": {},
     "output_type": "execute_result"
    },
    {
     "name": "stdout",
     "output_type": "stream",
     "text": [
      "SB-INT:SIMPLE-STYLE-WARNING: Cannot find type for specializer\n",
      "                             SEQ2SEQ-KFTT::SEQ2SEQTRAINER when executing\n",
      "                             SB-PCL:SPECIALIZER-TYPE-SPECIFIER for a\n",
      "                             STANDARD-METHOD of a STANDARD-GENERIC-FUNCTION.\n",
      "SB-INT:SIMPLE-STYLE-WARNING: Cannot find type for specializer\n",
      "                             SEQ2SEQ-KFTT::SEQ2SEQTRAINER when executing\n",
      "                             SB-PCL:SPECIALIZER-TYPE-SPECIFIER for a\n",
      "                             STANDARD-METHOD of a STANDARD-GENERIC-FUNCTION.\n",
      "SB-INT:SIMPLE-STYLE-WARNING: Cannot find type for specializer\n",
      "                             SEQ2SEQ-KFTT::SEQ2SEQTRAINER when executing\n",
      "                             SB-PCL:SPECIALIZER-TYPE-SPECIFIER for a\n",
      "                             STANDARD-METHOD of a STANDARD-GENERIC-FUNCTION.\n"
     ]
    }
   ],
   "source": [
    "(deftrainer Seq2SeqTrainer (vocab-size-lang1 vocab-size-lang2 embedding-dim hidden-size)\n",
    "  :model (Seq2Seq vocab-size-lang1 vocab-size-lang2 embedding-dim hidden-size)\n",
    "  :optimizer cl-waffe.optimizers:Adam\n",
    "  :optimizer-args (:lr lr)\n",
    "  :step-model ((x y)\n",
    "               (zero-grad)\n",
    "               (let* ((outs (call (self model) x y))\n",
    "                      (losses 0.0))\n",
    "                     (loop for i fixnum upfrom 0 below (!shape outs 1)\n",
    "                           do (setq losses (!add losses (softmax-cross-entropy\n",
    "                                                         (!aref outs t i t)\n",
    "                                                         (!aref y t (1+ i))))))\n",
    "                     (backward losses)\n",
    "                     (update)\n",
    "                     losses))\n",
    "  :predict ((x y) (call (model) x y))) ; predict is todo"
   ]
  },
  {
   "cell_type": "markdown",
   "id": "78f80580-0318-47a9-8942-1910518eea12",
   "metadata": {},
   "source": [
    "### データの前処理\n",
    "\n",
    "語彙数削減のためSentencePieceを用いる（TODO)\n",
    "\n",
    "文字数でソートしてPaddingのコストを減らす（TODO)"
   ]
  },
  {
   "cell_type": "code",
   "execution_count": 6,
   "id": "9fb98f9b-5c19-4436-ab9e-53a09f898403",
   "metadata": {},
   "outputs": [
    {
     "data": {
      "text/plain": [
       "I2W-LANG1"
      ]
     },
     "execution_count": 6,
     "metadata": {},
     "output_type": "execute_result"
    },
    {
     "data": {
      "text/plain": [
       "I2W-LANG2"
      ]
     },
     "execution_count": 6,
     "metadata": {},
     "output_type": "execute_result"
    },
    {
     "data": {
      "text/plain": [
       "\"Vocab_Size: \n",
       " Lang1: 4519 \n",
       " Lang2: 4780\""
      ]
     },
     "execution_count": 6,
     "metadata": {},
     "output_type": "execute_result"
    }
   ],
   "source": [
    "; 辞書データを作る\n",
    "(multiple-value-bind (lang1-w2i lang1-i2w) (collect-tokens :dev lang1 T)\n",
    "    (defparameter w2i-lang1 lang1-w2i)\n",
    "    (defparameter i2w-lang1 lang1-i2w))\n",
    "\n",
    "(multiple-value-bind (lang2-w2i lang2-i2w) (collect-tokens :dev lang2 T)\n",
    "    (defparameter w2i-lang2 lang2-w2i)\n",
    "    (defparameter i2w-lang2 lang2-i2w))\n",
    "\n",
    ";w2i: Hash Table, 単語(英語+日本語) -> Index, i2w: Index -> 単語\n",
    "\n",
    "(format nil \"Vocab_Size: ~% Lang1: ~a ~% Lang2: ~a\" (hash-table-count w2i-lang1) (hash-table-count w2i-lang2))"
   ]
  },
  {
   "cell_type": "code",
   "execution_count": 7,
   "id": "e8ebac4a-e309-4387-92ba-0085572832df",
   "metadata": {},
   "outputs": [
    {
     "data": {
      "text/plain": [
       "SPLIT"
      ]
     },
     "execution_count": 7,
     "metadata": {},
     "output_type": "execute_result"
    },
    {
     "data": {
      "text/plain": [
       "LIST-TO-TENSOR"
      ]
     },
     "execution_count": 7,
     "metadata": {},
     "output_type": "execute_result"
    },
    {
     "data": {
      "text/plain": [
       "WORDS-INTO-IDX"
      ]
     },
     "execution_count": 7,
     "metadata": {},
     "output_type": "execute_result"
    },
    {
     "data": {
      "text/plain": [
       "MAKE-TRAIN-DATA"
      ]
     },
     "execution_count": 7,
     "metadata": {},
     "output_type": "execute_result"
    },
    {
     "data": {
      "text/plain": [
       "DROPOUT-BY-SENTENCE-LEN"
      ]
     },
     "execution_count": 7,
     "metadata": {},
     "output_type": "execute_result"
    }
   ],
   "source": [
    "; 文字列操作のユーティリティ\n",
    "\n",
    "(defun split (x str)\n",
    "  (let ((pos (search x str))\n",
    "        (size (length x)))\n",
    "    (if pos\n",
    "      (cons (subseq str 0 pos)\n",
    "            (split x (subseq str (+ pos size))))\n",
    "      (list str))))\n",
    "\n",
    "(defun list-to-tensor (list)\n",
    "    (const (make-mat (length list) :initial-contents list)))\n",
    "\n",
    "(defun words-into-idx (words lang)\n",
    "    \"words: 単語のList, (e.g.: 臨済 宗 （ 臨濟 宗 、)... )\n",
    "     lang : :ja or :en\"\n",
    "    \n",
    "    (list-to-tensor\n",
    "     (map 'list #'(lambda (word)\n",
    "                          (cond\n",
    "                              ((eql lang lang1)\n",
    "                               (or (gethash word w2i-lang1)\n",
    "                                   (gethash \"<UNK>\" w2i-lang1)))\n",
    "                              ((eql lang lang2)\n",
    "                               (or (gethash word w2i-lang1)\n",
    "                                   (gethash \"<UNK>\" w2i-lang2)))\n",
    "                              (T (error \"\")))) `(\"<BOS>\" ,@words \"<EOS>\"))))\n",
    "\n",
    "(defun make-train-data (language data-type)\n",
    "    \"Language: 言語\n",
    "     data-type: :train or :test\"\n",
    "    \n",
    "    (let ((result nil))\n",
    "         (time (with-open-kftt-file line :tok data-type language\n",
    "                   (push\n",
    "                    (words-into-idx (split \" \" line) language)\n",
    "                    result)))\n",
    "         (reverse result)))\n",
    "\n",
    "(defun dropout-by-sentence-len (tx ty &aux r1 r2)\n",
    "    \"train_X, train_Yで、sentence-maxlen以上のデータセットを削除する\"\n",
    "    (loop for i fixnum upfrom 0 below (length tx)\n",
    "          unless (or (>= (!size (nth i tx)) sentence-maxlen)\n",
    "                     (>= (!size (nth i ty)) sentence-maxlen))\n",
    "          do (progn\n",
    "                 (push (nth i tx) r1)\n",
    "                 (push (nth i ty) r2)))\n",
    "    (values (reverse r1) (reverse r2)))"
   ]
  },
  {
   "cell_type": "code",
   "execution_count": 8,
   "id": "9c47179e-1ade-4ea5-8eda-73d8350423ce",
   "metadata": {},
   "outputs": [
    {
     "data": {
      "text/plain": [
       "TRAIN_X"
      ]
     },
     "execution_count": 8,
     "metadata": {},
     "output_type": "execute_result"
    },
    {
     "data": {
      "text/plain": [
       "1166"
      ]
     },
     "execution_count": 8,
     "metadata": {},
     "output_type": "execute_result"
    },
    {
     "name": "stdout",
     "output_type": "stream",
     "text": [
      "Evaluation took:\n",
      "  0.064 seconds of real time\n",
      "  0.041199 seconds of total run time (0.036556 user, 0.004643 system)\n",
      "  64.06% CPU\n",
      "  119 lambdas converted\n",
      "  148,927,938 processor cycles\n",
      "  15,401,712 bytes consed\n",
      "  \n"
     ]
    }
   ],
   "source": [
    "(defparameter train_X (make-train-data lang1 :dev))\n",
    "(length train_X)"
   ]
  },
  {
   "cell_type": "code",
   "execution_count": 9,
   "id": "a0d35f56-d0ef-4501-af6a-8cb1ec252ae9",
   "metadata": {},
   "outputs": [
    {
     "data": {
      "text/plain": [
       "TRAIN_Y"
      ]
     },
     "execution_count": 9,
     "metadata": {},
     "output_type": "execute_result"
    },
    {
     "name": "stdout",
     "output_type": "stream",
     "text": [
      "Evaluation took:\n",
      "  0.029 seconds of real time\n",
      "  0.020022 seconds of total run time (0.018651 user, 0.001371 system)\n",
      "  68.97% CPU\n",
      "  68,177,830 processor cycles\n",
      "  14,774,976 bytes consed\n",
      "  \n"
     ]
    }
   ],
   "source": [
    "(defparameter train_Y (make-train-data lang2 :dev))"
   ]
  },
  {
   "cell_type": "code",
   "execution_count": 10,
   "id": "fe2bedf6-8243-4659-8966-b79ea75bd057",
   "metadata": {},
   "outputs": [
    {
     "data": {
      "text/plain": [
       "TRAIN_Y"
      ]
     },
     "execution_count": 10,
     "metadata": {},
     "output_type": "execute_result"
    },
    {
     "data": {
      "text/plain": [
       "480"
      ]
     },
     "execution_count": 10,
     "metadata": {},
     "output_type": "execute_result"
    }
   ],
   "source": [
    "(multiple-value-bind (x y) (dropout-by-sentence-len train_X train_Y)\n",
    "    (defparameter train_X x)\n",
    "    (defparameter train_Y y))\n",
    "\n",
    "(length train_X)"
   ]
  },
  {
   "cell_type": "code",
   "execution_count": 11,
   "id": "e706a0b9-71cb-465b-9e39-1aff47e9b305",
   "metadata": {},
   "outputs": [
    {
     "data": {
      "text/plain": [
       "TEST_X"
      ]
     },
     "execution_count": 11,
     "metadata": {},
     "output_type": "execute_result"
    },
    {
     "data": {
      "text/plain": [
       "TEST_Y"
      ]
     },
     "execution_count": 11,
     "metadata": {},
     "output_type": "execute_result"
    },
    {
     "name": "stdout",
     "output_type": "stream",
     "text": [
      "Evaluation took:\n",
      "  0.037 seconds of real time\n",
      "  0.026453 seconds of total run time (0.023839 user, 0.002614 system)\n",
      "  70.27% CPU\n",
      "  86,103,926 processor cycles\n",
      "  10,381,328 bytes consed\n",
      "  \n",
      "Evaluation took:\n",
      "  0.095 seconds of real time\n",
      "  0.044945 seconds of total run time (0.033776 user, 0.011169 system)\n",
      "  47.37% CPU\n",
      "  220,492,028 processor cycles\n",
      "  14,788,704 bytes consed\n",
      "  \n"
     ]
    }
   ],
   "source": [
    "(defparameter test_X (make-train-data lang1 :dev))\n",
    "(defparameter test_Y (make-train-data lang2 :dev))"
   ]
  },
  {
   "cell_type": "code",
   "execution_count": 12,
   "id": "1ae4f108-89ba-418a-90bd-d35602e84d42",
   "metadata": {},
   "outputs": [
    {
     "data": {
      "text/plain": [
       "TEST_Y"
      ]
     },
     "execution_count": 12,
     "metadata": {},
     "output_type": "execute_result"
    },
    {
     "data": {
      "text/plain": [
       "480"
      ]
     },
     "execution_count": 12,
     "metadata": {},
     "output_type": "execute_result"
    }
   ],
   "source": [
    "(multiple-value-bind (x y) (dropout-by-sentence-len test_X test_Y)\n",
    "    (defparameter test_X x)\n",
    "    (defparameter test_Y y))\n",
    "\n",
    "(length test_X)"
   ]
  },
  {
   "cell_type": "markdown",
   "id": "9a5267dd-08f0-4162-8142-d0ac9a7e3eb7",
   "metadata": {},
   "source": [
    "### データセットを定義する\n",
    "\n"
   ]
  },
  {
   "cell_type": "code",
   "execution_count": 13,
   "id": "b1e560b4-04c6-46f3-8d2c-1786ed7b4879",
   "metadata": {},
   "outputs": [
    {
     "data": {
      "text/plain": [
       "NIL"
      ]
     },
     "execution_count": 13,
     "metadata": {},
     "output_type": "execute_result"
    },
    {
     "name": "stdout",
     "output_type": "stream",
     "text": [
      "SB-INT:SIMPLE-STYLE-WARNING: Cannot find type for specializer\n",
      "                             SEQ2SEQ-KFTT::KFTT-DATASET when executing\n",
      "                             SB-PCL:SPECIALIZER-TYPE-SPECIFIER for a\n",
      "                             STANDARD-METHOD of a STANDARD-GENERIC-FUNCTION.\n",
      "SB-INT:SIMPLE-STYLE-WARNING: Cannot find type for specializer\n",
      "                             SEQ2SEQ-KFTT::KFTT-DATASET when executing\n",
      "                             SB-PCL:SPECIALIZER-TYPE-SPECIFIER for a\n",
      "                             STANDARD-METHOD of a STANDARD-GENERIC-FUNCTION.\n",
      "SB-INT:SIMPLE-STYLE-WARNING: Cannot find type for specializer\n",
      "                             SEQ2SEQ-KFTT::KFTT-DATASET when executing\n",
      "                             SB-PCL:SPECIALIZER-TYPE-SPECIFIER for a\n",
      "                             STANDARD-METHOD of a STANDARD-GENERIC-FUNCTION.\n"
     ]
    }
   ],
   "source": [
    "(defdataset KFTT-Dataset (x y batch-size)\n",
    "    :parameters ((x x)\n",
    "                 (y y)\n",
    "                 (batch-size batch-size))\n",
    "    :next ((index)\n",
    "           \"Returns (list X[index:(+ index batch-size)] Y[index:(+ index batch-size)])\"\n",
    "           (let* ((batch-size (self batch-size))\n",
    "                  (end (min (length (self x)) (+ index (self batch-size))))\n",
    "                  (x (loop for i fixnum upfrom index below end\n",
    "                           collect (nth i (self x))))\n",
    "                  (y (loop for i fixnum upfrom index below end\n",
    "                           collect (nth i (self y))))\n",
    "                  (batch-maxlen (max (apply #'max (map 'list #'!size x))\n",
    "                                     (apply #'max (map 'list #'!size y))))\n",
    "                  (result-x (!zeros `(,(length x) ,batch-maxlen)))\n",
    "                  (result-y (!zeros `(,(length y) ,batch-maxlen))))\n",
    "                 \n",
    "                 (dotimes (index (the fixnum (!shape result-x 0)))\n",
    "                     (setf (!aref result-x index `(0 ,(!size (nth index x)))) (nth index x))\n",
    "                     (setf (!aref result-y index `(0 ,(!size (nth index y)))) (nth index y)))\n",
    "                 (list result-x result-y)))\n",
    "    :length (() (length (self x))))"
   ]
  },
  {
   "cell_type": "code",
   "execution_count": 14,
   "id": "5cdfa20c-172c-41dc-97fd-991b2204bea3",
   "metadata": {},
   "outputs": [
    {
     "data": {
      "text/plain": [
       "*TRAIN-DATASET*"
      ]
     },
     "execution_count": 14,
     "metadata": {},
     "output_type": "execute_result"
    },
    {
     "data": {
      "text/plain": [
       "*TEST-DATASET*"
      ]
     },
     "execution_count": 14,
     "metadata": {},
     "output_type": "execute_result"
    },
    {
     "data": {
      "text/plain": [
       "NIL"
      ]
     },
     "execution_count": 14,
     "metadata": {},
     "output_type": "execute_result"
    },
    {
     "name": "stdout",
     "output_type": "stream",
     "text": [
      "Evaluation took:\n",
      "  0.130 seconds of real time\n",
      "  0.090010 seconds of total run time (0.075669 user, 0.014341 system)\n",
      "  69.23% CPU\n",
      "  99 lambdas converted\n",
      "  300,238,364 processor cycles\n",
      "  22,560,112 bytes consed\n",
      "  \n"
     ]
    }
   ],
   "source": [
    "(defparameter *train-dataset* (KFTT-Dataset train_x train_y batch-size))\n",
    "(defparameter *test-dataset*  (KFTT-Dataset test_x test_y batch-size))\n",
    "\n",
    "(time (dotimes (i 100) (get-dataset *train-dataset* 0)))"
   ]
  },
  {
   "cell_type": "code",
   "execution_count": 15,
   "id": "ecef0322-f2a9-4dfb-9c46-c9d173013dae",
   "metadata": {},
   "outputs": [
    {
     "data": {
      "text/plain": [
       "TRAINER"
      ]
     },
     "execution_count": 15,
     "metadata": {},
     "output_type": "execute_result"
    },
    {
     "data": {
      "text/plain": [
       "<Trainer: SEQ2SEQTRAINER()>"
      ]
     },
     "execution_count": 15,
     "metadata": {},
     "output_type": "execute_result"
    }
   ],
   "source": [
    "(defparameter trainer (seq2seqtrainer (hash-table-count w2i-lang1)\n",
    "                                      (hash-table-count w2i-lang2)\n",
    "                                      embedding-dim\n",
    "                                      hidden-size))\n",
    "trainer"
   ]
  },
  {
   "cell_type": "code",
   "execution_count": 16,
   "id": "e3c818ef-1019-4817-992f-57066ccb3229",
   "metadata": {},
   "outputs": [
    {
     "data": {
      "text/plain": [
       "#Const(842.49493)"
      ]
     },
     "execution_count": 16,
     "metadata": {},
     "output_type": "execute_result"
    },
    {
     "name": "stdout",
     "output_type": "stream",
     "text": [
      "Evaluation took:\n",
      "  3.153 seconds of real time\n",
      "  2.964812 seconds of total run time (2.308746 user, 0.656066 system)\n",
      "  [ Run times consist of 0.242 seconds GC time, and 2.723 seconds non-GC time. ]\n",
      "  94.04% CPU\n",
      "  220 lambdas converted\n",
      "  7,264,363,014 processor cycles\n",
      "  1,721,329,776 bytes consed\n",
      "  \n"
     ]
    }
   ],
   "source": [
    "(time (step-model trainer (!ones `(1 100)) (!ones `(1 100))))"
   ]
  },
  {
   "cell_type": "code",
   "execution_count": 18,
   "id": "12a52ce4-a060-4314-a02e-10713a937407",
   "metadata": {},
   "outputs": [
    {
     "data": {
      "text/plain": [
       "[Model: RNN :ident {W80211}]"
      ]
     },
     "execution_count": 18,
     "metadata": {},
     "output_type": "execute_result"
    },
    {
     "data": {
      "text/plain": [
       "#Parameter{(((-0.36... -0.13... ~ 0.249... -0.03...)             \n",
       "                           ...\n",
       "             (-1.32... -0.15... ~ 1.516... 0.046...))            \n",
       "                         ...\n",
       "            ((0.967... -0.07... ~ 0.649... 0.679...)             \n",
       "                           ...\n",
       "             (0.169... 0.172... ~ 0.348... -0.51...))) :mgl t :shape (10 10 100) :backward NIL}"
      ]
     },
     "execution_count": 18,
     "metadata": {},
     "output_type": "execute_result"
    },
    {
     "data": {
      "text/plain": [
       "NIL"
      ]
     },
     "execution_count": 18,
     "metadata": {},
     "output_type": "execute_result"
    },
    {
     "data": {
      "text/plain": [
       "NIL"
      ]
     },
     "execution_count": 18,
     "metadata": {},
     "output_type": "execute_result"
    },
    {
     "name": "stdout",
     "output_type": "stream",
     "text": [
      "SIMPLE-WARNING: undefined variable: SEQ2SEQ-KFTT::M\n",
      "SIMPLE-WARNING: undefined variable: SEQ2SEQ-KFTT::K\n",
      "SIMPLE-WARNING: undefined variable: SEQ2SEQ-KFTT::K\n",
      "SIMPLE-WARNING: undefined variable: SEQ2SEQ-KFTT::M\n",
      "measuring PROFILE overhead..done\n",
      "  seconds  |     gc     |   consed   | calls |  sec/call  |  name  \n",
      "--------------------------------------------------------\n",
      "     0.069 |      0.015 | 75,731,408 |   243 |   0.000285 | !MATMUL\n",
      "     0.034 |      0.000 |  9,616,304 |     1 |   0.034322 | CL-WAFFE::BACKWARD1\n",
      "     0.001 |      0.000 |    149,008 |    10 |   0.000061 | !TANH\n",
      "     0.000 |      0.000 |          0 |     1 |   0.000000 | BACKWARD\n",
      "--------------------------------------------------------\n",
      "     0.104 |      0.015 | 85,496,720 |   255 |            | Total\n",
      "\n",
      "estimated total profiling overhead: 0.00 seconds\n",
      "overhead estimation parameters:\n",
      "  5.032e-9s/call, 1.4247521e-6s total profiling, 6.6927396e-7s internal profiling\n"
     ]
    }
   ],
   "source": [
    "(setq m (RNN 100 128))\n",
    "(setq k (parameter (!randn `(10 10 100))))\n",
    "\n",
    "(sb-profile:reset)\n",
    "(sb-profile:profile\n",
    " cl-waffe:!matmul\n",
    " cl-waffe:!tanh\n",
    " cl-waffe:backward\n",
    " cl-waffe::backward1)\n",
    "\n",
    "(backward (!sum (call m k)))\n",
    "\n",
    ";(time (step-model trainer (!ones `(32 4)) (!ones `(32 4))))\n",
    "(sb-profile:report)"
   ]
  },
  {
   "cell_type": "code",
   "execution_count": 19,
   "id": "a4c5eed2-4c30-43db-8de0-3b4244798d88",
   "metadata": {},
   "outputs": [
    {
     "data": {
      "text/plain": [
       "*START-TIME*"
      ]
     },
     "execution_count": 19,
     "metadata": {},
     "output_type": "execute_result"
    },
    {
     "data": {
      "text/plain": [
       "LOSSES"
      ]
     },
     "execution_count": 19,
     "metadata": {},
     "output_type": "execute_result"
    },
    {
     "name": "stderr",
     "output_type": "stream",
     "text": [
      "FLOATING-POINT-OVERFLOW: arithmetic error FLOATING-POINT-OVERFLOW signalled\n",
      "Operation was (COERCE 6.126948609756033d42 SINGLE-FLOAT).\n",
      "\n"
     ]
    },
    {
     "ename": "FLOATING-POINT-OVERFLOW",
     "evalue": "arithmetic error FLOATING-POINT-OVERFLOW signalled\nOperation was (COERCE 6.126948609756033d42 SINGLE-FLOAT).",
     "output_type": "error",
     "traceback": [
      "0: (MGL-MAT::LISP-.EXP!-S #(98.52127 98.57264 98.5014 98.48482 98.46618 98.488304 98.56503 98.513885 98.47185 98.46189 98.50351 98.522606 98.45548 98.51437 98.537094 98.4508 98.47656 98.49906 98.51197 98.510124 98.44895 98.50548 98.53082 98.45558 98.45831 98.513664 98.49933 98.492294 98.488785 98.46978 98.46547 98.51903 98.51912 98.46313 98.455154 98.486694 98.51153 98.45645 98.501724 98.48958 98.53618 98.51672 98.47284 98.49774 98.46329 98.52262 98.55675 98.51574 98.45258 98.507324 98.58063 98.484924 98.50524 98.500786 98.49628 98.48223 98.4644 98.520004 98.41247 98.50891 98.51769 98.51442 98.50332 98.478035 98.47088 98.47878 98.51088 98.48415 98.46882 98.51799 98.52961 98.48494 98.44818 98.51997 98.49741 98.52764 98.527664 98.45515 98.462074 98.52038 98.53007 98.47282 98.462265 98.46076 98.51616 98.44322 98.44764 98.445694 98.52557 98.449524 98.51822 98.46368 98.46476 98.5109 98.555046 98.48626 98.51234 98.47878 98.46481 98.47112 98.445 98.51912 98.47166 98.47882 98.50071 98.49036 98.50562 98.53523 98.48356 98.4698 98.46618 98.52428 98.54637 98.461266 98.55189 98.53264 98.49034 98.47118 98.53489 98.48855 98.44606 98.491325 98.48497 98.47196 98.48234 98.51811 98.49058 98.460175 98.48918 98.533844 98.52653 98.48708 98.48999 98.49175 98.502 98.49143 98.5183 98.46676 98.445786 98.503555 98.45881 98.50163 98.49002 98.54344 98.504814 98.47497 98.56536 98.47034 98.47264 98.512314 98.506516 98.51969 98.477486 98.46365 98.484535 98.47116 98.52104 98.54419 98.49049 98.50657 98.478386 98.48479 98.48282 98.48409 98.46699 98.48196 98.44978 98.4653 98.563255 98.50682 98.45683 98.47509 98.51277 98.51771 98.500244 98.52121 98.48858 98.496185 98.461136 98.48052 98.48559 98.46506 98.475395 98.49846 98.4982 98.47958 98.48927 98.48134 98.50312 98.46775 98.47028 98.48426 98.48444 98.51681 98.468346 98.50216 98.51699 98.4872 98.4555 98.449 98.46861 98.48447 98.492294 98.5266 98.48165 98.47825 98.49648 98.4918 98.45997 98.51697 98.4711 98.48181 98.478294 98.4919 98.517685 98.51276 98.48994 98.48088 98.5159 98.52052 98.52398 98.53775 98.49404 98.4821 98.44689 98.45839 98.47503 98.458405 98.497116 98.50205 98.55165 98.50389 98.49899 98.45907 98.45308 98.4882 98.46243 98.49838 98.48424 98.49786 98.49555 98.48216 98.49464 98.508 98.51333 98.4756 98.51428 98.52613 98.49868 98.511375 98.47211 98.49485 98.53161 98.49704 98.47216 98.46991 98.48046 98.47555 98.50346 98.4601 98.51363 98.48619 98.47889 98.46428 98.45938 98.52281 98.485374 98.53084 98.52511 98.416565 98.51311 98.44698 98.47085 98.49797 98.488716 98.51496 98.474594 98.48327 98.49865 98.47066 98.494385 98.48511 98.51322 98.50246 98.45473 98.51262 98.46736 98.48534 98.48003 98.48438 98.47327 98.48175 98.53043 98.46708 98.49239 98.496895 98.53864 98.544785 98.46844 98.53409 98.48896 98.49569 98.46979 98.545044 98.49855 98.482254 98.48203 98.50943 98.49611 98.44357 98.51285 98.48942 98.52998 98.49092 98.53508 98.488594 98.492714 98.49409 98.47498 98.42307 98.5306 98.532585 98.49907 98.48255 98.46208 98.49069 98.48093 98.45772 98.51713 98.4947 98.477974 98.50111 98.47018 98.50368 98.476616 98.531746 98.47374 98.48738 98.57322 98.47993 98.53793 98.455536 98.474 98.433815 98.46557 98.529366 98.50051 98.45261 98.56738 98.521805 98.46297 98.444885 98.54044 98.52667 98.5001 98.47528 98.48239 98.50487 98.47775 98.5228 98.47749 98.448265 98.4398 98.47021 98.5048 98.47171 98.481705 98.42067 98.533134 98.508705 98.493385 98.45571 98.458534 98.443214 98.50069 98.48736 98.48893 98.478874 98.49273 98.50631 98.50595 98.48732 98.44474 98.52498 98.483025 98.41166 98.486465 98.51202 98.47662 98.488 98.490486 98.46648 98.512436 98.50882 98.51205 98.49104 98.476364 98.49308 98.466934 98.55939 98.51355 98.47255 98.496735 98.481224 98.50359 98.53956 98.50462 98.510185 98.51093 98.42763 98.47424 98.450386 98.4683 98.4356 98.53192 98.45985 98.49789 98.461266 98.487854 98.486496 98.48635 98.5045 98.50847 98.477844 98.498924 98.51594 98.49481 98.478424 98.466125 98.49828 98.52279 98.477844 98.515205 98.44232 98.49657 98.51855 98.46516 98.46422 98.45511 98.5417 98.48356 98.485916 98.49777 98.49256 98.46778 98.49759 98.48203 98.553406 98.49721 98.50311 98.50525 98.531296 98.496796 98.49754 98.46556 98.501656 98.4678 98.51143 98.49663 98.490295 98.52385 98.47175 98.470566 98.478584 98.44933 98.50282 98.519745 98.45971 98.52507 98.50314 98.46456 98.52607 98.445114 98.50221 98.49535 98.48466 98.517784 98.46434 98.50775 98.50428 98.487015 98.47352 98.50964 98.52162 98.46938 98.54463 98.48641 98.48601 98.525375 98.51589 98.48492 98.46538 98.50638 98.417496 98.44901 98.48519 98.5107 98.48086 98.52343 98.51202 98.50074 98.4961 98.50738 98.48121 98.510765 98.52246 98.53067 98.450714 98.49042 98.49962 98.51368 98.469025 98.50485 98.464806 98.48882 98.49513 98.48213 98.48781 98.49734 98.4868 98.46136 98.51943 98.47755 98.49054 98.47136 98.51293 98.47908 98.49823 98.52383 98.44242 98.50119 98.48682 98.49462 98.51685 98.48284 98.59955 98.472244 98.518135 98.50733 98.483826 98.49282 98.50843 98.464836 98.46737 98.48379 98.47571 98.48914 98.4801 98.47424 98.424095 98.43202 98.49983 98.497765 98.50287 98.471016 98.492096 98.48054 98.54531 98.45502 98.50026 98.48915 98.511505 98.50952 98.50737 98.45246 98.48246 98.501785 98.45303 98.47033 98.471306 98.4895 98.43963 98.499084 98.47897 98.468506 98.4413 98.46247 98.45787 98.488815 98.56585 98.52496 98.45123 98.48569 98.49477 98.50697 98.47961 98.4652 98.46144 98.5365 98.49148 98.531815 98.51446 98.47943 98.50136 98.460815 98.46767 98.51422 98.45668 98.5077 98.54248 98.46225 98.48894 98.45147 98.51096 98.51463 98.47918 98.521416 98.45924 98.45449 98.48121 98.53422 98.48017 98.43275 98.534386 98.464905 98.50212 98.47047 98.49924 98.46008 98.48068 98.466805 98.47693 98.504326 98.47916 98.46178 98.464355 98.40249 98.48964 98.50577 98.481895 98.46669 98.47646 98.40791 98.527374 98.54957 98.45367 98.53887 98.506966 98.4919 98.55933 98.47888 98.4845 98.481636 98.49674 98.45521 98.52307 98.461754 98.49607 98.523056 98.493835 98.4325 98.488594 98.50711 98.45409 98.47549 98.4526 98.46587 98.49849 98.485825 98.45926 98.42897 98.481125 98.497314 98.45991 98.51925 98.49044 98.48704 98.50183 98.519806 98.44092 98.521774 98.471115 98.514946 98.495895 98.47435 98.482666 98.46776 98.45059 98.48582 98.52661 98.49347 98.4675 98.57177 98.47231 98.47145 98.4845 98.48738 98.50931 98.51877 98.49963 98.522156 98.50779 98.438126 98.51241 98.434494 98.49671 98.46579 98.45519 98.53066 98.49359 98.472755 98.43015 98.44194 98.52614 98.513336 98.4818 98.51773 98.46647 98.490715 98.44521 98.471985 98.434616 98.49189 98.50166 98.49674 98.50383 98.44841 98.48842 98.4909 98.45231 98.4745 98.450516 98.48793 98.540115 98.46795 98.47674 98.50179 98.50997 98.48971 98.48763 98.4821 98.49322 98.46183 98.46358 98.45656 98.463005 98.49833 98.451096 98.48034 98.48711 98.51787 98.43074 98.50379 98.49375 98.51694 98.49318 98.51218 98.4618 98.48479 98.483215 98.488525 98.505424 98.48287 98.465675 98.500244 98.53759 98.49074 98.57371 98.52668 98.4598 98.44398 98.46888 98.472565 98.50061 98.463 98.5094 98.47779 98.45799 98.470825 98.4749 98.48474 98.492935 98.49843 98.533936 98.48795 98.45706 98.52985 98.42209 98.507164 98.46271 98.466156 98.46648 98.49563 98.48528 98.49094 98.50803 98.54907 98.499084 98.494225 98.513336 98.47545 98.51093 98.49728 98.479866 98.4836 98.47324 98.51832 98.48068 98.514336 98.50132 98.53789 98.473305 98.47463 98.463394 98.45181 98.49221 98.44837 98.52571 98.50013 98.52943 98.467476 98.48439 98.46916 98.47846 98.47087 98.491936 98.47644 98.49565 98.49104 98.51402 98.456825 98.47038 98.4205 98.47612 98.479195 98.48525 98.494995 98.49069 98.50139 98.48249 98.508415 98.47771 98.5048 98.47917 98.46898 98.44143 98.51143 98.467 98.50271 98.50803 98.44448 98.45445 98.5412 98.521774 98.49387 98.52258 98.49523 98.47967 98.50288 98.480354 98.4999 98.46919 98.498314 98.4771 98.488106 98.4764 98.50153 98.497215 98.510086 98.460556 98.52077 98.52031 98.477356 98.47047 98.4404 98.486496 98.49676 98.468575 98.50907 98.46682 98.531075 98.49189 98.45611 98.46546 98.50294 98.48243 98.47104 98.51625 98.43589 98.449554 98.46265 98.47828 98.499344 98.47719 98.478676 98.49613 98.475426 98.497025 98.502144 98.545525 98.50495 98.48464 98.50733 98.464325 98.48188 98.48236 98.48959 98.54085 98.474144 98.50086 98.498505 98.438736 98.53453 98.470116 98.48335 98.46345 98.448 98.51323 98.46333 98.501526 98.4867 98.4606 98.51431 98.5353 98.566444 98.46901 98.53412 98.47468 98.501656 98.52959 98.51442 98.47666 98.46506 98.553535 98.46955 98.48511 98.50192 98.41028 98.50117 98.49329 98.41361 98.47503 98.53551 98.445984 98.46836 98.485634 98.45276 98.4852 98.486145 98.464966 98.46735 98.48438 98.47997 98.515854 98.485 98.499146 98.43973 98.4966 98.52934 98.523575 98.4772 98.47025 98.466736 98.461464 98.474464 98.5196 98.50583 98.52148 98.53888 98.50688 98.48859 98.470924 98.55749 98.53166 98.451004 98.506805 98.40666 98.499916 98.47081 98.47227 98.54258 98.46585 98.50666 98.47108 98.5215 98.48555 98.44216 98.51763 98.475006 98.47841 98.47163 98.511505 98.51106 98.5057 98.49367 98.55265 98.47012 98.504585 98.48325 98.496765 98.51334 98.528244 98.44772 98.48763 98.513916 98.517334 98.48033 98.51156 98.47469 98.48111 98.48499 98.48427 98.50079 98.524445 98.519135 98.534225 98.46875 98.49174 98.48215 98.485344 98.49582 98.56395 98.531685 98.460526 98.446396 98.497185 98.4585 98.505745 98.50793 98.447105 98.482445 98.54958 98.53107 98.54834 98.433784 98.456696 98.53982 98.43156 98.46991 98.491 98.47352 98.51542 98.47241 98.50509 98.5005 98.51263 98.494545 98.47833 98.463524 98.515915 98.46805 98.4724 98.519356 98.52688 98.4957 98.47014 98.514175 98.47434 98.50749 98.49323 98.50739 98.4858 98.5062 98.41813 98.50171 98.47541 98.52883 98.474304 98.47547 98.47528 98.47962 98.54531 98.46493 98.5238 98.55358 98.48712 98.500336 98.49728 98.4713 98.53092 98.49008 98.47012 98.48274 98.4665 98.47802 98.48386 98.47071 98.49356 98.503654 98.49177 98.51224 98.47998 98.49848 98.49871 98.47418 98.48583 98.487434 98.477516 98.53503 98.52203 98.51076 98.525795 98.49632 98.46627 98.50228 98.436264 98.457985 98.50967 98.51122 98.458664 98.47236 98.53444 98.44705 98.4974 98.498795 98.502686 98.45996 98.50254 98.51135 98.50319 98.451645 98.52374 98.52282 98.45998 98.54133 98.50642 98.48543 98.461174 98.48791 98.47555 98.46693 98.51441 98.41925 98.49182 98.48023 98.494804 98.52475 98.44225 98.50722 98.518936 98.517975 98.51746 98.45442 98.462776 98.49373 98.46124 98.48125 98.476036 98.431854 98.47898 98.52728 98.423096 98.46535 98.53654 98.50351 98.439606 98.45896 98.49318 98.49728 98.46781 98.467606 98.479164 98.48116 98.48124 98.46208 98.51765 98.4534 98.48249 98.53304 98.51529 98.492294 98.52421 98.427246 98.49939 98.490105 98.45147 98.50119 98.511505 98.47753 98.44384 98.498924 98.51539 98.4857 98.45361 98.46888 98.53238 98.528534 98.49292 98.47297 98.486435 98.49777 98.5084 98.52082 98.54664 98.461845 98.506996 98.44037 98.44693 98.48148 98.469666 98.49314 98.43414 98.424706 98.47012 98.46347 98.497665 98.53163 98.44734 98.49292 98.4811 98.52044 98.481964 98.422035 98.49377 98.50971 98.461136 98.49263 98.49253 98.55399 98.45814 98.47633 98.47773 98.48078 98.47606 98.49145 98.444374 98.4855 98.483864 98.45443 98.50749 98.53672 98.49679 98.464035 98.49405 98.520584 98.47371 98.53685 98.498825 98.51016 98.44921 98.538155 98.50047 98.45157 98.49635 98.47087 98.46382 98.51445 98.444496 98.54321 98.51818 98.47886 98.45745 98.50828 98.54154 98.49124 98.50629 98.45618 98.52388 98.48187 98.520706 98.530556 98.49276 98.49014 98.49742 98.462875 98.49695 98.48999 98.4878 98.53006 98.50964 98.44996 98.481995 98.56859 98.52798 98.46479 98.49074 98.52794 98.46804 98.52239 98.52747 98.48008 98.4976 98.44986 98.498764 98.507835 98.4599 98.52642 98.507935 98.488976 98.44634 98.465805 98.47504 98.47306 98.46005 98.46493 98.47812 98.52032 98.45829 98.50856 98.466866 98.517555 98.501656 98.48396 98.4489 98.49086 98.52954 98.48122 98.494736 98.517845 98.45395 98.52623 98.52734 98.51413 98.4755 98.48742 98.497185 98.50673 98.52911 98.5157 98.47471 98.5019 98.48568 98.49499 98.49225 98.52243 98.468025 98.516075 98.517456 98.51331 98.45507 98.50697 98.50763 98.486755 98.47565 98.49852 98.471245 98.51283 98.5256 98.4826 98.479324 98.509834 98.46981 98.47858 98.540344 98.53513 98.53693 98.456955 98.476395 98.51894 98.47903 98.48388 98.47064 98.4855 98.47429 98.493706 98.54679 98.406746 98.5269 98.419235 98.479866 98.48929 98.455246 98.47359 98.446785 98.433495 98.47896 98.47206 98.47501 98.511955 98.48397 98.469315 98.5189 98.505585 98.541725 98.485176 98.47956 98.490326 98.46996 98.43379 98.44844 98.53888 98.50368 98.53688 98.46877 98.525566 98.470184 98.525375 98.45575 98.47687 98.49132 98.47479 98.46662 98.47557 98.50838 98.488106 98.52543 98.55333 98.50342 98.49774 98.46365 98.478806 98.50805 98.46554 98.452156 98.473694 98.54516 98.505325 98.49805 98.4948 98.48658 98.49501 98.49272 98.445404 98.50435 98.472244 98.5011 98.487206 98.54095 98.47262 98.516655 98.479706 98.47164 98.497086 98.52444 98.44466 98.485245 98.53849 98.45797 98.467804 98.46195 98.47885 98.493774 98.52138 98.505295 98.47776 98.45234 98.46078 98.4499 98.494286 98.46468 98.49627 98.50359 98.43846 98.46558 98.498116 98.47981 98.509224 98.49006 98.548904 98.48499 98.49519 98.50115 98.46625 98.4802 98.512955 98.456795 98.49232 98.495705 98.52522 98.512886 98.52495 98.51931 98.41317 98.52409 98.545135 98.49566 98.48417 98.50747 98.527954 98.492 98.47775 98.54226 98.50919 98.52771 98.45655 98.45 98.48885 98.52408 98.46312 98.53713 98.515175 98.51745 98.43576 98.521484 98.487404 98.48115 98.45782 98.49966 98.52802 98.48874 98.521324 98.51565 98.46333 98.49717 98.53211 98.453896 98.47458 98.46187 98.47477 98.49824 98.51284 98.47787 98.39256 98.48267 98.52796 98.51299 98.49922 98.464355 98.47152 98.492744 98.512924 98.44788 98.50238 98.49537 98.455475 98.492836 98.4697 98.44183 98.53152 98.4933 98.46468 98.5092 98.47554 98.5061 98.51757 98.48497 98.51901 98.474495 98.53345 98.53332 98.5092 98.494354 98.47481 98.49197 98.523544 98.47952 98.48695 98.49024 98.45039 98.44028 98.46299 98.47889 98.53256 98.545105 98.52843 98.52857 98.495636 98.53075 98.539185 98.47991 98.48323 98.54169 98.442696 98.537025 98.45363 98.46979 98.50218 98.48069 98.51121 98.48054 98.482895 98.49933 98.4996 98.47875 98.49951 98.51683 98.46987 98.49725 98.501144 98.49965 98.495155 98.53981 98.49694 98.46956 98.5015 98.44072 98.5163 98.531746 98.468124 98.55405 98.44112 98.48227 98.4754 98.42261 98.465164 98.48403 98.53418 98.48789 98.54444 98.4783 98.4946 98.50459 98.56253 98.50905 98.51439 98.49662 98.5012 98.440025 98.47716 98.515686 98.491844 98.4731 98.48642 98.47713 98.56324 98.45603 98.5027 98.45577 98.48862 98.50541 98.51717 98.4999 98.46979 98.47882 98.455025 98.51034 98.46425 98.50951 98.5033 98.49386 98.55775 98.47563 98.481895 98.47472 98.47791 98.46181 98.46149 98.53625 98.50028 98.46454 98.45311 98.480064 98.44531 98.51012 98.500084 98.461876 98.49782 98.47132 98.466965 98.46632 98.47187 98.48201 98.49413 98.48835 98.46722 98.49665 98.485085 98.54298 98.512 98.46228 98.50284 98.478325 98.492386 98.464096 98.55137 98.47638 98.43932 98.51869 98.46698 98.44256 98.46622 98.50934 98.4888 98.48461 98.482445 98.50268 98.49662 98.47423 98.53057 98.478355 98.48327 98.453766 98.49413 98.45878 98.481346 98.54053 98.47141 98.47162 98.46113 98.49372 98.507355 98.50149 98.52441 98.511444 98.44109 98.54148 98.53471 98.49534 98.50821 98.45774 98.51384 98.51709 98.476425 98.50396 98.492546 98.48378 98.494095 98.44819 98.50457 98.553604 98.50142 98.496414 98.49219 98.456345 98.448654 98.48392 98.48304 98.497375 98.44908 98.52487 98.499306 98.489876 98.47883 98.467964 98.47072 98.48916 98.476234 98.52241 98.48288 98.51959 98.51142 98.48869 98.45295 98.51566 98.46471 98.499954 98.45524 98.49303 98.43703 98.47006 98.50113 98.51851 98.480446 98.492165 98.49545 98.51977 98.45487 98.494064 98.4893 98.46586 98.45341 98.492134 98.50843 98.43145 98.49762 98.52031 98.50587 98.47788 98.46571 98.48057 98.47972 98.511055 98.47351 98.46713 98.480156 98.466255 98.53283 98.451904 98.42263 98.48016 98.476944 98.45476 98.48883 98.43779 98.507256 98.48167 98.461266 98.477264 98.47909 98.48621 98.50096 98.459465 98.473305 98.48485 98.48586 98.529686 98.43475 98.487465 98.46298 98.4776 98.52806 98.49805 98.5036 98.47673 98.5252 98.51111 98.47418 98.46613 98.5017 98.48178 98.462685 98.476036 98.45143 98.4353 98.52088 98.517624 98.455215 98.45717 98.503044 98.49781 98.522736 98.452126 98.464554 98.47623 98.49269 98.49624 98.50253 98.511505 98.487686 98.47935 98.48104 98.5018 98.49959 98.48322 98.447876 98.424736 98.48808 98.50241 98.47318 98.509735 98.4614 98.46774 98.53654 98.458244 98.505775 98.45355 98.516075 98.53867 98.47983 98.495445 98.44812 98.45215 98.46585 98.46132 98.4744 98.49449 98.50884 98.44004 98.50989 98.487854 98.48003 98.514046 98.47396 98.47897 98.504875 98.43377 98.48877 98.50324 98.51574 98.502884 98.49624 98.515274 98.48138 98.4997 98.43351 98.50797 98.53528 98.50129 98.51601 98.49702 98.49934 98.44588 98.49123 98.508415 98.50551 98.48483 98.51063 98.51816 98.53462 98.46799 98.50742 98.49162 98.44252 98.52358 98.507484 98.488335 98.57349 98.50168 98.49831 98.52885 98.45166 98.59557 98.4759 98.45424 98.52826 98.481094 98.53884 98.46793 98.47033 98.4785 98.464645 98.54382 98.49754 98.43391 98.49298 98.49351 98.444626 98.49456 98.458244 98.50979 98.483444 98.5215 98.496475 98.498566 98.49603 98.52312 98.47766 98.50641 98.4746 98.49677 98.43009 98.474335 98.493164 98.492096 98.50007 98.51819 98.53733 98.53671 98.49247 98.46756 98.50375 98.4429 98.51359 98.48131 98.44397 98.5059 98.56295 98.51088 98.45984 98.46923 98.486305 98.470856 98.44097 98.47505 98.50796 98.4617 98.45466 98.517 98.47226 98.49111 98.48749 98.50115 98.480774 98.45258 98.49104 98.45248 98.48086 98.46955 98.51277 98.48478 98.472694 98.48694 98.47984 98.47018 98.51898 98.46853 98.46285 98.51593 98.50793 98.492165 98.507454 98.52746 98.484375 98.466225 98.47932 98.42709 98.528 98.48646 98.49543 98.51425 98.495865 98.523254 98.46817 98.47807 98.497894 98.467575 98.510414 98.469536 98.46608 98.51446 98.46338 98.475136 98.50937 98.5342 98.51885 98.476776 98.56074 98.48951 98.53531 98.51355 98.46898 98.49129 98.537926 98.49541 98.488235 98.50092 98.4623 98.450905 98.47851 98.52993 98.46453 98.48565 98.54946 98.46343 98.44685 98.4754 98.5456 98.462135 98.51668 98.51368 98.495674 98.468254 98.473045 98.46804 98.45042 98.4983 98.445244 98.52826 98.48511 98.50793 98.50463 98.45919 98.51252 98.46699 98.46106 98.495125 98.44962 98.471085 98.44223 98.503685 98.52065 98.47308 98.484535 98.48603 98.44703 98.42191 98.4955 98.509514 98.534515 98.535545 98.48596 98.47063 98.50933 98.43659 98.49415 98.48853 98.49698 98.45534 98.47325 98.48541 98.51126 98.49638 98.422455 98.52407 98.447845 98.45922 98.52586 98.53149 98.525215 98.49659 98.48461 98.51549 98.53093 98.483574 98.50713 98.47383 98.46809 98.500435 98.445274 98.51875 98.50135 98.535194 98.513306 98.49877 98.45389 98.47291 98.48468 98.50464 98.497444 98.39473 98.51678 98.50061 98.477264 98.46361 98.51782 98.47438 98.46115 98.45737 98.50593 98.42485 98.519165 98.50979 98.51883 98.45653 98.42674 98.46741 98.49087 98.46642 98.45387 98.54633 98.48341 98.45959 98.47322 98.53085 98.513405 98.50066 98.470314 98.432014 98.44992 98.515785 98.45735 98.482895 98.499084 98.45262 98.46745 98.48031 98.5482 98.4969 98.48288 98.51717 98.488144 98.48804 98.46638 98.43949 98.4876 98.49921 98.48323 98.549614 98.48282 98.50834 98.45988 98.499954 98.53389 98.48517 98.46337 98.497826 98.443306 98.513176 98.51425 98.446945 98.507454 98.472885 98.5171 98.510895 98.48489 98.43989 98.49917 98.44055 98.50065 98.46424 98.5148 98.50795 98.504875 98.498085 98.55384 98.49896 98.51927 98.47582 98.51875 98.48977 98.50971 98.47489 98.514984 98.5153 98.50734 98.51116 98.486694 98.49183 98.41827 98.438126 98.489105 98.51776 98.48082 98.49402 98.48965 98.51218 98.46748 98.49835 98.48176 98.473854 98.45392 98.46348 98.49023 98.47772 98.537 98.49236 98.496956 98.46792 98.460846 98.492874 98.51998 98.44487 98.49276 98.486855 98.48988 98.50796 98.505554 98.45475 98.46043 98.53158 98.49539 98.49869 98.49767 98.52412 98.518776 98.5218 98.53643 98.477196 98.44789 98.47696 98.50892 98.4672 98.42922 98.50295 98.48922 98.499825 98.42167 98.503975 98.51966 98.45873 98.47731 98.50674 98.464676 98.45909 98.50589 98.512764 98.462845 98.51222 98.45676 98.44808 98.46896 98.532036 98.477135 98.54501 98.488075 98.44052 98.45946 98.4921 98.495636 98.47951 98.5127 98.50442 98.49657 98.490486 98.447815 98.48395 98.4987 98.49258 98.485634 98.4389 98.48249 98.51129 98.48366 98.4822 98.44627 98.45673 98.47032 98.53389 98.45721 98.51033 98.44419 98.47267 98.48369 98.45913 98.504814 98.518456 98.50496 98.52938 98.54755 98.52158 98.464584 98.51421 98.49688 98.431465 98.552315 98.501625 98.47206 98.532684 98.49476 98.440056 98.475136 98.47588 98.49666 98.48998 98.4538 98.55157 98.52415 98.483505 98.45089 98.51382 98.51193 98.495674 98.483345 98.53035 98.496315 98.507774 98.49833 98.45692 98.477165 98.47765 98.517136 98.4587 98.45394 98.48343 98.46774 98.46018 98.48143 98.49207 98.50467 98.50902 98.46069 98.48887 98.47969 98.498405 98.548546 98.514854 98.448166 98.50197 98.51396 98.47788 98.563545 98.46128 98.51664 98.49005 98.50506 98.5021 98.48512 98.47839 98.499374 98.49281 98.473145 98.4534 98.49595 98.493095 98.47584 98.486305 98.443184 98.48205 98.475845 98.48208 98.53018 98.48111 98.49176 98.455894 98.470215 98.482506 98.50571 98.4858 98.498726 98.539055 98.4972 98.50818 98.47795 98.479065 98.528404 98.55875 98.50643 98.51976 98.484726 98.49556 98.471756 98.474945 98.463326 98.53878 98.52162 98.4674 98.53761 98.5108 98.49782 98.49636 98.51538 98.52437 98.52415 98.54168 98.47479 98.463844 98.50281 98.50324 98.51911 98.45094 98.527985 98.52504 98.48866 98.514435 98.461945 98.491806 98.42033 98.50831 98.47308 98.45543 98.50744 98.47154 98.52902 98.497154 98.51174 98.47865 98.43531 98.4643 98.46146 98.47091 98.46302 98.499954 98.46982 98.48948 98.51649 98.5047 98.50335 98.510925 98.45084 98.5114 98.52824 98.41742 98.5109 98.498474 98.49349 98.49426 98.43514 98.510254 98.44993 98.46261 98.5127 98.499504 98.46544 98.498215 98.46898 98.51418 98.51106 98.47664 98.45135 98.52981 98.50355 98.46639 98.45587 98.508095 98.46992 98.4586 98.55122 98.47887 98.50668 98.46007 98.518 98.46642 98.46103 98.472626 98.4568 98.49365 98.47076 98.47851 98.48543 98.49119 98.4607 98.454414 98.48206 98.496925 98.53989 98.48637 98.4691 98.54386 98.45534 98.4193 98.52543 98.51132 98.466515 98.46292 98.45647 98.484604 98.48294 98.55508 98.48242 98.50007 98.51273 98.482704 98.480484 98.479965 98.50062 98.44871 98.51617 98.47869 98.47543 98.46432 98.53036 98.449585 98.51671 98.48378 98.51587 98.47899 98.45861 98.517654 98.44799 98.47203 98.46252 98.46561 98.55243 98.47253 98.53861 98.51638 98.471214 98.49689 98.46208 98.50341 98.531296 98.46765 98.48387 98.515816 98.454895 98.48557 98.52436 98.511536 98.44863 98.48934 98.451385 98.48124 98.49441 98.46748 98.476456 98.534164 98.44983 98.46724 98.49072 98.50002 98.45548 98.47537 98.49526 98.52752 98.48717 98.52227 98.5005 98.496025 98.48339 98.50376 98.51529 98.45667 98.555466 98.46127 98.483986 98.49805 98.50409 98.47423 98.46403 98.438995 98.503136 98.53032 98.52146 98.48418 98.51017 98.495094 98.5048 98.47334 98.45606 98.52572 98.45885 98.49192 98.53974 98.49154 98.471176 98.4563 98.4916 98.51117 98.515854 98.531815 98.502335 98.49599 98.50613 98.48385 98.495415 98.503174 98.474045 98.49026 98.53669 98.50458 98.518845 98.4811 98.474304 98.497986 98.476074 98.47966 98.47832 98.529045 98.48161 98.4715 98.53479 98.50566 98.516426 98.449745 98.47338 98.4925 98.5191 98.456856 98.46526 98.528175 98.498405 98.482704 98.52498 98.4836 98.50485 98.48519 98.54512 98.499214 98.48907 98.486595 98.4808 98.53641 98.463264 98.502075 98.52718 98.500565 98.50103 98.48045 98.50806 98.44121 98.51155 98.44005 98.47903 98.49631 98.411934 98.42309 98.48997 98.5137 98.52178 98.47102 98.4906 98.53165 98.5085 98.48694 98.52019 98.44516 98.50084 98.452286 98.49692 98.45977 98.48484 98.50869 98.46723 98.49468 98.49068 98.5033 98.460846 98.52142 98.41692 98.50579 98.44058 98.46183 98.49783 98.48243 98.475266 98.49689 98.50294 98.46766 98.48976 98.47304 98.50663 98.47731 98.528595 98.48435 98.522644 98.46194 98.49828 98.50434 98.46602 98.44752 98.466354 98.483475 98.48664 98.52784 98.46635 98.49458 98.4462 98.51542 98.49445 98.47038 98.45103 98.54831 98.4708 98.45752 98.54262 98.4991 98.55307 98.48517 98.497086 98.5243 98.456436 98.4902 98.50857 98.45907 98.500916 98.51152 98.47985 98.47945 98.48111 98.49512 98.49242 98.45711 98.44482 98.52563 98.54942 98.47281 98.512184 98.462105 98.43714 98.50704 98.55097 98.514114 98.51098 98.47753 98.440216 98.44838 98.51418 98.4447 98.4594 98.50048 98.47918 98.47317 98.46119 98.49678 98.477325 98.423965 98.46785 98.49687 98.48041 98.48186 98.49009 98.464195 98.511604 98.50219 98.52601 98.467705 98.52246 98.494606 98.49361 98.505806 98.43863 98.51372 98.50636 98.501656 98.45433 98.533775 98.516045 98.46766 98.48479 98.48793 98.55169 98.462425 98.43395 98.5552 98.52266 98.5376 98.52203 98.500404 98.48243 98.470406 98.47138 98.512695 98.46145 98.48006 98.46085 98.488266 98.50356 98.45773 98.541466 98.4925 98.544754 98.498764 98.51021 98.484856 98.480736 98.51911 98.50891 98.48758 98.4688 98.50896 98.49282 98.45476 98.52625 98.500786 98.469475 98.51403 98.496 98.471634 98.46686 98.48305 98.48827 98.47723 98.50579 98.465065 98.52679 98.498 98.49449 98.47174 98.49443 98.479416 98.51511 98.483406 98.44326 98.48172 98.504166 98.508286 98.4918 98.48954 98.54283 98.494026 98.48066 98.45631 98.47721 98.50661 98.48662 98.504364 98.482605 98.45629 98.459236 98.490166 98.475876 98.497314 98.43778 98.486595 98.48929 98.49643 98.457695 98.49198 98.49231 98.42648 98.505486 98.49902 98.49803 98.441475 98.55157 98.4919 98.41832 98.4969 98.49815 98.48829 98.436844 98.50107 98.51633 98.49841 98.51263 98.463005 98.49494 98.52209 98.509445 98.483215 98.503685 98.48931 98.5183 98.4774 98.487495 98.47707 98.50421 98.50464 98.46907 98.504074 98.46615 98.51416 98.49623 98.44342 98.46201 98.47554 98.50338 98.50495 98.44882 98.44066 98.49621 98.49409 98.50252 98.5119 98.52748 98.540306 98.4712 98.48805 98.58273 98.50059 98.43408 98.47873 98.47626 98.457214 98.47277 98.434105 98.4501 98.47842 98.50112 98.5084 98.441956 98.45174 98.48459 98.50447 98.46907 98.46043 98.51237 98.493576 98.4521 98.502335 98.49151 98.45834 98.50173 98.52853 98.48158 98.42243 98.46854 98.492805 98.49913 98.48757 98.474495 98.520325 98.48608 98.4991 98.505974 98.492615 98.53175 98.52423 98.499886 98.46905 98.54983 98.48809 98.470665 98.51266 98.50891 98.47152 98.465385 98.48164 98.4988 98.50733 98.458626 98.52137 98.51927 98.49635 98.476036 98.47641 98.48993 98.50438 98.474884 98.50032 98.44211 98.483345 98.49545 98.48113 98.47234 98.455696 98.481445 98.467445 98.46006 98.52921 98.51306 98.4916 98.5098 98.47217 98.426 98.53026 98.51242 98.48482 98.47661 98.51156 98.45409 98.4615 98.46559 98.46716 98.46077 98.44124 98.4644 98.52762 98.472374 98.494865 98.44722 98.49806 98.51208 98.46376 98.49906 98.52688 98.45693 98.4371 98.47098 98.54637 98.485504 98.51846 98.50565 98.47849 98.4974 98.53143 98.46845 98.43452 98.539085 98.45 98.490425 98.44326 98.50671 98.52282 98.52051 98.47556 98.46936 98.448135 98.481316 98.45836 98.51031 98.48914 98.47942 98.49369 98.49562 98.494194 98.49387 98.43141 98.476036 98.54194 98.51188 98.47535 98.48647 98.50516 98.489815 98.50345 98.52185 98.48762 98.51653 98.52735 98.5158 98.49475 98.47572 98.46471 98.489006 98.49135 98.541954 98.52649 98.467964 98.42754 98.53746 98.47399 98.504295 98.48127 98.5271 98.58589 98.51021 98.52383 98.53063 98.487175 98.52648 98.498985 98.47184 98.49458 98.49985 98.53774 98.42491 98.50164 98.478065 98.47162 98.500084 98.47134 98.506874 98.49144 98.41664 98.50009 98.53246 98.478004 98.46607 98.51101 98.45035 98.4865 98.47356 98.51477 98.44711 98.494095 98.46651 98.466805 98.48091 98.42182 98.49808 98.466286 98.513756 98.472 98.49717 98.50858 98.51338 98.47646 98.49504 98.49172 98.4881 98.47694 98.50863 98.50012 98.46626 98.49613 98.51815 98.490234 98.5123 98.46971 98.458115 98.418396 98.49723 98.52383 98.43278 98.49109 98.48365 98.49143 98.51871 98.46802 98.51545 98.435005 98.53708 98.50229 98.498955 98.43369 98.48472 98.505936 98.470894 98.485 98.48446 98.49517 98.49216 98.49074 98.454735 98.49225 98.47947 98.478615 98.50807 98.532326 98.48175 98.52621 98.489136 98.46054 98.47624 98.506546 98.45017 98.49793 98.47905 98.55826 98.46865 98.472 98.471504 98.52402 98.44625 98.459564 98.504425 98.48236 98.51798 98.487785 98.51734 98.48384 98.47142 98.443436 98.54538 98.48828 98.51933 98.472404 98.525925 98.52266 98.46432 98.46764 98.51146 98.47344 98.530075 98.482185 98.50424 98.53291 98.512115 98.47916 98.48664 98.494514 98.51557 98.50695 98.52285 98.49331 98.489655 98.43191 98.508156 98.43972 98.48356 98.410515 98.496956 98.49051 98.45822 98.53317 98.465775 98.468834 98.46998 98.472824 98.51444 98.49282 98.50337 98.48888 98.482956 98.560394 98.41596 98.4801 98.524734 98.509155 98.52068 98.53044 98.48984 98.51246 98.53683 98.49738 98.482735 98.48938 98.497955 98.48897 98.497444 98.48953 98.534004 98.49717 98.54848 98.47035 98.47316 98.45539 98.430374 98.52521 98.50837 98.505165 98.50186 98.46602 98.46174 98.49475 98.51765 98.46585 98.50095 98.474106 98.48815 98.507164 98.49832 98.50666 98.4978 98.52041 98.53746 98.5268 98.48889 98.438934 98.51402 98.48559 98.48726 98.53381 98.51683 98.51253 98.47473 98.49579 98.50658 98.47637 98.52446 98.47941 98.5203 98.48906 98.45247 98.54186 98.491875 98.505554 98.458435 98.48116 98.46472 98.47862 98.46897 98.5388 98.48543 98.45972 98.5696 98.509346 98.54506 98.47279 98.46569 98.502365 98.54541 98.51394 98.512314 98.49703 98.48001 98.525375 98.474556 98.50288 98.523766 98.46605 98.48875 98.52432 98.488144 98.47115 98.498795 98.4815 98.48256 98.46734 98.54559 98.4812 98.49997 98.53049 98.52157 98.52971 98.47355 98.480835 98.49013 98.48956 98.438385 98.46506 98.48554 98.48823 98.51069 98.491875 98.45883 98.49822 98.53042 98.5012 98.4395 98.49182 98.50189 98.515335 98.50749 98.46114 98.5095 98.484314 98.4561 98.47278 98.48843 98.51834 98.51189 98.49066 98.47137 98.438446 98.44535 98.4909 98.5197 98.488335 98.471405 98.495155 98.49587 98.459625 98.51859 98.44807 98.47521 98.49176 98.49524 98.48418 98.44655 98.43232 98.48398 98.47412 98.48538 98.52382 98.51579 98.47869 98.53439 98.49011 98.5007 98.51075 98.49927 98.50224 98.521996 98.52959 98.53071 98.5451 98.488045 98.419624 98.51394 98.49097 98.477425 98.51857 98.510895 98.490555 98.46622 98.46632 98.485725 98.43567 98.501686 98.462105 98.49016 98.51764 98.49206 98.43231 98.54562 98.45651 98.50968 98.52011 98.419754 98.440735 98.47225 98.51828 98.47289 98.47333 98.49071 98.52721 98.50425 98.477036 98.48486 98.49523 98.4561 98.46585 98.51123 98.534065 98.46993 98.54538 98.505104 98.4247 98.48795 98.53727 98.51733 98.478806 98.511406 98.46141 98.51742 98.49829 98.48312 98.5081 98.47836 98.49686 98.508575 98.44083 98.48372 98.51902 98.50595 98.46542 98.477585 98.51034 98.48014 98.45346 98.49432 98.44587 98.46403 98.478096 98.474236 98.4393 98.48872 98.49619 98.43864 98.43347 98.4546 98.46078 98.488106 98.49782 98.486435 98.52189 98.47844 98.5023 98.52009 98.434166 98.46747 98.463715 98.541016 98.44455 98.47858 98.502785 98.44572 98.50482 98.44711 98.53855 98.49459 98.4885 98.47077 98.545235 98.49196 98.45415 98.48492 98.452255 98.4871 98.50896 98.439896 98.51747 98.52411 98.481346 98.512886 98.53985 98.5327 98.48289 98.479034 98.44305 98.47047 98.53347 98.4667 98.53306 98.48429 98.47056 98.455734 98.49944 98.502205 98.493614 98.43118 98.50508 98.47284 98.47211 98.50182 98.49813 98.51408 98.48024 98.490265 98.51788 98.50189 98.45355 98.505066 98.47339 98.46767 98.4676 98.462585 98.515366 98.52031 98.49092 98.56601 98.48001 98.472374 98.48662 98.485664 98.425476 98.47151 98.47668 98.526726 98.45358 98.48429 98.4934 98.47972 98.517456 98.46143 98.483536 98.522804 98.48228 98.5121 98.461494 98.46408 98.55143 98.4754 98.48765 98.42698 98.470856 98.514 98.50369 98.4923 98.4628 98.49509 98.519295 98.48654 98.48237 98.53747 98.49668 98.454285 98.52043 98.510185 98.47806 98.50544 98.49638 98.48682 98.53243 98.49211 98.4286 98.49726 98.46235 98.4995 98.47873 98.49775 98.46724 98.45942 98.47483 98.45057 98.47508 98.492455 98.48051 98.495094 98.478226 98.54106 98.463425 98.5314 98.48192 98.52384 98.528564 98.46128 98.44944 98.49568 98.498695 98.47526 98.50443 98.45269 98.51322 98.48228 98.474815 98.500145 98.5391 98.48392 98.49726 98.49188 98.49341 98.48847 98.51716 98.50034 98.50897 98.491844 98.46098 98.46069 98.52223 98.49488 98.46116 98.51899 98.45047 98.522194 98.51235 98.50244 98.52234 98.503204 98.53561 98.51176 98.51481 98.46868 98.510216 98.45877 98.46986 98.487175 98.49952 98.477264 98.49634 98.49961 98.49036 98.45567 98.52336 98.48942 98.47747 98.50595 98.54672 98.514626 98.52226 98.51387 98.51388 98.42565 98.51845 98.47825 98.467766 98.487885 98.51053 98.437515 98.57091 98.50579 98.48073 98.502106 98.45679 98.5018 98.49329 98.440186 98.50065 98.47037 98.49921 98.48331 98.501465 98.49767 98.51124 98.512405 98.47345 98.49052 98.492256 98.37958 98.52176 98.47661 98.45933 98.44825 98.526405 98.516655 98.52115 98.47529 98.56133 98.45291 98.54855 98.541016 98.5181 98.50084 98.47945 98.46698 98.50859 98.478935 98.4423 98.45101 98.45044 98.482 98.48597 98.525604 98.516975 98.49135 98.50533 98.480705 98.500114 98.50747 98.4513 98.46518 98.54826 98.45853 98.461494 98.46002 98.53869 98.51938 98.42728 98.49475 98.53309 98.48547 98.47954 98.490906 98.48781 98.477554 98.51002 98.50076 98.45878 98.48234 98.44342 98.54993 98.5085 98.470505 98.46495 98.50996 98.48417 98.491585 98.538 98.514854 98.49083 98.48629 98.50342 98.43971 98.51249 98.50772 98.46417 98.48951 98.48021 98.49447 98.51585 98.48389 98.4906 98.500374 98.51434 98.471115 98.531494 98.528786 98.46359 98.460434 98.51592 98.47283 98.47679 98.50602 98.51092 98.465454 98.49958 98.461235 98.43297 98.49225 98.48625 98.50702 98.51434 98.50327 98.418335 98.4741 98.48345 98.50145 98.462975 98.50488 98.53496 98.44147 98.54349 98.49311 98.54226 98.50548 98.479836 98.46564 98.502335 98.475044 98.43 98.44791 98.50979 98.494484 98.48729 98.49258 98.4933 98.45744 98.46064 98.453804 98.45882 98.49774 98.508026 98.46878 98.4891 98.53319 98.50782 98.4905 98.47443 98.472145 98.53236 98.47692 98.50231 98.42898 98.5197 98.5037 98.52186 98.50588 98.50433 98.47897 98.47022 98.51064 98.49518 98.464386 98.47311 98.48792 98.46225 98.47031 98.490814 98.4627 98.492516 98.469086 98.445724 98.49336 98.43074 98.4368 98.44351 98.47998 98.516624 98.4333 98.46983 98.478165 98.52061 98.54082 98.497215 98.5278 98.493675 98.51625 98.50917 98.44399 98.502846 98.518906 98.49413 98.45126 98.47975 98.5281 98.50713 98.5342 98.478745 98.51688 98.48642 98.4915 98.52783 98.49995 98.500755 98.44917 98.477196 98.489235 98.49729 98.527466 98.47461 98.46636 98.47501 98.48492 98.50416 98.43884 98.51437 98.50947 98.51032 98.535934 98.50769 98.5089 98.50686 98.48191 98.46138 98.472496 98.45731 98.46427 98.46682 98.516106 98.48049 98.4937 98.48641 98.48787 98.442345 98.53171 98.469154 98.51325 98.56814 98.52732 98.49079 98.510826 98.47028 98.507614 98.48732 98.449684 98.48686 98.49633 98.5287 98.46889 98.51847 98.53991 98.48942 98.48371 98.49299 98.46699 98.51952 98.45494 98.5027 98.438965 98.495735 98.45983 98.48595 98.51797 98.499245 98.52408 98.47817 98.477165 98.51274 98.54706 98.480255 98.48522 98.51953 98.47154 98.47024 98.501076 98.5143 98.47425 98.47499 98.506485 98.46298 98.49034 98.52504 98.48397 98.50211 98.46004 98.52981 98.449905 98.53086 98.44225 98.53539 98.475334 98.4342 98.511215 98.466064 98.4779 98.53614 98.48337 98.4706 98.43575 98.46268 98.452194 98.42982 98.44179 98.455315 98.47996 98.4686 98.46409 98.473755 98.50422 98.52422 98.47749 98.45193 98.48964 98.491875 98.479 98.5125 98.49324 98.475784 98.50796 98.52839 98.487755 98.542465 98.48893 98.49387 98.55403 98.47733 98.4788 98.479225 98.50086 98.51058 98.52355 98.522705 98.45732 98.442825 98.4875 98.49984 98.4709 98.46732 98.44043 98.43681 98.47034 98.53849 98.47349 98.448524 98.51129 98.49163 98.45425 98.54157 98.445305 98.49284 98.505844 98.47138 98.507935 98.47186 98.50623 98.53241 98.50721 98.51836 98.47283 98.496826 98.47611 98.49731 98.471115 98.46612 98.49824 98.503716 98.487175 98.49106 98.47768 98.5174 98.503845 98.470184 98.46279 98.486206 98.54487 98.5194 98.51994 98.50569 98.51995 98.51124 98.49593 98.45769 98.47086 98.50441 98.43372 98.47097 98.5029 98.46266 98.520706 98.48089 98.49735 98.49012 98.44192 98.54394 98.44989 98.46465 98.473366 98.46153 98.5114 98.50135 98.46803 98.4785 98.47922 98.496704 98.470085 98.53737 98.45985 98.517204 98.51031 98.52978 98.480644 98.4458 98.53764 98.46323 98.52554 98.49771 98.50165 98.434875 98.48253 98.470276 98.4889 98.469765 98.49486 98.50051 98.501724 98.45012 98.50571 98.489716 98.51257 98.48326 98.4942 98.51027 98.46469 98.430885 98.44271 98.502914 98.43773 98.524666 98.47025 98.49839 98.48814 98.52861 98.50124 98.47838 98.52484 98.45082 98.51863 98.49468 98.47724 98.47327 98.49288 98.55955 98.49258 98.507385 98.482605 98.490425 98.50795 98.49802 98.47602 98.51598 98.50795 98.51456 98.46153 98.47857 98.46442 98.43853 98.46234 98.48733 98.505745 98.51286 98.511024 98.51915 98.431206 98.44664 98.44184 98.52139 98.51503 98.43021 98.47926 98.47429 98.56796 98.49726 98.50073 98.541245 98.50119 98.4735 98.50826 98.48735 98.50586 98.504456 98.503624 98.42297 98.485275 98.496864 98.47224 98.49825 98.476845 98.43888 98.45859 98.5183 98.48371 98.51083 98.50028 98.47606 98.50367 98.48154 98.47501 98.50673 98.51696 98.51544 98.48199 98.5036 98.491394 98.48955 98.50137 98.51696 98.47317 98.47348 98.48755 98.43101 98.53871 98.49764 98.44936 98.475395 98.51954 98.509285 98.51644 98.48473 98.46717 98.4584 98.421394 98.45647 98.457016 98.45543 98.4818 98.52162 98.47577 98.445335 98.44994 98.515114 98.47516 98.463875 98.553345 98.53699 98.48713 98.481186 98.508286 98.49156 98.480515 98.50503 98.53741 98.44885 98.44309 98.513664 98.46 98.482666 98.431564 98.530045 98.5006 98.48389 98.48113 98.466324 98.480644 98.49299 98.48479 98.504974 98.437706 98.5249 98.456085 98.456 98.53997 98.52704 98.48444 98.52203 98.46807 98.46624 98.50626 98.51983 98.46878 98.48309 98.495316 98.4723 98.51432 98.46383 98.46913 98.48789 98.49223 98.46903 98.48271 98.51716 98.44529 98.43314 98.55671 98.45828 98.46671 98.46801 98.492256 98.48684 98.53312 98.50746 98.494896 98.514305 98.503395 98.5249 98.52717 98.46786 98.51776 98.511894 98.555565 98.46748 98.49471 98.48137 98.44207 98.45848 98.51594 98.48985 98.47304 98.487114 98.46568 98.45554 98.5017 98.455925 98.46225 98.45205 98.46441 98.554855 98.51762 98.45514 98.51564 98.52681 98.51388 98.502464 98.46767 98.486755 98.484024 98.496506 98.519356 98.50541 98.4438 98.47924 98.5264 98.47832 98.49527 98.49132 98.49865 98.462425 98.50197 98.48295 98.474594 98.45829 98.51253 98.47429 98.490906 98.44555 98.42974 98.505806 98.482864 98.439644 98.43489 98.48982 98.4948 98.50403 98.504814 98.48856 98.520096 98.5142 98.54673 98.51737 98.475075 98.43065 98.478226 98.49211 98.50251 98.482574 98.51263 98.44361 98.53067 98.51636 98.50602 98.47505 98.5501 98.455475 98.46602 98.49818 98.46939 98.54736 98.5334 98.50072 98.49251 98.48931 98.493904 98.49693 98.48309 98.47811 98.466896 98.428955 98.521576 98.499825 98.49328 98.5391 98.449745 98.48053 98.48532 98.51553 98.5055 98.473305 98.490166 98.47852 98.51331 98.51668 98.53091 98.49928 98.44416 98.51136 98.46853 98.5233 98.49528 98.49164 98.50653 98.47082 98.495605 98.49099 98.4984 98.46413 98.49061 98.47765 98.52584 98.47733 98.47403 98.480415 98.495224 98.52959 98.533875 98.50603 98.46693 98.50798 98.4987 98.45383 98.50974 98.45196 98.48065 98.49458 98.45937 98.492485 98.508286 98.47624 98.492165 98.52067 98.47219 98.50716 98.47983 98.499146 98.510826 98.44129 98.51821 98.48607 98.53116 98.45313 98.49414 98.51329 98.48666 98.554504 98.52986 98.44696 98.504234 98.53284 98.50661 98.530205 98.42455 98.48205 98.469536 98.50325 98.45733 98.42291 98.52874 98.43606 98.46925 98.50211 98.45179 98.48391 98.55249 98.46923 98.510025 98.504616 98.48652 98.47801 98.47019 98.545074 98.49966 98.48878 98.491905 98.487015 98.53627 98.467636 98.47904 98.52629 98.50023 98.49513 98.53801 98.44772 98.5291 98.505264 98.487465 98.524605 98.49044 98.53438 98.50354 98.471756 98.46198 98.48622 98.534195 98.467155 98.51547 98.4964 98.52608 98.557816 98.49699 98.46333 98.50193 98.4868 98.51556 98.457954 98.48366 98.49982 98.504 98.503975 98.53232 98.49835 98.42365 98.51038 98.52246 98.45008 98.51193 98.47219 98.52084 98.50527 98.52131 98.476555 98.49922 98.50178 98.47656 98.48043 98.46864 98.51325 98.53761 98.47469 98.47934 98.43205 98.49458 98.50268 98.57326 98.50966 98.498566 98.50351 98.46965 98.47505 98.54749 98.50318 98.48916 98.498856 98.46332 98.53325 98.52025 98.51402 98.494194 98.48293 98.51546 98.47548 98.48769 98.49008 98.472404 98.50477 98.50034 98.48314 98.47664 98.47807 98.487564 98.52583 98.50117 98.47054 98.46051 98.48288 98.51831 98.495865 98.44134 98.43587 98.50775 98.45288 98.477425 98.53784 98.48056 98.475914 98.56231 98.52532 98.4743 98.529884 98.48272 98.451096 98.43978 98.48341 98.467926 98.53151 98.45873 98.474365 98.44164 98.45132 98.41894 98.43822 98.436035 98.455086 98.470856 98.48657 98.47927 98.47122 98.49103 98.4744 98.47403 98.42387 98.51209 98.462746 98.514946 98.490204 98.51736 98.47598 98.49062 98.49503 98.462456 98.45558 98.57179 98.50122 98.51173 98.4858 98.53395 98.48079 98.46043 98.4888 98.47974 98.53006 98.526665 98.49637 98.48283 98.449005 98.466125 98.512276 98.49662 98.45911 98.483406 98.45035 98.50972 98.452156 98.48476 98.50729 98.4803 98.48714 98.53742 98.48734 98.51403 98.47981 98.45504 98.47268 98.47553 98.52435 98.48042 98.50467 98.49553 98.5163 98.468124 98.496666 98.50554 98.52026 98.49656 98.48927 98.49464 98.47518 98.45162 98.50567 98.48391 98.54515 98.47481 98.502205 98.528366 98.47903 98.48357 98.45287 98.50103 98.4939 98.493385 98.47576 98.48379 98.52026 98.49539 98.48373 98.49017 98.56671 98.42534 98.45415 98.47698 98.48672 98.478455 98.45406 98.484406 98.482506 98.47271 98.41532 98.47809 98.49165 98.524124 98.493034 98.455025 98.46959 98.4525 98.52588 98.47089 98.47268 98.48709 98.43575 98.5115 98.465 98.46841 98.498856 98.51601 98.46421 98.49089 98.4802 98.487564 98.46885 98.525276 98.543076 98.53069 98.46187 98.47412 98.44792 98.44568 98.50682 98.45984 98.50145 98.43961 98.49167 98.52384 98.44576 98.49347 98.47486 98.470695 98.47191 98.4663 98.44952 98.446106 98.45375 98.43177 98.54234 98.48933 98.53438 98.49069 98.49744 98.4711 98.502045 98.50568 98.48489 98.531044 98.462746 98.41757 98.48661 98.46813 98.48237 98.46158 98.51635 98.46195 98.475204 98.48331 98.47258 98.51015 98.49948 98.50885 98.49448 98.4727 98.492935 98.47928 98.488655 98.526 98.50201 98.46942 98.51905 98.52524 98.47725 98.49661 98.51669 98.500404 98.48291 98.49661 98.500854 98.45964 98.46757 98.48183 98.481575 98.49438 98.489655 98.50155 98.49896 98.48067 98.482994 98.50448 98.461464 98.52691 98.48703 98.50945 98.4248 98.44472 98.547295 98.50365 98.471054 98.46871 98.513016 98.50252 98.51894 98.511444 98.48005 98.49078 98.53605 98.48139 98.49385 98.46859 98.4926 98.509315 98.495834 98.509674 98.515594 98.479614 98.50233 98.447235 98.55643 98.4538 98.41628 98.48675 98.4907 98.45829 98.51914 98.47091 98.54339 98.4853 98.50661 98.50574 98.5162 98.46488 98.44258 98.47306 98.47736 98.541504 98.45156 98.48681 98.46942 98.531944 98.50155 98.525475 98.45602 98.476204 98.43138 98.54492 98.496315 98.46071 98.51776 98.50394 98.4894 98.44419 98.50115 98.50027 98.52122 98.48961 98.46967 98.47923 98.51714 98.465904 98.49767 98.48032 98.48386 98.47243 98.4177 98.5401 98.498985) #<unavailable argument> 4780)",
      "1: ((:METHOD MGL-CUBE:CALL-WITH-FACET* (MGL-CUBE:CUBE T T T)) #<VEC 4780 L {101218D4F3}> LISP-VECTOR IO #<FUNCTION (LAMBDA (#:V40) :IN MGL-MAT::LISP-.EXP!) {1012194CDB}>)",
      "2: ((:METHOD MGL-CUBE:CALL-WITH-FACET* (MGL-CUBE:CUBE T T T)) #<MAT 1x4780 BF #2A((98.52127 98.57264 98.5014 98.48482 98.46618 98.488304 98.56503 98.513885 98.47185 98.46189 98.50351 98.522606 98.45548 98.51437 98.537094 98.4508 98.47656 98.49906 98.51197 98.510124 98.44895 98.50548 98.53082 98.45558 98.45831 98.513664 98.49933 98.492294 98.488785 98.46978 98.46547 98.51903 98.51912 98.46313 98.455154 98.486694 98.51153 98.45645 98.501724 98.48958 98.53618 98.51672 98.47284 98.49774 98.46329 98.52262 98.55675 98.51574 98.45258 98.507324 98.58063 98.484924 98.50524 98.500786 98.49628 98.48223 98.4644 98.520004 98.41247 98.50891 98.51769 98.51442 98.50332 98.478035 98.47088 98.47878 98.51088 98.48415 98.46882 98.51799 98.52961 98.48494 98.44818 98.51997 98.49741 98.52764 98.527664 98.45515 98.462074 98.52038 98.53007 98.47282 98.462265 98.46076 98.51616 98.44322 98.44764 98.445694 98.52557 98.449524 98.51822 98.46368 98.46476 98.5109 98.555046 98.48626 98.51234 98.47878 98.46481 98.47112 98.445 98.51912 98.47166 98.47882 98.50071 98.49036 98.50562 98.53523 98.48356 98.4698 98.46618 98.52428 98.54637 98.461266 98.55189 98.53264 98.49034 98.47118 98.53489 98.48855 98.44606 98.491325 98.48497 98.47196 98.48234 98.51811 98.49058 98.460175 98.48918 98.533844 98.52653 98.48708 98.48999 98.49175 98.502 98.49143 98.5183 98.46676 98.445786 98.503555 98.45881 98.50163 98.49002 98.54344 98.504814 98.47497 98.56536 98.47034 98.47264 98.512314 98.506516 98.51969 98.477486 98.46365 98.484535 98.47116 98.52104 98.54419 98.49049 98.50657 98.478386 98.48479 98.48282 98.48409 98.46699 98.48196 98.44978 98.4653 98.563255 98.50682 98.45683 98.47509 98.51277 98.51771 98.500244 98.52121 98.48858 98.496185 98.461136 98.48052 98.48559 98.46506 98.475395 98.49846 98.4982 98.47958 98.48927 98.48134 98.50312 98.46775 98.47028 98.48426 98.48444 98.51681 98.468346 98.50216 98.51699 98.4872 98.4555 98.449 98.46861 98.48447 98.492294 98.5266 98.48165 98.47825 98.49648 98.4918 98.45997 98.51697 98.4711 98.48181 98.478294 98.4919 98.517685 98.51276 98.48994 98.48088 98.5159 98.52052 98.52398 98.53775 98.49404 98.4821 98.44689 98.45839 98.47503 98.458405 98.497116 98.50205 98.55165 98.50389 98.49899 98.45907 98.45308 98.4882 98.46243 98.49838 98.48424 98.49786 98.49555 98.48216 98.49464 98.508 98.51333 98.4756 98.51428 98.52613 98.49868 98.511375 98.47211 98.49485 98.53161 98.49704 98.47216 98.46991 98.48046 98.47555 98.50346 98.4601 98.51363 98.48619 98.47889 98.46428 98.45938 98.52281 98.485374 98.53084 98.52511 98.416565 98.51311 98.44698 98.47085 98.49797 98.488716 98.51496 98.474594 98.48327 98.49865 98.47066 98.494385 98.48511 98.51322 98.50246 98.45473 98.51262 98.46736 98.48534 98.48003 98.48438 98.47327 98.48175 98.53043 98.46708 98.49239 98.496895 98.53864 98.544785 98.46844 98.53409 98.48896 98.49569 98.46979 98.545044 98.49855 98.482254 98.48203 98.50943 98.49611 98.44357 98.51285 98.48942 98.52998 98.49092 98.53508 98.488594 98.492714 98.49409 98.47498 98.42307 98.5306 98.532585 98.49907 98.48255 98.46208 98.49069 98.48093 98.45772 98.51713 98.4947 98.477974 98.50111 98.47018 98.50368 98.476616 98.531746 98.47374 98.48738 98.57322 98.47993 98.53793 98.455536 98.474 98.433815 98.46557 98.529366 98.50051 98.45261 98.56738 98.521805 98.46297 98.444885 98.54044 98.52667 98.5001 98.47528 98.48239 98.50487 98.47775 98.5228 98.47749 98.448265 98.4398 98.47021 98.5048 98.47171 98.481705 98.42067 98.533134 98.508705 98.493385 98.45571 98.458534 98.443214 98.50069 98.48736 98.48893 98.478874 98.49273 98.50631 98.50595 98.48732 98.44474 98.52498 98.483025 98.41166 98.486465 98.51202 98.47662 98.488 98.490486 98.46648 98.512436 98.50882 98.51205 98.49104 98.476364 98.49308 98.466934 98.55939 98.51355 98.47255 98.496735 98.481224 98.50359 98.53956 98.50462 98.510185 98.51093 98.42763 98.47424 98.450386 98.4683 98.4356 98.53192 98.45985 98.49789 98.461266 98.487854 98.486496 98.48635 98.5045 98.50847 98.477844 98.498924 98.51594 98.49481 98.478424 98.466125 98.49828 98.52279 98.477844 98.515205 98.44232 98.49657 98.51855 98.46516 98.46422 98.45511 98.5417 98.48356 98.485916 98.49777 98.49256 98.46778 98.49759 98.48203 98.553406 98.49721 98.50311 98.50525 98.531296 98.496796 98.49754 98.46556 98.501656 98.4678 98.51143 98.49663 98.490295 98.52385 98.47175 98.470566 98.478584 98.44933 98.50282 98.519745 98.45971 98.52507 98.50314 98.46456 98.52607 98.445114 98.50221 98.49535 98.48466 98.517784 98.46434 98.50775 98.50428 98.487015 98.47352 98.50964 98.52162 98.46938 98.54463 98.48641 98.48601 98.525375 98.51589 98.48492 98.46538 98.50638 98.417496 98.44901 98.48519 98.5107 98.48086 98.52343 98.51202 98.50074 98.4961 98.50738 98.48121 98.510765 98.52246 98.53067 98.450714 98.49042 98.49962 98.51368 98.469025 98.50485 98.464806 98.48882 98.49513 98.48213 98.48781 98.49734 98.4868 98.46136 98.51943 98.47755 98.49054 98.47136 98.51293 98.47908 98.49823 98.52383 98.44242 98.50119 98.48682 98.49462 98.51685 98.48284 98.59955 98.472244 98.518135 98.50733 98.483826 98.49282 98.50843 98.464836 98.46737 98.48379 98.47571 98.48914 98.4801 98.47424 98.424095 98.43202 98.49983 98.497765 98.50287 98.471016 98.492096 98.48054 98.54531 98.45502 98.50026 98.48915 98.511505 98.50952 98.50737 98.45246 98.48246 98.501785 98.45303 98.47033 98.471306 98.4895 98.43963 98.499084 98.47897 98.468506 98.4413 98.46247 98.45787 98.488815 98.56585 98.52496 98.45123 98.48569 98.49477 98.50697 98.47961 98.4652 98.46144 98.5365 98.49148 98.531815 98.51446 98.47943 98.50136 98.460815 98.46767 98.51422 98.45668 98.5077 98.54248 98.46225 98.48894 98.45147 98.51096 98.51463 98.47918 98.521416 98.45924 98.45449 98.48121 98.53422 98.48017 98.43275 98.534386 98.464905 98.50212 98.47047 98.49924 98.46008 98.48068 98.466805 98.47693 98.504326 98.47916 98.46178 98.464355 98.40249 98.48964 98.50577 98.481895 98.46669 98.47646 98.40791 98.527374 98.54957 98.45367 98.53887 98.506966 98.4919 98.55933 98.47888 98.4845 98.481636 98.49674 98.45521 98.52307 98.461754 98.49607 98.523056 98.493835 98.4325 98.488594 98.50711 98.45409 98.47549 98.4526 98.46587 98.49849 98.485825 98.45926 98.42897 98.481125 98.497314 98.45991 98.51925 98.49044 98.48704 98.50183 98.519806 98.44092 98.521774 98.471115 98.514946 98.495895 98.47435 98.482666 98.46776 98.45059 98.48582 98.52661 98.49347 98.4675 98.57177 98.47231 98.47145 98.4845 98.48738 98.50931 98.51877 98.49963 98.522156 98.50779 98.438126 98.51241 98.434494 98.49671 98.46579 98.45519 98.53066 98.49359 98.472755 98.43015 98.44194 98.52614 98.513336 98.4818 98.51773 98.46647 98.490715 98.44521 98.471985 98.434616 98.49189 98.50166 98.49674 98.50383 98.44841 98.48842 98.4909 98.45231 98.4745 98.450516 98.48793 98.540115 98.46795 98.47674 98.50179 98.50997 98.48971 98.48763 98.4821 98.49322 98.46183 98.46358 98.45656 98.463005 98.49833 98.451096 98.48034 98.48711 98.51787 98.43074 98.50379 98.49375 98.51694 98.49318 98.51218 98.4618 98.48479 98.483215 98.488525 98.505424 98.48287 98.465675 98.500244 98.53759 98.49074 98.57371 98.52668 98.4598 98.44398 98.46888 98.472565 98.50061 98.463 98.5094 98.47779 98.45799 98.470825 98.4749 98.48474 98.492935 98.49843 98.533936 98.48795 98.45706 98.52985 98.42209 98.507164 98.46271 98.466156 98.46648 98.49563 98.48528 98.49094 98.50803 98.54907 98.499084 98.494225 98.513336 98.47545 98.51093 98.49728 98.479866 98.4836 98.47324 98.51832 98.48068 98.514336 98.50132 98.53789 98.473305 98.47463 98.463394 98.45181 98.49221 98.44837 98.52571 98.50013 98.52943 98.467476 98.48439 98.46916 98.47846 98.47087 98.491936 98.47644 98.49565 98.49104 98.51402 98.456825 98.47038 98.4205 98.47612 98.479195 98.48525 98.494995 98.49069 98.50139 98.48249 98.508415 98.47771 98.5048 98.47917 98.46898 98.44143 98.51143 98.467 98.50271 98.50803 98.44448 98.45445 98.5412 98.521774 98.49387 98.52258 98.49523 98.47967 98.50288 98.480354 98.4999 98.46919 98.498314 98.4771 98.488106 98.4764 98.50153 98.497215 98.510086 98.460556 98.52077 98.52031 98.477356 98.47047 98.4404 98.486496 98.49676 98.468575 98.50907 98.46682 98.531075 98.49189 98.45611 98.46546 98.50294 98.48243 98.47104 98.51625 98.43589 98.449554 98.46265 98.47828 98.499344 98.47719 98.478676 98.49613 98.475426 98.497025 98.502144 98.545525 98.50495 98.48464 98.50733 98.464325 98.48188 98.48236 98.48959 98.54085 98.474144 98.50086 98.498505 98.438736 98.53453 98.470116 98.48335 98.46345 98.448 98.51323 98.46333 98.501526 98.4867 98.4606 98.51431 98.5353 98.566444 98.46901 98.53412 98.47468 98.501656 98.52959 98.51442 98.47666 98.46506 98.553535 98.46955 98.48511 98.50192 98.41028 98.50117 98.49329 98.41361 98.47503 98.53551 98.445984 98.46836 98.485634 98.45276 98.4852 98.486145 98.464966 98.46735 98.48438 98.47997 98.515854 98.485 98.499146 98.43973 98.4966 98.52934 98.523575 98.4772 98.47025 98.466736 98.461464 98.474464 98.5196 98.50583 98.52148 98.53888 98.50688 98.48859 98.470924 98.55749 98.53166 98.451004 98.506805 98.40666 98.499916 98.47081 98.47227 98.54258 98.46585 98.50666 98.47108 98.5215 98.48555 98.44216 98.51763 98.475006 98.47841 98.47163 98.511505 98.51106 98.5057 98.49367 98.55265 98.47012 98.504585 98.48325 98.496765 98.51334 98.528244 98.44772 98.48763 98.513916 98.517334 98.48033 98.51156 98.47469 98.48111 98.48499 98.48427 98.50079 98.524445 98.519135 98.534225 98.46875 98.49174 98.48215 98.485344 98.49582 98.56395 98.531685 98.460526 98.446396 98.497185 98.4585 98.505745 98.50793 98.447105 98.482445 98.54958 98.53107 98.54834 98.433784 98.456696 98.53982 98.43156 98.46991 98.491 98.47352 98.51542 98.47241 98.50509 98.5005 98.51263 98.494545 98.47833 98.463524 98.515915 98.46805 98.4724 98.519356 98.52688 98.4957 98.47014 98.514175 98.47434 98.50749 98.49323 98.50739 98.4858 98.5062 98.41813 98.50171 98.47541 98.52883 98.474304 98.47547 98.47528 98.47962 98.54531 98.46493 98.5238 98.55358 98.48712 98.500336 98.49728 98.4713 98.53092 98.49008 98.47012 98.48274 98.4665 98.47802 98.48386 98.47071 98.49356 98.503654 98.49177 98.51224 98.47998 98.49848 98.49871 98.47418 98.48583 98.487434 98.477516 98.53503 98.52203 98.51076 98.525795 98.49632 98.46627 98.50228 98.436264 98.457985 98.50967 98.51122 98.458664 98.47236 98.53444 98.44705 98.4974 98.498795 98.502686 98.45996 98.50254 98.51135 98.50319 98.451645 98.52374 98.52282 98.45998 98.54133 98.50642 98.48543 98.461174 98.48791 98.47555 98.46693 98.51441 98.41925 98.49182 98.48023 98.494804 98.52475 98.44225 98.50722 98.518936 98.517975 98.51746 98.45442 98.462776 98.49373 98.46124 98.48125 98.476036 98.431854 98.47898 98.52728 98.423096 98.46535 98.53654 98.50351 98.439606 98.45896 98.49318 98.49728 98.46781 98.467606 98.479164 98.48116 98.48124 98.46208 98.51765 98.4534 98.48249 98.53304 98.51529 98.492294 98.52421 98.427246 98.49939 98.490105 98.45147 98.50119 98.511505 98.47753 98.44384 98.498924 98.51539 98.4857 98.45361 98.46888 98.53238 98.528534 98.49292 98.47297 98.486435 98.49777 98.5084 98.52082 98.54664 98.461845 98.506996 98.44037 98.44693 98.48148 98.469666 98.49314 98.43414 98.424706 98.47012 98.46347 98.497665 98.53163 98.44734 98.49292 98.4811 98.52044 98.481964 98.422035 98.49377 98.50971 98.461136 98.49263 98.49253 98.55399 98.45814 98.47633 98.47773 98.48078 98.47606 98.49145 98.444374 98.4855 98.483864 98.45443 98.50749 98.53672 98.49679 98.464035 98.49405 98.520584 98.47371 98.53685 98.498825 98.51016 98.44921 98.538155 98.50047 98.45157 98.49635 98.47087 98.46382 98.51445 98.444496 98.54321 98.51818 98.47886 98.45745 98.50828 98.54154 98.49124 98.50629 98.45618 98.52388 98.48187 98.520706 98.530556 98.49276 98.49014 98.49742 98.462875 98.49695 98.48999 98.4878 98.53006 98.50964 98.44996 98.481995 98.56859 98.52798 98.46479 98.49074 98.52794 98.46804 98.52239 98.52747 98.48008 98.4976 98.44986 98.498764 98.507835 98.4599 98.52642 98.507935 98.488976 98.44634 98.465805 98.47504 98.47306 98.46005 98.46493 98.47812 98.52032 98.45829 98.50856 98.466866 98.517555 98.501656 98.48396 98.4489 98.49086 98.52954 98.48122 98.494736 98.517845 98.45395 98.52623 98.52734 98.51413 98.4755 98.48742 98.497185 98.50673 98.52911 98.5157 98.47471 98.5019 98.48568 98.49499 98.49225 98.52243 98.468025 98.516075 98.517456 98.51331 98.45507 98.50697 98.50763 98.486755 98.47565 98.49852 98.471245 98.51283 98.5256 98.4826 98.479324 98.509834 98.46981 98.47858 98.540344 98.53513 98.53693 98.456955 98.476395 98.51894 98.47903 98.48388 98.47064 98.4855 98.47429 98.493706 98.54679 98.406746 98.5269 98.419235 98.479866 98.48929 98.455246 98.47359 98.446785 98.433495 98.47896 98.47206 98.47501 98.511955 98.48397 98.469315 98.5189 98.505585 98.541725 98.485176 98.47956 98.490326 98.46996 98.43379 98.44844 98.53888 98.50368 98.53688 98.46877 98.525566 98.470184 98.525375 98.45575 98.47687 98.49132 98.47479 98.46662 98.47557 98.50838 98.488106 98.52543 98.55333 98.50342 98.49774 98.46365 98.478806 98.50805 98.46554 98.452156 98.473694 98.54516 98.505325 98.49805 98.4948 98.48658 98.49501 98.49272 98.445404 98.50435 98.472244 98.5011 98.487206 98.54095 98.47262 98.516655 98.479706 98.47164 98.497086 98.52444 98.44466 98.485245 98.53849 98.45797 98.467804 98.46195 98.47885 98.493774 98.52138 98.505295 98.47776 98.45234 98.46078 98.4499 98.494286 98.46468 98.49627 98.50359 98.43846 98.46558 98.498116 98.47981 98.509224 98.49006 98.548904 98.48499 98.49519 98.50115 98.46625 98.4802 98.512955 98.456795 98.49232 98.495705 98.52522 98.512886 98.52495 98.51931 98.41317 98.52409 98.545135 98.49566 98.48417 98.50747 98.527954 98.492 98.47775 98.54226 98.50919 98.52771 98.45655 98.45 98.48885 98.52408 98.46312 98.53713 98.515175 98.51745 98.43576 98.521484 98.487404 98.48115 98.45782 98.49966 98.52802 98.48874 98.521324 98.51565 98.46333 98.49717 98.53211 98.453896 98.47458 98.46187 98.47477 98.49824 98.51284 98.47787 98.39256 98.48267 98.52796 98.51299 98.49922 98.464355 98.47152 98.492744 98.512924 98.44788 98.50238 98.49537 98.455475 98.492836 98.4697 98.44183 98.53152 98.4933 98.46468 98.5092 98.47554 98.5061 98.51757 98.48497 98.51901 98.474495 98.53345 98.53332 98.5092 98.494354 98.47481 98.49197 98.523544 98.47952 98.48695 98.49024 98.45039 98.44028 98.46299 98.47889 98.53256 98.545105 98.52843 98.52857 98.495636 98.53075 98.539185 98.47991 98.48323 98.54169 98.442696 98.537025 98.45363 98.46979 98.50218 98.48069 98.51121 98.48054 98.482895 98.49933 98.4996 98.47875 98.49951 98.51683 98.46987 98.49725 98.501144 98.49965 98.495155 98.53981 98.49694 98.46956 98.5015 98.44072 98.5163 98.531746 98.468124 98.55405 98.44112 98.48227 98.4754 98.42261 98.465164 98.48403 98.53418 98.48789 98.54444 98.4783 98.4946 98.50459 98.56253 98.50905 98.51439 98.49662 98.5012 98.440025 98.47716 98.515686 98.491844 98.4731 98.48642 98.47713 98.56324 98.45603 98.5027 98.45577 98.48862 98.50541 98.51717 98.4999 98.46979 98.47882 98.455025 98.51034 98.46425 98.50951 98.5033 98.49386 98.55775 98.47563 98.481895 98.47472 98.47791 98.46181 98.46149 98.53625 98.50028 98.46454 98.45311 98.480064 98.44531 98.51012 98.500084 98.461876 98.49782 98.47132 98.466965 98.46632 98.47187 98.48201 98.49413 98.48835 98.46722 98.49665 98.485085 98.54298 98.512 98.46228 98.50284 98.478325 98.492386 98.464096 98.55137 98.47638 98.43932 98.51869 98.46698 98.44256 98.46622 98.50934 98.4888 98.48461 98.482445 98.50268 98.49662 98.47423 98.53057 98.478355 98.48327 98.453766 98.49413 98.45878 98.481346 98.54053 98.47141 98.47162 98.46113 98.49372 98.507355 98.50149 98.52441 98.511444 98.44109 98.54148 98.53471 98.49534 98.50821 98.45774 98.51384 98.51709 98.476425 98.50396 98.492546 98.48378 98.494095 98.44819 98.50457 98.553604 98.50142 98.496414 98.49219 98.456345 98.448654 98.48392 98.48304 98.497375 98.44908 98.52487 98.499306 98.489876 98.47883 98.467964 98.47072 98.48916 98.476234 98.52241 98.48288 98.51959 98.51142 98.48869 98.45295 98.51566 98.46471 98.499954 98.45524 98.49303 98.43703 98.47006 98.50113 98.51851 98.480446 98.492165 98.49545 98.51977 98.45487 98.494064 98.4893 98.46586 98.45341 98.492134 98.50843 98.43145 98.49762 98.52031 98.50587 98.47788 98.46571 98.48057 98.47972 98.511055 98.47351 98.46713 98.480156 98.466255 98.53283 98.451904 98.42263 98.48016 98.476944 98.45476 98.48883 98.43779 98.507256 98.48167 98.461266 98.477264 98.47909 98.48621 98.50096 98.459465 98.473305 98.48485 98.48586 98.529686 98.43475 98.487465 98.46298 98.4776 98.52806 98.49805 98.5036 98.47673 98.5252 98.51111 98.47418 98.46613 98.5017 98.48178 98.462685 98.476036 98.45143 98.4353 98.52088 98.517624 98.455215 98.45717 98.503044 98.49781 98.522736 98.452126 98.464554 98.47623 98.49269 98.49624 98.50253 98.511505 98.487686 98.47935 98.48104 98.5018 98.49959 98.48322 98.447876 98.424736 98.48808 98.50241 98.47318 98.509735 98.4614 98.46774 98.53654 98.458244 98.505775 98.45355 98.516075 98.53867 98.47983 98.495445 98.44812 98.45215 98.46585 98.46132 98.4744 98.49449 98.50884 98.44004 98.50989 98.487854 98.48003 98.514046 98.47396 98.47897 98.504875 98.43377 98.48877 98.50324 98.51574 98.502884 98.49624 98.515274 98.48138 98.4997 98.43351 98.50797 98.53528 98.50129 98.51601 98.49702 98.49934 98.44588 98.49123 98.508415 98.50551 98.48483 98.51063 98.51816 98.53462 98.46799 98.50742 98.49162 98.44252 98.52358 98.507484 98.488335 98.57349 98.50168 98.49831 98.52885 98.45166 98.59557 98.4759 98.45424 98.52826 98.481094 98.53884 98.46793 98.47033 98.4785 98.464645 98.54382 98.49754 98.43391 98.49298 98.49351 98.444626 98.49456 98.458244 98.50979 98.483444 98.5215 98.496475 98.498566 98.49603 98.52312 98.47766 98.50641 98.4746 98.49677 98.43009 98.474335 98.493164 98.492096 98.50007 98.51819 98.53733 98.53671 98.49247 98.46756 98.50375 98.4429 98.51359 98.48131 98.44397 98.5059 98.56295 98.51088 98.45984 98.46923 98.486305 98.470856 98.44097 98.47505 98.50796 98.4617 98.45466 98.517 98.47226 98.49111 98.48749 98.50115 98.480774 98.45258 98.49104 98.45248 98.48086 98.46955 98.51277 98.48478 98.472694 98.48694 98.47984 98.47018 98.51898 98.46853 98.46285 98.51593 98.50793 98.492165 98.507454 98.52746 98.484375 98.466225 98.47932 98.42709 98.528 98.48646 98.49543 98.51425 98.495865 98.523254 98.46817 98.47807 98.497894 98.467575 98.510414 98.469536 98.46608 98.51446 98.46338 98.475136 98.50937 98.5342 98.51885 98.476776 98.56074 98.48951 98.53531 98.51355 98.46898 98.49129 98.537926 98.49541 98.488235 98.50092 98.4623 98.450905 98.47851 98.52993 98.46453 98.48565 98.54946 98.46343 98.44685 98.4754 98.5456 98.462135 98.51668 98.51368 98.495674 98.468254 98.473045 98.46804 98.45042 98.4983 98.445244 98.52826 98.48511 98.50793 98.50463 98.45919 98.51252 98.46699 98.46106 98.495125 98.44962 98.471085 98.44223 98.503685 98.52065 98.47308 98.484535 98.48603 98.44703 98.42191 98.4955 98.509514 98.534515 98.535545 98.48596 98.47063 98.50933 98.43659 98.49415 98.48853 98.49698 98.45534 98.47325 98.48541 98.51126 98.49638 98.422455 98.52407 98.447845 98.45922 98.52586 98.53149 98.525215 98.49659 98.48461 98.51549 98.53093 98.483574 98.50713 98.47383 98.46809 98.500435 98.445274 98.51875 98.50135 98.535194 98.513306 98.49877 98.45389 98.47291 98.48468 98.50464 98.497444 98.39473 98.51678 98.50061 98.477264 98.46361 98.51782 98.47438 98.46115 98.45737 98.50593 98.42485 98.519165 98.50979 98.51883 98.45653 98.42674 98.46741 98.49087 98.46642 98.45387 98.54633 98.48341 98.45959 98.47322 98.53085 98.513405 98.50066 98.470314 98.432014 98.44992 98.515785 98.45735 98.482895 98.499084 98.45262 98.46745 98.48031 98.5482 98.4969 98.48288 98.51717 98.488144 98.48804 98.46638 98.43949 98.4876 98.49921 98.48323 98.549614 98.48282 98.50834 98.45988 98.499954 98.53389 98.48517 98.46337 98.497826 98.443306 98.513176 98.51425 98.446945 98.507454 98.472885 98.5171 98.510895 98.48489 98.43989 98.49917 98.44055 98.50065 98.46424 98.5148 98.50795 98.504875 98.498085 98.55384 98.49896 98.51927 98.47582 98.51875 98.48977 98.50971 98.47489 98.514984 98.5153 98.50734 98.51116 98.486694 98.49183 98.41827 98.438126 98.489105 98.51776 98.48082 98.49402 98.48965 98.51218 98.46748 98.49835 98.48176 98.473854 98.45392 98.46348 98.49023 98.47772 98.537 98.49236 98.496956 98.46792 98.460846 98.492874 98.51998 98.44487 98.49276 98.486855 98.48988 98.50796 98.505554 98.45475 98.46043 98.53158 98.49539 98.49869 98.49767 98.52412 98.518776 98.5218 98.53643 98.477196 98.44789 98.47696 98.50892 98.4672 98.42922 98.50295 98.48922 98.499825 98.42167 98.503975 98.51966 98.45873 98.47731 98.50674 98.464676 98.45909 98.50589 98.512764 98.462845 98.51222 98.45676 98.44808 98.46896 98.532036 98.477135 98.54501 98.488075 98.44052 98.45946 98.4921 98.495636 98.47951 98.5127 98.50442 98.49657 98.490486 98.447815 98.48395 98.4987 98.49258 98.485634 98.4389 98.48249 98.51129 98.48366 98.4822 98.44627 98.45673 98.47032 98.53389 98.45721 98.51033 98.44419 98.47267 98.48369 98.45913 98.504814 98.518456 98.50496 98.52938 98.54755 98.52158 98.464584 98.51421 98.49688 98.431465 98.552315 98.501625 98.47206 98.532684 98.49476 98.440056 98.475136 98.47588 98.49666 98.48998 98.4538 98.55157 98.52415 98.483505 98.45089 98.51382 98.51193 98.495674 98.483345 98.53035 98.496315 98.507774 98.49833 98.45692 98.477165 98.47765 98.517136 98.4587 98.45394 98.48343 98.46774 98.46018 98.48143 98.49207 98.50467 98.50902 98.46069 98.48887 98.47969 98.498405 98.548546 98.514854 98.448166 98.50197 98.51396 98.47788 98.563545 98.46128 98.51664 98.49005 98.50506 98.5021 98.48512 98.47839 98.499374 98.49281 98.473145 98.4534 98.49595 98.493095 98.47584 98.486305 98.443184 98.48205 98.475845 98.48208 98.53018 98.48111 98.49176 98.455894 98.470215 98.482506 98.50571 98.4858 98.498726 98.539055 98.4972 98.50818 98.47795 98.479065 98.528404 98.55875 98.50643 98.51976 98.484726 98.49556 98.471756 98.474945 98.463326 98.53878 98.52162 98.4674 98.53761 98.5108 98.49782 98.49636 98.51538 98.52437 98.52415 98.54168 98.47479 98.463844 98.50281 98.50324 98.51911 98.45094 98.527985 98.52504 98.48866 98.514435 98.461945 98.491806 98.42033 98.50831 98.47308 98.45543 98.50744 98.47154 98.52902 98.497154 98.51174 98.47865 98.43531 98.4643 98.46146 98.47091 98.46302 98.499954 98.46982 98.48948 98.51649 98.5047 98.50335 98.510925 98.45084 98.5114 98.52824 98.41742 98.5109 98.498474 98.49349 98.49426 98.43514 98.510254 98.44993 98.46261 98.5127 98.499504 98.46544 98.498215 98.46898 98.51418 98.51106 98.47664 98.45135 98.52981 98.50355 98.46639 98.45587 98.508095 98.46992 98.4586 98.55122 98.47887 98.50668 98.46007 98.518 98.46642 98.46103 98.472626 98.4568 98.49365 98.47076 98.47851 98.48543 98.49119 98.4607 98.454414 98.48206 98.496925 98.53989 98.48637 98.4691 98.54386 98.45534 98.4193 98.52543 98.51132 98.466515 98.46292 98.45647 98.484604 98.48294 98.55508 98.48242 98.50007 98.51273 98.482704 98.480484 98.479965 98.50062 98.44871 98.51617 98.47869 98.47543 98.46432 98.53036 98.449585 98.51671 98.48378 98.51587 98.47899 98.45861 98.517654 98.44799 98.47203 98.46252 98.46561 98.55243 98.47253 98.53861 98.51638 98.471214 98.49689 98.46208 98.50341 98.531296 98.46765 98.48387 98.515816 98.454895 98.48557 98.52436 98.511536 98.44863 98.48934 98.451385 98.48124 98.49441 98.46748 98.476456 98.534164 98.44983 98.46724 98.49072 98.50002 98.45548 98.47537 98.49526 98.52752 98.48717 98.52227 98.5005 98.496025 98.48339 98.50376 98.51529 98.45667 98.555466 98.46127 98.483986 98.49805 98.50409 98.47423 98.46403 98.438995 98.503136 98.53032 98.52146 98.48418 98.51017 98.495094 98.5048 98.47334 98.45606 98.52572 98.45885 98.49192 98.53974 98.49154 98.471176 98.4563 98.4916 98.51117 98.515854 98.531815 98.502335 98.49599 98.50613 98.48385 98.495415 98.503174 98.474045 98.49026 98.53669 98.50458 98.518845 98.4811 98.474304 98.497986 98.476074 98.47966 98.47832 98.529045 98.48161 98.4715 98.53479 98.50566 98.516426 98.449745 98.47338 98.4925 98.5191 98.456856 98.46526 98.528175 98.498405 98.482704 98.52498 98.4836 98.50485 98.48519 98.54512 98.499214 98.48907 98.486595 98.4808 98.53641 98.463264 98.502075 98.52718 98.500565 98.50103 98.48045 98.50806 98.44121 98.51155 98.44005 98.47903 98.49631 98.411934 98.42309 98.48997 98.5137 98.52178 98.47102 98.4906 98.53165 98.5085 98.48694 98.52019 98.44516 98.50084 98.452286 98.49692 98.45977 98.48484 98.50869 98.46723 98.49468 98.49068 98.5033 98.460846 98.52142 98.41692 98.50579 98.44058 98.46183 98.49783 98.48243 98.475266 98.49689 98.50294 98.46766 98.48976 98.47304 98.50663 98.47731 98.528595 98.48435 98.522644 98.46194 98.49828 98.50434 98.46602 98.44752 98.466354 98.483475 98.48664 98.52784 98.46635 98.49458 98.4462 98.51542 98.49445 98.47038 98.45103 98.54831 98.4708 98.45752 98.54262 98.4991 98.55307 98.48517 98.497086 98.5243 98.456436 98.4902 98.50857 98.45907 98.500916 98.51152 98.47985 98.47945 98.48111 98.49512 98.49242 98.45711 98.44482 98.52563 98.54942 98.47281 98.512184 98.462105 98.43714 98.50704 98.55097 98.514114 98.51098 98.47753 98.440216 98.44838 98.51418 98.4447 98.4594 98.50048 98.47918 98.47317 98.46119 98.49678 98.477325 98.423965 98.46785 98.49687 98.48041 98.48186 98.49009 98.464195 98.511604 98.50219 98.52601 98.467705 98.52246 98.494606 98.49361 98.505806 98.43863 98.51372 98.50636 98.501656 98.45433 98.533775 98.516045 98.46766 98.48479 98.48793 98.55169 98.462425 98.43395 98.5552 98.52266 98.5376 98.52203 98.500404 98.48243 98.470406 98.47138 98.512695 98.46145 98.48006 98.46085 98.488266 98.50356 98.45773 98.541466 98.4925 98.544754 98.498764 98.51021 98.484856 98.480736 98.51911 98.50891 98.48758 98.4688 98.50896 98.49282 98.45476 98.52625 98.500786 98.469475 98.51403 98.496 98.471634 98.46686 98.48305 98.48827 98.47723 98.50579 98.465065 98.52679 98.498 98.49449 98.47174 98.49443 98.479416 98.51511 98.483406 98.44326 98.48172 98.504166 98.508286 98.4918 98.48954 98.54283 98.494026 98.48066 98.45631 98.47721 98.50661 98.48662 98.504364 98.482605 98.45629 98.459236 98.490166 98.475876 98.497314 98.43778 98.486595 98.48929 98.49643 98.457695 98.49198 98.49231 98.42648 98.505486 98.49902 98.49803 98.441475 98.55157 98.4919 98.41832 98.4969 98.49815 98.48829 98.436844 98.50107 98.51633 98.49841 98.51263 98.463005 98.49494 98.52209 98.509445 98.483215 98.503685 98.48931 98.5183 98.4774 98.487495 98.47707 98.50421 98.50464 98.46907 98.504074 98.46615 98.51416 98.49623 98.44342 98.46201 98.47554 98.50338 98.50495 98.44882 98.44066 98.49621 98.49409 98.50252 98.5119 98.52748 98.540306 98.4712 98.48805 98.58273 98.50059 98.43408 98.47873 98.47626 98.457214 98.47277 98.434105 98.4501 98.47842 98.50112 98.5084 98.441956 98.45174 98.48459 98.50447 98.46907 98.46043 98.51237 98.493576 98.4521 98.502335 98.49151 98.45834 98.50173 98.52853 98.48158 98.42243 98.46854 98.492805 98.49913 98.48757 98.474495 98.520325 98.48608 98.4991 98.505974 98.492615 98.53175 98.52423 98.499886 98.46905 98.54983 98.48809 98.470665 98.51266 98.50891 98.47152 98.465385 98.48164 98.4988 98.50733 98.458626 98.52137 98.51927 98.49635 98.476036 98.47641 98.48993 98.50438 98.474884 98.50032 98.44211 98.483345 98.49545 98.48113 98.47234 98.455696 98.481445 98.467445 98.46006 98.52921 98.51306 98.4916 98.5098 98.47217 98.426 98.53026 98.51242 98.48482 98.47661 98.51156 98.45409 98.4615 98.46559 98.46716 98.46077 98.44124 98.4644 98.52762 98.472374 98.494865 98.44722 98.49806 98.51208 98.46376 98.49906 98.52688 98.45693 98.4371 98.47098 98.54637 98.485504 98.51846 98.50565 98.47849 98.4974 98.53143 98.46845 98.43452 98.539085 98.45 98.490425 98.44326 98.50671 98.52282 98.52051 98.47556 98.46936 98.448135 98.481316 98.45836 98.51031 98.48914 98.47942 98.49369 98.49562 98.494194 98.49387 98.43141 98.476036 98.54194 98.51188 98.47535 98.48647 98.50516 98.489815 98.50345 98.52185 98.48762 98.51653 98.52735 98.5158 98.49475 98.47572 98.46471 98.489006 98.49135 98.541954 98.52649 98.467964 98.42754 98.53746 98.47399 98.504295 98.48127 98.5271 98.58589 98.51021 98.52383 98.53063 98.487175 98.52648 98.498985 98.47184 98.49458 98.49985 98.53774 98.42491 98.50164 98.478065 98.47162 98.500084 98.47134 98.506874 98.49144 98.41664 98.50009 98.53246 98.478004 98.46607 98.51101 98.45035 98.4865 98.47356 98.51477 98.44711 98.494095 98.46651 98.466805 98.48091 98.42182 98.49808 98.466286 98.513756 98.472 98.49717 98.50858 98.51338 98.47646 98.49504 98.49172 98.4881 98.47694 98.50863 98.50012 98.46626 98.49613 98.51815 98.490234 98.5123 98.46971 98.458115 98.418396 98.49723 98.52383 98.43278 98.49109 98.48365 98.49143 98.51871 98.46802 98.51545 98.435005 98.53708 98.50229 98.498955 98.43369 98.48472 98.505936 98.470894 98.485 98.48446 98.49517 98.49216 98.49074 98.454735 98.49225 98.47947 98.478615 98.50807 98.532326 98.48175 98.52621 98.489136 98.46054 98.47624 98.506546 98.45017 98.49793 98.47905 98.55826 98.46865 98.472 98.471504 98.52402 98.44625 98.459564 98.504425 98.48236 98.51798 98.487785 98.51734 98.48384 98.47142 98.443436 98.54538 98.48828 98.51933 98.472404 98.525925 98.52266 98.46432 98.46764 98.51146 98.47344 98.530075 98.482185 98.50424 98.53291 98.512115 98.47916 98.48664 98.494514 98.51557 98.50695 98.52285 98.49331 98.489655 98.43191 98.508156 98.43972 98.48356 98.410515 98.496956 98.49051 98.45822 98.53317 98.465775 98.468834 98.46998 98.472824 98.51444 98.49282 98.50337 98.48888 98.482956 98.560394 98.41596 98.4801 98.524734 98.509155 98.52068 98.53044 98.48984 98.51246 98.53683 98.49738 98.482735 98.48938 98.497955 98.48897 98.497444 98.48953 98.534004 98.49717 98.54848 98.47035 98.47316 98.45539 98.430374 98.52521 98.50837 98.505165 98.50186 98.46602 98.46174 98.49475 98.51765 98.46585 98.50095 98.474106 98.48815 98.507164 98.49832 98.50666 98.4978 98.52041 98.53746 98.5268 98.48889 98.438934 98.51402 98.48559 98.48726 98.53381 98.51683 98.51253 98.47473 98.49579 98.50658 98.47637 98.52446 98.47941 98.5203 98.48906 98.45247 98.54186 98.491875 98.505554 98.458435 98.48116 98.46472 98.47862 98.46897 98.5388 98.48543 98.45972 98.5696 98.509346 98.54506 98.47279 98.46569 98.502365 98.54541 98.51394 98.512314 98.49703 98.48001 98.525375 98.474556 98.50288 98.523766 98.46605 98.48875 98.52432 98.488144 98.47115 98.498795 98.4815 98.48256 98.46734 98.54559 98.4812 98.49997 98.53049 98.52157 98.52971 98.47355 98.480835 98.49013 98.48956 98.438385 98.46506 98.48554 98.48823 98.51069 98.491875 98.45883 98.49822 98.53042 98.5012 98.4395 98.49182 98.50189 98.515335 98.50749 98.46114 98.5095 98.484314 98.4561 98.47278 98.48843 98.51834 98.51189 98.49066 98.47137 98.438446 98.44535 98.4909 98.5197 98.488335 98.471405 98.495155 98.49587 98.459625 98.51859 98.44807 98.47521 98.49176 98.49524 98.48418 98.44655 98.43232 98.48398 98.47412 98.48538 98.52382 98.51579 98.47869 98.53439 98.49011 98.5007 98.51075 98.49927 98.50224 98.521996 98.52959 98.53071 98.5451 98.488045 98.419624 98.51394 98.49097 98.477425 98.51857 98.510895 98.490555 98.46622 98.46632 98.485725 98.43567 98.501686 98.462105 98.49016 98.51764 98.49206 98.43231 98.54562 98.45651 98.50968 98.52011 98.419754 98.440735 98.47225 98.51828 98.47289 98.47333 98.49071 98.52721 98.50425 98.477036 98.48486 98.49523 98.4561 98.46585 98.51123 98.534065 98.46993 98.54538 98.505104 98.4247 98.48795 98.53727 98.51733 98.478806 98.511406 98.46141 98.51742 98.49829 98.48312 98.5081 98.47836 98.49686 98.508575 98.44083 98.48372 98.51902 98.50595 98.46542 98.477585 98.51034 98.48014 98.45346 98.49432 98.44587 98.46403 98.478096 98.474236 98.4393 98.48872 98.49619 98.43864 98.43347 98.4546 98.46078 98.488106 98.49782 98.486435 98.52189 98.47844 98.5023 98.52009 98.434166 98.46747 98.463715 98.541016 98.44455 98.47858 98.502785 98.44572 98.50482 98.44711 98.53855 98.49459 98.4885 98.47077 98.545235 98.49196 98.45415 98.48492 98.452255 98.4871 98.50896 98.439896 98.51747 98.52411 98.481346 98.512886 98.53985 98.5327 98.48289 98.479034 98.44305 98.47047 98.53347 98.4667 98.53306 98.48429 98.47056 98.455734 98.49944 98.502205 98.493614 98.43118 98.50508 98.47284 98.47211 98.50182 98.49813 98.51408 98.48024 98.490265 98.51788 98.50189 98.45355 98.505066 98.47339 98.46767 98.4676 98.462585 98.515366 98.52031 98.49092 98.56601 98.48001 98.472374 98.48662 98.485664 98.425476 98.47151 98.47668 98.526726 98.45358 98.48429 98.4934 98.47972 98.517456 98.46143 98.483536 98.522804 98.48228 98.5121 98.461494 98.46408 98.55143 98.4754 98.48765 98.42698 98.470856 98.514 98.50369 98.4923 98.4628 98.49509 98.519295 98.48654 98.48237 98.53747 98.49668 98.454285 98.52043 98.510185 98.47806 98.50544 98.49638 98.48682 98.53243 98.49211 98.4286 98.49726 98.46235 98.4995 98.47873 98.49775 98.46724 98.45942 98.47483 98.45057 98.47508 98.492455 98.48051 98.495094 98.478226 98.54106 98.463425 98.5314 98.48192 98.52384 98.528564 98.46128 98.44944 98.49568 98.498695 98.47526 98.50443 98.45269 98.51322 98.48228 98.474815 98.500145 98.5391 98.48392 98.49726 98.49188 98.49341 98.48847 98.51716 98.50034 98.50897 98.491844 98.46098 98.46069 98.52223 98.49488 98.46116 98.51899 98.45047 98.522194 98.51235 98.50244 98.52234 98.503204 98.53561 98.51176 98.51481 98.46868 98.510216 98.45877 98.46986 98.487175 98.49952 98.477264 98.49634 98.49961 98.49036 98.45567 98.52336 98.48942 98.47747 98.50595 98.54672 98.514626 98.52226 98.51387 98.51388 98.42565 98.51845 98.47825 98.467766 98.487885 98.51053 98.437515 98.57091 98.50579 98.48073 98.502106 98.45679 98.5018 98.49329 98.440186 98.50065 98.47037 98.49921 98.48331 98.501465 98.49767 98.51124 98.512405 98.47345 98.49052 98.492256 98.37958 98.52176 98.47661 98.45933 98.44825 98.526405 98.516655 98.52115 98.47529 98.56133 98.45291 98.54855 98.541016 98.5181 98.50084 98.47945 98.46698 98.50859 98.478935 98.4423 98.45101 98.45044 98.482 98.48597 98.525604 98.516975 98.49135 98.50533 98.480705 98.500114 98.50747 98.4513 98.46518 98.54826 98.45853 98.461494 98.46002 98.53869 98.51938 98.42728 98.49475 98.53309 98.48547 98.47954 98.490906 98.48781 98.477554 98.51002 98.50076 98.45878 98.48234 98.44342 98.54993 98.5085 98.470505 98.46495 98.50996 98.48417 98.491585 98.538 98.514854 98.49083 98.48629 98.50342 98.43971 98.51249 98.50772 98.46417 98.48951 98.48021 98.49447 98.51585 98.48389 98.4906 98.500374 98.51434 98.471115 98.531494 98.528786 98.46359 98.460434 98.51592 98.47283 98.47679 98.50602 98.51092 98.465454 98.49958 98.461235 98.43297 98.49225 98.48625 98.50702 98.51434 98.50327 98.418335 98.4741 98.48345 98.50145 98.462975 98.50488 98.53496 98.44147 98.54349 98.49311 98.54226 98.50548 98.479836 98.46564 98.502335 98.475044 98.43 98.44791 98.50979 98.494484 98.48729 98.49258 98.4933 98.45744 98.46064 98.453804 98.45882 98.49774 98.508026 98.46878 98.4891 98.53319 98.50782 98.4905 98.47443 98.472145 98.53236 98.47692 98.50231 98.42898 98.5197 98.5037 98.52186 98.50588 98.50433 98.47897 98.47022 98.51064 98.49518 98.464386 98.47311 98.48792 98.46225 98.47031 98.490814 98.4627 98.492516 98.469086 98.445724 98.49336 98.43074 98.4368 98.44351 98.47998 98.516624 98.4333 98.46983 98.478165 98.52061 98.54082 98.497215 98.5278 98.493675 98.51625 98.50917 98.44399 98.502846 98.518906 98.49413 98.45126 98.47975 98.5281 98.50713 98.5342 98.478745 98.51688 98.48642 98.4915 98.52783 98.49995 98.500755 98.44917 98.477196 98.489235 98.49729 98.527466 98.47461 98.46636 98.47501 98.48492 98.50416 98.43884 98.51437 98.50947 98.51032 98.535934 98.50769 98.5089 98.50686 98.48191 98.46138 98.472496 98.45731 98.46427 98.46682 98.516106 98.48049 98.4937 98.48641 98.48787 98.442345 98.53171 98.469154 98.51325 98.56814 98.52732 98.49079 98.510826 98.47028 98.507614 98.48732 98.449684 98.48686 98.49633 98.5287 98.46889 98.51847 98.53991 98.48942 98.48371 98.49299 98.46699 98.51952 98.45494 98.5027 98.438965 98.495735 98.45983 98.48595 98.51797 98.499245 98.52408 98.47817 98.477165 98.51274 98.54706 98.480255 98.48522 98.51953 98.47154 98.47024 98.501076 98.5143 98.47425 98.47499 98.506485 98.46298 98.49034 98.52504 98.48397 98.50211 98.46004 98.52981 98.449905 98.53086 98.44225 98.53539 98.475334 98.4342 98.511215 98.466064 98.4779 98.53614 98.48337 98.4706 98.43575 98.46268 98.452194 98.42982 98.44179 98.455315 98.47996 98.4686 98.46409 98.473755 98.50422 98.52422 98.47749 98.45193 98.48964 98.491875 98.479 98.5125 98.49324 98.475784 98.50796 98.52839 98.487755 98.542465 98.48893 98.49387 98.55403 98.47733 98.4788 98.479225 98.50086 98.51058 98.52355 98.522705 98.45732 98.442825 98.4875 98.49984 98.4709 98.46732 98.44043 98.43681 98.47034 98.53849 98.47349 98.448524 98.51129 98.49163 98.45425 98.54157 98.445305 98.49284 98.505844 98.47138 98.507935 98.47186 98.50623 98.53241 98.50721 98.51836 98.47283 98.496826 98.47611 98.49731 98.471115 98.46612 98.49824 98.503716 98.487175 98.49106 98.47768 98.5174 98.503845 98.470184 98.46279 98.486206 98.54487 98.5194 98.51994 98.50569 98.51995 98.51124 98.49593 98.45769 98.47086 98.50441 98.43372 98.47097 98.5029 98.46266 98.520706 98.48089 98.49735 98.49012 98.44192 98.54394 98.44989 98.46465 98.473366 98.46153 98.5114 98.50135 98.46803 98.4785 98.47922 98.496704 98.470085 98.53737 98.45985 98.517204 98.51031 98.52978 98.480644 98.4458 98.53764 98.46323 98.52554 98.49771 98.50165 98.434875 98.48253 98.470276 98.4889 98.469765 98.49486 98.50051 98.501724 98.45012 98.50571 98.489716 98.51257 98.48326 98.4942 98.51027 98.46469 98.430885 98.44271 98.502914 98.43773 98.524666 98.47025 98.49839 98.48814 98.52861 98.50124 98.47838 98.52484 98.45082 98.51863 98.49468 98.47724 98.47327 98.49288 98.55955 98.49258 98.507385 98.482605 98.490425 98.50795 98.49802 98.47602 98.51598 98.50795 98.51456 98.46153 98.47857 98.46442 98.43853 98.46234 98.48733 98.505745 98.51286 98.511024 98.51915 98.431206 98.44664 98.44184 98.52139 98.51503 98.43021 98.47926 98.47429 98.56796 98.49726 98.50073 98.541245 98.50119 98.4735 98.50826 98.48735 98.50586 98.504456 98.503624 98.42297 98.485275 98.496864 98.47224 98.49825 98.476845 98.43888 98.45859 98.5183 98.48371 98.51083 98.50028 98.47606 98.50367 98.48154 98.47501 98.50673 98.51696 98.51544 98.48199 98.5036 98.491394 98.48955 98.50137 98.51696 98.47317 98.47348 98.48755 98.43101 98.53871 98.49764 98.44936 98.475395 98.51954 98.509285 98.51644 98.48473 98.46717 98.4584 98.421394 98.45647 98.457016 98.45543 98.4818 98.52162 98.47577 98.445335 98.44994 98.515114 98.47516 98.463875 98.553345 98.53699 98.48713 98.481186 98.508286 98.49156 98.480515 98.50503 98.53741 98.44885 98.44309 98.513664 98.46 98.482666 98.431564 98.530045 98.5006 98.48389 98.48113 98.466324 98.480644 98.49299 98.48479 98.504974 98.437706 98.5249 98.456085 98.456 98.53997 98.52704 98.48444 98.52203 98.46807 98.46624 98.50626 98.51983 98.46878 98.48309 98.495316 98.4723 98.51432 98.46383 98.46913 98.48789 98.49223 98.46903 98.48271 98.51716 98.44529 98.43314 98.55671 98.45828 98.46671 98.46801 98.492256 98.48684 98.53312 98.50746 98.494896 98.514305 98.503395 98.5249 98.52717 98.46786 98.51776 98.511894 98.555565 98.46748 98.49471 98.48137 98.44207 98.45848 98.51594 98.48985 98.47304 98.487114 98.46568 98.45554 98.5017 98.455925 98.46225 98.45205 98.46441 98.554855 98.51762 98.45514 98.51564 98.52681 98.51388 98.502464 98.46767 98.486755 98.484024 98.496506 98.519356 98.50541 98.4438 98.47924 98.5264 98.47832 98.49527 98.49132 98.49865 98.462425 98.50197 98.48295 98.474594 98.45829 98.51253 98.47429 98.490906 98.44555 98.42974 98.505806 98.482864 98.439644 98.43489 98.48982 98.4948 98.50403 98.504814 98.48856 98.520096 98.5142 98.54673 98.51737 98.475075 98.43065 98.478226 98.49211 98.50251 98.482574 98.51263 98.44361 98.53067 98.51636 98.50602 98.47505 98.5501 98.455475 98.46602 98.49818 98.46939 98.54736 98.5334 98.50072 98.49251 98.48931 98.493904 98.49693 98.48309 98.47811 98.466896 98.428955 98.521576 98.499825 98.49328 98.5391 98.449745 98.48053 98.48532 98.51553 98.5055 98.473305 98.490166 98.47852 98.51331 98.51668 98.53091 98.49928 98.44416 98.51136 98.46853 98.5233 98.49528 98.49164 98.50653 98.47082 98.495605 98.49099 98.4984 98.46413 98.49061 98.47765 98.52584 98.47733 98.47403 98.480415 98.495224 98.52959 98.533875 98.50603 98.46693 98.50798 98.4987 98.45383 98.50974 98.45196 98.48065 98.49458 98.45937 98.492485 98.508286 98.47624 98.492165 98.52067 98.47219 98.50716 98.47983 98.499146 98.510826 98.44129 98.51821 98.48607 98.53116 98.45313 98.49414 98.51329 98.48666 98.554504 98.52986 98.44696 98.504234 98.53284 98.50661 98.530205 98.42455 98.48205 98.469536 98.50325 98.45733 98.42291 98.52874 98.43606 98.46925 98.50211 98.45179 98.48391 98.55249 98.46923 98.510025 98.504616 98.48652 98.47801 98.47019 98.545074 98.49966 98.48878 98.491905 98.487015 98.53627 98.467636 98.47904 98.52629 98.50023 98.49513 98.53801 98.44772 98.5291 98.505264 98.487465 98.524605 98.49044 98.53438 98.50354 98.471756 98.46198 98.48622 98.534195 98.467155 98.51547 98.4964 98.52608 98.557816 98.49699 98.46333 98.50193 98.4868 98.51556 98.457954 98.48366 98.49982 98.504 98.503975 98.53232 98.49835 98.42365 98.51038 98.52246 98.45008 98.51193 98.47219 98.52084 98.50527 98.52131 98.476555 98.49922 98.50178 98.47656 98.48043 98.46864 98.51325 98.53761 98.47469 98.47934 98.43205 98.49458 98.50268 98.57326 98.50966 98.498566 98.50351 98.46965 98.47505 98.54749 98.50318 98.48916 98.498856 98.46332 98.53325 98.52025 98.51402 98.494194 98.48293 98.51546 98.47548 98.48769 98.49008 98.472404 98.50477 98.50034 98.48314 98.47664 98.47807 98.487564 98.52583 98.50117 98.47054 98.46051 98.48288 98.51831 98.495865 98.44134 98.43587 98.50775 98.45288 98.477425 98.53784 98.48056 98.475914 98.56231 98.52532 98.4743 98.529884 98.48272 98.451096 98.43978 98.48341 98.467926 98.53151 98.45873 98.474365 98.44164 98.45132 98.41894 98.43822 98.436035 98.455086 98.470856 98.48657 98.47927 98.47122 98.49103 98.4744 98.47403 98.42387 98.51209 98.462746 98.514946 98.490204 98.51736 98.47598 98.49062 98.49503 98.462456 98.45558 98.57179 98.50122 98.51173 98.4858 98.53395 98.48079 98.46043 98.4888 98.47974 98.53006 98.526665 98.49637 98.48283 98.449005 98.466125 98.512276 98.49662 98.45911 98.483406 98.45035 98.50972 98.452156 98.48476 98.50729 98.4803 98.48714 98.53742 98.48734 98.51403 98.47981 98.45504 98.47268 98.47553 98.52435 98.48042 98.50467 98.49553 98.5163 98.468124 98.496666 98.50554 98.52026 98.49656 98.48927 98.49464 98.47518 98.45162 98.50567 98.48391 98.54515 98.47481 98.502205 98.528366 98.47903 98.48357 98.45287 98.50103 98.4939 98.493385 98.47576 98.48379 98.52026 98.49539 98.48373 98.49017 98.56671 98.42534 98.45415 98.47698 98.48672 98.478455 98.45406 98.484406 98.482506 98.47271 98.41532 98.47809 98.49165 98.524124 98.493034 98.455025 98.46959 98.4525 98.52588 98.47089 98.47268 98.48709 98.43575 98.5115 98.465 98.46841 98.498856 98.51601 98.46421 98.49089 98.4802 98.487564 98.46885 98.525276 98.543076 98.53069 98.46187 98.47412 98.44792 98.44568 98.50682 98.45984 98.50145 98.43961 98.49167 98.52384 98.44576 98.49347 98.47486 98.470695 98.47191 98.4663 98.44952 98.446106 98.45375 98.43177 98.54234 98.48933 98.53438 98.49069 98.49744 98.4711 98.502045 98.50568 98.48489 98.531044 98.462746 98.41757 98.48661 98.46813 98.48237 98.46158 98.51635 98.46195 98.475204 98.48331 98.47258 98.51015 98.49948 98.50885 98.49448 98.4727 98.492935 98.47928 98.488655 98.526 98.50201 98.46942 98.51905 98.52524 98.47725 98.49661 98.51669 98.500404 98.48291 98.49661 98.500854 98.45964 98.46757 98.48183 98.481575 98.49438 98.489655 98.50155 98.49896 98.48067 98.482994 98.50448 98.461464 98.52691 98.48703 98.50945 98.4248 98.44472 98.547295 98.50365 98.471054 98.46871 98.513016 98.50252 98.51894 98.511444 98.48005 98.49078 98.53605 98.48139 98.49385 98.46859 98.4926 98.509315 98.495834 98.509674 98.515594 98.479614 98.50233 98.447235 98.55643 98.4538 98.41628 98.48675 98.4907 98.45829 98.51914 98.47091 98.54339 98.4853 98.50661 98.50574 98.5162 98.46488 98.44258 98.47306 98.47736 98.541504 98.45156 98.48681 98.46942 98.531944 98.50155 98.525475 98.45602 98.476204 98.43138 98.54492 98.496315 98.46071 98.51776 98.50394 98.4894 98.44419 98.50115 98.50027 98.52122 98.48961 98.46967 98.47923 98.51714 98.465904 98.49767 98.48032 98.48386 98.47243 98.4177 98.5401 98.498985))> BACKING-ARRAY IO #<FUNCTION (LAMBDA (MGL-CUBE:FACET) :IN MGL-CUBE:CALL-WITH-FACET*) {1012194D0B}>)",
      "3: ((:METHOD MGL-CUBE:CALL-WITH-FACET* (MAT (EQL (QUOTE BACKING-ARRAY)) T T)) #<MAT 1x4780 ABF #2A((98.52127 98.57264 98.5014 98.48482 98.46618 98.488304 98.56503 98.513885 98.47185 98.46189 98.50351 98.522606 98.45548 98.51437 98.537094 98.4508 98.47656 98.49906 98.51197 98.510124 98.44895 98.50548 98.53082 98.45558 98.45831 98.513664 98.49933 98.492294 98.488785 98.46978 98.46547 98.51903 98.51912 98.46313 98.455154 98.486694 98.51153 98.45645 98.501724 98.48958 98.53618 98.51672 98.47284 98.49774 98.46329 98.52262 98.55675 98.51574 98.45258 98.507324 98.58063 98.484924 98.50524 98.500786 98.49628 98.48223 98.4644 98.520004 98.41247 98.50891 98.51769 98.51442 98.50332 98.478035 98.47088 98.47878 98.51088 98.48415 98.46882 98.51799 98.52961 98.48494 98.44818 98.51997 98.49741 98.52764 98.527664 98.45515 98.462074 98.52038 98.53007 98.47282 98.462265 98.46076 98.51616 98.44322 98.44764 98.445694 98.52557 98.449524 98.51822 98.46368 98.46476 98.5109 98.555046 98.48626 98.51234 98.47878 98.46481 98.47112 98.445 98.51912 98.47166 98.47882 98.50071 98.49036 98.50562 98.53523 98.48356 98.4698 98.46618 98.52428 98.54637 98.461266 98.55189 98.53264 98.49034 98.47118 98.53489 98.48855 98.44606 98.491325 98.48497 98.47196 98.48234 98.51811 98.49058 98.460175 98.48918 98.533844 98.52653 98.48708 98.48999 98.49175 98.502 98.49143 98.5183 98.46676 98.445786 98.503555 98.45881 98.50163 98.49002 98.54344 98.504814 98.47497 98.56536 98.47034 98.47264 98.512314 98.506516 98.51969 98.477486 98.46365 98.484535 98.47116 98.52104 98.54419 98.49049 98.50657 98.478386 98.48479 98.48282 98.48409 98.46699 98.48196 98.44978 98.4653 98.563255 98.50682 98.45683 98.47509 98.51277 98.51771 98.500244 98.52121 98.48858 98.496185 98.461136 98.48052 98.48559 98.46506 98.475395 98.49846 98.4982 98.47958 98.48927 98.48134 98.50312 98.46775 98.47028 98.48426 98.48444 98.51681 98.468346 98.50216 98.51699 98.4872 98.4555 98.449 98.46861 98.48447 98.492294 98.5266 98.48165 98.47825 98.49648 98.4918 98.45997 98.51697 98.4711 98.48181 98.478294 98.4919 98.517685 98.51276 98.48994 98.48088 98.5159 98.52052 98.52398 98.53775 98.49404 98.4821 98.44689 98.45839 98.47503 98.458405 98.497116 98.50205 98.55165 98.50389 98.49899 98.45907 98.45308 98.4882 98.46243 98.49838 98.48424 98.49786 98.49555 98.48216 98.49464 98.508 98.51333 98.4756 98.51428 98.52613 98.49868 98.511375 98.47211 98.49485 98.53161 98.49704 98.47216 98.46991 98.48046 98.47555 98.50346 98.4601 98.51363 98.48619 98.47889 98.46428 98.45938 98.52281 98.485374 98.53084 98.52511 98.416565 98.51311 98.44698 98.47085 98.49797 98.488716 98.51496 98.474594 98.48327 98.49865 98.47066 98.494385 98.48511 98.51322 98.50246 98.45473 98.51262 98.46736 98.48534 98.48003 98.48438 98.47327 98.48175 98.53043 98.46708 98.49239 98.496895 98.53864 98.544785 98.46844 98.53409 98.48896 98.49569 98.46979 98.545044 98.49855 98.482254 98.48203 98.50943 98.49611 98.44357 98.51285 98.48942 98.52998 98.49092 98.53508 98.488594 98.492714 98.49409 98.47498 98.42307 98.5306 98.532585 98.49907 98.48255 98.46208 98.49069 98.48093 98.45772 98.51713 98.4947 98.477974 98.50111 98.47018 98.50368 98.476616 98.531746 98.47374 98.48738 98.57322 98.47993 98.53793 98.455536 98.474 98.433815 98.46557 98.529366 98.50051 98.45261 98.56738 98.521805 98.46297 98.444885 98.54044 98.52667 98.5001 98.47528 98.48239 98.50487 98.47775 98.5228 98.47749 98.448265 98.4398 98.47021 98.5048 98.47171 98.481705 98.42067 98.533134 98.508705 98.493385 98.45571 98.458534 98.443214 98.50069 98.48736 98.48893 98.478874 98.49273 98.50631 98.50595 98.48732 98.44474 98.52498 98.483025 98.41166 98.486465 98.51202 98.47662 98.488 98.490486 98.46648 98.512436 98.50882 98.51205 98.49104 98.476364 98.49308 98.466934 98.55939 98.51355 98.47255 98.496735 98.481224 98.50359 98.53956 98.50462 98.510185 98.51093 98.42763 98.47424 98.450386 98.4683 98.4356 98.53192 98.45985 98.49789 98.461266 98.487854 98.486496 98.48635 98.5045 98.50847 98.477844 98.498924 98.51594 98.49481 98.478424 98.466125 98.49828 98.52279 98.477844 98.515205 98.44232 98.49657 98.51855 98.46516 98.46422 98.45511 98.5417 98.48356 98.485916 98.49777 98.49256 98.46778 98.49759 98.48203 98.553406 98.49721 98.50311 98.50525 98.531296 98.496796 98.49754 98.46556 98.501656 98.4678 98.51143 98.49663 98.490295 98.52385 98.47175 98.470566 98.478584 98.44933 98.50282 98.519745 98.45971 98.52507 98.50314 98.46456 98.52607 98.445114 98.50221 98.49535 98.48466 98.517784 98.46434 98.50775 98.50428 98.487015 98.47352 98.50964 98.52162 98.46938 98.54463 98.48641 98.48601 98.525375 98.51589 98.48492 98.46538 98.50638 98.417496 98.44901 98.48519 98.5107 98.48086 98.52343 98.51202 98.50074 98.4961 98.50738 98.48121 98.510765 98.52246 98.53067 98.450714 98.49042 98.49962 98.51368 98.469025 98.50485 98.464806 98.48882 98.49513 98.48213 98.48781 98.49734 98.4868 98.46136 98.51943 98.47755 98.49054 98.47136 98.51293 98.47908 98.49823 98.52383 98.44242 98.50119 98.48682 98.49462 98.51685 98.48284 98.59955 98.472244 98.518135 98.50733 98.483826 98.49282 98.50843 98.464836 98.46737 98.48379 98.47571 98.48914 98.4801 98.47424 98.424095 98.43202 98.49983 98.497765 98.50287 98.471016 98.492096 98.48054 98.54531 98.45502 98.50026 98.48915 98.511505 98.50952 98.50737 98.45246 98.48246 98.501785 98.45303 98.47033 98.471306 98.4895 98.43963 98.499084 98.47897 98.468506 98.4413 98.46247 98.45787 98.488815 98.56585 98.52496 98.45123 98.48569 98.49477 98.50697 98.47961 98.4652 98.46144 98.5365 98.49148 98.531815 98.51446 98.47943 98.50136 98.460815 98.46767 98.51422 98.45668 98.5077 98.54248 98.46225 98.48894 98.45147 98.51096 98.51463 98.47918 98.521416 98.45924 98.45449 98.48121 98.53422 98.48017 98.43275 98.534386 98.464905 98.50212 98.47047 98.49924 98.46008 98.48068 98.466805 98.47693 98.504326 98.47916 98.46178 98.464355 98.40249 98.48964 98.50577 98.481895 98.46669 98.47646 98.40791 98.527374 98.54957 98.45367 98.53887 98.506966 98.4919 98.55933 98.47888 98.4845 98.481636 98.49674 98.45521 98.52307 98.461754 98.49607 98.523056 98.493835 98.4325 98.488594 98.50711 98.45409 98.47549 98.4526 98.46587 98.49849 98.485825 98.45926 98.42897 98.481125 98.497314 98.45991 98.51925 98.49044 98.48704 98.50183 98.519806 98.44092 98.521774 98.471115 98.514946 98.495895 98.47435 98.482666 98.46776 98.45059 98.48582 98.52661 98.49347 98.4675 98.57177 98.47231 98.47145 98.4845 98.48738 98.50931 98.51877 98.49963 98.522156 98.50779 98.438126 98.51241 98.434494 98.49671 98.46579 98.45519 98.53066 98.49359 98.472755 98.43015 98.44194 98.52614 98.513336 98.4818 98.51773 98.46647 98.490715 98.44521 98.471985 98.434616 98.49189 98.50166 98.49674 98.50383 98.44841 98.48842 98.4909 98.45231 98.4745 98.450516 98.48793 98.540115 98.46795 98.47674 98.50179 98.50997 98.48971 98.48763 98.4821 98.49322 98.46183 98.46358 98.45656 98.463005 98.49833 98.451096 98.48034 98.48711 98.51787 98.43074 98.50379 98.49375 98.51694 98.49318 98.51218 98.4618 98.48479 98.483215 98.488525 98.505424 98.48287 98.465675 98.500244 98.53759 98.49074 98.57371 98.52668 98.4598 98.44398 98.46888 98.472565 98.50061 98.463 98.5094 98.47779 98.45799 98.470825 98.4749 98.48474 98.492935 98.49843 98.533936 98.48795 98.45706 98.52985 98.42209 98.507164 98.46271 98.466156 98.46648 98.49563 98.48528 98.49094 98.50803 98.54907 98.499084 98.494225 98.513336 98.47545 98.51093 98.49728 98.479866 98.4836 98.47324 98.51832 98.48068 98.514336 98.50132 98.53789 98.473305 98.47463 98.463394 98.45181 98.49221 98.44837 98.52571 98.50013 98.52943 98.467476 98.48439 98.46916 98.47846 98.47087 98.491936 98.47644 98.49565 98.49104 98.51402 98.456825 98.47038 98.4205 98.47612 98.479195 98.48525 98.494995 98.49069 98.50139 98.48249 98.508415 98.47771 98.5048 98.47917 98.46898 98.44143 98.51143 98.467 98.50271 98.50803 98.44448 98.45445 98.5412 98.521774 98.49387 98.52258 98.49523 98.47967 98.50288 98.480354 98.4999 98.46919 98.498314 98.4771 98.488106 98.4764 98.50153 98.497215 98.510086 98.460556 98.52077 98.52031 98.477356 98.47047 98.4404 98.486496 98.49676 98.468575 98.50907 98.46682 98.531075 98.49189 98.45611 98.46546 98.50294 98.48243 98.47104 98.51625 98.43589 98.449554 98.46265 98.47828 98.499344 98.47719 98.478676 98.49613 98.475426 98.497025 98.502144 98.545525 98.50495 98.48464 98.50733 98.464325 98.48188 98.48236 98.48959 98.54085 98.474144 98.50086 98.498505 98.438736 98.53453 98.470116 98.48335 98.46345 98.448 98.51323 98.46333 98.501526 98.4867 98.4606 98.51431 98.5353 98.566444 98.46901 98.53412 98.47468 98.501656 98.52959 98.51442 98.47666 98.46506 98.553535 98.46955 98.48511 98.50192 98.41028 98.50117 98.49329 98.41361 98.47503 98.53551 98.445984 98.46836 98.485634 98.45276 98.4852 98.486145 98.464966 98.46735 98.48438 98.47997 98.515854 98.485 98.499146 98.43973 98.4966 98.52934 98.523575 98.4772 98.47025 98.466736 98.461464 98.474464 98.5196 98.50583 98.52148 98.53888 98.50688 98.48859 98.470924 98.55749 98.53166 98.451004 98.506805 98.40666 98.499916 98.47081 98.47227 98.54258 98.46585 98.50666 98.47108 98.5215 98.48555 98.44216 98.51763 98.475006 98.47841 98.47163 98.511505 98.51106 98.5057 98.49367 98.55265 98.47012 98.504585 98.48325 98.496765 98.51334 98.528244 98.44772 98.48763 98.513916 98.517334 98.48033 98.51156 98.47469 98.48111 98.48499 98.48427 98.50079 98.524445 98.519135 98.534225 98.46875 98.49174 98.48215 98.485344 98.49582 98.56395 98.531685 98.460526 98.446396 98.497185 98.4585 98.505745 98.50793 98.447105 98.482445 98.54958 98.53107 98.54834 98.433784 98.456696 98.53982 98.43156 98.46991 98.491 98.47352 98.51542 98.47241 98.50509 98.5005 98.51263 98.494545 98.47833 98.463524 98.515915 98.46805 98.4724 98.519356 98.52688 98.4957 98.47014 98.514175 98.47434 98.50749 98.49323 98.50739 98.4858 98.5062 98.41813 98.50171 98.47541 98.52883 98.474304 98.47547 98.47528 98.47962 98.54531 98.46493 98.5238 98.55358 98.48712 98.500336 98.49728 98.4713 98.53092 98.49008 98.47012 98.48274 98.4665 98.47802 98.48386 98.47071 98.49356 98.503654 98.49177 98.51224 98.47998 98.49848 98.49871 98.47418 98.48583 98.487434 98.477516 98.53503 98.52203 98.51076 98.525795 98.49632 98.46627 98.50228 98.436264 98.457985 98.50967 98.51122 98.458664 98.47236 98.53444 98.44705 98.4974 98.498795 98.502686 98.45996 98.50254 98.51135 98.50319 98.451645 98.52374 98.52282 98.45998 98.54133 98.50642 98.48543 98.461174 98.48791 98.47555 98.46693 98.51441 98.41925 98.49182 98.48023 98.494804 98.52475 98.44225 98.50722 98.518936 98.517975 98.51746 98.45442 98.462776 98.49373 98.46124 98.48125 98.476036 98.431854 98.47898 98.52728 98.423096 98.46535 98.53654 98.50351 98.439606 98.45896 98.49318 98.49728 98.46781 98.467606 98.479164 98.48116 98.48124 98.46208 98.51765 98.4534 98.48249 98.53304 98.51529 98.492294 98.52421 98.427246 98.49939 98.490105 98.45147 98.50119 98.511505 98.47753 98.44384 98.498924 98.51539 98.4857 98.45361 98.46888 98.53238 98.528534 98.49292 98.47297 98.486435 98.49777 98.5084 98.52082 98.54664 98.461845 98.506996 98.44037 98.44693 98.48148 98.469666 98.49314 98.43414 98.424706 98.47012 98.46347 98.497665 98.53163 98.44734 98.49292 98.4811 98.52044 98.481964 98.422035 98.49377 98.50971 98.461136 98.49263 98.49253 98.55399 98.45814 98.47633 98.47773 98.48078 98.47606 98.49145 98.444374 98.4855 98.483864 98.45443 98.50749 98.53672 98.49679 98.464035 98.49405 98.520584 98.47371 98.53685 98.498825 98.51016 98.44921 98.538155 98.50047 98.45157 98.49635 98.47087 98.46382 98.51445 98.444496 98.54321 98.51818 98.47886 98.45745 98.50828 98.54154 98.49124 98.50629 98.45618 98.52388 98.48187 98.520706 98.530556 98.49276 98.49014 98.49742 98.462875 98.49695 98.48999 98.4878 98.53006 98.50964 98.44996 98.481995 98.56859 98.52798 98.46479 98.49074 98.52794 98.46804 98.52239 98.52747 98.48008 98.4976 98.44986 98.498764 98.507835 98.4599 98.52642 98.507935 98.488976 98.44634 98.465805 98.47504 98.47306 98.46005 98.46493 98.47812 98.52032 98.45829 98.50856 98.466866 98.517555 98.501656 98.48396 98.4489 98.49086 98.52954 98.48122 98.494736 98.517845 98.45395 98.52623 98.52734 98.51413 98.4755 98.48742 98.497185 98.50673 98.52911 98.5157 98.47471 98.5019 98.48568 98.49499 98.49225 98.52243 98.468025 98.516075 98.517456 98.51331 98.45507 98.50697 98.50763 98.486755 98.47565 98.49852 98.471245 98.51283 98.5256 98.4826 98.479324 98.509834 98.46981 98.47858 98.540344 98.53513 98.53693 98.456955 98.476395 98.51894 98.47903 98.48388 98.47064 98.4855 98.47429 98.493706 98.54679 98.406746 98.5269 98.419235 98.479866 98.48929 98.455246 98.47359 98.446785 98.433495 98.47896 98.47206 98.47501 98.511955 98.48397 98.469315 98.5189 98.505585 98.541725 98.485176 98.47956 98.490326 98.46996 98.43379 98.44844 98.53888 98.50368 98.53688 98.46877 98.525566 98.470184 98.525375 98.45575 98.47687 98.49132 98.47479 98.46662 98.47557 98.50838 98.488106 98.52543 98.55333 98.50342 98.49774 98.46365 98.478806 98.50805 98.46554 98.452156 98.473694 98.54516 98.505325 98.49805 98.4948 98.48658 98.49501 98.49272 98.445404 98.50435 98.472244 98.5011 98.487206 98.54095 98.47262 98.516655 98.479706 98.47164 98.497086 98.52444 98.44466 98.485245 98.53849 98.45797 98.467804 98.46195 98.47885 98.493774 98.52138 98.505295 98.47776 98.45234 98.46078 98.4499 98.494286 98.46468 98.49627 98.50359 98.43846 98.46558 98.498116 98.47981 98.509224 98.49006 98.548904 98.48499 98.49519 98.50115 98.46625 98.4802 98.512955 98.456795 98.49232 98.495705 98.52522 98.512886 98.52495 98.51931 98.41317 98.52409 98.545135 98.49566 98.48417 98.50747 98.527954 98.492 98.47775 98.54226 98.50919 98.52771 98.45655 98.45 98.48885 98.52408 98.46312 98.53713 98.515175 98.51745 98.43576 98.521484 98.487404 98.48115 98.45782 98.49966 98.52802 98.48874 98.521324 98.51565 98.46333 98.49717 98.53211 98.453896 98.47458 98.46187 98.47477 98.49824 98.51284 98.47787 98.39256 98.48267 98.52796 98.51299 98.49922 98.464355 98.47152 98.492744 98.512924 98.44788 98.50238 98.49537 98.455475 98.492836 98.4697 98.44183 98.53152 98.4933 98.46468 98.5092 98.47554 98.5061 98.51757 98.48497 98.51901 98.474495 98.53345 98.53332 98.5092 98.494354 98.47481 98.49197 98.523544 98.47952 98.48695 98.49024 98.45039 98.44028 98.46299 98.47889 98.53256 98.545105 98.52843 98.52857 98.495636 98.53075 98.539185 98.47991 98.48323 98.54169 98.442696 98.537025 98.45363 98.46979 98.50218 98.48069 98.51121 98.48054 98.482895 98.49933 98.4996 98.47875 98.49951 98.51683 98.46987 98.49725 98.501144 98.49965 98.495155 98.53981 98.49694 98.46956 98.5015 98.44072 98.5163 98.531746 98.468124 98.55405 98.44112 98.48227 98.4754 98.42261 98.465164 98.48403 98.53418 98.48789 98.54444 98.4783 98.4946 98.50459 98.56253 98.50905 98.51439 98.49662 98.5012 98.440025 98.47716 98.515686 98.491844 98.4731 98.48642 98.47713 98.56324 98.45603 98.5027 98.45577 98.48862 98.50541 98.51717 98.4999 98.46979 98.47882 98.455025 98.51034 98.46425 98.50951 98.5033 98.49386 98.55775 98.47563 98.481895 98.47472 98.47791 98.46181 98.46149 98.53625 98.50028 98.46454 98.45311 98.480064 98.44531 98.51012 98.500084 98.461876 98.49782 98.47132 98.466965 98.46632 98.47187 98.48201 98.49413 98.48835 98.46722 98.49665 98.485085 98.54298 98.512 98.46228 98.50284 98.478325 98.492386 98.464096 98.55137 98.47638 98.43932 98.51869 98.46698 98.44256 98.46622 98.50934 98.4888 98.48461 98.482445 98.50268 98.49662 98.47423 98.53057 98.478355 98.48327 98.453766 98.49413 98.45878 98.481346 98.54053 98.47141 98.47162 98.46113 98.49372 98.507355 98.50149 98.52441 98.511444 98.44109 98.54148 98.53471 98.49534 98.50821 98.45774 98.51384 98.51709 98.476425 98.50396 98.492546 98.48378 98.494095 98.44819 98.50457 98.553604 98.50142 98.496414 98.49219 98.456345 98.448654 98.48392 98.48304 98.497375 98.44908 98.52487 98.499306 98.489876 98.47883 98.467964 98.47072 98.48916 98.476234 98.52241 98.48288 98.51959 98.51142 98.48869 98.45295 98.51566 98.46471 98.499954 98.45524 98.49303 98.43703 98.47006 98.50113 98.51851 98.480446 98.492165 98.49545 98.51977 98.45487 98.494064 98.4893 98.46586 98.45341 98.492134 98.50843 98.43145 98.49762 98.52031 98.50587 98.47788 98.46571 98.48057 98.47972 98.511055 98.47351 98.46713 98.480156 98.466255 98.53283 98.451904 98.42263 98.48016 98.476944 98.45476 98.48883 98.43779 98.507256 98.48167 98.461266 98.477264 98.47909 98.48621 98.50096 98.459465 98.473305 98.48485 98.48586 98.529686 98.43475 98.487465 98.46298 98.4776 98.52806 98.49805 98.5036 98.47673 98.5252 98.51111 98.47418 98.46613 98.5017 98.48178 98.462685 98.476036 98.45143 98.4353 98.52088 98.517624 98.455215 98.45717 98.503044 98.49781 98.522736 98.452126 98.464554 98.47623 98.49269 98.49624 98.50253 98.511505 98.487686 98.47935 98.48104 98.5018 98.49959 98.48322 98.447876 98.424736 98.48808 98.50241 98.47318 98.509735 98.4614 98.46774 98.53654 98.458244 98.505775 98.45355 98.516075 98.53867 98.47983 98.495445 98.44812 98.45215 98.46585 98.46132 98.4744 98.49449 98.50884 98.44004 98.50989 98.487854 98.48003 98.514046 98.47396 98.47897 98.504875 98.43377 98.48877 98.50324 98.51574 98.502884 98.49624 98.515274 98.48138 98.4997 98.43351 98.50797 98.53528 98.50129 98.51601 98.49702 98.49934 98.44588 98.49123 98.508415 98.50551 98.48483 98.51063 98.51816 98.53462 98.46799 98.50742 98.49162 98.44252 98.52358 98.507484 98.488335 98.57349 98.50168 98.49831 98.52885 98.45166 98.59557 98.4759 98.45424 98.52826 98.481094 98.53884 98.46793 98.47033 98.4785 98.464645 98.54382 98.49754 98.43391 98.49298 98.49351 98.444626 98.49456 98.458244 98.50979 98.483444 98.5215 98.496475 98.498566 98.49603 98.52312 98.47766 98.50641 98.4746 98.49677 98.43009 98.474335 98.493164 98.492096 98.50007 98.51819 98.53733 98.53671 98.49247 98.46756 98.50375 98.4429 98.51359 98.48131 98.44397 98.5059 98.56295 98.51088 98.45984 98.46923 98.486305 98.470856 98.44097 98.47505 98.50796 98.4617 98.45466 98.517 98.47226 98.49111 98.48749 98.50115 98.480774 98.45258 98.49104 98.45248 98.48086 98.46955 98.51277 98.48478 98.472694 98.48694 98.47984 98.47018 98.51898 98.46853 98.46285 98.51593 98.50793 98.492165 98.507454 98.52746 98.484375 98.466225 98.47932 98.42709 98.528 98.48646 98.49543 98.51425 98.495865 98.523254 98.46817 98.47807 98.497894 98.467575 98.510414 98.469536 98.46608 98.51446 98.46338 98.475136 98.50937 98.5342 98.51885 98.476776 98.56074 98.48951 98.53531 98.51355 98.46898 98.49129 98.537926 98.49541 98.488235 98.50092 98.4623 98.450905 98.47851 98.52993 98.46453 98.48565 98.54946 98.46343 98.44685 98.4754 98.5456 98.462135 98.51668 98.51368 98.495674 98.468254 98.473045 98.46804 98.45042 98.4983 98.445244 98.52826 98.48511 98.50793 98.50463 98.45919 98.51252 98.46699 98.46106 98.495125 98.44962 98.471085 98.44223 98.503685 98.52065 98.47308 98.484535 98.48603 98.44703 98.42191 98.4955 98.509514 98.534515 98.535545 98.48596 98.47063 98.50933 98.43659 98.49415 98.48853 98.49698 98.45534 98.47325 98.48541 98.51126 98.49638 98.422455 98.52407 98.447845 98.45922 98.52586 98.53149 98.525215 98.49659 98.48461 98.51549 98.53093 98.483574 98.50713 98.47383 98.46809 98.500435 98.445274 98.51875 98.50135 98.535194 98.513306 98.49877 98.45389 98.47291 98.48468 98.50464 98.497444 98.39473 98.51678 98.50061 98.477264 98.46361 98.51782 98.47438 98.46115 98.45737 98.50593 98.42485 98.519165 98.50979 98.51883 98.45653 98.42674 98.46741 98.49087 98.46642 98.45387 98.54633 98.48341 98.45959 98.47322 98.53085 98.513405 98.50066 98.470314 98.432014 98.44992 98.515785 98.45735 98.482895 98.499084 98.45262 98.46745 98.48031 98.5482 98.4969 98.48288 98.51717 98.488144 98.48804 98.46638 98.43949 98.4876 98.49921 98.48323 98.549614 98.48282 98.50834 98.45988 98.499954 98.53389 98.48517 98.46337 98.497826 98.443306 98.513176 98.51425 98.446945 98.507454 98.472885 98.5171 98.510895 98.48489 98.43989 98.49917 98.44055 98.50065 98.46424 98.5148 98.50795 98.504875 98.498085 98.55384 98.49896 98.51927 98.47582 98.51875 98.48977 98.50971 98.47489 98.514984 98.5153 98.50734 98.51116 98.486694 98.49183 98.41827 98.438126 98.489105 98.51776 98.48082 98.49402 98.48965 98.51218 98.46748 98.49835 98.48176 98.473854 98.45392 98.46348 98.49023 98.47772 98.537 98.49236 98.496956 98.46792 98.460846 98.492874 98.51998 98.44487 98.49276 98.486855 98.48988 98.50796 98.505554 98.45475 98.46043 98.53158 98.49539 98.49869 98.49767 98.52412 98.518776 98.5218 98.53643 98.477196 98.44789 98.47696 98.50892 98.4672 98.42922 98.50295 98.48922 98.499825 98.42167 98.503975 98.51966 98.45873 98.47731 98.50674 98.464676 98.45909 98.50589 98.512764 98.462845 98.51222 98.45676 98.44808 98.46896 98.532036 98.477135 98.54501 98.488075 98.44052 98.45946 98.4921 98.495636 98.47951 98.5127 98.50442 98.49657 98.490486 98.447815 98.48395 98.4987 98.49258 98.485634 98.4389 98.48249 98.51129 98.48366 98.4822 98.44627 98.45673 98.47032 98.53389 98.45721 98.51033 98.44419 98.47267 98.48369 98.45913 98.504814 98.518456 98.50496 98.52938 98.54755 98.52158 98.464584 98.51421 98.49688 98.431465 98.552315 98.501625 98.47206 98.532684 98.49476 98.440056 98.475136 98.47588 98.49666 98.48998 98.4538 98.55157 98.52415 98.483505 98.45089 98.51382 98.51193 98.495674 98.483345 98.53035 98.496315 98.507774 98.49833 98.45692 98.477165 98.47765 98.517136 98.4587 98.45394 98.48343 98.46774 98.46018 98.48143 98.49207 98.50467 98.50902 98.46069 98.48887 98.47969 98.498405 98.548546 98.514854 98.448166 98.50197 98.51396 98.47788 98.563545 98.46128 98.51664 98.49005 98.50506 98.5021 98.48512 98.47839 98.499374 98.49281 98.473145 98.4534 98.49595 98.493095 98.47584 98.486305 98.443184 98.48205 98.475845 98.48208 98.53018 98.48111 98.49176 98.455894 98.470215 98.482506 98.50571 98.4858 98.498726 98.539055 98.4972 98.50818 98.47795 98.479065 98.528404 98.55875 98.50643 98.51976 98.484726 98.49556 98.471756 98.474945 98.463326 98.53878 98.52162 98.4674 98.53761 98.5108 98.49782 98.49636 98.51538 98.52437 98.52415 98.54168 98.47479 98.463844 98.50281 98.50324 98.51911 98.45094 98.527985 98.52504 98.48866 98.514435 98.461945 98.491806 98.42033 98.50831 98.47308 98.45543 98.50744 98.47154 98.52902 98.497154 98.51174 98.47865 98.43531 98.4643 98.46146 98.47091 98.46302 98.499954 98.46982 98.48948 98.51649 98.5047 98.50335 98.510925 98.45084 98.5114 98.52824 98.41742 98.5109 98.498474 98.49349 98.49426 98.43514 98.510254 98.44993 98.46261 98.5127 98.499504 98.46544 98.498215 98.46898 98.51418 98.51106 98.47664 98.45135 98.52981 98.50355 98.46639 98.45587 98.508095 98.46992 98.4586 98.55122 98.47887 98.50668 98.46007 98.518 98.46642 98.46103 98.472626 98.4568 98.49365 98.47076 98.47851 98.48543 98.49119 98.4607 98.454414 98.48206 98.496925 98.53989 98.48637 98.4691 98.54386 98.45534 98.4193 98.52543 98.51132 98.466515 98.46292 98.45647 98.484604 98.48294 98.55508 98.48242 98.50007 98.51273 98.482704 98.480484 98.479965 98.50062 98.44871 98.51617 98.47869 98.47543 98.46432 98.53036 98.449585 98.51671 98.48378 98.51587 98.47899 98.45861 98.517654 98.44799 98.47203 98.46252 98.46561 98.55243 98.47253 98.53861 98.51638 98.471214 98.49689 98.46208 98.50341 98.531296 98.46765 98.48387 98.515816 98.454895 98.48557 98.52436 98.511536 98.44863 98.48934 98.451385 98.48124 98.49441 98.46748 98.476456 98.534164 98.44983 98.46724 98.49072 98.50002 98.45548 98.47537 98.49526 98.52752 98.48717 98.52227 98.5005 98.496025 98.48339 98.50376 98.51529 98.45667 98.555466 98.46127 98.483986 98.49805 98.50409 98.47423 98.46403 98.438995 98.503136 98.53032 98.52146 98.48418 98.51017 98.495094 98.5048 98.47334 98.45606 98.52572 98.45885 98.49192 98.53974 98.49154 98.471176 98.4563 98.4916 98.51117 98.515854 98.531815 98.502335 98.49599 98.50613 98.48385 98.495415 98.503174 98.474045 98.49026 98.53669 98.50458 98.518845 98.4811 98.474304 98.497986 98.476074 98.47966 98.47832 98.529045 98.48161 98.4715 98.53479 98.50566 98.516426 98.449745 98.47338 98.4925 98.5191 98.456856 98.46526 98.528175 98.498405 98.482704 98.52498 98.4836 98.50485 98.48519 98.54512 98.499214 98.48907 98.486595 98.4808 98.53641 98.463264 98.502075 98.52718 98.500565 98.50103 98.48045 98.50806 98.44121 98.51155 98.44005 98.47903 98.49631 98.411934 98.42309 98.48997 98.5137 98.52178 98.47102 98.4906 98.53165 98.5085 98.48694 98.52019 98.44516 98.50084 98.452286 98.49692 98.45977 98.48484 98.50869 98.46723 98.49468 98.49068 98.5033 98.460846 98.52142 98.41692 98.50579 98.44058 98.46183 98.49783 98.48243 98.475266 98.49689 98.50294 98.46766 98.48976 98.47304 98.50663 98.47731 98.528595 98.48435 98.522644 98.46194 98.49828 98.50434 98.46602 98.44752 98.466354 98.483475 98.48664 98.52784 98.46635 98.49458 98.4462 98.51542 98.49445 98.47038 98.45103 98.54831 98.4708 98.45752 98.54262 98.4991 98.55307 98.48517 98.497086 98.5243 98.456436 98.4902 98.50857 98.45907 98.500916 98.51152 98.47985 98.47945 98.48111 98.49512 98.49242 98.45711 98.44482 98.52563 98.54942 98.47281 98.512184 98.462105 98.43714 98.50704 98.55097 98.514114 98.51098 98.47753 98.440216 98.44838 98.51418 98.4447 98.4594 98.50048 98.47918 98.47317 98.46119 98.49678 98.477325 98.423965 98.46785 98.49687 98.48041 98.48186 98.49009 98.464195 98.511604 98.50219 98.52601 98.467705 98.52246 98.494606 98.49361 98.505806 98.43863 98.51372 98.50636 98.501656 98.45433 98.533775 98.516045 98.46766 98.48479 98.48793 98.55169 98.462425 98.43395 98.5552 98.52266 98.5376 98.52203 98.500404 98.48243 98.470406 98.47138 98.512695 98.46145 98.48006 98.46085 98.488266 98.50356 98.45773 98.541466 98.4925 98.544754 98.498764 98.51021 98.484856 98.480736 98.51911 98.50891 98.48758 98.4688 98.50896 98.49282 98.45476 98.52625 98.500786 98.469475 98.51403 98.496 98.471634 98.46686 98.48305 98.48827 98.47723 98.50579 98.465065 98.52679 98.498 98.49449 98.47174 98.49443 98.479416 98.51511 98.483406 98.44326 98.48172 98.504166 98.508286 98.4918 98.48954 98.54283 98.494026 98.48066 98.45631 98.47721 98.50661 98.48662 98.504364 98.482605 98.45629 98.459236 98.490166 98.475876 98.497314 98.43778 98.486595 98.48929 98.49643 98.457695 98.49198 98.49231 98.42648 98.505486 98.49902 98.49803 98.441475 98.55157 98.4919 98.41832 98.4969 98.49815 98.48829 98.436844 98.50107 98.51633 98.49841 98.51263 98.463005 98.49494 98.52209 98.509445 98.483215 98.503685 98.48931 98.5183 98.4774 98.487495 98.47707 98.50421 98.50464 98.46907 98.504074 98.46615 98.51416 98.49623 98.44342 98.46201 98.47554 98.50338 98.50495 98.44882 98.44066 98.49621 98.49409 98.50252 98.5119 98.52748 98.540306 98.4712 98.48805 98.58273 98.50059 98.43408 98.47873 98.47626 98.457214 98.47277 98.434105 98.4501 98.47842 98.50112 98.5084 98.441956 98.45174 98.48459 98.50447 98.46907 98.46043 98.51237 98.493576 98.4521 98.502335 98.49151 98.45834 98.50173 98.52853 98.48158 98.42243 98.46854 98.492805 98.49913 98.48757 98.474495 98.520325 98.48608 98.4991 98.505974 98.492615 98.53175 98.52423 98.499886 98.46905 98.54983 98.48809 98.470665 98.51266 98.50891 98.47152 98.465385 98.48164 98.4988 98.50733 98.458626 98.52137 98.51927 98.49635 98.476036 98.47641 98.48993 98.50438 98.474884 98.50032 98.44211 98.483345 98.49545 98.48113 98.47234 98.455696 98.481445 98.467445 98.46006 98.52921 98.51306 98.4916 98.5098 98.47217 98.426 98.53026 98.51242 98.48482 98.47661 98.51156 98.45409 98.4615 98.46559 98.46716 98.46077 98.44124 98.4644 98.52762 98.472374 98.494865 98.44722 98.49806 98.51208 98.46376 98.49906 98.52688 98.45693 98.4371 98.47098 98.54637 98.485504 98.51846 98.50565 98.47849 98.4974 98.53143 98.46845 98.43452 98.539085 98.45 98.490425 98.44326 98.50671 98.52282 98.52051 98.47556 98.46936 98.448135 98.481316 98.45836 98.51031 98.48914 98.47942 98.49369 98.49562 98.494194 98.49387 98.43141 98.476036 98.54194 98.51188 98.47535 98.48647 98.50516 98.489815 98.50345 98.52185 98.48762 98.51653 98.52735 98.5158 98.49475 98.47572 98.46471 98.489006 98.49135 98.541954 98.52649 98.467964 98.42754 98.53746 98.47399 98.504295 98.48127 98.5271 98.58589 98.51021 98.52383 98.53063 98.487175 98.52648 98.498985 98.47184 98.49458 98.49985 98.53774 98.42491 98.50164 98.478065 98.47162 98.500084 98.47134 98.506874 98.49144 98.41664 98.50009 98.53246 98.478004 98.46607 98.51101 98.45035 98.4865 98.47356 98.51477 98.44711 98.494095 98.46651 98.466805 98.48091 98.42182 98.49808 98.466286 98.513756 98.472 98.49717 98.50858 98.51338 98.47646 98.49504 98.49172 98.4881 98.47694 98.50863 98.50012 98.46626 98.49613 98.51815 98.490234 98.5123 98.46971 98.458115 98.418396 98.49723 98.52383 98.43278 98.49109 98.48365 98.49143 98.51871 98.46802 98.51545 98.435005 98.53708 98.50229 98.498955 98.43369 98.48472 98.505936 98.470894 98.485 98.48446 98.49517 98.49216 98.49074 98.454735 98.49225 98.47947 98.478615 98.50807 98.532326 98.48175 98.52621 98.489136 98.46054 98.47624 98.506546 98.45017 98.49793 98.47905 98.55826 98.46865 98.472 98.471504 98.52402 98.44625 98.459564 98.504425 98.48236 98.51798 98.487785 98.51734 98.48384 98.47142 98.443436 98.54538 98.48828 98.51933 98.472404 98.525925 98.52266 98.46432 98.46764 98.51146 98.47344 98.530075 98.482185 98.50424 98.53291 98.512115 98.47916 98.48664 98.494514 98.51557 98.50695 98.52285 98.49331 98.489655 98.43191 98.508156 98.43972 98.48356 98.410515 98.496956 98.49051 98.45822 98.53317 98.465775 98.468834 98.46998 98.472824 98.51444 98.49282 98.50337 98.48888 98.482956 98.560394 98.41596 98.4801 98.524734 98.509155 98.52068 98.53044 98.48984 98.51246 98.53683 98.49738 98.482735 98.48938 98.497955 98.48897 98.497444 98.48953 98.534004 98.49717 98.54848 98.47035 98.47316 98.45539 98.430374 98.52521 98.50837 98.505165 98.50186 98.46602 98.46174 98.49475 98.51765 98.46585 98.50095 98.474106 98.48815 98.507164 98.49832 98.50666 98.4978 98.52041 98.53746 98.5268 98.48889 98.438934 98.51402 98.48559 98.48726 98.53381 98.51683 98.51253 98.47473 98.49579 98.50658 98.47637 98.52446 98.47941 98.5203 98.48906 98.45247 98.54186 98.491875 98.505554 98.458435 98.48116 98.46472 98.47862 98.46897 98.5388 98.48543 98.45972 98.5696 98.509346 98.54506 98.47279 98.46569 98.502365 98.54541 98.51394 98.512314 98.49703 98.48001 98.525375 98.474556 98.50288 98.523766 98.46605 98.48875 98.52432 98.488144 98.47115 98.498795 98.4815 98.48256 98.46734 98.54559 98.4812 98.49997 98.53049 98.52157 98.52971 98.47355 98.480835 98.49013 98.48956 98.438385 98.46506 98.48554 98.48823 98.51069 98.491875 98.45883 98.49822 98.53042 98.5012 98.4395 98.49182 98.50189 98.515335 98.50749 98.46114 98.5095 98.484314 98.4561 98.47278 98.48843 98.51834 98.51189 98.49066 98.47137 98.438446 98.44535 98.4909 98.5197 98.488335 98.471405 98.495155 98.49587 98.459625 98.51859 98.44807 98.47521 98.49176 98.49524 98.48418 98.44655 98.43232 98.48398 98.47412 98.48538 98.52382 98.51579 98.47869 98.53439 98.49011 98.5007 98.51075 98.49927 98.50224 98.521996 98.52959 98.53071 98.5451 98.488045 98.419624 98.51394 98.49097 98.477425 98.51857 98.510895 98.490555 98.46622 98.46632 98.485725 98.43567 98.501686 98.462105 98.49016 98.51764 98.49206 98.43231 98.54562 98.45651 98.50968 98.52011 98.419754 98.440735 98.47225 98.51828 98.47289 98.47333 98.49071 98.52721 98.50425 98.477036 98.48486 98.49523 98.4561 98.46585 98.51123 98.534065 98.46993 98.54538 98.505104 98.4247 98.48795 98.53727 98.51733 98.478806 98.511406 98.46141 98.51742 98.49829 98.48312 98.5081 98.47836 98.49686 98.508575 98.44083 98.48372 98.51902 98.50595 98.46542 98.477585 98.51034 98.48014 98.45346 98.49432 98.44587 98.46403 98.478096 98.474236 98.4393 98.48872 98.49619 98.43864 98.43347 98.4546 98.46078 98.488106 98.49782 98.486435 98.52189 98.47844 98.5023 98.52009 98.434166 98.46747 98.463715 98.541016 98.44455 98.47858 98.502785 98.44572 98.50482 98.44711 98.53855 98.49459 98.4885 98.47077 98.545235 98.49196 98.45415 98.48492 98.452255 98.4871 98.50896 98.439896 98.51747 98.52411 98.481346 98.512886 98.53985 98.5327 98.48289 98.479034 98.44305 98.47047 98.53347 98.4667 98.53306 98.48429 98.47056 98.455734 98.49944 98.502205 98.493614 98.43118 98.50508 98.47284 98.47211 98.50182 98.49813 98.51408 98.48024 98.490265 98.51788 98.50189 98.45355 98.505066 98.47339 98.46767 98.4676 98.462585 98.515366 98.52031 98.49092 98.56601 98.48001 98.472374 98.48662 98.485664 98.425476 98.47151 98.47668 98.526726 98.45358 98.48429 98.4934 98.47972 98.517456 98.46143 98.483536 98.522804 98.48228 98.5121 98.461494 98.46408 98.55143 98.4754 98.48765 98.42698 98.470856 98.514 98.50369 98.4923 98.4628 98.49509 98.519295 98.48654 98.48237 98.53747 98.49668 98.454285 98.52043 98.510185 98.47806 98.50544 98.49638 98.48682 98.53243 98.49211 98.4286 98.49726 98.46235 98.4995 98.47873 98.49775 98.46724 98.45942 98.47483 98.45057 98.47508 98.492455 98.48051 98.495094 98.478226 98.54106 98.463425 98.5314 98.48192 98.52384 98.528564 98.46128 98.44944 98.49568 98.498695 98.47526 98.50443 98.45269 98.51322 98.48228 98.474815 98.500145 98.5391 98.48392 98.49726 98.49188 98.49341 98.48847 98.51716 98.50034 98.50897 98.491844 98.46098 98.46069 98.52223 98.49488 98.46116 98.51899 98.45047 98.522194 98.51235 98.50244 98.52234 98.503204 98.53561 98.51176 98.51481 98.46868 98.510216 98.45877 98.46986 98.487175 98.49952 98.477264 98.49634 98.49961 98.49036 98.45567 98.52336 98.48942 98.47747 98.50595 98.54672 98.514626 98.52226 98.51387 98.51388 98.42565 98.51845 98.47825 98.467766 98.487885 98.51053 98.437515 98.57091 98.50579 98.48073 98.502106 98.45679 98.5018 98.49329 98.440186 98.50065 98.47037 98.49921 98.48331 98.501465 98.49767 98.51124 98.512405 98.47345 98.49052 98.492256 98.37958 98.52176 98.47661 98.45933 98.44825 98.526405 98.516655 98.52115 98.47529 98.56133 98.45291 98.54855 98.541016 98.5181 98.50084 98.47945 98.46698 98.50859 98.478935 98.4423 98.45101 98.45044 98.482 98.48597 98.525604 98.516975 98.49135 98.50533 98.480705 98.500114 98.50747 98.4513 98.46518 98.54826 98.45853 98.461494 98.46002 98.53869 98.51938 98.42728 98.49475 98.53309 98.48547 98.47954 98.490906 98.48781 98.477554 98.51002 98.50076 98.45878 98.48234 98.44342 98.54993 98.5085 98.470505 98.46495 98.50996 98.48417 98.491585 98.538 98.514854 98.49083 98.48629 98.50342 98.43971 98.51249 98.50772 98.46417 98.48951 98.48021 98.49447 98.51585 98.48389 98.4906 98.500374 98.51434 98.471115 98.531494 98.528786 98.46359 98.460434 98.51592 98.47283 98.47679 98.50602 98.51092 98.465454 98.49958 98.461235 98.43297 98.49225 98.48625 98.50702 98.51434 98.50327 98.418335 98.4741 98.48345 98.50145 98.462975 98.50488 98.53496 98.44147 98.54349 98.49311 98.54226 98.50548 98.479836 98.46564 98.502335 98.475044 98.43 98.44791 98.50979 98.494484 98.48729 98.49258 98.4933 98.45744 98.46064 98.453804 98.45882 98.49774 98.508026 98.46878 98.4891 98.53319 98.50782 98.4905 98.47443 98.472145 98.53236 98.47692 98.50231 98.42898 98.5197 98.5037 98.52186 98.50588 98.50433 98.47897 98.47022 98.51064 98.49518 98.464386 98.47311 98.48792 98.46225 98.47031 98.490814 98.4627 98.492516 98.469086 98.445724 98.49336 98.43074 98.4368 98.44351 98.47998 98.516624 98.4333 98.46983 98.478165 98.52061 98.54082 98.497215 98.5278 98.493675 98.51625 98.50917 98.44399 98.502846 98.518906 98.49413 98.45126 98.47975 98.5281 98.50713 98.5342 98.478745 98.51688 98.48642 98.4915 98.52783 98.49995 98.500755 98.44917 98.477196 98.489235 98.49729 98.527466 98.47461 98.46636 98.47501 98.48492 98.50416 98.43884 98.51437 98.50947 98.51032 98.535934 98.50769 98.5089 98.50686 98.48191 98.46138 98.472496 98.45731 98.46427 98.46682 98.516106 98.48049 98.4937 98.48641 98.48787 98.442345 98.53171 98.469154 98.51325 98.56814 98.52732 98.49079 98.510826 98.47028 98.507614 98.48732 98.449684 98.48686 98.49633 98.5287 98.46889 98.51847 98.53991 98.48942 98.48371 98.49299 98.46699 98.51952 98.45494 98.5027 98.438965 98.495735 98.45983 98.48595 98.51797 98.499245 98.52408 98.47817 98.477165 98.51274 98.54706 98.480255 98.48522 98.51953 98.47154 98.47024 98.501076 98.5143 98.47425 98.47499 98.506485 98.46298 98.49034 98.52504 98.48397 98.50211 98.46004 98.52981 98.449905 98.53086 98.44225 98.53539 98.475334 98.4342 98.511215 98.466064 98.4779 98.53614 98.48337 98.4706 98.43575 98.46268 98.452194 98.42982 98.44179 98.455315 98.47996 98.4686 98.46409 98.473755 98.50422 98.52422 98.47749 98.45193 98.48964 98.491875 98.479 98.5125 98.49324 98.475784 98.50796 98.52839 98.487755 98.542465 98.48893 98.49387 98.55403 98.47733 98.4788 98.479225 98.50086 98.51058 98.52355 98.522705 98.45732 98.442825 98.4875 98.49984 98.4709 98.46732 98.44043 98.43681 98.47034 98.53849 98.47349 98.448524 98.51129 98.49163 98.45425 98.54157 98.445305 98.49284 98.505844 98.47138 98.507935 98.47186 98.50623 98.53241 98.50721 98.51836 98.47283 98.496826 98.47611 98.49731 98.471115 98.46612 98.49824 98.503716 98.487175 98.49106 98.47768 98.5174 98.503845 98.470184 98.46279 98.486206 98.54487 98.5194 98.51994 98.50569 98.51995 98.51124 98.49593 98.45769 98.47086 98.50441 98.43372 98.47097 98.5029 98.46266 98.520706 98.48089 98.49735 98.49012 98.44192 98.54394 98.44989 98.46465 98.473366 98.46153 98.5114 98.50135 98.46803 98.4785 98.47922 98.496704 98.470085 98.53737 98.45985 98.517204 98.51031 98.52978 98.480644 98.4458 98.53764 98.46323 98.52554 98.49771 98.50165 98.434875 98.48253 98.470276 98.4889 98.469765 98.49486 98.50051 98.501724 98.45012 98.50571 98.489716 98.51257 98.48326 98.4942 98.51027 98.46469 98.430885 98.44271 98.502914 98.43773 98.524666 98.47025 98.49839 98.48814 98.52861 98.50124 98.47838 98.52484 98.45082 98.51863 98.49468 98.47724 98.47327 98.49288 98.55955 98.49258 98.507385 98.482605 98.490425 98.50795 98.49802 98.47602 98.51598 98.50795 98.51456 98.46153 98.47857 98.46442 98.43853 98.46234 98.48733 98.505745 98.51286 98.511024 98.51915 98.431206 98.44664 98.44184 98.52139 98.51503 98.43021 98.47926 98.47429 98.56796 98.49726 98.50073 98.541245 98.50119 98.4735 98.50826 98.48735 98.50586 98.504456 98.503624 98.42297 98.485275 98.496864 98.47224 98.49825 98.476845 98.43888 98.45859 98.5183 98.48371 98.51083 98.50028 98.47606 98.50367 98.48154 98.47501 98.50673 98.51696 98.51544 98.48199 98.5036 98.491394 98.48955 98.50137 98.51696 98.47317 98.47348 98.48755 98.43101 98.53871 98.49764 98.44936 98.475395 98.51954 98.509285 98.51644 98.48473 98.46717 98.4584 98.421394 98.45647 98.457016 98.45543 98.4818 98.52162 98.47577 98.445335 98.44994 98.515114 98.47516 98.463875 98.553345 98.53699 98.48713 98.481186 98.508286 98.49156 98.480515 98.50503 98.53741 98.44885 98.44309 98.513664 98.46 98.482666 98.431564 98.530045 98.5006 98.48389 98.48113 98.466324 98.480644 98.49299 98.48479 98.504974 98.437706 98.5249 98.456085 98.456 98.53997 98.52704 98.48444 98.52203 98.46807 98.46624 98.50626 98.51983 98.46878 98.48309 98.495316 98.4723 98.51432 98.46383 98.46913 98.48789 98.49223 98.46903 98.48271 98.51716 98.44529 98.43314 98.55671 98.45828 98.46671 98.46801 98.492256 98.48684 98.53312 98.50746 98.494896 98.514305 98.503395 98.5249 98.52717 98.46786 98.51776 98.511894 98.555565 98.46748 98.49471 98.48137 98.44207 98.45848 98.51594 98.48985 98.47304 98.487114 98.46568 98.45554 98.5017 98.455925 98.46225 98.45205 98.46441 98.554855 98.51762 98.45514 98.51564 98.52681 98.51388 98.502464 98.46767 98.486755 98.484024 98.496506 98.519356 98.50541 98.4438 98.47924 98.5264 98.47832 98.49527 98.49132 98.49865 98.462425 98.50197 98.48295 98.474594 98.45829 98.51253 98.47429 98.490906 98.44555 98.42974 98.505806 98.482864 98.439644 98.43489 98.48982 98.4948 98.50403 98.504814 98.48856 98.520096 98.5142 98.54673 98.51737 98.475075 98.43065 98.478226 98.49211 98.50251 98.482574 98.51263 98.44361 98.53067 98.51636 98.50602 98.47505 98.5501 98.455475 98.46602 98.49818 98.46939 98.54736 98.5334 98.50072 98.49251 98.48931 98.493904 98.49693 98.48309 98.47811 98.466896 98.428955 98.521576 98.499825 98.49328 98.5391 98.449745 98.48053 98.48532 98.51553 98.5055 98.473305 98.490166 98.47852 98.51331 98.51668 98.53091 98.49928 98.44416 98.51136 98.46853 98.5233 98.49528 98.49164 98.50653 98.47082 98.495605 98.49099 98.4984 98.46413 98.49061 98.47765 98.52584 98.47733 98.47403 98.480415 98.495224 98.52959 98.533875 98.50603 98.46693 98.50798 98.4987 98.45383 98.50974 98.45196 98.48065 98.49458 98.45937 98.492485 98.508286 98.47624 98.492165 98.52067 98.47219 98.50716 98.47983 98.499146 98.510826 98.44129 98.51821 98.48607 98.53116 98.45313 98.49414 98.51329 98.48666 98.554504 98.52986 98.44696 98.504234 98.53284 98.50661 98.530205 98.42455 98.48205 98.469536 98.50325 98.45733 98.42291 98.52874 98.43606 98.46925 98.50211 98.45179 98.48391 98.55249 98.46923 98.510025 98.504616 98.48652 98.47801 98.47019 98.545074 98.49966 98.48878 98.491905 98.487015 98.53627 98.467636 98.47904 98.52629 98.50023 98.49513 98.53801 98.44772 98.5291 98.505264 98.487465 98.524605 98.49044 98.53438 98.50354 98.471756 98.46198 98.48622 98.534195 98.467155 98.51547 98.4964 98.52608 98.557816 98.49699 98.46333 98.50193 98.4868 98.51556 98.457954 98.48366 98.49982 98.504 98.503975 98.53232 98.49835 98.42365 98.51038 98.52246 98.45008 98.51193 98.47219 98.52084 98.50527 98.52131 98.476555 98.49922 98.50178 98.47656 98.48043 98.46864 98.51325 98.53761 98.47469 98.47934 98.43205 98.49458 98.50268 98.57326 98.50966 98.498566 98.50351 98.46965 98.47505 98.54749 98.50318 98.48916 98.498856 98.46332 98.53325 98.52025 98.51402 98.494194 98.48293 98.51546 98.47548 98.48769 98.49008 98.472404 98.50477 98.50034 98.48314 98.47664 98.47807 98.487564 98.52583 98.50117 98.47054 98.46051 98.48288 98.51831 98.495865 98.44134 98.43587 98.50775 98.45288 98.477425 98.53784 98.48056 98.475914 98.56231 98.52532 98.4743 98.529884 98.48272 98.451096 98.43978 98.48341 98.467926 98.53151 98.45873 98.474365 98.44164 98.45132 98.41894 98.43822 98.436035 98.455086 98.470856 98.48657 98.47927 98.47122 98.49103 98.4744 98.47403 98.42387 98.51209 98.462746 98.514946 98.490204 98.51736 98.47598 98.49062 98.49503 98.462456 98.45558 98.57179 98.50122 98.51173 98.4858 98.53395 98.48079 98.46043 98.4888 98.47974 98.53006 98.526665 98.49637 98.48283 98.449005 98.466125 98.512276 98.49662 98.45911 98.483406 98.45035 98.50972 98.452156 98.48476 98.50729 98.4803 98.48714 98.53742 98.48734 98.51403 98.47981 98.45504 98.47268 98.47553 98.52435 98.48042 98.50467 98.49553 98.5163 98.468124 98.496666 98.50554 98.52026 98.49656 98.48927 98.49464 98.47518 98.45162 98.50567 98.48391 98.54515 98.47481 98.502205 98.528366 98.47903 98.48357 98.45287 98.50103 98.4939 98.493385 98.47576 98.48379 98.52026 98.49539 98.48373 98.49017 98.56671 98.42534 98.45415 98.47698 98.48672 98.478455 98.45406 98.484406 98.482506 98.47271 98.41532 98.47809 98.49165 98.524124 98.493034 98.455025 98.46959 98.4525 98.52588 98.47089 98.47268 98.48709 98.43575 98.5115 98.465 98.46841 98.498856 98.51601 98.46421 98.49089 98.4802 98.487564 98.46885 98.525276 98.543076 98.53069 98.46187 98.47412 98.44792 98.44568 98.50682 98.45984 98.50145 98.43961 98.49167 98.52384 98.44576 98.49347 98.47486 98.470695 98.47191 98.4663 98.44952 98.446106 98.45375 98.43177 98.54234 98.48933 98.53438 98.49069 98.49744 98.4711 98.502045 98.50568 98.48489 98.531044 98.462746 98.41757 98.48661 98.46813 98.48237 98.46158 98.51635 98.46195 98.475204 98.48331 98.47258 98.51015 98.49948 98.50885 98.49448 98.4727 98.492935 98.47928 98.488655 98.526 98.50201 98.46942 98.51905 98.52524 98.47725 98.49661 98.51669 98.500404 98.48291 98.49661 98.500854 98.45964 98.46757 98.48183 98.481575 98.49438 98.489655 98.50155 98.49896 98.48067 98.482994 98.50448 98.461464 98.52691 98.48703 98.50945 98.4248 98.44472 98.547295 98.50365 98.471054 98.46871 98.513016 98.50252 98.51894 98.511444 98.48005 98.49078 98.53605 98.48139 98.49385 98.46859 98.4926 98.509315 98.495834 98.509674 98.515594 98.479614 98.50233 98.447235 98.55643 98.4538 98.41628 98.48675 98.4907 98.45829 98.51914 98.47091 98.54339 98.4853 98.50661 98.50574 98.5162 98.46488 98.44258 98.47306 98.47736 98.541504 98.45156 98.48681 98.46942 98.531944 98.50155 98.525475 98.45602 98.476204 98.43138 98.54492 98.496315 98.46071 98.51776 98.50394 98.4894 98.44419 98.50115 98.50027 98.52122 98.48961 98.46967 98.47923 98.51714 98.465904 98.49767 98.48032 98.48386 98.47243 98.4177 98.5401 98.498985))> BACKING-ARRAY IO #<FUNCTION (LAMBDA (#:V40) :IN MGL-MAT::LISP-.EXP!) {1012194CDB}>)",
      "4: (.EXP! #<MAT 1x4780 ABF #2A((98.52127 98.57264 98.5014 98.48482 98.46618 98.488304 98.56503 98.513885 98.47185 98.46189 98.50351 98.522606 98.45548 98.51437 98.537094 98.4508 98.47656 98.49906 98.51197 98.510124 98.44895 98.50548 98.53082 98.45558 98.45831 98.513664 98.49933 98.492294 98.488785 98.46978 98.46547 98.51903 98.51912 98.46313 98.455154 98.486694 98.51153 98.45645 98.501724 98.48958 98.53618 98.51672 98.47284 98.49774 98.46329 98.52262 98.55675 98.51574 98.45258 98.507324 98.58063 98.484924 98.50524 98.500786 98.49628 98.48223 98.4644 98.520004 98.41247 98.50891 98.51769 98.51442 98.50332 98.478035 98.47088 98.47878 98.51088 98.48415 98.46882 98.51799 98.52961 98.48494 98.44818 98.51997 98.49741 98.52764 98.527664 98.45515 98.462074 98.52038 98.53007 98.47282 98.462265 98.46076 98.51616 98.44322 98.44764 98.445694 98.52557 98.449524 98.51822 98.46368 98.46476 98.5109 98.555046 98.48626 98.51234 98.47878 98.46481 98.47112 98.445 98.51912 98.47166 98.47882 98.50071 98.49036 98.50562 98.53523 98.48356 98.4698 98.46618 98.52428 98.54637 98.461266 98.55189 98.53264 98.49034 98.47118 98.53489 98.48855 98.44606 98.491325 98.48497 98.47196 98.48234 98.51811 98.49058 98.460175 98.48918 98.533844 98.52653 98.48708 98.48999 98.49175 98.502 98.49143 98.5183 98.46676 98.445786 98.503555 98.45881 98.50163 98.49002 98.54344 98.504814 98.47497 98.56536 98.47034 98.47264 98.512314 98.506516 98.51969 98.477486 98.46365 98.484535 98.47116 98.52104 98.54419 98.49049 98.50657 98.478386 98.48479 98.48282 98.48409 98.46699 98.48196 98.44978 98.4653 98.563255 98.50682 98.45683 98.47509 98.51277 98.51771 98.500244 98.52121 98.48858 98.496185 98.461136 98.48052 98.48559 98.46506 98.475395 98.49846 98.4982 98.47958 98.48927 98.48134 98.50312 98.46775 98.47028 98.48426 98.48444 98.51681 98.468346 98.50216 98.51699 98.4872 98.4555 98.449 98.46861 98.48447 98.492294 98.5266 98.48165 98.47825 98.49648 98.4918 98.45997 98.51697 98.4711 98.48181 98.478294 98.4919 98.517685 98.51276 98.48994 98.48088 98.5159 98.52052 98.52398 98.53775 98.49404 98.4821 98.44689 98.45839 98.47503 98.458405 98.497116 98.50205 98.55165 98.50389 98.49899 98.45907 98.45308 98.4882 98.46243 98.49838 98.48424 98.49786 98.49555 98.48216 98.49464 98.508 98.51333 98.4756 98.51428 98.52613 98.49868 98.511375 98.47211 98.49485 98.53161 98.49704 98.47216 98.46991 98.48046 98.47555 98.50346 98.4601 98.51363 98.48619 98.47889 98.46428 98.45938 98.52281 98.485374 98.53084 98.52511 98.416565 98.51311 98.44698 98.47085 98.49797 98.488716 98.51496 98.474594 98.48327 98.49865 98.47066 98.494385 98.48511 98.51322 98.50246 98.45473 98.51262 98.46736 98.48534 98.48003 98.48438 98.47327 98.48175 98.53043 98.46708 98.49239 98.496895 98.53864 98.544785 98.46844 98.53409 98.48896 98.49569 98.46979 98.545044 98.49855 98.482254 98.48203 98.50943 98.49611 98.44357 98.51285 98.48942 98.52998 98.49092 98.53508 98.488594 98.492714 98.49409 98.47498 98.42307 98.5306 98.532585 98.49907 98.48255 98.46208 98.49069 98.48093 98.45772 98.51713 98.4947 98.477974 98.50111 98.47018 98.50368 98.476616 98.531746 98.47374 98.48738 98.57322 98.47993 98.53793 98.455536 98.474 98.433815 98.46557 98.529366 98.50051 98.45261 98.56738 98.521805 98.46297 98.444885 98.54044 98.52667 98.5001 98.47528 98.48239 98.50487 98.47775 98.5228 98.47749 98.448265 98.4398 98.47021 98.5048 98.47171 98.481705 98.42067 98.533134 98.508705 98.493385 98.45571 98.458534 98.443214 98.50069 98.48736 98.48893 98.478874 98.49273 98.50631 98.50595 98.48732 98.44474 98.52498 98.483025 98.41166 98.486465 98.51202 98.47662 98.488 98.490486 98.46648 98.512436 98.50882 98.51205 98.49104 98.476364 98.49308 98.466934 98.55939 98.51355 98.47255 98.496735 98.481224 98.50359 98.53956 98.50462 98.510185 98.51093 98.42763 98.47424 98.450386 98.4683 98.4356 98.53192 98.45985 98.49789 98.461266 98.487854 98.486496 98.48635 98.5045 98.50847 98.477844 98.498924 98.51594 98.49481 98.478424 98.466125 98.49828 98.52279 98.477844 98.515205 98.44232 98.49657 98.51855 98.46516 98.46422 98.45511 98.5417 98.48356 98.485916 98.49777 98.49256 98.46778 98.49759 98.48203 98.553406 98.49721 98.50311 98.50525 98.531296 98.496796 98.49754 98.46556 98.501656 98.4678 98.51143 98.49663 98.490295 98.52385 98.47175 98.470566 98.478584 98.44933 98.50282 98.519745 98.45971 98.52507 98.50314 98.46456 98.52607 98.445114 98.50221 98.49535 98.48466 98.517784 98.46434 98.50775 98.50428 98.487015 98.47352 98.50964 98.52162 98.46938 98.54463 98.48641 98.48601 98.525375 98.51589 98.48492 98.46538 98.50638 98.417496 98.44901 98.48519 98.5107 98.48086 98.52343 98.51202 98.50074 98.4961 98.50738 98.48121 98.510765 98.52246 98.53067 98.450714 98.49042 98.49962 98.51368 98.469025 98.50485 98.464806 98.48882 98.49513 98.48213 98.48781 98.49734 98.4868 98.46136 98.51943 98.47755 98.49054 98.47136 98.51293 98.47908 98.49823 98.52383 98.44242 98.50119 98.48682 98.49462 98.51685 98.48284 98.59955 98.472244 98.518135 98.50733 98.483826 98.49282 98.50843 98.464836 98.46737 98.48379 98.47571 98.48914 98.4801 98.47424 98.424095 98.43202 98.49983 98.497765 98.50287 98.471016 98.492096 98.48054 98.54531 98.45502 98.50026 98.48915 98.511505 98.50952 98.50737 98.45246 98.48246 98.501785 98.45303 98.47033 98.471306 98.4895 98.43963 98.499084 98.47897 98.468506 98.4413 98.46247 98.45787 98.488815 98.56585 98.52496 98.45123 98.48569 98.49477 98.50697 98.47961 98.4652 98.46144 98.5365 98.49148 98.531815 98.51446 98.47943 98.50136 98.460815 98.46767 98.51422 98.45668 98.5077 98.54248 98.46225 98.48894 98.45147 98.51096 98.51463 98.47918 98.521416 98.45924 98.45449 98.48121 98.53422 98.48017 98.43275 98.534386 98.464905 98.50212 98.47047 98.49924 98.46008 98.48068 98.466805 98.47693 98.504326 98.47916 98.46178 98.464355 98.40249 98.48964 98.50577 98.481895 98.46669 98.47646 98.40791 98.527374 98.54957 98.45367 98.53887 98.506966 98.4919 98.55933 98.47888 98.4845 98.481636 98.49674 98.45521 98.52307 98.461754 98.49607 98.523056 98.493835 98.4325 98.488594 98.50711 98.45409 98.47549 98.4526 98.46587 98.49849 98.485825 98.45926 98.42897 98.481125 98.497314 98.45991 98.51925 98.49044 98.48704 98.50183 98.519806 98.44092 98.521774 98.471115 98.514946 98.495895 98.47435 98.482666 98.46776 98.45059 98.48582 98.52661 98.49347 98.4675 98.57177 98.47231 98.47145 98.4845 98.48738 98.50931 98.51877 98.49963 98.522156 98.50779 98.438126 98.51241 98.434494 98.49671 98.46579 98.45519 98.53066 98.49359 98.472755 98.43015 98.44194 98.52614 98.513336 98.4818 98.51773 98.46647 98.490715 98.44521 98.471985 98.434616 98.49189 98.50166 98.49674 98.50383 98.44841 98.48842 98.4909 98.45231 98.4745 98.450516 98.48793 98.540115 98.46795 98.47674 98.50179 98.50997 98.48971 98.48763 98.4821 98.49322 98.46183 98.46358 98.45656 98.463005 98.49833 98.451096 98.48034 98.48711 98.51787 98.43074 98.50379 98.49375 98.51694 98.49318 98.51218 98.4618 98.48479 98.483215 98.488525 98.505424 98.48287 98.465675 98.500244 98.53759 98.49074 98.57371 98.52668 98.4598 98.44398 98.46888 98.472565 98.50061 98.463 98.5094 98.47779 98.45799 98.470825 98.4749 98.48474 98.492935 98.49843 98.533936 98.48795 98.45706 98.52985 98.42209 98.507164 98.46271 98.466156 98.46648 98.49563 98.48528 98.49094 98.50803 98.54907 98.499084 98.494225 98.513336 98.47545 98.51093 98.49728 98.479866 98.4836 98.47324 98.51832 98.48068 98.514336 98.50132 98.53789 98.473305 98.47463 98.463394 98.45181 98.49221 98.44837 98.52571 98.50013 98.52943 98.467476 98.48439 98.46916 98.47846 98.47087 98.491936 98.47644 98.49565 98.49104 98.51402 98.456825 98.47038 98.4205 98.47612 98.479195 98.48525 98.494995 98.49069 98.50139 98.48249 98.508415 98.47771 98.5048 98.47917 98.46898 98.44143 98.51143 98.467 98.50271 98.50803 98.44448 98.45445 98.5412 98.521774 98.49387 98.52258 98.49523 98.47967 98.50288 98.480354 98.4999 98.46919 98.498314 98.4771 98.488106 98.4764 98.50153 98.497215 98.510086 98.460556 98.52077 98.52031 98.477356 98.47047 98.4404 98.486496 98.49676 98.468575 98.50907 98.46682 98.531075 98.49189 98.45611 98.46546 98.50294 98.48243 98.47104 98.51625 98.43589 98.449554 98.46265 98.47828 98.499344 98.47719 98.478676 98.49613 98.475426 98.497025 98.502144 98.545525 98.50495 98.48464 98.50733 98.464325 98.48188 98.48236 98.48959 98.54085 98.474144 98.50086 98.498505 98.438736 98.53453 98.470116 98.48335 98.46345 98.448 98.51323 98.46333 98.501526 98.4867 98.4606 98.51431 98.5353 98.566444 98.46901 98.53412 98.47468 98.501656 98.52959 98.51442 98.47666 98.46506 98.553535 98.46955 98.48511 98.50192 98.41028 98.50117 98.49329 98.41361 98.47503 98.53551 98.445984 98.46836 98.485634 98.45276 98.4852 98.486145 98.464966 98.46735 98.48438 98.47997 98.515854 98.485 98.499146 98.43973 98.4966 98.52934 98.523575 98.4772 98.47025 98.466736 98.461464 98.474464 98.5196 98.50583 98.52148 98.53888 98.50688 98.48859 98.470924 98.55749 98.53166 98.451004 98.506805 98.40666 98.499916 98.47081 98.47227 98.54258 98.46585 98.50666 98.47108 98.5215 98.48555 98.44216 98.51763 98.475006 98.47841 98.47163 98.511505 98.51106 98.5057 98.49367 98.55265 98.47012 98.504585 98.48325 98.496765 98.51334 98.528244 98.44772 98.48763 98.513916 98.517334 98.48033 98.51156 98.47469 98.48111 98.48499 98.48427 98.50079 98.524445 98.519135 98.534225 98.46875 98.49174 98.48215 98.485344 98.49582 98.56395 98.531685 98.460526 98.446396 98.497185 98.4585 98.505745 98.50793 98.447105 98.482445 98.54958 98.53107 98.54834 98.433784 98.456696 98.53982 98.43156 98.46991 98.491 98.47352 98.51542 98.47241 98.50509 98.5005 98.51263 98.494545 98.47833 98.463524 98.515915 98.46805 98.4724 98.519356 98.52688 98.4957 98.47014 98.514175 98.47434 98.50749 98.49323 98.50739 98.4858 98.5062 98.41813 98.50171 98.47541 98.52883 98.474304 98.47547 98.47528 98.47962 98.54531 98.46493 98.5238 98.55358 98.48712 98.500336 98.49728 98.4713 98.53092 98.49008 98.47012 98.48274 98.4665 98.47802 98.48386 98.47071 98.49356 98.503654 98.49177 98.51224 98.47998 98.49848 98.49871 98.47418 98.48583 98.487434 98.477516 98.53503 98.52203 98.51076 98.525795 98.49632 98.46627 98.50228 98.436264 98.457985 98.50967 98.51122 98.458664 98.47236 98.53444 98.44705 98.4974 98.498795 98.502686 98.45996 98.50254 98.51135 98.50319 98.451645 98.52374 98.52282 98.45998 98.54133 98.50642 98.48543 98.461174 98.48791 98.47555 98.46693 98.51441 98.41925 98.49182 98.48023 98.494804 98.52475 98.44225 98.50722 98.518936 98.517975 98.51746 98.45442 98.462776 98.49373 98.46124 98.48125 98.476036 98.431854 98.47898 98.52728 98.423096 98.46535 98.53654 98.50351 98.439606 98.45896 98.49318 98.49728 98.46781 98.467606 98.479164 98.48116 98.48124 98.46208 98.51765 98.4534 98.48249 98.53304 98.51529 98.492294 98.52421 98.427246 98.49939 98.490105 98.45147 98.50119 98.511505 98.47753 98.44384 98.498924 98.51539 98.4857 98.45361 98.46888 98.53238 98.528534 98.49292 98.47297 98.486435 98.49777 98.5084 98.52082 98.54664 98.461845 98.506996 98.44037 98.44693 98.48148 98.469666 98.49314 98.43414 98.424706 98.47012 98.46347 98.497665 98.53163 98.44734 98.49292 98.4811 98.52044 98.481964 98.422035 98.49377 98.50971 98.461136 98.49263 98.49253 98.55399 98.45814 98.47633 98.47773 98.48078 98.47606 98.49145 98.444374 98.4855 98.483864 98.45443 98.50749 98.53672 98.49679 98.464035 98.49405 98.520584 98.47371 98.53685 98.498825 98.51016 98.44921 98.538155 98.50047 98.45157 98.49635 98.47087 98.46382 98.51445 98.444496 98.54321 98.51818 98.47886 98.45745 98.50828 98.54154 98.49124 98.50629 98.45618 98.52388 98.48187 98.520706 98.530556 98.49276 98.49014 98.49742 98.462875 98.49695 98.48999 98.4878 98.53006 98.50964 98.44996 98.481995 98.56859 98.52798 98.46479 98.49074 98.52794 98.46804 98.52239 98.52747 98.48008 98.4976 98.44986 98.498764 98.507835 98.4599 98.52642 98.507935 98.488976 98.44634 98.465805 98.47504 98.47306 98.46005 98.46493 98.47812 98.52032 98.45829 98.50856 98.466866 98.517555 98.501656 98.48396 98.4489 98.49086 98.52954 98.48122 98.494736 98.517845 98.45395 98.52623 98.52734 98.51413 98.4755 98.48742 98.497185 98.50673 98.52911 98.5157 98.47471 98.5019 98.48568 98.49499 98.49225 98.52243 98.468025 98.516075 98.517456 98.51331 98.45507 98.50697 98.50763 98.486755 98.47565 98.49852 98.471245 98.51283 98.5256 98.4826 98.479324 98.509834 98.46981 98.47858 98.540344 98.53513 98.53693 98.456955 98.476395 98.51894 98.47903 98.48388 98.47064 98.4855 98.47429 98.493706 98.54679 98.406746 98.5269 98.419235 98.479866 98.48929 98.455246 98.47359 98.446785 98.433495 98.47896 98.47206 98.47501 98.511955 98.48397 98.469315 98.5189 98.505585 98.541725 98.485176 98.47956 98.490326 98.46996 98.43379 98.44844 98.53888 98.50368 98.53688 98.46877 98.525566 98.470184 98.525375 98.45575 98.47687 98.49132 98.47479 98.46662 98.47557 98.50838 98.488106 98.52543 98.55333 98.50342 98.49774 98.46365 98.478806 98.50805 98.46554 98.452156 98.473694 98.54516 98.505325 98.49805 98.4948 98.48658 98.49501 98.49272 98.445404 98.50435 98.472244 98.5011 98.487206 98.54095 98.47262 98.516655 98.479706 98.47164 98.497086 98.52444 98.44466 98.485245 98.53849 98.45797 98.467804 98.46195 98.47885 98.493774 98.52138 98.505295 98.47776 98.45234 98.46078 98.4499 98.494286 98.46468 98.49627 98.50359 98.43846 98.46558 98.498116 98.47981 98.509224 98.49006 98.548904 98.48499 98.49519 98.50115 98.46625 98.4802 98.512955 98.456795 98.49232 98.495705 98.52522 98.512886 98.52495 98.51931 98.41317 98.52409 98.545135 98.49566 98.48417 98.50747 98.527954 98.492 98.47775 98.54226 98.50919 98.52771 98.45655 98.45 98.48885 98.52408 98.46312 98.53713 98.515175 98.51745 98.43576 98.521484 98.487404 98.48115 98.45782 98.49966 98.52802 98.48874 98.521324 98.51565 98.46333 98.49717 98.53211 98.453896 98.47458 98.46187 98.47477 98.49824 98.51284 98.47787 98.39256 98.48267 98.52796 98.51299 98.49922 98.464355 98.47152 98.492744 98.512924 98.44788 98.50238 98.49537 98.455475 98.492836 98.4697 98.44183 98.53152 98.4933 98.46468 98.5092 98.47554 98.5061 98.51757 98.48497 98.51901 98.474495 98.53345 98.53332 98.5092 98.494354 98.47481 98.49197 98.523544 98.47952 98.48695 98.49024 98.45039 98.44028 98.46299 98.47889 98.53256 98.545105 98.52843 98.52857 98.495636 98.53075 98.539185 98.47991 98.48323 98.54169 98.442696 98.537025 98.45363 98.46979 98.50218 98.48069 98.51121 98.48054 98.482895 98.49933 98.4996 98.47875 98.49951 98.51683 98.46987 98.49725 98.501144 98.49965 98.495155 98.53981 98.49694 98.46956 98.5015 98.44072 98.5163 98.531746 98.468124 98.55405 98.44112 98.48227 98.4754 98.42261 98.465164 98.48403 98.53418 98.48789 98.54444 98.4783 98.4946 98.50459 98.56253 98.50905 98.51439 98.49662 98.5012 98.440025 98.47716 98.515686 98.491844 98.4731 98.48642 98.47713 98.56324 98.45603 98.5027 98.45577 98.48862 98.50541 98.51717 98.4999 98.46979 98.47882 98.455025 98.51034 98.46425 98.50951 98.5033 98.49386 98.55775 98.47563 98.481895 98.47472 98.47791 98.46181 98.46149 98.53625 98.50028 98.46454 98.45311 98.480064 98.44531 98.51012 98.500084 98.461876 98.49782 98.47132 98.466965 98.46632 98.47187 98.48201 98.49413 98.48835 98.46722 98.49665 98.485085 98.54298 98.512 98.46228 98.50284 98.478325 98.492386 98.464096 98.55137 98.47638 98.43932 98.51869 98.46698 98.44256 98.46622 98.50934 98.4888 98.48461 98.482445 98.50268 98.49662 98.47423 98.53057 98.478355 98.48327 98.453766 98.49413 98.45878 98.481346 98.54053 98.47141 98.47162 98.46113 98.49372 98.507355 98.50149 98.52441 98.511444 98.44109 98.54148 98.53471 98.49534 98.50821 98.45774 98.51384 98.51709 98.476425 98.50396 98.492546 98.48378 98.494095 98.44819 98.50457 98.553604 98.50142 98.496414 98.49219 98.456345 98.448654 98.48392 98.48304 98.497375 98.44908 98.52487 98.499306 98.489876 98.47883 98.467964 98.47072 98.48916 98.476234 98.52241 98.48288 98.51959 98.51142 98.48869 98.45295 98.51566 98.46471 98.499954 98.45524 98.49303 98.43703 98.47006 98.50113 98.51851 98.480446 98.492165 98.49545 98.51977 98.45487 98.494064 98.4893 98.46586 98.45341 98.492134 98.50843 98.43145 98.49762 98.52031 98.50587 98.47788 98.46571 98.48057 98.47972 98.511055 98.47351 98.46713 98.480156 98.466255 98.53283 98.451904 98.42263 98.48016 98.476944 98.45476 98.48883 98.43779 98.507256 98.48167 98.461266 98.477264 98.47909 98.48621 98.50096 98.459465 98.473305 98.48485 98.48586 98.529686 98.43475 98.487465 98.46298 98.4776 98.52806 98.49805 98.5036 98.47673 98.5252 98.51111 98.47418 98.46613 98.5017 98.48178 98.462685 98.476036 98.45143 98.4353 98.52088 98.517624 98.455215 98.45717 98.503044 98.49781 98.522736 98.452126 98.464554 98.47623 98.49269 98.49624 98.50253 98.511505 98.487686 98.47935 98.48104 98.5018 98.49959 98.48322 98.447876 98.424736 98.48808 98.50241 98.47318 98.509735 98.4614 98.46774 98.53654 98.458244 98.505775 98.45355 98.516075 98.53867 98.47983 98.495445 98.44812 98.45215 98.46585 98.46132 98.4744 98.49449 98.50884 98.44004 98.50989 98.487854 98.48003 98.514046 98.47396 98.47897 98.504875 98.43377 98.48877 98.50324 98.51574 98.502884 98.49624 98.515274 98.48138 98.4997 98.43351 98.50797 98.53528 98.50129 98.51601 98.49702 98.49934 98.44588 98.49123 98.508415 98.50551 98.48483 98.51063 98.51816 98.53462 98.46799 98.50742 98.49162 98.44252 98.52358 98.507484 98.488335 98.57349 98.50168 98.49831 98.52885 98.45166 98.59557 98.4759 98.45424 98.52826 98.481094 98.53884 98.46793 98.47033 98.4785 98.464645 98.54382 98.49754 98.43391 98.49298 98.49351 98.444626 98.49456 98.458244 98.50979 98.483444 98.5215 98.496475 98.498566 98.49603 98.52312 98.47766 98.50641 98.4746 98.49677 98.43009 98.474335 98.493164 98.492096 98.50007 98.51819 98.53733 98.53671 98.49247 98.46756 98.50375 98.4429 98.51359 98.48131 98.44397 98.5059 98.56295 98.51088 98.45984 98.46923 98.486305 98.470856 98.44097 98.47505 98.50796 98.4617 98.45466 98.517 98.47226 98.49111 98.48749 98.50115 98.480774 98.45258 98.49104 98.45248 98.48086 98.46955 98.51277 98.48478 98.472694 98.48694 98.47984 98.47018 98.51898 98.46853 98.46285 98.51593 98.50793 98.492165 98.507454 98.52746 98.484375 98.466225 98.47932 98.42709 98.528 98.48646 98.49543 98.51425 98.495865 98.523254 98.46817 98.47807 98.497894 98.467575 98.510414 98.469536 98.46608 98.51446 98.46338 98.475136 98.50937 98.5342 98.51885 98.476776 98.56074 98.48951 98.53531 98.51355 98.46898 98.49129 98.537926 98.49541 98.488235 98.50092 98.4623 98.450905 98.47851 98.52993 98.46453 98.48565 98.54946 98.46343 98.44685 98.4754 98.5456 98.462135 98.51668 98.51368 98.495674 98.468254 98.473045 98.46804 98.45042 98.4983 98.445244 98.52826 98.48511 98.50793 98.50463 98.45919 98.51252 98.46699 98.46106 98.495125 98.44962 98.471085 98.44223 98.503685 98.52065 98.47308 98.484535 98.48603 98.44703 98.42191 98.4955 98.509514 98.534515 98.535545 98.48596 98.47063 98.50933 98.43659 98.49415 98.48853 98.49698 98.45534 98.47325 98.48541 98.51126 98.49638 98.422455 98.52407 98.447845 98.45922 98.52586 98.53149 98.525215 98.49659 98.48461 98.51549 98.53093 98.483574 98.50713 98.47383 98.46809 98.500435 98.445274 98.51875 98.50135 98.535194 98.513306 98.49877 98.45389 98.47291 98.48468 98.50464 98.497444 98.39473 98.51678 98.50061 98.477264 98.46361 98.51782 98.47438 98.46115 98.45737 98.50593 98.42485 98.519165 98.50979 98.51883 98.45653 98.42674 98.46741 98.49087 98.46642 98.45387 98.54633 98.48341 98.45959 98.47322 98.53085 98.513405 98.50066 98.470314 98.432014 98.44992 98.515785 98.45735 98.482895 98.499084 98.45262 98.46745 98.48031 98.5482 98.4969 98.48288 98.51717 98.488144 98.48804 98.46638 98.43949 98.4876 98.49921 98.48323 98.549614 98.48282 98.50834 98.45988 98.499954 98.53389 98.48517 98.46337 98.497826 98.443306 98.513176 98.51425 98.446945 98.507454 98.472885 98.5171 98.510895 98.48489 98.43989 98.49917 98.44055 98.50065 98.46424 98.5148 98.50795 98.504875 98.498085 98.55384 98.49896 98.51927 98.47582 98.51875 98.48977 98.50971 98.47489 98.514984 98.5153 98.50734 98.51116 98.486694 98.49183 98.41827 98.438126 98.489105 98.51776 98.48082 98.49402 98.48965 98.51218 98.46748 98.49835 98.48176 98.473854 98.45392 98.46348 98.49023 98.47772 98.537 98.49236 98.496956 98.46792 98.460846 98.492874 98.51998 98.44487 98.49276 98.486855 98.48988 98.50796 98.505554 98.45475 98.46043 98.53158 98.49539 98.49869 98.49767 98.52412 98.518776 98.5218 98.53643 98.477196 98.44789 98.47696 98.50892 98.4672 98.42922 98.50295 98.48922 98.499825 98.42167 98.503975 98.51966 98.45873 98.47731 98.50674 98.464676 98.45909 98.50589 98.512764 98.462845 98.51222 98.45676 98.44808 98.46896 98.532036 98.477135 98.54501 98.488075 98.44052 98.45946 98.4921 98.495636 98.47951 98.5127 98.50442 98.49657 98.490486 98.447815 98.48395 98.4987 98.49258 98.485634 98.4389 98.48249 98.51129 98.48366 98.4822 98.44627 98.45673 98.47032 98.53389 98.45721 98.51033 98.44419 98.47267 98.48369 98.45913 98.504814 98.518456 98.50496 98.52938 98.54755 98.52158 98.464584 98.51421 98.49688 98.431465 98.552315 98.501625 98.47206 98.532684 98.49476 98.440056 98.475136 98.47588 98.49666 98.48998 98.4538 98.55157 98.52415 98.483505 98.45089 98.51382 98.51193 98.495674 98.483345 98.53035 98.496315 98.507774 98.49833 98.45692 98.477165 98.47765 98.517136 98.4587 98.45394 98.48343 98.46774 98.46018 98.48143 98.49207 98.50467 98.50902 98.46069 98.48887 98.47969 98.498405 98.548546 98.514854 98.448166 98.50197 98.51396 98.47788 98.563545 98.46128 98.51664 98.49005 98.50506 98.5021 98.48512 98.47839 98.499374 98.49281 98.473145 98.4534 98.49595 98.493095 98.47584 98.486305 98.443184 98.48205 98.475845 98.48208 98.53018 98.48111 98.49176 98.455894 98.470215 98.482506 98.50571 98.4858 98.498726 98.539055 98.4972 98.50818 98.47795 98.479065 98.528404 98.55875 98.50643 98.51976 98.484726 98.49556 98.471756 98.474945 98.463326 98.53878 98.52162 98.4674 98.53761 98.5108 98.49782 98.49636 98.51538 98.52437 98.52415 98.54168 98.47479 98.463844 98.50281 98.50324 98.51911 98.45094 98.527985 98.52504 98.48866 98.514435 98.461945 98.491806 98.42033 98.50831 98.47308 98.45543 98.50744 98.47154 98.52902 98.497154 98.51174 98.47865 98.43531 98.4643 98.46146 98.47091 98.46302 98.499954 98.46982 98.48948 98.51649 98.5047 98.50335 98.510925 98.45084 98.5114 98.52824 98.41742 98.5109 98.498474 98.49349 98.49426 98.43514 98.510254 98.44993 98.46261 98.5127 98.499504 98.46544 98.498215 98.46898 98.51418 98.51106 98.47664 98.45135 98.52981 98.50355 98.46639 98.45587 98.508095 98.46992 98.4586 98.55122 98.47887 98.50668 98.46007 98.518 98.46642 98.46103 98.472626 98.4568 98.49365 98.47076 98.47851 98.48543 98.49119 98.4607 98.454414 98.48206 98.496925 98.53989 98.48637 98.4691 98.54386 98.45534 98.4193 98.52543 98.51132 98.466515 98.46292 98.45647 98.484604 98.48294 98.55508 98.48242 98.50007 98.51273 98.482704 98.480484 98.479965 98.50062 98.44871 98.51617 98.47869 98.47543 98.46432 98.53036 98.449585 98.51671 98.48378 98.51587 98.47899 98.45861 98.517654 98.44799 98.47203 98.46252 98.46561 98.55243 98.47253 98.53861 98.51638 98.471214 98.49689 98.46208 98.50341 98.531296 98.46765 98.48387 98.515816 98.454895 98.48557 98.52436 98.511536 98.44863 98.48934 98.451385 98.48124 98.49441 98.46748 98.476456 98.534164 98.44983 98.46724 98.49072 98.50002 98.45548 98.47537 98.49526 98.52752 98.48717 98.52227 98.5005 98.496025 98.48339 98.50376 98.51529 98.45667 98.555466 98.46127 98.483986 98.49805 98.50409 98.47423 98.46403 98.438995 98.503136 98.53032 98.52146 98.48418 98.51017 98.495094 98.5048 98.47334 98.45606 98.52572 98.45885 98.49192 98.53974 98.49154 98.471176 98.4563 98.4916 98.51117 98.515854 98.531815 98.502335 98.49599 98.50613 98.48385 98.495415 98.503174 98.474045 98.49026 98.53669 98.50458 98.518845 98.4811 98.474304 98.497986 98.476074 98.47966 98.47832 98.529045 98.48161 98.4715 98.53479 98.50566 98.516426 98.449745 98.47338 98.4925 98.5191 98.456856 98.46526 98.528175 98.498405 98.482704 98.52498 98.4836 98.50485 98.48519 98.54512 98.499214 98.48907 98.486595 98.4808 98.53641 98.463264 98.502075 98.52718 98.500565 98.50103 98.48045 98.50806 98.44121 98.51155 98.44005 98.47903 98.49631 98.411934 98.42309 98.48997 98.5137 98.52178 98.47102 98.4906 98.53165 98.5085 98.48694 98.52019 98.44516 98.50084 98.452286 98.49692 98.45977 98.48484 98.50869 98.46723 98.49468 98.49068 98.5033 98.460846 98.52142 98.41692 98.50579 98.44058 98.46183 98.49783 98.48243 98.475266 98.49689 98.50294 98.46766 98.48976 98.47304 98.50663 98.47731 98.528595 98.48435 98.522644 98.46194 98.49828 98.50434 98.46602 98.44752 98.466354 98.483475 98.48664 98.52784 98.46635 98.49458 98.4462 98.51542 98.49445 98.47038 98.45103 98.54831 98.4708 98.45752 98.54262 98.4991 98.55307 98.48517 98.497086 98.5243 98.456436 98.4902 98.50857 98.45907 98.500916 98.51152 98.47985 98.47945 98.48111 98.49512 98.49242 98.45711 98.44482 98.52563 98.54942 98.47281 98.512184 98.462105 98.43714 98.50704 98.55097 98.514114 98.51098 98.47753 98.440216 98.44838 98.51418 98.4447 98.4594 98.50048 98.47918 98.47317 98.46119 98.49678 98.477325 98.423965 98.46785 98.49687 98.48041 98.48186 98.49009 98.464195 98.511604 98.50219 98.52601 98.467705 98.52246 98.494606 98.49361 98.505806 98.43863 98.51372 98.50636 98.501656 98.45433 98.533775 98.516045 98.46766 98.48479 98.48793 98.55169 98.462425 98.43395 98.5552 98.52266 98.5376 98.52203 98.500404 98.48243 98.470406 98.47138 98.512695 98.46145 98.48006 98.46085 98.488266 98.50356 98.45773 98.541466 98.4925 98.544754 98.498764 98.51021 98.484856 98.480736 98.51911 98.50891 98.48758 98.4688 98.50896 98.49282 98.45476 98.52625 98.500786 98.469475 98.51403 98.496 98.471634 98.46686 98.48305 98.48827 98.47723 98.50579 98.465065 98.52679 98.498 98.49449 98.47174 98.49443 98.479416 98.51511 98.483406 98.44326 98.48172 98.504166 98.508286 98.4918 98.48954 98.54283 98.494026 98.48066 98.45631 98.47721 98.50661 98.48662 98.504364 98.482605 98.45629 98.459236 98.490166 98.475876 98.497314 98.43778 98.486595 98.48929 98.49643 98.457695 98.49198 98.49231 98.42648 98.505486 98.49902 98.49803 98.441475 98.55157 98.4919 98.41832 98.4969 98.49815 98.48829 98.436844 98.50107 98.51633 98.49841 98.51263 98.463005 98.49494 98.52209 98.509445 98.483215 98.503685 98.48931 98.5183 98.4774 98.487495 98.47707 98.50421 98.50464 98.46907 98.504074 98.46615 98.51416 98.49623 98.44342 98.46201 98.47554 98.50338 98.50495 98.44882 98.44066 98.49621 98.49409 98.50252 98.5119 98.52748 98.540306 98.4712 98.48805 98.58273 98.50059 98.43408 98.47873 98.47626 98.457214 98.47277 98.434105 98.4501 98.47842 98.50112 98.5084 98.441956 98.45174 98.48459 98.50447 98.46907 98.46043 98.51237 98.493576 98.4521 98.502335 98.49151 98.45834 98.50173 98.52853 98.48158 98.42243 98.46854 98.492805 98.49913 98.48757 98.474495 98.520325 98.48608 98.4991 98.505974 98.492615 98.53175 98.52423 98.499886 98.46905 98.54983 98.48809 98.470665 98.51266 98.50891 98.47152 98.465385 98.48164 98.4988 98.50733 98.458626 98.52137 98.51927 98.49635 98.476036 98.47641 98.48993 98.50438 98.474884 98.50032 98.44211 98.483345 98.49545 98.48113 98.47234 98.455696 98.481445 98.467445 98.46006 98.52921 98.51306 98.4916 98.5098 98.47217 98.426 98.53026 98.51242 98.48482 98.47661 98.51156 98.45409 98.4615 98.46559 98.46716 98.46077 98.44124 98.4644 98.52762 98.472374 98.494865 98.44722 98.49806 98.51208 98.46376 98.49906 98.52688 98.45693 98.4371 98.47098 98.54637 98.485504 98.51846 98.50565 98.47849 98.4974 98.53143 98.46845 98.43452 98.539085 98.45 98.490425 98.44326 98.50671 98.52282 98.52051 98.47556 98.46936 98.448135 98.481316 98.45836 98.51031 98.48914 98.47942 98.49369 98.49562 98.494194 98.49387 98.43141 98.476036 98.54194 98.51188 98.47535 98.48647 98.50516 98.489815 98.50345 98.52185 98.48762 98.51653 98.52735 98.5158 98.49475 98.47572 98.46471 98.489006 98.49135 98.541954 98.52649 98.467964 98.42754 98.53746 98.47399 98.504295 98.48127 98.5271 98.58589 98.51021 98.52383 98.53063 98.487175 98.52648 98.498985 98.47184 98.49458 98.49985 98.53774 98.42491 98.50164 98.478065 98.47162 98.500084 98.47134 98.506874 98.49144 98.41664 98.50009 98.53246 98.478004 98.46607 98.51101 98.45035 98.4865 98.47356 98.51477 98.44711 98.494095 98.46651 98.466805 98.48091 98.42182 98.49808 98.466286 98.513756 98.472 98.49717 98.50858 98.51338 98.47646 98.49504 98.49172 98.4881 98.47694 98.50863 98.50012 98.46626 98.49613 98.51815 98.490234 98.5123 98.46971 98.458115 98.418396 98.49723 98.52383 98.43278 98.49109 98.48365 98.49143 98.51871 98.46802 98.51545 98.435005 98.53708 98.50229 98.498955 98.43369 98.48472 98.505936 98.470894 98.485 98.48446 98.49517 98.49216 98.49074 98.454735 98.49225 98.47947 98.478615 98.50807 98.532326 98.48175 98.52621 98.489136 98.46054 98.47624 98.506546 98.45017 98.49793 98.47905 98.55826 98.46865 98.472 98.471504 98.52402 98.44625 98.459564 98.504425 98.48236 98.51798 98.487785 98.51734 98.48384 98.47142 98.443436 98.54538 98.48828 98.51933 98.472404 98.525925 98.52266 98.46432 98.46764 98.51146 98.47344 98.530075 98.482185 98.50424 98.53291 98.512115 98.47916 98.48664 98.494514 98.51557 98.50695 98.52285 98.49331 98.489655 98.43191 98.508156 98.43972 98.48356 98.410515 98.496956 98.49051 98.45822 98.53317 98.465775 98.468834 98.46998 98.472824 98.51444 98.49282 98.50337 98.48888 98.482956 98.560394 98.41596 98.4801 98.524734 98.509155 98.52068 98.53044 98.48984 98.51246 98.53683 98.49738 98.482735 98.48938 98.497955 98.48897 98.497444 98.48953 98.534004 98.49717 98.54848 98.47035 98.47316 98.45539 98.430374 98.52521 98.50837 98.505165 98.50186 98.46602 98.46174 98.49475 98.51765 98.46585 98.50095 98.474106 98.48815 98.507164 98.49832 98.50666 98.4978 98.52041 98.53746 98.5268 98.48889 98.438934 98.51402 98.48559 98.48726 98.53381 98.51683 98.51253 98.47473 98.49579 98.50658 98.47637 98.52446 98.47941 98.5203 98.48906 98.45247 98.54186 98.491875 98.505554 98.458435 98.48116 98.46472 98.47862 98.46897 98.5388 98.48543 98.45972 98.5696 98.509346 98.54506 98.47279 98.46569 98.502365 98.54541 98.51394 98.512314 98.49703 98.48001 98.525375 98.474556 98.50288 98.523766 98.46605 98.48875 98.52432 98.488144 98.47115 98.498795 98.4815 98.48256 98.46734 98.54559 98.4812 98.49997 98.53049 98.52157 98.52971 98.47355 98.480835 98.49013 98.48956 98.438385 98.46506 98.48554 98.48823 98.51069 98.491875 98.45883 98.49822 98.53042 98.5012 98.4395 98.49182 98.50189 98.515335 98.50749 98.46114 98.5095 98.484314 98.4561 98.47278 98.48843 98.51834 98.51189 98.49066 98.47137 98.438446 98.44535 98.4909 98.5197 98.488335 98.471405 98.495155 98.49587 98.459625 98.51859 98.44807 98.47521 98.49176 98.49524 98.48418 98.44655 98.43232 98.48398 98.47412 98.48538 98.52382 98.51579 98.47869 98.53439 98.49011 98.5007 98.51075 98.49927 98.50224 98.521996 98.52959 98.53071 98.5451 98.488045 98.419624 98.51394 98.49097 98.477425 98.51857 98.510895 98.490555 98.46622 98.46632 98.485725 98.43567 98.501686 98.462105 98.49016 98.51764 98.49206 98.43231 98.54562 98.45651 98.50968 98.52011 98.419754 98.440735 98.47225 98.51828 98.47289 98.47333 98.49071 98.52721 98.50425 98.477036 98.48486 98.49523 98.4561 98.46585 98.51123 98.534065 98.46993 98.54538 98.505104 98.4247 98.48795 98.53727 98.51733 98.478806 98.511406 98.46141 98.51742 98.49829 98.48312 98.5081 98.47836 98.49686 98.508575 98.44083 98.48372 98.51902 98.50595 98.46542 98.477585 98.51034 98.48014 98.45346 98.49432 98.44587 98.46403 98.478096 98.474236 98.4393 98.48872 98.49619 98.43864 98.43347 98.4546 98.46078 98.488106 98.49782 98.486435 98.52189 98.47844 98.5023 98.52009 98.434166 98.46747 98.463715 98.541016 98.44455 98.47858 98.502785 98.44572 98.50482 98.44711 98.53855 98.49459 98.4885 98.47077 98.545235 98.49196 98.45415 98.48492 98.452255 98.4871 98.50896 98.439896 98.51747 98.52411 98.481346 98.512886 98.53985 98.5327 98.48289 98.479034 98.44305 98.47047 98.53347 98.4667 98.53306 98.48429 98.47056 98.455734 98.49944 98.502205 98.493614 98.43118 98.50508 98.47284 98.47211 98.50182 98.49813 98.51408 98.48024 98.490265 98.51788 98.50189 98.45355 98.505066 98.47339 98.46767 98.4676 98.462585 98.515366 98.52031 98.49092 98.56601 98.48001 98.472374 98.48662 98.485664 98.425476 98.47151 98.47668 98.526726 98.45358 98.48429 98.4934 98.47972 98.517456 98.46143 98.483536 98.522804 98.48228 98.5121 98.461494 98.46408 98.55143 98.4754 98.48765 98.42698 98.470856 98.514 98.50369 98.4923 98.4628 98.49509 98.519295 98.48654 98.48237 98.53747 98.49668 98.454285 98.52043 98.510185 98.47806 98.50544 98.49638 98.48682 98.53243 98.49211 98.4286 98.49726 98.46235 98.4995 98.47873 98.49775 98.46724 98.45942 98.47483 98.45057 98.47508 98.492455 98.48051 98.495094 98.478226 98.54106 98.463425 98.5314 98.48192 98.52384 98.528564 98.46128 98.44944 98.49568 98.498695 98.47526 98.50443 98.45269 98.51322 98.48228 98.474815 98.500145 98.5391 98.48392 98.49726 98.49188 98.49341 98.48847 98.51716 98.50034 98.50897 98.491844 98.46098 98.46069 98.52223 98.49488 98.46116 98.51899 98.45047 98.522194 98.51235 98.50244 98.52234 98.503204 98.53561 98.51176 98.51481 98.46868 98.510216 98.45877 98.46986 98.487175 98.49952 98.477264 98.49634 98.49961 98.49036 98.45567 98.52336 98.48942 98.47747 98.50595 98.54672 98.514626 98.52226 98.51387 98.51388 98.42565 98.51845 98.47825 98.467766 98.487885 98.51053 98.437515 98.57091 98.50579 98.48073 98.502106 98.45679 98.5018 98.49329 98.440186 98.50065 98.47037 98.49921 98.48331 98.501465 98.49767 98.51124 98.512405 98.47345 98.49052 98.492256 98.37958 98.52176 98.47661 98.45933 98.44825 98.526405 98.516655 98.52115 98.47529 98.56133 98.45291 98.54855 98.541016 98.5181 98.50084 98.47945 98.46698 98.50859 98.478935 98.4423 98.45101 98.45044 98.482 98.48597 98.525604 98.516975 98.49135 98.50533 98.480705 98.500114 98.50747 98.4513 98.46518 98.54826 98.45853 98.461494 98.46002 98.53869 98.51938 98.42728 98.49475 98.53309 98.48547 98.47954 98.490906 98.48781 98.477554 98.51002 98.50076 98.45878 98.48234 98.44342 98.54993 98.5085 98.470505 98.46495 98.50996 98.48417 98.491585 98.538 98.514854 98.49083 98.48629 98.50342 98.43971 98.51249 98.50772 98.46417 98.48951 98.48021 98.49447 98.51585 98.48389 98.4906 98.500374 98.51434 98.471115 98.531494 98.528786 98.46359 98.460434 98.51592 98.47283 98.47679 98.50602 98.51092 98.465454 98.49958 98.461235 98.43297 98.49225 98.48625 98.50702 98.51434 98.50327 98.418335 98.4741 98.48345 98.50145 98.462975 98.50488 98.53496 98.44147 98.54349 98.49311 98.54226 98.50548 98.479836 98.46564 98.502335 98.475044 98.43 98.44791 98.50979 98.494484 98.48729 98.49258 98.4933 98.45744 98.46064 98.453804 98.45882 98.49774 98.508026 98.46878 98.4891 98.53319 98.50782 98.4905 98.47443 98.472145 98.53236 98.47692 98.50231 98.42898 98.5197 98.5037 98.52186 98.50588 98.50433 98.47897 98.47022 98.51064 98.49518 98.464386 98.47311 98.48792 98.46225 98.47031 98.490814 98.4627 98.492516 98.469086 98.445724 98.49336 98.43074 98.4368 98.44351 98.47998 98.516624 98.4333 98.46983 98.478165 98.52061 98.54082 98.497215 98.5278 98.493675 98.51625 98.50917 98.44399 98.502846 98.518906 98.49413 98.45126 98.47975 98.5281 98.50713 98.5342 98.478745 98.51688 98.48642 98.4915 98.52783 98.49995 98.500755 98.44917 98.477196 98.489235 98.49729 98.527466 98.47461 98.46636 98.47501 98.48492 98.50416 98.43884 98.51437 98.50947 98.51032 98.535934 98.50769 98.5089 98.50686 98.48191 98.46138 98.472496 98.45731 98.46427 98.46682 98.516106 98.48049 98.4937 98.48641 98.48787 98.442345 98.53171 98.469154 98.51325 98.56814 98.52732 98.49079 98.510826 98.47028 98.507614 98.48732 98.449684 98.48686 98.49633 98.5287 98.46889 98.51847 98.53991 98.48942 98.48371 98.49299 98.46699 98.51952 98.45494 98.5027 98.438965 98.495735 98.45983 98.48595 98.51797 98.499245 98.52408 98.47817 98.477165 98.51274 98.54706 98.480255 98.48522 98.51953 98.47154 98.47024 98.501076 98.5143 98.47425 98.47499 98.506485 98.46298 98.49034 98.52504 98.48397 98.50211 98.46004 98.52981 98.449905 98.53086 98.44225 98.53539 98.475334 98.4342 98.511215 98.466064 98.4779 98.53614 98.48337 98.4706 98.43575 98.46268 98.452194 98.42982 98.44179 98.455315 98.47996 98.4686 98.46409 98.473755 98.50422 98.52422 98.47749 98.45193 98.48964 98.491875 98.479 98.5125 98.49324 98.475784 98.50796 98.52839 98.487755 98.542465 98.48893 98.49387 98.55403 98.47733 98.4788 98.479225 98.50086 98.51058 98.52355 98.522705 98.45732 98.442825 98.4875 98.49984 98.4709 98.46732 98.44043 98.43681 98.47034 98.53849 98.47349 98.448524 98.51129 98.49163 98.45425 98.54157 98.445305 98.49284 98.505844 98.47138 98.507935 98.47186 98.50623 98.53241 98.50721 98.51836 98.47283 98.496826 98.47611 98.49731 98.471115 98.46612 98.49824 98.503716 98.487175 98.49106 98.47768 98.5174 98.503845 98.470184 98.46279 98.486206 98.54487 98.5194 98.51994 98.50569 98.51995 98.51124 98.49593 98.45769 98.47086 98.50441 98.43372 98.47097 98.5029 98.46266 98.520706 98.48089 98.49735 98.49012 98.44192 98.54394 98.44989 98.46465 98.473366 98.46153 98.5114 98.50135 98.46803 98.4785 98.47922 98.496704 98.470085 98.53737 98.45985 98.517204 98.51031 98.52978 98.480644 98.4458 98.53764 98.46323 98.52554 98.49771 98.50165 98.434875 98.48253 98.470276 98.4889 98.469765 98.49486 98.50051 98.501724 98.45012 98.50571 98.489716 98.51257 98.48326 98.4942 98.51027 98.46469 98.430885 98.44271 98.502914 98.43773 98.524666 98.47025 98.49839 98.48814 98.52861 98.50124 98.47838 98.52484 98.45082 98.51863 98.49468 98.47724 98.47327 98.49288 98.55955 98.49258 98.507385 98.482605 98.490425 98.50795 98.49802 98.47602 98.51598 98.50795 98.51456 98.46153 98.47857 98.46442 98.43853 98.46234 98.48733 98.505745 98.51286 98.511024 98.51915 98.431206 98.44664 98.44184 98.52139 98.51503 98.43021 98.47926 98.47429 98.56796 98.49726 98.50073 98.541245 98.50119 98.4735 98.50826 98.48735 98.50586 98.504456 98.503624 98.42297 98.485275 98.496864 98.47224 98.49825 98.476845 98.43888 98.45859 98.5183 98.48371 98.51083 98.50028 98.47606 98.50367 98.48154 98.47501 98.50673 98.51696 98.51544 98.48199 98.5036 98.491394 98.48955 98.50137 98.51696 98.47317 98.47348 98.48755 98.43101 98.53871 98.49764 98.44936 98.475395 98.51954 98.509285 98.51644 98.48473 98.46717 98.4584 98.421394 98.45647 98.457016 98.45543 98.4818 98.52162 98.47577 98.445335 98.44994 98.515114 98.47516 98.463875 98.553345 98.53699 98.48713 98.481186 98.508286 98.49156 98.480515 98.50503 98.53741 98.44885 98.44309 98.513664 98.46 98.482666 98.431564 98.530045 98.5006 98.48389 98.48113 98.466324 98.480644 98.49299 98.48479 98.504974 98.437706 98.5249 98.456085 98.456 98.53997 98.52704 98.48444 98.52203 98.46807 98.46624 98.50626 98.51983 98.46878 98.48309 98.495316 98.4723 98.51432 98.46383 98.46913 98.48789 98.49223 98.46903 98.48271 98.51716 98.44529 98.43314 98.55671 98.45828 98.46671 98.46801 98.492256 98.48684 98.53312 98.50746 98.494896 98.514305 98.503395 98.5249 98.52717 98.46786 98.51776 98.511894 98.555565 98.46748 98.49471 98.48137 98.44207 98.45848 98.51594 98.48985 98.47304 98.487114 98.46568 98.45554 98.5017 98.455925 98.46225 98.45205 98.46441 98.554855 98.51762 98.45514 98.51564 98.52681 98.51388 98.502464 98.46767 98.486755 98.484024 98.496506 98.519356 98.50541 98.4438 98.47924 98.5264 98.47832 98.49527 98.49132 98.49865 98.462425 98.50197 98.48295 98.474594 98.45829 98.51253 98.47429 98.490906 98.44555 98.42974 98.505806 98.482864 98.439644 98.43489 98.48982 98.4948 98.50403 98.504814 98.48856 98.520096 98.5142 98.54673 98.51737 98.475075 98.43065 98.478226 98.49211 98.50251 98.482574 98.51263 98.44361 98.53067 98.51636 98.50602 98.47505 98.5501 98.455475 98.46602 98.49818 98.46939 98.54736 98.5334 98.50072 98.49251 98.48931 98.493904 98.49693 98.48309 98.47811 98.466896 98.428955 98.521576 98.499825 98.49328 98.5391 98.449745 98.48053 98.48532 98.51553 98.5055 98.473305 98.490166 98.47852 98.51331 98.51668 98.53091 98.49928 98.44416 98.51136 98.46853 98.5233 98.49528 98.49164 98.50653 98.47082 98.495605 98.49099 98.4984 98.46413 98.49061 98.47765 98.52584 98.47733 98.47403 98.480415 98.495224 98.52959 98.533875 98.50603 98.46693 98.50798 98.4987 98.45383 98.50974 98.45196 98.48065 98.49458 98.45937 98.492485 98.508286 98.47624 98.492165 98.52067 98.47219 98.50716 98.47983 98.499146 98.510826 98.44129 98.51821 98.48607 98.53116 98.45313 98.49414 98.51329 98.48666 98.554504 98.52986 98.44696 98.504234 98.53284 98.50661 98.530205 98.42455 98.48205 98.469536 98.50325 98.45733 98.42291 98.52874 98.43606 98.46925 98.50211 98.45179 98.48391 98.55249 98.46923 98.510025 98.504616 98.48652 98.47801 98.47019 98.545074 98.49966 98.48878 98.491905 98.487015 98.53627 98.467636 98.47904 98.52629 98.50023 98.49513 98.53801 98.44772 98.5291 98.505264 98.487465 98.524605 98.49044 98.53438 98.50354 98.471756 98.46198 98.48622 98.534195 98.467155 98.51547 98.4964 98.52608 98.557816 98.49699 98.46333 98.50193 98.4868 98.51556 98.457954 98.48366 98.49982 98.504 98.503975 98.53232 98.49835 98.42365 98.51038 98.52246 98.45008 98.51193 98.47219 98.52084 98.50527 98.52131 98.476555 98.49922 98.50178 98.47656 98.48043 98.46864 98.51325 98.53761 98.47469 98.47934 98.43205 98.49458 98.50268 98.57326 98.50966 98.498566 98.50351 98.46965 98.47505 98.54749 98.50318 98.48916 98.498856 98.46332 98.53325 98.52025 98.51402 98.494194 98.48293 98.51546 98.47548 98.48769 98.49008 98.472404 98.50477 98.50034 98.48314 98.47664 98.47807 98.487564 98.52583 98.50117 98.47054 98.46051 98.48288 98.51831 98.495865 98.44134 98.43587 98.50775 98.45288 98.477425 98.53784 98.48056 98.475914 98.56231 98.52532 98.4743 98.529884 98.48272 98.451096 98.43978 98.48341 98.467926 98.53151 98.45873 98.474365 98.44164 98.45132 98.41894 98.43822 98.436035 98.455086 98.470856 98.48657 98.47927 98.47122 98.49103 98.4744 98.47403 98.42387 98.51209 98.462746 98.514946 98.490204 98.51736 98.47598 98.49062 98.49503 98.462456 98.45558 98.57179 98.50122 98.51173 98.4858 98.53395 98.48079 98.46043 98.4888 98.47974 98.53006 98.526665 98.49637 98.48283 98.449005 98.466125 98.512276 98.49662 98.45911 98.483406 98.45035 98.50972 98.452156 98.48476 98.50729 98.4803 98.48714 98.53742 98.48734 98.51403 98.47981 98.45504 98.47268 98.47553 98.52435 98.48042 98.50467 98.49553 98.5163 98.468124 98.496666 98.50554 98.52026 98.49656 98.48927 98.49464 98.47518 98.45162 98.50567 98.48391 98.54515 98.47481 98.502205 98.528366 98.47903 98.48357 98.45287 98.50103 98.4939 98.493385 98.47576 98.48379 98.52026 98.49539 98.48373 98.49017 98.56671 98.42534 98.45415 98.47698 98.48672 98.478455 98.45406 98.484406 98.482506 98.47271 98.41532 98.47809 98.49165 98.524124 98.493034 98.455025 98.46959 98.4525 98.52588 98.47089 98.47268 98.48709 98.43575 98.5115 98.465 98.46841 98.498856 98.51601 98.46421 98.49089 98.4802 98.487564 98.46885 98.525276 98.543076 98.53069 98.46187 98.47412 98.44792 98.44568 98.50682 98.45984 98.50145 98.43961 98.49167 98.52384 98.44576 98.49347 98.47486 98.470695 98.47191 98.4663 98.44952 98.446106 98.45375 98.43177 98.54234 98.48933 98.53438 98.49069 98.49744 98.4711 98.502045 98.50568 98.48489 98.531044 98.462746 98.41757 98.48661 98.46813 98.48237 98.46158 98.51635 98.46195 98.475204 98.48331 98.47258 98.51015 98.49948 98.50885 98.49448 98.4727 98.492935 98.47928 98.488655 98.526 98.50201 98.46942 98.51905 98.52524 98.47725 98.49661 98.51669 98.500404 98.48291 98.49661 98.500854 98.45964 98.46757 98.48183 98.481575 98.49438 98.489655 98.50155 98.49896 98.48067 98.482994 98.50448 98.461464 98.52691 98.48703 98.50945 98.4248 98.44472 98.547295 98.50365 98.471054 98.46871 98.513016 98.50252 98.51894 98.511444 98.48005 98.49078 98.53605 98.48139 98.49385 98.46859 98.4926 98.509315 98.495834 98.509674 98.515594 98.479614 98.50233 98.447235 98.55643 98.4538 98.41628 98.48675 98.4907 98.45829 98.51914 98.47091 98.54339 98.4853 98.50661 98.50574 98.5162 98.46488 98.44258 98.47306 98.47736 98.541504 98.45156 98.48681 98.46942 98.531944 98.50155 98.525475 98.45602 98.476204 98.43138 98.54492 98.496315 98.46071 98.51776 98.50394 98.4894 98.44419 98.50115 98.50027 98.52122 98.48961 98.46967 98.47923 98.51714 98.465904 98.49767 98.48032 98.48386 98.47243 98.4177 98.5401 98.498985))> N NIL)",
      "5: (CL-WAFFE::INVOKE-MGL-KERNEL #<unavailable argument> (#Const(((98.52... 98.57... ~ 98.54... 98.49...)) :mgl t :shape (1 4780) :backward <Node: SUBTENSOR{W163225}>)) OUTPUT #<unavailable argument> OVERWRITE #<unavailable argument>)",
      "6: (#:EXPTENSOR145 #<unavailable argument> #Const(((98.52... 98.57... ~ 98.54... 98.49...)) :mgl t :shape (1 4780) :backward <Node: SUBTENSOR{W163225}>))",
      "7: (!EXP #<unavailable argument>)",
      "8: (CL-WAFFE::!SOFTMAX-FUNCTION #<unavailable argument> AVOID-OVERFLOW #<unavailable argument>)",
      "9: ((LAMBDA (TENSOR) :IN CL-WAFFE::!SOFTMAX-FUNCTION) #<unavailable argument>)",
      "10: (SB-KERNEL:%MAP-TO-LIST-ARITY-1 #<FUNCTION (LAMBDA (TENSOR) :IN CL-WAFFE::!SOFTMAX-FUNCTION) {101217CD6B}> (#Const((((0.011... 0.062... ~ 0.029... -0.01...))) :mgl t :shape (1 1 4780) :backward <Node: AREFTENSOR{W163189}>) #Const((((0.037... -0.01... ~ 0.048... -0.00...))) :mgl t :shape (1 1 4780) :backward <Node: AREFTENSOR{W163190}>) #Const((((0.031... 0.004... ~ 0.015... 0.003...))) :mgl t :shape (1 1 4780) :backward <Node: AREFTENSOR{W163191}>) #Const((((0.046... -0.03... ~ 0.014... -0.01...))) :mgl t :shape (1 1 4780) :backward <Node: AREFTENSOR{W163192}>) #Const((((0.031... 0.017... ~ 0.017... 0.005...))) :mgl t :shape (1 1 4780) :backward <Node: AREFTENSOR{W163193}>) #Const((((0.022... 0.065... ~ -0.02... 0.007...))) :mgl t :shape (1 1 4780) :backward <Node: AREFTENSOR{W163194}>) #Const((((0.028... 0.011... ~ 0.016... -0.00...))) :mgl t :shape (1 1 4780) :backward <Node: AREFTENSOR{W163195}>) #Const((((0.032... 0.036... ~ 0.028... 8.616...))) :mgl t :shape (1 1 4780) :backward <Node: AREFTENSOR{W163196}>) #Const((((-0.00... 0.028... ~ 0.022... 0.002...))) :mgl t :shape (1 1 4780) :backward <Node: AREFTENSOR{W163197}>) #Const((((0.041... 0.010... ~ 0.027... -0.00...))) :mgl t :shape (1 1 4780) :backward <Node: AREFTENSOR{W163198}>) #Const((((0.031... 0.004... ~ 0.015... 0.003...))) :mgl t :shape (1 1 4780) :backward <Node: AREFTENSOR{W163199}>) #Const((((0.037... 0.004... ~ 0.035... -0.00...))) :mgl t :shape (1 1 4780) :backward <Node: AREFTENSOR{W163200}>) #Const((((0.039... 0.013... ~ 0.026... 0.011...))) :mgl t :shape (1 1 4780) :backward <Node: AREFTENSOR{W163201}>) #Const((((0.011... -0.02... ~ 0.038... -0.02...))) :mgl t :shape (1 1 4780) :backward <Node: AREFTENSOR{W163202}>) #Const((((0.028... 0.016... ~ 0.031... -0.01...))) :mgl t :shape (1 1 4780) :backward <Node: AREFTENSOR{W163203}>) #Const((((0.029... 0.013... ~ 0.020... -0.00...))) :mgl t :shape (1 1 4780) :backward <Node: AREFTENSOR{W163204}>) #Const((((0.018... 0.033... ~ 0.024... -0.04...))) :mgl t :shape (1 1 4780) :backward <Node: AREFTENSOR{W163205}>) #Const((((0.052... -0.00... ~ 1.505... -0.02...))) :mgl t :shape (1 1 4780) :backward <Node: AREFTENSOR{W163206}>) #Const((((0.022... 0.010... ~ 0.037... 0.036...))) :mgl t :shape (1 1 4780) :backward <Node: AREFTENSOR{W163207}>) #Const((((0.025... 0.039... ~ 0.032... 0.024...))) :mgl t :shape (1 1 4780) :backward <Node: AREFTENSOR{W163208}>) #Const((((0.029... -0.01... ~ 0.047... 0.052...))) :mgl t :shape (1 1 4780) :backward <Node: AREFTENSOR{W163209}>) #Const((((0.052... -0.02... ~ 0.068... 0.042...))) :mgl t :shape (1 1 4780) :backward <Node: AREFTENSOR{W163210}>) #Const((((0.037... 0.029... ~ 0.005... 0.021...))) :mgl t :shape (1 1 4780) :backward <Node: AREFTENSOR{W163211}>) #Const((((0.033... 0.048... ~ 0.037... 0.004...))) :mgl t :shape (1 1 4780) :backward <Node: AREFTENSOR{W163212}>) #Const((((0.026... 0.024... ~ 0.041... 0.057...))) :mgl t :shape (1 1 4780) :backward <Node: AREFTENSOR{W163213}>) #Const((((0.041... -0.02... ~ 0.037... 0.046...))) :mgl t :shape (1 1 4780) :backward <Node: AREFTENSOR{W163214}>) #Const((((0.010... 0.043... ~ 0.055... -0.01...))) :mgl t :shape (1 1 4780) :backward <Node: AREFTENSOR{W163215}>) #Const((((0.032... 0.011... ~ 0.043... 0.022...))) :mgl t :shape (1 1 4780) :backward <Node: AREFTENSOR{W163216}>) #Const((((0.009... -0.01... ~ 0.041... -0.00...))) :mgl t :shape (1 1 4780) :backward <Node: AREFTENSOR{W163217}>) #Const((((0.027... 0.030... ~ 0.025... 3.686...))) :mgl t :shape (1 1 4780) :backward <Node: AREFTENSOR{W163218}>) #Const((((0.045... 0.025... ~ 7.964... 0.011...))) :mgl t :shape (1 1 4780) :backward <Node: AREFTENSOR{W163219}>) #Const((((0.029... 0.001... ~ 0.017... -0.02...))) :mgl t :shape (1 1 4780) :backward <Node: AREFTENSOR{W163220}>)))",
      "11: (CL-WAFFE::!SOFTMAX-FUNCTION #<unavailable argument> AVOID-OVERFLOW #<unavailable argument>)",
      "12: (#:SOFTMAXNODE146 [Model: SOFTMAXNODE :ident {W163187}] #Const((((0.011... 0.062... ~ 0.029... -0.01...))        \n                 ...\n        ((0.029... 0.001... ~ 0.017... -0.02...))) :mgl t :shape (32 1 4780) :backward <Node: AREFTENSOR{W163024}>))",
      "13: (!SOFTMAX #Const((((0.011... 0.062... ~ 0.029... -0.01...))        \n                 ...\n        ((0.029... 0.001... ~ 0.017... -0.02...))) :mgl t :shape (32 1 4780) :backward <Node: AREFTENSOR{W163024}>) AVOID-OVERFLOW T)",
      "14: (#:SOFTMAXCROSSENTROPY200 <Node: SOFTMAXCROSSENTROPY{W163026}> #Const((((0.011... 0.062... ~ 0.029... -0.01...))        \n                 ...\n        ((0.029... 0.001... ~ 0.017... -0.02...))) :mgl t :shape (32 1 4780) :backward <Node: AREFTENSOR{W163024}>) #Const((((1.0 0.0 ~ 0.0 0.0))        \n                 ...\n        ((1.0 0.0 ~ 0.0 0.0))) :mgl t :shape (32 1 4780) :backward NIL))",
      "15: (SOFTMAX-CROSS-ENTROPY #Const((((0.011... 0.062... ~ 0.029... -0.01...))        \n                 ...\n        ((0.029... 0.001... ~ 0.017... -0.02...))) :mgl t :shape (32 1 4780) :backward <Node: AREFTENSOR{W163024}>) #Const(((0.0)        \n                 ...\n        (0.0)) :mgl t :shape (32 1) :backward <Node: AREFTENSOR{W163025}>) AVOID-OVERFLOW T DELTA 1.0e-7 EPSILON 0.0)",
      "16: (#:SEQ2SEQTRAINER3 <Trainer: SEQ2SEQTRAINER()> #Const(((3.0 1150.... ~ 0.0 0.0)        \n                 ...\n        (3.0 3961.... ~ 0.0 0.0)) :mgl t :shape (32 15) :backward NIL) #Const(((3.0 2.0 ~ 0.0 0.0)        \n                 ...\n        (3.0 2.0 ~ 0.0 0.0)) :mgl t :shape (32 15) :backward NIL))",
      "17: (#:TRAINERINPUTLAYER150 #<unavailable argument>)",
      "18: (CL-WAFFE::STEP-MODEL1 <Trainer: SEQ2SEQTRAINER()> (#Const(((3.0 1150.... ~ 0.0 0.0)        \n                 ...\n        (3.0 3961.... ~ 0.0 0.0)) :mgl t :shape (32 15) :backward NIL) #Const(((3.0 2.0 ~ 0.0 0.0)        \n                 ...\n        (3.0 2.0 ~ 0.0 0.0)) :mgl t :shape (32 15) :backward NIL)))",
      "19: ((LAMBDA NIL :IN \"/private/var/folders/0z/78dxt82s1ks803wxpkvbmmqw0000gn/T/F15A69FF4165495CC535CEEF1B92C21B-3639558128.lisp\"))",
      "20: (SB-EXT:CALL-WITH-TIMING #<FUNCTION SB-IMPL::PRINT-TIME> #<FUNCTION (LAMBDA NIL :IN \"/private/var/folders/0z/78dxt82s1ks803wxpkvbmmqw0000gn/T/F15A69FF4165495CC535CEEF1B92C21B-3639558128.lisp\") {529FF8DB}>)",
      "21: (JUPYTER/COMMON-LISP::EVAL-AND-PRINT (TIME (DOTIMES (EPOCH EPOCH-NUM) (FORMAT T ~ath Epoch: [~as]~% EPOCH (- (GET-UNIVERSAL-TIME) *START-TIME*)) (LET ((DATASET-SIZE (GET-DATASET-LENGTH *TRAIN-DATASET*))) (LOOP FOR BATCH-NUM FIXNUM UPFROM 0 BELOW DATASET-SIZE BY BATCH-SIZE DO (LET* ((DATUM (GET-DATASET *TRAIN-DATASET* BATCH-NUM)) (X (CAR DATUM)) (Y (SECOND DATUM))) (PUSH (DATA (STEP-MODEL TRAINER X Y)) LOSSES) (FORMAT T Loss: ~a~% (CAR LOSSES))))))) 2 NIL)",
      "22: ((:METHOD JUPYTER:EVALUATE-FORM (JUPYTER/COMMON-LISP:KERNEL T T T)) #<unused argument> #<FORM-TRACKING-STREAM for \"file /private/var/folders/0z/78dxt82s1ks803wxpkvbmmqw0000gn/T/F15A69FF4165495CC535CEEF1B92C21B-3639558128.lisp\" {100D7674D3}> CELL:3639558128.LISP.NEWEST NIL #<unused argument> #<unused argument>)",
      "23: (JUPYTER/COMMON-LISP::REPL (defparameter *start-time* (get-universal-time))\n(defparameter losses nil)\n\n(time\n(dotimes (epoch epoch-num)\n    (format t \"~ath Epoch: [~as]~%\" epoch (- (get-universal-time) *start-time*))\n    (let ((dataset-size (get-dataset-length *train-dataset*)))\n          (loop for batch-num fixnum upfrom 0 below dataset-size by batch-size\n                do (let* ((datum (get-dataset *train-dataset* batch-num))\n                          (x (car datum))\n                          (y (second datum)))\n                         (push (data (step-model trainer x y)) losses)\n                         (format t \"Loss: ~a~%\" (car losses))))))) CELL:3639558128.LISP.NEWEST NIL)",
      "24: ((:METHOD JUPYTER:EVALUATE-CODE (JUPYTER/COMMON-LISP:KERNEL T)) #<unused argument> (defparameter *start-time* (get-universal-time))\n(defparameter losses nil)\n\n(time\n(dotimes (epoch epoch-num)\n    (format t \"~ath Epoch: [~as]~%\" epoch (- (get-universal-time) *start-time*))\n    (let ((dataset-size (get-dataset-length *train-dataset*)))\n          (loop for batch-num fixnum upfrom 0 below dataset-size by batch-size\n                do (let* ((datum (get-dataset *train-dataset* batch-num))\n                          (x (car datum))\n                          (y (second datum)))\n                         (push (data (step-model trainer x y)) losses)\n                         (format t \"Loss: ~a~%\" (car losses))))))) CELL:3639558128.LISP.NEWEST NIL)",
      "25: (JUPYTER::HANDLE-EXECUTE-REQUEST)",
      "26: (JUPYTER::RUN-SHELL #<KERNEL {10085ECEC3}>)",
      "27: ((LABELS BORDEAUX-THREADS::%BINDING-DEFAULT-SPECIALS-WRAPPER :IN BORDEAUX-THREADS::BINDING-DEFAULT-SPECIALS))",
      "28: ((FLET SB-UNIX::BODY :IN SB-THREAD::RUN))",
      "29: ((FLET \"WITHOUT-INTERRUPTS-BODY-11\" :IN SB-THREAD::RUN))",
      "30: ((FLET SB-UNIX::BODY :IN SB-THREAD::RUN))",
      "31: ((FLET \"WITHOUT-INTERRUPTS-BODY-4\" :IN SB-THREAD::RUN))",
      "32: (SB-THREAD::RUN)",
      "33: (\"foreign function: call_into_lisp\")",
      "34: (\"foreign function: funcall1\")"
     ]
    },
    {
     "name": "stdout",
     "output_type": "stream",
     "text": [
      "0th Epoch: [0s]\n",
      "Loss: 118.585045\n",
      "Loss: 118.56843\n",
      "Loss: 118.52921\n",
      "Loss: 118.4874\n",
      "Loss: 84.66245\n",
      "Loss: 118.436356\n",
      "Loss: 67.64703\n",
      "Loss: 118.281006\n",
      "Evaluation took:\n",
      "  13.085 seconds of real time\n",
      "  11.555666 seconds of total run time (9.579629 user, 1.976037 system)\n",
      "  [ Run times consist of 0.761 seconds GC time, and 10.795 seconds non-GC time. ]\n",
      "  88.31% CPU\n",
      "  98 lambdas converted\n",
      "  30,148,095,586 processor cycles\n",
      "  25 page faults\n",
      "  7,493,582,656 bytes consed\n",
      "  \n",
      "  before it was aborted by a non-local transfer of control.\n",
      "  \n"
     ]
    }
   ],
   "source": [
    "(defparameter *start-time* (get-universal-time))\n",
    "(defparameter losses nil)\n",
    "\n",
    "(time\n",
    "(dotimes (epoch epoch-num)\n",
    "    (format t \"~ath Epoch: [~as]~%\" epoch (- (get-universal-time) *start-time*))\n",
    "    (let ((dataset-size (get-dataset-length *train-dataset*)))\n",
    "          (loop for batch-num fixnum upfrom 0 below dataset-size by batch-size\n",
    "                do (let* ((datum (get-dataset *train-dataset* batch-num))\n",
    "                          (x (car datum))\n",
    "                          (y (second datum)))\n",
    "                         (push (data (step-model trainer x y)) losses)\n",
    "                         (format t \"Loss: ~a~%\" (car losses)))))))"
   ]
  },
  {
   "cell_type": "code",
   "execution_count": 20,
   "id": "7e98f0bb-af68-40d0-a1e2-3036329c7b95",
   "metadata": {},
   "outputs": [
    {
     "data": {
      "text/plain": [
       "#Parameter{((-0.05... 0.025... ~ 0.068... 0.027...)            \n",
       "                         ...\n",
       "            (-0.02... 0.030... ~ 0.062... 0.004...)) :mgl t :shape (4519 128) :backward NIL}"
      ]
     },
     "execution_count": 20,
     "metadata": {},
     "output_type": "execute_result"
    }
   ],
   "source": [
    "(slot-value (slot-value (slot-value (slot-value trainer 'model) 'encoder) 'embedding) 'cl-waffe.nn::weights)"
   ]
  },
  {
   "cell_type": "code",
   "execution_count": 21,
   "id": "4b6a865b-3b6f-406e-814d-695fa7828384",
   "metadata": {},
   "outputs": [
    {
     "data": {
      "text/plain": [
       "*IMGPATH*"
      ]
     },
     "execution_count": 21,
     "metadata": {},
     "output_type": "execute_result"
    },
    {
     "data": {
      "text/plain": [
       "NIL"
      ]
     },
     "execution_count": 21,
     "metadata": {},
     "output_type": "execute_result"
    },
    {
     "data": {
      "text/plain": [
       "NIL"
      ]
     },
     "execution_count": 21,
     "metadata": {},
     "output_type": "execute_result"
    },
    {
     "data": {
      "text/plain": [
       "0"
      ]
     },
     "execution_count": 21,
     "metadata": {},
     "output_type": "execute_result"
    },
    {
     "data": {
      "image/png": "[encoded data removed]",
      "text/plain": [
       "./tmp/Seq2Seq_KFTT_Losses.png"
      ]
     },
     "metadata": {},
     "output_type": "display_data"
    }
   ],
   "source": [
    "(defparameter *imgpath* \"./tmp/Seq2Seq_KFTT_Losses.png\")\n",
    "\n",
    "; Lossのx軸の向きは反対\n",
    "(plot (reverse losses) :output *imgpath*)\n",
    "(jupyter:file *imgpath* :display t)"
   ]
  },
  {
   "cell_type": "code",
   "execution_count": null,
   "id": "08be7158-ca3a-40ec-a247-6bfc0346708d",
   "metadata": {},
   "outputs": [],
   "source": []
  },
  {
   "cell_type": "code",
   "execution_count": null,
   "id": "bb9b9772-3cb5-4e0b-90e5-34e792f793d4",
   "metadata": {},
   "outputs": [],
   "source": []
  }
 ],
 "metadata": {
  "kernelspec": {
   "display_name": "Common Lisp",
   "language": "common-lisp",
   "name": "common-lisp"
  },
  "language_info": {
   "codemirror_mode": "text/x-common-lisp",
   "file_extension": ".lisp",
   "mimetype": "text/x-common-lisp",
   "name": "common-lisp",
   "pygments_lexer": "common-lisp",
   "version": "2.1.0"
  }
 },
 "nbformat": 4,
 "nbformat_minor": 5
}
