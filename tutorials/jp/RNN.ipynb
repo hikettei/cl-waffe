{
 "cells": [
  {
   "cell_type": "code",
   "execution_count": 115,
   "id": "28aceae3-385f-4cb7-a348-21c92844f712",
   "metadata": {},
   "outputs": [
    {
     "data": {
      "text/plain": [
       "T"
      ]
     },
     "execution_count": 115,
     "metadata": {},
     "output_type": "execute_result"
    },
    {
     "data": {
      "text/plain": [
       "(:CL-WAFFE)"
      ]
     },
     "execution_count": 115,
     "metadata": {},
     "output_type": "execute_result"
    },
    {
     "data": {
      "text/plain": [
       "T"
      ]
     },
     "execution_count": 115,
     "metadata": {},
     "output_type": "execute_result"
    },
    {
     "data": {
      "text/plain": [
       "T"
      ]
     },
     "execution_count": 115,
     "metadata": {},
     "output_type": "execute_result"
    },
    {
     "name": "stdout",
     "output_type": "stream",
     "text": [
      "SB-KERNEL:REDEFINITION-WITH-DEFMETHOD: redefining PERFORM (#<STANDARD-CLASS ASDF/LISP-ACTION:TEST-OP>\n",
      "                                                           #<SB-MOP:EQL-SPECIALIZER #<SYSTEM \"cl-waffe/test\">>) in DEFMETHOD\n"
     ]
    }
   ],
   "source": [
    "; cl-waffeを読み込む\n",
    "(load \"../../cl-waffe.asd\")\n",
    "(ql:quickload :cl-waffe :silent t)\n",
    "(use-package :cl-waffe)\n",
    "(use-package :cl-waffe.nn)"
   ]
  },
  {
   "cell_type": "code",
   "execution_count": 116,
   "id": "b84e8642-7b38-4337-b4c5-285154147e9e",
   "metadata": {},
   "outputs": [
    {
     "data": {
      "text/plain": [
       "NIL"
      ]
     },
     "execution_count": 116,
     "metadata": {},
     "output_type": "execute_result"
    },
    {
     "data": {
      "text/plain": [
       "NIL"
      ]
     },
     "execution_count": 116,
     "metadata": {},
     "output_type": "execute_result"
    },
    {
     "data": {
      "text/plain": [
       "NIL"
      ]
     },
     "execution_count": 116,
     "metadata": {},
     "output_type": "execute_result"
    },
    {
     "name": "stdout",
     "output_type": "stream",
     "text": [
      "SB-KERNEL:REDEFINITION-WITH-DEFUN: redefining COMMON-LISP-USER::COPY-ENCODER in DEFUN\n",
      "SB-KERNEL:REDEFINITION-WITH-DEFUN: redefining COMMON-LISP-USER::ENCODER-P in DEFUN\n",
      "SB-KERNEL:REDEFINITION-WITH-DEFUN: redefining (COMMON-LISP:SETF COMMON-LISP-USER::ENCODER-MODEL-IDENT) in DEFUN\n",
      "SB-KERNEL:REDEFINITION-WITH-DEFUN: redefining COMMON-LISP-USER::ENCODER-MODEL-IDENT in DEFUN\n",
      "SB-KERNEL:REDEFINITION-WITH-DEFUN: redefining (COMMON-LISP:SETF COMMON-LISP-USER::ENCODER-HIDE-FROM-TREE) in DEFUN\n",
      "SB-KERNEL:REDEFINITION-WITH-DEFUN: redefining COMMON-LISP-USER::ENCODER-HIDE-FROM-TREE in DEFUN\n",
      "SB-KERNEL:REDEFINITION-WITH-DEFUN: redefining (COMMON-LISP:SETF COMMON-LISP-USER::ENCODER-FORWARD) in DEFUN\n",
      "SB-KERNEL:REDEFINITION-WITH-DEFUN: redefining COMMON-LISP-USER::ENCODER-FORWARD in DEFUN\n",
      "SB-KERNEL:REDEFINITION-WITH-DEFUN: redefining (COMMON-LISP:SETF COMMON-LISP-USER::ENCODER-OBJECT-TYPE) in DEFUN\n",
      "SB-KERNEL:REDEFINITION-WITH-DEFUN: redefining COMMON-LISP-USER::ENCODER-OBJECT-TYPE in DEFUN\n",
      "SB-KERNEL:REDEFINITION-WITH-DEFUN: redefining (COMMON-LISP:SETF COMMON-LISP-USER::ENCODER-BACKWARD) in DEFUN\n",
      "SB-KERNEL:REDEFINITION-WITH-DEFUN: redefining COMMON-LISP-USER::ENCODER-BACKWARD in DEFUN\n",
      "SB-KERNEL:REDEFINITION-WITH-DEFUN: redefining (COMMON-LISP:SETF COMMON-LISP-USER::ENCODER-PARAMETERS) in DEFUN\n",
      "SB-KERNEL:REDEFINITION-WITH-DEFUN: redefining COMMON-LISP-USER::ENCODER-PARAMETERS in DEFUN\n",
      "SB-KERNEL:REDEFINITION-WITH-DEFUN: redefining (COMMON-LISP:SETF COMMON-LISP-USER::ENCODER-EMBEDDING) in DEFUN\n",
      "SB-KERNEL:REDEFINITION-WITH-DEFUN: redefining COMMON-LISP-USER::ENCODER-EMBEDDING in DEFUN\n",
      "SB-KERNEL:REDEFINITION-WITH-DEFUN: redefining (COMMON-LISP:SETF COMMON-LISP-USER::ENCODER-LAYER) in DEFUN\n",
      "SB-KERNEL:REDEFINITION-WITH-DEFUN: redefining COMMON-LISP-USER::ENCODER-LAYER in DEFUN\n",
      "SB-KERNEL:REDEFINITION-WITH-DEFUN: redefining COMMON-LISP-USER::ENCODER in DEFUN\n",
      "SB-KERNEL:REDEFINITION-WITH-DEFMETHOD: redefining PRINT-OBJECT (#<STRUCTURE-CLASS COMMON-LISP-USER::ENCODER>\n",
      "                                                                #<SB-PCL:SYSTEM-CLASS COMMON-LISP:T>) in DEFMETHOD\n",
      "SB-KERNEL:REDEFINITION-WITH-DEFMETHOD: redefining CL-WAFFE::CALL-FORWARD CL-WAFFE::BACKEND-DISPATCHER (#<STRUCTURE-CLASS COMMON-LISP-USER::ENCODER>) in DEFMETHOD\n",
      "SB-KERNEL:REDEFINITION-WITH-DEFMETHOD: redefining CL-WAFFE::CALL-BACKWARD CL-WAFFE::BACKEND-DISPATCHER (#<STRUCTURE-CLASS COMMON-LISP-USER::ENCODER>) in DEFMETHOD\n",
      "SB-KERNEL:REDEFINITION-WITH-DEFUN: redefining COMMON-LISP-USER::COPY-DECODER in DEFUN\n",
      "SB-KERNEL:REDEFINITION-WITH-DEFUN: redefining COMMON-LISP-USER::DECODER-P in DEFUN\n",
      "SB-KERNEL:REDEFINITION-WITH-DEFUN: redefining (COMMON-LISP:SETF COMMON-LISP-USER::DECODER-MODEL-IDENT) in DEFUN\n",
      "SB-KERNEL:REDEFINITION-WITH-DEFUN: redefining COMMON-LISP-USER::DECODER-MODEL-IDENT in DEFUN\n",
      "SB-KERNEL:REDEFINITION-WITH-DEFUN: redefining (COMMON-LISP:SETF COMMON-LISP-USER::DECODER-HIDE-FROM-TREE) in DEFUN\n",
      "SB-KERNEL:REDEFINITION-WITH-DEFUN: redefining COMMON-LISP-USER::DECODER-HIDE-FROM-TREE in DEFUN\n",
      "SB-KERNEL:REDEFINITION-WITH-DEFUN: redefining (COMMON-LISP:SETF COMMON-LISP-USER::DECODER-FORWARD) in DEFUN\n",
      "SB-KERNEL:REDEFINITION-WITH-DEFUN: redefining COMMON-LISP-USER::DECODER-FORWARD in DEFUN\n",
      "SB-KERNEL:REDEFINITION-WITH-DEFUN: redefining (COMMON-LISP:SETF COMMON-LISP-USER::DECODER-OBJECT-TYPE) in DEFUN\n",
      "SB-KERNEL:REDEFINITION-WITH-DEFUN: redefining COMMON-LISP-USER::DECODER-OBJECT-TYPE in DEFUN\n",
      "SB-KERNEL:REDEFINITION-WITH-DEFUN: redefining (COMMON-LISP:SETF COMMON-LISP-USER::DECODER-BACKWARD) in DEFUN\n",
      "SB-KERNEL:REDEFINITION-WITH-DEFUN: redefining COMMON-LISP-USER::DECODER-BACKWARD in DEFUN\n",
      "SB-KERNEL:REDEFINITION-WITH-DEFUN: redefining (COMMON-LISP:SETF COMMON-LISP-USER::DECODER-PARAMETERS) in DEFUN\n",
      "SB-KERNEL:REDEFINITION-WITH-DEFUN: redefining COMMON-LISP-USER::DECODER-PARAMETERS in DEFUN\n",
      "SB-KERNEL:REDEFINITION-WITH-DEFUN: redefining (COMMON-LISP:SETF COMMON-LISP-USER::DECODER-EMBEDDING) in DEFUN\n",
      "SB-KERNEL:REDEFINITION-WITH-DEFUN: redefining COMMON-LISP-USER::DECODER-EMBEDDING in DEFUN\n",
      "SB-KERNEL:REDEFINITION-WITH-DEFUN: redefining (COMMON-LISP:SETF COMMON-LISP-USER::DECODER-LAYER) in DEFUN\n",
      "SB-KERNEL:REDEFINITION-WITH-DEFUN: redefining COMMON-LISP-USER::DECODER-LAYER in DEFUN\n",
      "SB-KERNEL:REDEFINITION-WITH-DEFUN: redefining (COMMON-LISP:SETF COMMON-LISP-USER::DECODER-H2L) in DEFUN\n",
      "SB-KERNEL:REDEFINITION-WITH-DEFUN: redefining COMMON-LISP-USER::DECODER-H2L in DEFUN\n",
      "SB-KERNEL:REDEFINITION-WITH-DEFUN: redefining COMMON-LISP-USER::DECODER in DEFUN\n",
      "SB-KERNEL:REDEFINITION-WITH-DEFMETHOD: redefining PRINT-OBJECT (#<STRUCTURE-CLASS COMMON-LISP-USER::DECODER>\n",
      "                                                                #<SB-PCL:SYSTEM-CLASS COMMON-LISP:T>) in DEFMETHOD\n",
      "SB-KERNEL:REDEFINITION-WITH-DEFMETHOD: redefining CL-WAFFE::CALL-FORWARD CL-WAFFE::BACKEND-DISPATCHER (#<STRUCTURE-CLASS COMMON-LISP-USER::DECODER>) in DEFMETHOD\n",
      "SB-KERNEL:REDEFINITION-WITH-DEFMETHOD: redefining CL-WAFFE::CALL-BACKWARD CL-WAFFE::BACKEND-DISPATCHER (#<STRUCTURE-CLASS COMMON-LISP-USER::DECODER>) in DEFMETHOD\n",
      "SB-KERNEL:REDEFINITION-WITH-DEFUN: redefining COMMON-LISP-USER::COPY-SEQ2SEQ in DEFUN\n",
      "SB-KERNEL:REDEFINITION-WITH-DEFUN: redefining COMMON-LISP-USER::SEQ2SEQ-P in DEFUN\n",
      "SB-KERNEL:REDEFINITION-WITH-DEFUN: redefining (COMMON-LISP:SETF COMMON-LISP-USER::SEQ2SEQ-MODEL-IDENT) in DEFUN\n",
      "SB-KERNEL:REDEFINITION-WITH-DEFUN: redefining COMMON-LISP-USER::SEQ2SEQ-MODEL-IDENT in DEFUN\n",
      "SB-KERNEL:REDEFINITION-WITH-DEFUN: redefining (COMMON-LISP:SETF COMMON-LISP-USER::SEQ2SEQ-HIDE-FROM-TREE) in DEFUN\n",
      "SB-KERNEL:REDEFINITION-WITH-DEFUN: redefining COMMON-LISP-USER::SEQ2SEQ-HIDE-FROM-TREE in DEFUN\n",
      "SB-KERNEL:REDEFINITION-WITH-DEFUN: redefining (COMMON-LISP:SETF COMMON-LISP-USER::SEQ2SEQ-FORWARD) in DEFUN\n",
      "SB-KERNEL:REDEFINITION-WITH-DEFUN: redefining COMMON-LISP-USER::SEQ2SEQ-FORWARD in DEFUN\n",
      "SB-KERNEL:REDEFINITION-WITH-DEFUN: redefining (COMMON-LISP:SETF COMMON-LISP-USER::SEQ2SEQ-OBJECT-TYPE) in DEFUN\n",
      "SB-KERNEL:REDEFINITION-WITH-DEFUN: redefining COMMON-LISP-USER::SEQ2SEQ-OBJECT-TYPE in DEFUN\n",
      "SB-KERNEL:REDEFINITION-WITH-DEFUN: redefining (COMMON-LISP:SETF COMMON-LISP-USER::SEQ2SEQ-BACKWARD) in DEFUN\n",
      "SB-KERNEL:REDEFINITION-WITH-DEFUN: redefining COMMON-LISP-USER::SEQ2SEQ-BACKWARD in DEFUN\n",
      "SB-KERNEL:REDEFINITION-WITH-DEFUN: redefining (COMMON-LISP:SETF COMMON-LISP-USER::SEQ2SEQ-PARAMETERS) in DEFUN\n",
      "SB-KERNEL:REDEFINITION-WITH-DEFUN: redefining COMMON-LISP-USER::SEQ2SEQ-PARAMETERS in DEFUN\n",
      "SB-KERNEL:REDEFINITION-WITH-DEFUN: redefining (COMMON-LISP:SETF COMMON-LISP-USER::SEQ2SEQ-ENCODER) in DEFUN\n",
      "SB-KERNEL:REDEFINITION-WITH-DEFUN: redefining COMMON-LISP-USER::SEQ2SEQ-ENCODER in DEFUN\n",
      "SB-KERNEL:REDEFINITION-WITH-DEFUN: redefining (COMMON-LISP:SETF COMMON-LISP-USER::SEQ2SEQ-DECODER) in DEFUN\n",
      "SB-KERNEL:REDEFINITION-WITH-DEFUN: redefining COMMON-LISP-USER::SEQ2SEQ-DECODER in DEFUN\n",
      "SB-KERNEL:REDEFINITION-WITH-DEFUN: redefining COMMON-LISP-USER::SEQ2SEQ in DEFUN\n",
      "SB-KERNEL:REDEFINITION-WITH-DEFMETHOD: redefining PRINT-OBJECT (#<STRUCTURE-CLASS COMMON-LISP-USER::SEQ2SEQ>\n",
      "                                                                #<SB-PCL:SYSTEM-CLASS COMMON-LISP:T>) in DEFMETHOD\n",
      "SB-KERNEL:REDEFINITION-WITH-DEFMETHOD: redefining CL-WAFFE::CALL-FORWARD CL-WAFFE::BACKEND-DISPATCHER (#<STRUCTURE-CLASS COMMON-LISP-USER::SEQ2SEQ>) in DEFMETHOD\n",
      "SB-KERNEL:REDEFINITION-WITH-DEFMETHOD: redefining CL-WAFFE::CALL-BACKWARD CL-WAFFE::BACKEND-DISPATCHER (#<STRUCTURE-CLASS COMMON-LISP-USER::SEQ2SEQ>) in DEFMETHOD\n"
     ]
    }
   ],
   "source": [
    "(defmodel Encoder (vocab-size embedding-dim hidden-size)\n",
    "  :parameters ((embedding (Embedding vocab-size embedding-dim :pad-idx 0))\n",
    "               (layer     (RNN embedding-dim hidden-size :num-layers 1)))\n",
    "  :forward ((x)\n",
    "            (with-calling-layers x\n",
    "                (embedding x)\n",
    "                (layer x))))\n",
    "\n",
    "(defmodel Decoder (vocab-size embedding-dim hidden-size)\n",
    "  :parameters ((embedding (Embedding vocab-size embedding-dim :pad-idx 0))\n",
    "               (layer     (RNN embedding-dim hidden-size :num-layers 1))\n",
    "               (h2l       (linearlayer hidden-size vocab-size)))\n",
    "  \n",
    "  :forward ((encoder-state y)\n",
    "            (let* ((ye (call (self embedding) y))\n",
    "                   (hs (call (self layer) ye encoder-state))\n",
    "                   (h-output (call (self h2l) hs)))\n",
    "                  (list h-output hs))))\n",
    "\n",
    "(defmodel Seq2Seq (vocab-size embedding-dim input-size)\n",
    "  :parameters ((encoder (Encoder vocab-size embedding-dim input-size))\n",
    "               (decoder (Decoder vocab-size embedding-dim input-size)))  \n",
    "  :forward ((x y)\n",
    "            (let ((x-state (call (self encoder) x))\n",
    "                  (y1 (!zeros (!shape y))))\n",
    "                 (setq y1 (setf (!aref y1 t) (!aref y '(1 t))))\n",
    "                 (call (self decoder) x-state y1))))"
   ]
  },
  {
   "cell_type": "code",
   "execution_count": 117,
   "id": "f79b61b5-bd26-4256-8fdc-63cb516c7523",
   "metadata": {},
   "outputs": [
    {
     "data": {
      "text/plain": [
       "NIL"
      ]
     },
     "execution_count": 117,
     "metadata": {},
     "output_type": "execute_result"
    },
    {
     "name": "stdout",
     "output_type": "stream",
     "text": [
      "SB-KERNEL:REDEFINITION-WITH-DEFUN: redefining COMMON-LISP-USER::COPY-SEQ2SEQTRAINER in DEFUN\n",
      "SB-KERNEL:REDEFINITION-WITH-DEFUN: redefining COMMON-LISP-USER::SEQ2SEQTRAINER-P in DEFUN\n",
      "SB-KERNEL:REDEFINITION-WITH-DEFUN: redefining (COMMON-LISP:SETF COMMON-LISP-USER::SEQ2SEQTRAINER-MODEL) in DEFUN\n",
      "SB-KERNEL:REDEFINITION-WITH-DEFUN: redefining COMMON-LISP-USER::SEQ2SEQTRAINER-MODEL in DEFUN\n",
      "SB-KERNEL:REDEFINITION-WITH-DEFUN: redefining (COMMON-LISP:SETF COMMON-LISP-USER::SEQ2SEQTRAINER-OPTIMIZER) in DEFUN\n",
      "SB-KERNEL:REDEFINITION-WITH-DEFUN: redefining COMMON-LISP-USER::SEQ2SEQTRAINER-OPTIMIZER in DEFUN\n",
      "SB-KERNEL:REDEFINITION-WITH-DEFUN: redefining (COMMON-LISP:SETF COMMON-LISP-USER::SEQ2SEQTRAINER-OPTIMIZER-REPORT) in DEFUN\n",
      "SB-KERNEL:REDEFINITION-WITH-DEFUN: redefining COMMON-LISP-USER::SEQ2SEQTRAINER-OPTIMIZER-REPORT in DEFUN\n",
      "SB-KERNEL:REDEFINITION-WITH-DEFUN: redefining (COMMON-LISP:SETF COMMON-LISP-USER::SEQ2SEQTRAINER-PREDICT) in DEFUN\n",
      "SB-KERNEL:REDEFINITION-WITH-DEFUN: redefining COMMON-LISP-USER::SEQ2SEQTRAINER-PREDICT in DEFUN\n",
      "SB-KERNEL:REDEFINITION-WITH-DEFUN: redefining (COMMON-LISP:SETF COMMON-LISP-USER::SEQ2SEQTRAINER-STEP-MODEL) in DEFUN\n",
      "SB-KERNEL:REDEFINITION-WITH-DEFUN: redefining COMMON-LISP-USER::SEQ2SEQTRAINER-STEP-MODEL in DEFUN\n",
      "SB-KERNEL:REDEFINITION-WITH-DEFUN: redefining COMMON-LISP-USER::SEQ2SEQTRAINER in DEFUN\n",
      "SB-KERNEL:REDEFINITION-WITH-DEFMETHOD: redefining PRINT-OBJECT (#<STRUCTURE-CLASS COMMON-LISP-USER::SEQ2SEQTRAINER>\n",
      "                                                                #<SB-PCL:SYSTEM-CLASS COMMON-LISP:T>) in DEFMETHOD\n",
      "SB-KERNEL:REDEFINITION-WITH-DEFMETHOD: redefining CL-WAFFE::TRAINER-STEP-MODEL (#<STRUCTURE-CLASS COMMON-LISP-USER::SEQ2SEQTRAINER>) in DEFMETHOD\n",
      "SB-KERNEL:REDEFINITION-WITH-DEFMETHOD: redefining CL-WAFFE::TRAINER-PREDICT (#<STRUCTURE-CLASS COMMON-LISP-USER::SEQ2SEQTRAINER>) in DEFMETHOD\n"
     ]
    }
   ],
   "source": [
    "(deftrainer Seq2SeqTrainer (vocab-size embedding-dim hidden-size)\n",
    "  :model (Seq2Seq vocab-size embedding-dim hidden-size)\n",
    "  :optimizer cl-waffe.optimizers:Adam\n",
    "  :optimizer (:lr 1e-4)\n",
    "  :step-model ((x y)\n",
    "               (zero-grad)\n",
    "               (let* ((outs (call (self model) x y))\n",
    "                      (out (softmax-cross-entropy (car outs) y)))\n",
    "                     (backward out)\n",
    "                     (update)\n",
    "                     out))\n",
    "  :predict ((x) (call (model) x)))"
   ]
  },
  {
   "cell_type": "code",
   "execution_count": 118,
   "id": "ecef0322-f2a9-4dfb-9c46-c9d173013dae",
   "metadata": {},
   "outputs": [
    {
     "data": {
      "text/plain": [
       "<Dataset: SEQ2SEQTRAINER()>"
      ]
     },
     "execution_count": 118,
     "metadata": {},
     "output_type": "execute_result"
    },
    {
     "name": "stdout",
     "output_type": "stream",
     "text": [
      "SIMPLE-WARNING: undefined variable: CL-WAFFE:MODEL\n"
     ]
    }
   ],
   "source": [
    "(setq model (seq2seqtrainer 10 10 10))"
   ]
  },
  {
   "cell_type": "code",
   "execution_count": 122,
   "id": "a4c5eed2-4c30-43db-8de0-3b4244798d88",
   "metadata": {},
   "outputs": [
    {
     "data": {
      "text/plain": [
       "#Const(((1.0 1.0 1.0)\n",
       "        (1.0 1.0 1.0)) :mgl t :shape (2 3) :backward NIL)"
      ]
     },
     "execution_count": 122,
     "metadata": {},
     "output_type": "execute_result"
    },
    {
     "data": {
      "text/plain": [
       "#Const(((1.0 1.0 1.0)\n",
       "        (1.0 1.0 1.0)) :mgl t :shape (2 3) :backward NIL)"
      ]
     },
     "execution_count": 122,
     "metadata": {},
     "output_type": "execute_result"
    },
    {
     "data": {
      "text/plain": [
       "#Const(2.2968965)"
      ]
     },
     "execution_count": 122,
     "metadata": {},
     "output_type": "execute_result"
    },
    {
     "name": "stdout",
     "output_type": "stream",
     "text": [
      "SIMPLE-WARNING: undefined variable: COMMON-LISP-USER::X\n",
      "SIMPLE-WARNING: undefined variable: COMMON-LISP-USER::Y\n",
      "SIMPLE-WARNING: undefined variable: CL-WAFFE:MODEL\n",
      "SIMPLE-WARNING: undefined variable: COMMON-LISP-USER::X\n",
      "SIMPLE-WARNING: undefined variable: COMMON-LISP-USER::Y\n",
      "\n",
      "(#Const((((9.261... -0.01... ~ 0.023... 0.004...))\n",
      "        ((9.261... -0.01... ~ 0.023... 0.004...))) :mgl t :shape (2 1 10) :backward <Node: AREFTENSOR{W309102}>)\n",
      " #Const((((9.261... -0.01... ~ 0.023... 0.004...))\n",
      "        ((9.261... -0.01... ~ 0.023... 0.004...))) :mgl t :shape (2 1 10) :backward <Node: AREFTENSOR{W309103}>)\n",
      " #Const((((9.261... -0.01... ~ 0.023... 0.004...))\n",
      "        ((9.261... -0.01... ~ 0.023... 0.004...))) :mgl t :shape (2 1 10) :backward <Node: AREFTENSOR{W309104}>)) \n",
      "#Const((((9.261... -0.01... ~ 0.023... 0.004...)         \n",
      "                   ...\n",
      "         (9.261... -0.01... ~ 0.023... 0.004...))\n",
      "        ((9.261... -0.01... ~ 0.023... 0.004...)         \n",
      "                   ...\n",
      "         (9.261... -0.01... ~ 0.023... 0.004...))) :mgl t :shape (2 3 10) :backward <Node: EMBEDDINGTENSOR{W309101}>) \n",
      "#Const((((0.0 0.0 ~ 0.0 0.0))\n",
      "        ((0.0 0.0 ~ 0.0 0.0))) :mgl t :shape (2 1 10) :backward NIL) \n",
      "NIL \n",
      "(#Const((((-0.00... -0.01... ~ -0.00... -0.01...))\n",
      "        ((-0.00... -0.01... ~ -0.00... -0.01...))) :mgl t :shape (2 1 10) :backward <Node: AREFTENSOR{W309141}>)\n",
      " #Const((((-0.00... -0.01... ~ -0.00... -0.01...))\n",
      "        ((-0.00... -0.01... ~ -0.00... -0.01...))) :mgl t :shape (2 1 10) :backward <Node: AREFTENSOR{W309142}>)\n",
      " #Const((((-0.00... -0.01... ~ -0.00... -0.01...))\n",
      "        ((-0.00... -0.01... ~ -0.00... -0.01...))) :mgl t :shape (2 1 10) :backward <Node: AREFTENSOR{W309143}>)) \n",
      "#Const((((-0.00... -0.01... ~ -0.00... -0.01...)         \n",
      "                   ...\n",
      "         (-0.00... -0.01... ~ -0.00... -0.01...))\n",
      "        ((-0.00... -0.01... ~ -0.00... -0.01...)         \n",
      "                   ...\n",
      "         (-0.00... -0.01... ~ -0.00... -0.01...))) :mgl t :shape (2 3 10) :backward <Node: EMBEDDINGTENSOR{W309140}>) \n",
      "#Const((((0.003... 3.880... ~ 5.466... 0.002...)         \n",
      "                   ...\n",
      "         (0.003... 4.522... ~ 0.001... 0.002...))\n",
      "        ((0.003... 3.880... ~ 5.466... 0.002...)         \n",
      "                   ...\n",
      "         (0.003... 4.522... ~ 0.001... 0.002...))) :mgl t :shape (2 3 10) :backward <Node: BROADCASTINGADDTENSOR{W309137}>) \n",
      "T \n",
      "Evaluation took:\n",
      "  0.020 seconds of real time\n",
      "  0.016685 seconds of total run time (0.016331 user, 0.000354 system)\n",
      "  85.00% CPU\n",
      "  48,219,736 processor cycles\n",
      "  5,498,768 bytes consed\n",
      "  \n"
     ]
    }
   ],
   "source": [
    "(setq x (!ones `(2 3)))\n",
    "(setq y (!ones `(2 3)))\n",
    "\n",
    "(time (step-model model x y))"
   ]
  },
  {
   "cell_type": "code",
   "execution_count": null,
   "id": "d675f393-cdcd-4d51-ae33-033d00bba8a7",
   "metadata": {},
   "outputs": [],
   "source": []
  },
  {
   "cell_type": "code",
   "execution_count": null,
   "id": "86f40cbc-d0ec-4995-8361-6b77b2c49561",
   "metadata": {},
   "outputs": [],
   "source": []
  },
  {
   "cell_type": "code",
   "execution_count": null,
   "id": "99d2ba75-a545-4c23-a808-5b21a3f233e1",
   "metadata": {},
   "outputs": [],
   "source": []
  }
 ],
 "metadata": {
  "kernelspec": {
   "display_name": "Common Lisp",
   "language": "common-lisp",
   "name": "common-lisp"
  },
  "language_info": {
   "codemirror_mode": "text/x-common-lisp",
   "file_extension": ".lisp",
   "mimetype": "text/x-common-lisp",
   "name": "common-lisp",
   "pygments_lexer": "common-lisp",
   "version": "2.1.0"
  }
 },
 "nbformat": 4,
 "nbformat_minor": 5
}
