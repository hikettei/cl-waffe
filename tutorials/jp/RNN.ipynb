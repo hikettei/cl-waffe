{
 "cells": [
  {
   "cell_type": "code",
   "execution_count": 1,
   "id": "28aceae3-385f-4cb7-a348-21c92844f712",
   "metadata": {},
   "outputs": [
    {
     "data": {
      "text/plain": [
       "T"
      ]
     },
     "execution_count": 1,
     "metadata": {},
     "output_type": "execute_result"
    },
    {
     "data": {
      "text/plain": [
       "T"
      ]
     },
     "execution_count": 1,
     "metadata": {},
     "output_type": "execute_result"
    },
    {
     "data": {
      "text/plain": [
       "(:CLGPLOT :CL-WAFFE)"
      ]
     },
     "execution_count": 1,
     "metadata": {},
     "output_type": "execute_result"
    },
    {
     "name": "stdout",
     "output_type": "stream",
     "text": [
      "SB-INT:SIMPLE-STYLE-WARNING: undefined function: KFTT-DATA-PARSER::REGISTER-WORD\n",
      "SB-INT:SIMPLE-STYLE-WARNING: undefined function: KFTT-DATA-PARSER:CALC-DATA-SIZE\n",
      "SB-INT:SIMPLE-STYLE-WARNING: undefined function: KFTT-DATA-PARSER:CALC-MAX-LENGTH\n"
     ]
    },
    {
     "name": "stderr",
     "output_type": "stream",
     "text": [
      "Unable to find framework CUDA\n"
     ]
    }
   ],
   "source": [
    "; cl-waffeを読み込む\n",
    "(load \"../../cl-waffe.asd\")\n",
    "; kfttを読み込むための自作ライブラリ\n",
    "(load \"../../examples/kftt-data-parser.lisp\")\n",
    "(ql:quickload `(:clgplot :cl-waffe) :silent t)"
   ]
  },
  {
   "cell_type": "markdown",
   "id": "11b7bb8e-b93e-4ba9-b38d-3a7c95b11dfc",
   "metadata": {},
   "source": [
    "## Seq2Seqを用いてKFTTを学習\n",
    "\n",
    "cl-waffeのRNNを用いて[京都フリー翻訳タスク (KFTT)](http://www.phontron.com/kftt/index-ja.html#leaders)を学習させる例です。\n",
    "\n",
    "学習データのダウンロード (0.4GB程度の容量が必要です。)\n",
    "```shell\n",
    "$ curl -O http://www.phontron.com/kftt/download/kftt-data-1.0.tar.gz\n",
    "$ tar xzvf kftt-data-1.0.tar.gz\n",
    "```"
   ]
  },
  {
   "cell_type": "code",
   "execution_count": 2,
   "id": "6223cd18-6d07-44db-be74-0401e5df8dc2",
   "metadata": {},
   "outputs": [
    {
     "data": {
      "text/plain": [
       "#<PACKAGE \"SEQ2SEQ-KFTT\">"
      ]
     },
     "execution_count": 2,
     "metadata": {},
     "output_type": "execute_result"
    },
    {
     "data": {
      "text/plain": [
       "#<PACKAGE \"SEQ2SEQ-KFTT\">"
      ]
     },
     "execution_count": 2,
     "metadata": {},
     "output_type": "execute_result"
    }
   ],
   "source": [
    "(defpackage :seq2seq-kftt\n",
    "    (:use :cl :cl-waffe :cl-waffe.nn :clgplot :mgl-mat :kftt-data-parser))\n",
    "\n",
    "(in-package :seq2seq-kftt)"
   ]
  },
  {
   "cell_type": "markdown",
   "id": "12a48b47-180a-4f42-91ea-d1d1ba0aa3b9",
   "metadata": {},
   "source": [
    "### Seq2Seq\n",
    "\n",
    "Seq2Seq\n",
    "\n",
    "問題："
   ]
  },
  {
   "cell_type": "markdown",
   "id": "343b1d63-d11b-4bfc-b1aa-2394d291f42b",
   "metadata": {},
   "source": [
    "### Seq2Seqモデルを定義する。"
   ]
  },
  {
   "cell_type": "code",
   "execution_count": 3,
   "id": "b84e8642-7b38-4337-b4c5-285154147e9e",
   "metadata": {},
   "outputs": [
    {
     "data": {
      "text/plain": [
       "NIL"
      ]
     },
     "execution_count": 3,
     "metadata": {},
     "output_type": "execute_result"
    },
    {
     "data": {
      "text/plain": [
       "NIL"
      ]
     },
     "execution_count": 3,
     "metadata": {},
     "output_type": "execute_result"
    },
    {
     "data": {
      "text/plain": [
       "NIL"
      ]
     },
     "execution_count": 3,
     "metadata": {},
     "output_type": "execute_result"
    },
    {
     "name": "stdout",
     "output_type": "stream",
     "text": [
      "SB-INT:SIMPLE-STYLE-WARNING: Cannot find type for specializer\n",
      "                             SEQ2SEQ-KFTT::ENCODER when executing\n",
      "                             SB-PCL:SPECIALIZER-TYPE-SPECIFIER for a\n",
      "                             STANDARD-METHOD of a STANDARD-GENERIC-FUNCTION.\n",
      "SB-INT:SIMPLE-STYLE-WARNING: Cannot find type for specializer\n",
      "                             SEQ2SEQ-KFTT::ENCODER when executing\n",
      "                             SB-PCL:SPECIALIZER-TYPE-SPECIFIER for a\n",
      "                             STANDARD-METHOD of a STANDARD-GENERIC-FUNCTION.\n",
      "SB-INT:SIMPLE-STYLE-WARNING: Cannot find type for specializer\n",
      "                             SEQ2SEQ-KFTT::ENCODER when executing\n",
      "                             SB-PCL:SPECIALIZER-TYPE-SPECIFIER for a\n",
      "                             STANDARD-METHOD of a STANDARD-GENERIC-FUNCTION.\n",
      "SB-INT:SIMPLE-STYLE-WARNING: undefined type: SEQ2SEQ-KFTT::ENCODER\n",
      "SB-INT:SIMPLE-STYLE-WARNING: Cannot find type for specializer\n",
      "                             SEQ2SEQ-KFTT::DECODER when executing\n",
      "                             SB-PCL:SPECIALIZER-TYPE-SPECIFIER for a\n",
      "                             STANDARD-METHOD of a STANDARD-GENERIC-FUNCTION.\n",
      "SB-INT:SIMPLE-STYLE-WARNING: Cannot find type for specializer\n",
      "                             SEQ2SEQ-KFTT::DECODER when executing\n",
      "                             SB-PCL:SPECIALIZER-TYPE-SPECIFIER for a\n",
      "                             STANDARD-METHOD of a STANDARD-GENERIC-FUNCTION.\n",
      "SB-INT:SIMPLE-STYLE-WARNING: Cannot find type for specializer\n",
      "                             SEQ2SEQ-KFTT::DECODER when executing\n",
      "                             SB-PCL:SPECIALIZER-TYPE-SPECIFIER for a\n",
      "                             STANDARD-METHOD of a STANDARD-GENERIC-FUNCTION.\n",
      "SB-INT:SIMPLE-STYLE-WARNING: undefined type: SEQ2SEQ-KFTT::DECODER\n",
      "SB-INT:SIMPLE-STYLE-WARNING: Cannot find type for specializer\n",
      "                             SEQ2SEQ-KFTT::SEQ2SEQ when executing\n",
      "                             SB-PCL:SPECIALIZER-TYPE-SPECIFIER for a\n",
      "                             STANDARD-METHOD of a STANDARD-GENERIC-FUNCTION.\n",
      "SB-INT:SIMPLE-STYLE-WARNING: Cannot find type for specializer\n",
      "                             SEQ2SEQ-KFTT::SEQ2SEQ when executing\n",
      "                             SB-PCL:SPECIALIZER-TYPE-SPECIFIER for a\n",
      "                             STANDARD-METHOD of a STANDARD-GENERIC-FUNCTION.\n",
      "SB-INT:SIMPLE-STYLE-WARNING: Cannot find type for specializer\n",
      "                             SEQ2SEQ-KFTT::SEQ2SEQ when executing\n",
      "                             SB-PCL:SPECIALIZER-TYPE-SPECIFIER for a\n",
      "                             STANDARD-METHOD of a STANDARD-GENERIC-FUNCTION.\n",
      "SB-INT:SIMPLE-STYLE-WARNING: undefined type: SEQ2SEQ-KFTT::SEQ2SEQ\n"
     ]
    }
   ],
   "source": [
    "(defmodel Encoder (vocab-size embedding-dim hidden-size)\n",
    "  :parameters ((embedding (Embedding vocab-size embedding-dim :pad-idx 0))\n",
    "               (layer     (RNN embedding-dim hidden-size :num-layers 1)))\n",
    "  :forward ((x)\n",
    "            \"Input:\n",
    "                x - 単語\n",
    "             Return:\n",
    "                隠れ層の出力\"\n",
    "            (with-calling-layers x\n",
    "                (embedding x)\n",
    "                (layer x))))\n",
    "\n",
    "(defmodel Decoder (vocab-size embedding-dim hidden-size)\n",
    "  :parameters ((embedding (Embedding vocab-size embedding-dim :pad-idx 0))\n",
    "               (layer     (RNN embedding-dim hidden-size :num-layers 1))\n",
    "               (h2l       (linearlayer hidden-size vocab-size)))\n",
    "  :forward ((encoder-state y)\n",
    "            (let* ((ye (call (self embedding) y))\n",
    "                   (hs (call (self layer) ye encoder-state))\n",
    "                   (h-output (call (self h2l) hs)))\n",
    "                  h-output)))\n",
    "\n",
    "(defmodel Seq2Seq (vocab-size-lang1 vocab-size-lang2 embedding-dim input-size)\n",
    "  :parameters ((encoder (Encoder vocab-size-lang1 embedding-dim input-size))\n",
    "               (decoder (Decoder vocab-size-lang2 embedding-dim input-size)))\n",
    "  :forward ((x y)\n",
    "            (let ((x-state (call (self encoder) x)))\n",
    "                 (call (self decoder)\n",
    "                       x-state\n",
    "                       (!aref y t '(0 -1))))))"
   ]
  },
  {
   "cell_type": "markdown",
   "id": "cd0d5cfd-d560-402b-8ea3-3f8df6a0f5bb",
   "metadata": {},
   "source": [
    "### パラメーターの設定"
   ]
  },
  {
   "cell_type": "code",
   "execution_count": 4,
   "id": "ed1fc44e-f0b0-4ebe-af27-db2ddffcad07",
   "metadata": {},
   "outputs": [
    {
     "data": {
      "text/plain": [
       "LANG1"
      ]
     },
     "execution_count": 4,
     "metadata": {},
     "output_type": "execute_result"
    },
    {
     "data": {
      "text/plain": [
       "LANG2"
      ]
     },
     "execution_count": 4,
     "metadata": {},
     "output_type": "execute_result"
    },
    {
     "data": {
      "text/plain": [
       "BATCH-SIZE"
      ]
     },
     "execution_count": 4,
     "metadata": {},
     "output_type": "execute_result"
    },
    {
     "data": {
      "text/plain": [
       "EPOCH-NUM"
      ]
     },
     "execution_count": 4,
     "metadata": {},
     "output_type": "execute_result"
    },
    {
     "data": {
      "text/plain": [
       "LR"
      ]
     },
     "execution_count": 4,
     "metadata": {},
     "output_type": "execute_result"
    },
    {
     "data": {
      "text/plain": [
       "EMBEDDING-DIM"
      ]
     },
     "execution_count": 4,
     "metadata": {},
     "output_type": "execute_result"
    },
    {
     "data": {
      "text/plain": [
       "HIDDEN-SIZE"
      ]
     },
     "execution_count": 4,
     "metadata": {},
     "output_type": "execute_result"
    },
    {
     "data": {
      "text/plain": [
       "SENTENCE-MAXLEN"
      ]
     },
     "execution_count": 4,
     "metadata": {},
     "output_type": "execute_result"
    }
   ],
   "source": [
    "(defparameter lang1 :ja)\n",
    "(defparameter lang2 :en)\n",
    "\n",
    "(defparameter batch-size 32)\n",
    "(defparameter epoch-num 10)\n",
    "(defparameter lr 1e-3)\n",
    "(defparameter embedding-dim 128)\n",
    "(defparameter hidden-size 128)\n",
    "\n",
    "(defparameter sentence-maxlen 16)\n",
    "; ja -> en"
   ]
  },
  {
   "cell_type": "code",
   "execution_count": 5,
   "id": "f79b61b5-bd26-4256-8fdc-63cb516c7523",
   "metadata": {},
   "outputs": [
    {
     "data": {
      "text/plain": [
       "NIL"
      ]
     },
     "execution_count": 5,
     "metadata": {},
     "output_type": "execute_result"
    },
    {
     "name": "stdout",
     "output_type": "stream",
     "text": [
      "SB-INT:SIMPLE-STYLE-WARNING: Cannot find type for specializer\n",
      "                             SEQ2SEQ-KFTT::SEQ2SEQTRAINER when executing\n",
      "                             SB-PCL:SPECIALIZER-TYPE-SPECIFIER for a\n",
      "                             STANDARD-METHOD of a STANDARD-GENERIC-FUNCTION.\n",
      "SB-INT:SIMPLE-STYLE-WARNING: Cannot find type for specializer\n",
      "                             SEQ2SEQ-KFTT::SEQ2SEQTRAINER when executing\n",
      "                             SB-PCL:SPECIALIZER-TYPE-SPECIFIER for a\n",
      "                             STANDARD-METHOD of a STANDARD-GENERIC-FUNCTION.\n",
      "SB-INT:SIMPLE-STYLE-WARNING: Cannot find type for specializer\n",
      "                             SEQ2SEQ-KFTT::SEQ2SEQTRAINER when executing\n",
      "                             SB-PCL:SPECIALIZER-TYPE-SPECIFIER for a\n",
      "                             STANDARD-METHOD of a STANDARD-GENERIC-FUNCTION.\n"
     ]
    }
   ],
   "source": [
    "(deftrainer Seq2SeqTrainer (vocab-size-lang1 vocab-size-lang2 embedding-dim hidden-size)\n",
    "  :model (Seq2Seq vocab-size-lang1 vocab-size-lang2 embedding-dim hidden-size)\n",
    "  :optimizer cl-waffe.optimizers:Adam\n",
    "  :optimizer-args (:lr lr)\n",
    "  :step-model ((x y)\n",
    "               (zero-grad)\n",
    "               (let* ((outs (call (self model) x y))\n",
    "                      (losses 0.0))\n",
    "                     (loop for i fixnum upfrom 0 below (!shape outs 1)\n",
    "                           do (setq losses (!add losses (softmax-cross-entropy\n",
    "                                                         (!aref outs t i t)\n",
    "                                                         (!aref y t (1+ i))))))\n",
    "                     (backward losses)\n",
    "                     (update)\n",
    "                     losses))\n",
    "  :predict ((x y) (call (model) x y))) ; argmaxするときsoftmax忘れない"
   ]
  },
  {
   "cell_type": "markdown",
   "id": "78f80580-0318-47a9-8942-1910518eea12",
   "metadata": {},
   "source": [
    "### データの前処理\n",
    "\n",
    "語彙数削減のためSentencePieceを用いる（TODO)\n",
    "\n",
    "文字数でソートしてPaddingのコストを減らす（TODO)"
   ]
  },
  {
   "cell_type": "code",
   "execution_count": 6,
   "id": "9fb98f9b-5c19-4436-ab9e-53a09f898403",
   "metadata": {},
   "outputs": [
    {
     "data": {
      "text/plain": [
       "I2W-LANG1"
      ]
     },
     "execution_count": 6,
     "metadata": {},
     "output_type": "execute_result"
    },
    {
     "data": {
      "text/plain": [
       "I2W-LANG2"
      ]
     },
     "execution_count": 6,
     "metadata": {},
     "output_type": "execute_result"
    },
    {
     "data": {
      "text/plain": [
       "\"Vocab_Size: \n",
       " Lang1: 4519 \n",
       " Lang2: 4780\""
      ]
     },
     "execution_count": 6,
     "metadata": {},
     "output_type": "execute_result"
    }
   ],
   "source": [
    "; 辞書データを作る\n",
    "(multiple-value-bind (lang1-w2i lang1-i2w) (collect-tokens :dev lang1 T)\n",
    "    (defparameter w2i-lang1 lang1-w2i)\n",
    "    (defparameter i2w-lang1 lang1-i2w))\n",
    "\n",
    "(multiple-value-bind (lang2-w2i lang2-i2w) (collect-tokens :dev lang2 T)\n",
    "    (defparameter w2i-lang2 lang2-w2i)\n",
    "    (defparameter i2w-lang2 lang2-i2w))\n",
    "\n",
    ";w2i: Hash Table, 単語(英語+日本語) -> Index, i2w: Index -> 単語\n",
    "\n",
    "(format nil \"Vocab_Size: ~% Lang1: ~a ~% Lang2: ~a\" (hash-table-count w2i-lang1) (hash-table-count w2i-lang2))"
   ]
  },
  {
   "cell_type": "code",
   "execution_count": 7,
   "id": "e8ebac4a-e309-4387-92ba-0085572832df",
   "metadata": {},
   "outputs": [
    {
     "data": {
      "text/plain": [
       "SPLIT"
      ]
     },
     "execution_count": 7,
     "metadata": {},
     "output_type": "execute_result"
    },
    {
     "data": {
      "text/plain": [
       "LIST-TO-TENSOR"
      ]
     },
     "execution_count": 7,
     "metadata": {},
     "output_type": "execute_result"
    },
    {
     "data": {
      "text/plain": [
       "WORDS-INTO-IDX"
      ]
     },
     "execution_count": 7,
     "metadata": {},
     "output_type": "execute_result"
    },
    {
     "data": {
      "text/plain": [
       "MAKE-TRAIN-DATA"
      ]
     },
     "execution_count": 7,
     "metadata": {},
     "output_type": "execute_result"
    },
    {
     "data": {
      "text/plain": [
       "DROPOUT-BY-SENTENCE-LEN"
      ]
     },
     "execution_count": 7,
     "metadata": {},
     "output_type": "execute_result"
    }
   ],
   "source": [
    "; 文字列操作のユーティリティ\n",
    "\n",
    "(defun split (x str)\n",
    "  (let ((pos (search x str))\n",
    "        (size (length x)))\n",
    "    (if pos\n",
    "      (cons (subseq str 0 pos)\n",
    "            (split x (subseq str (+ pos size))))\n",
    "      (list str))))\n",
    "\n",
    "(defun list-to-tensor (list)\n",
    "    (const (make-mat (length list) :initial-contents list)))\n",
    "\n",
    "(defun words-into-idx (words lang)\n",
    "    \"words: 単語のList, (e.g.: 臨済 宗 （ 臨濟 宗 、)... )\n",
    "     lang : :ja or :en\"\n",
    "    \n",
    "    (list-to-tensor\n",
    "     (map 'list #'(lambda (word)\n",
    "                          (cond\n",
    "                              ((eql lang lang1)\n",
    "                               (or (gethash word w2i-lang1)\n",
    "                                   (gethash \"<UNK>\" w2i-lang1)))\n",
    "                              ((eql lang lang2)\n",
    "                               (or (gethash word w2i-lang1)\n",
    "                                   (gethash \"<UNK>\" w2i-lang2)))\n",
    "                              (T (error \"\")))) `(\"<BOS>\" ,@words \"<EOS>\"))))\n",
    "\n",
    "(defun make-train-data (language data-type)\n",
    "    \"Language: 言語\n",
    "     data-type: :train or :test\"\n",
    "    \n",
    "    (let ((result nil))\n",
    "         (time (with-open-kftt-file line :tok data-type language\n",
    "                   (push\n",
    "                    (words-into-idx (split \" \" line) language)\n",
    "                    result)))\n",
    "         (reverse result)))\n",
    "\n",
    "(defun dropout-by-sentence-len (tx ty &aux r1 r2)\n",
    "    \"train_X, train_Yで、sentence-maxlen以上のデータセットを削除する\"\n",
    "    (loop for i fixnum upfrom 0 below (length tx)\n",
    "          unless (or (>= (!size (nth i tx)) sentence-maxlen)\n",
    "                     (>= (!size (nth i ty)) sentence-maxlen))\n",
    "          do (progn\n",
    "                 (push (nth i tx) r1)\n",
    "                 (push (nth i ty) r2)))\n",
    "    (values (reverse r1) (reverse r2)))"
   ]
  },
  {
   "cell_type": "code",
   "execution_count": 8,
   "id": "9c47179e-1ade-4ea5-8eda-73d8350423ce",
   "metadata": {},
   "outputs": [
    {
     "data": {
      "text/plain": [
       "TRAIN_X"
      ]
     },
     "execution_count": 8,
     "metadata": {},
     "output_type": "execute_result"
    },
    {
     "data": {
      "text/plain": [
       "1166"
      ]
     },
     "execution_count": 8,
     "metadata": {},
     "output_type": "execute_result"
    },
    {
     "name": "stdout",
     "output_type": "stream",
     "text": [
      "Evaluation took:\n",
      "  0.050 seconds of real time\n",
      "  0.038548 seconds of total run time (0.035008 user, 0.003540 system)\n",
      "  78.00% CPU\n",
      "  119 lambdas converted\n",
      "  115,326,430 processor cycles\n",
      "  15,403,632 bytes consed\n",
      "  \n"
     ]
    }
   ],
   "source": [
    "(defparameter train_X (make-train-data lang1 :dev))\n",
    "(length train_X)"
   ]
  },
  {
   "cell_type": "code",
   "execution_count": 9,
   "id": "a0d35f56-d0ef-4501-af6a-8cb1ec252ae9",
   "metadata": {},
   "outputs": [
    {
     "data": {
      "text/plain": [
       "TRAIN_Y"
      ]
     },
     "execution_count": 9,
     "metadata": {},
     "output_type": "execute_result"
    },
    {
     "name": "stdout",
     "output_type": "stream",
     "text": [
      "Evaluation took:\n",
      "  0.024 seconds of real time\n",
      "  0.021913 seconds of total run time (0.020449 user, 0.001464 system)\n",
      "  91.67% CPU\n",
      "  56,150,762 processor cycles\n",
      "  14,775,088 bytes consed\n",
      "  \n"
     ]
    }
   ],
   "source": [
    "(defparameter train_Y (make-train-data lang2 :dev))"
   ]
  },
  {
   "cell_type": "code",
   "execution_count": 10,
   "id": "fe2bedf6-8243-4659-8966-b79ea75bd057",
   "metadata": {},
   "outputs": [
    {
     "data": {
      "text/plain": [
       "TRAIN_Y"
      ]
     },
     "execution_count": 10,
     "metadata": {},
     "output_type": "execute_result"
    },
    {
     "data": {
      "text/plain": [
       "480"
      ]
     },
     "execution_count": 10,
     "metadata": {},
     "output_type": "execute_result"
    }
   ],
   "source": [
    "(multiple-value-bind (x y) (dropout-by-sentence-len train_X train_Y)\n",
    "    (defparameter train_X x)\n",
    "    (defparameter train_Y y))\n",
    "\n",
    "(length train_X)"
   ]
  },
  {
   "cell_type": "code",
   "execution_count": 11,
   "id": "e706a0b9-71cb-465b-9e39-1aff47e9b305",
   "metadata": {},
   "outputs": [
    {
     "data": {
      "text/plain": [
       "TEST_X"
      ]
     },
     "execution_count": 11,
     "metadata": {},
     "output_type": "execute_result"
    },
    {
     "data": {
      "text/plain": [
       "TEST_Y"
      ]
     },
     "execution_count": 11,
     "metadata": {},
     "output_type": "execute_result"
    },
    {
     "name": "stdout",
     "output_type": "stream",
     "text": [
      "Evaluation took:\n",
      "  0.022 seconds of real time\n",
      "  0.018462 seconds of total run time (0.017019 user, 0.001443 system)\n",
      "  81.82% CPU\n",
      "  50,712,846 processor cycles\n",
      "  10,381,440 bytes consed\n",
      "  \n",
      "Evaluation took:\n",
      "  0.047 seconds of real time\n",
      "  0.036454 seconds of total run time (0.027772 user, 0.008682 system)\n",
      "  76.60% CPU\n",
      "  110,122,480 processor cycles\n",
      "  14,788,816 bytes consed\n",
      "  \n"
     ]
    }
   ],
   "source": [
    "(defparameter test_X (make-train-data lang1 :dev))\n",
    "(defparameter test_Y (make-train-data lang2 :dev))"
   ]
  },
  {
   "cell_type": "code",
   "execution_count": 12,
   "id": "1ae4f108-89ba-418a-90bd-d35602e84d42",
   "metadata": {},
   "outputs": [
    {
     "data": {
      "text/plain": [
       "TEST_Y"
      ]
     },
     "execution_count": 12,
     "metadata": {},
     "output_type": "execute_result"
    },
    {
     "data": {
      "text/plain": [
       "480"
      ]
     },
     "execution_count": 12,
     "metadata": {},
     "output_type": "execute_result"
    }
   ],
   "source": [
    "(multiple-value-bind (x y) (dropout-by-sentence-len test_X test_Y)\n",
    "    (defparameter test_X x)\n",
    "    (defparameter test_Y y))\n",
    "\n",
    "(length test_X)"
   ]
  },
  {
   "cell_type": "markdown",
   "id": "9a5267dd-08f0-4162-8142-d0ac9a7e3eb7",
   "metadata": {},
   "source": [
    "### データセットを定義する\n",
    "\n"
   ]
  },
  {
   "cell_type": "code",
   "execution_count": 13,
   "id": "b1e560b4-04c6-46f3-8d2c-1786ed7b4879",
   "metadata": {},
   "outputs": [
    {
     "data": {
      "text/plain": [
       "NIL"
      ]
     },
     "execution_count": 13,
     "metadata": {},
     "output_type": "execute_result"
    },
    {
     "name": "stdout",
     "output_type": "stream",
     "text": [
      "SB-INT:SIMPLE-STYLE-WARNING: Cannot find type for specializer\n",
      "                             SEQ2SEQ-KFTT::KFTT-DATASET when executing\n",
      "                             SB-PCL:SPECIALIZER-TYPE-SPECIFIER for a\n",
      "                             STANDARD-METHOD of a STANDARD-GENERIC-FUNCTION.\n",
      "SB-INT:SIMPLE-STYLE-WARNING: Cannot find type for specializer\n",
      "                             SEQ2SEQ-KFTT::KFTT-DATASET when executing\n",
      "                             SB-PCL:SPECIALIZER-TYPE-SPECIFIER for a\n",
      "                             STANDARD-METHOD of a STANDARD-GENERIC-FUNCTION.\n",
      "SB-INT:SIMPLE-STYLE-WARNING: Cannot find type for specializer\n",
      "                             SEQ2SEQ-KFTT::KFTT-DATASET when executing\n",
      "                             SB-PCL:SPECIALIZER-TYPE-SPECIFIER for a\n",
      "                             STANDARD-METHOD of a STANDARD-GENERIC-FUNCTION.\n"
     ]
    }
   ],
   "source": [
    "(defdataset KFTT-Dataset (x y batch-size)\n",
    "    :parameters ((x x)\n",
    "                 (y y)\n",
    "                 (batch-size batch-size))\n",
    "    :next ((index)\n",
    "           \"Returns (list X[index:(+ index batch-size)] Y[index:(+ index batch-size)])\"\n",
    "           (let* ((batch-size (self batch-size))\n",
    "                  (end (min (length (self x)) (+ index (self batch-size))))\n",
    "                  (x (loop for i fixnum upfrom index below end\n",
    "                           collect (nth i (self x))))\n",
    "                  (y (loop for i fixnum upfrom index below end\n",
    "                           collect (nth i (self y))))\n",
    "                  (batch-maxlen (max (apply #'max (map 'list #'!size x))\n",
    "                                     (apply #'max (map 'list #'!size y))))\n",
    "                  (result-x (!zeros `(,(length x) ,batch-maxlen)))\n",
    "                  (result-y (!zeros `(,(length y) ,batch-maxlen))))\n",
    "                 \n",
    "                 (dotimes (index (the fixnum (!shape result-x 0)))\n",
    "                     (setf (!aref result-x index `(0 ,(!size (nth index x)))) (nth index x))\n",
    "                     (setf (!aref result-y index `(0 ,(!size (nth index y)))) (nth index y)))\n",
    "                 (list result-x result-y)))\n",
    "    :length (() (length (self x))))"
   ]
  },
  {
   "cell_type": "code",
   "execution_count": 14,
   "id": "5cdfa20c-172c-41dc-97fd-991b2204bea3",
   "metadata": {},
   "outputs": [
    {
     "data": {
      "text/plain": [
       "*TRAIN-DATASET*"
      ]
     },
     "execution_count": 14,
     "metadata": {},
     "output_type": "execute_result"
    },
    {
     "data": {
      "text/plain": [
       "*TEST-DATASET*"
      ]
     },
     "execution_count": 14,
     "metadata": {},
     "output_type": "execute_result"
    },
    {
     "data": {
      "text/plain": [
       "NIL"
      ]
     },
     "execution_count": 14,
     "metadata": {},
     "output_type": "execute_result"
    },
    {
     "name": "stdout",
     "output_type": "stream",
     "text": [
      "Evaluation took:\n",
      "  0.090 seconds of real time\n",
      "  0.075354 seconds of total run time (0.063694 user, 0.011660 system)\n",
      "  83.33% CPU\n",
      "  99 lambdas converted\n",
      "  209,190,328 processor cycles\n",
      "  22,559,984 bytes consed\n",
      "  \n"
     ]
    }
   ],
   "source": [
    "(defparameter *train-dataset* (KFTT-Dataset train_x train_y batch-size))\n",
    "(defparameter *test-dataset*  (KFTT-Dataset test_x test_y batch-size))\n",
    "\n",
    "(time (dotimes (i 100) (get-dataset *train-dataset* 0)))"
   ]
  },
  {
   "cell_type": "code",
   "execution_count": 15,
   "id": "ecef0322-f2a9-4dfb-9c46-c9d173013dae",
   "metadata": {},
   "outputs": [
    {
     "data": {
      "text/plain": [
       "TRAINER"
      ]
     },
     "execution_count": 15,
     "metadata": {},
     "output_type": "execute_result"
    },
    {
     "data": {
      "text/plain": [
       "<Trainer: SEQ2SEQTRAINER()>"
      ]
     },
     "execution_count": 15,
     "metadata": {},
     "output_type": "execute_result"
    }
   ],
   "source": [
    "(defparameter trainer (seq2seqtrainer (hash-table-count w2i-lang1)\n",
    "                                      (hash-table-count w2i-lang2)\n",
    "                                      embedding-dim\n",
    "                                      hidden-size))\n",
    "trainer"
   ]
  },
  {
   "cell_type": "code",
   "execution_count": 16,
   "id": "12a52ce4-a060-4314-a02e-10713a937407",
   "metadata": {},
   "outputs": [
    {
     "data": {
      "text/plain": [
       "NIL"
      ]
     },
     "execution_count": 16,
     "metadata": {},
     "output_type": "execute_result"
    },
    {
     "data": {
      "text/plain": [
       "#Const(836.5714)"
      ]
     },
     "execution_count": 16,
     "metadata": {},
     "output_type": "execute_result"
    },
    {
     "name": "stdout",
     "output_type": "stream",
     "text": [
      "Evaluation took:\n",
      "  3.031 seconds of real time\n",
      "  3.204490 seconds of total run time (2.532598 user, 0.671892 system)\n",
      "  [ Run times consist of 0.213 seconds GC time, and 2.992 seconds non-GC time. ]\n",
      "  105.71% CPU\n",
      "  220 lambdas converted\n",
      "  6,984,232,830 processor cycles\n",
      "  2,537,163,952 bytes consed\n",
      "  \n",
      "measuring PROFILE overhead..done\n",
      "  seconds  |     gc     |     consed    |  calls |  sec/call  |  name  \n",
      "------------------------------------------------------------\n",
      "     1.626 |      0.194 | 2,334,758,256 | 20,997 |   0.000077 | !MATMUL\n",
      "     1.293 |      0.000 |    54,575,536 |      5 |   0.258610 | CL-WAFFE::BACKWARD1\n",
      "     0.034 |      0.000 |    20,811,136 |      1 |   0.034021 | BACKWARD\n",
      "     0.027 |      0.020 |     2,025,648 |    199 |   0.000137 | !TANH\n",
      "------------------------------------------------------------\n",
      "     2.980 |      0.214 | 2,412,170,576 | 21,202 |            | Total\n",
      "\n",
      "estimated total profiling overhead: 0.03 seconds\n",
      "overhead estimation parameters:\n",
      "  4.102e-9s/call, 1.327314e-6s total profiling, 6.2403797e-7s internal profiling\n"
     ]
    }
   ],
   "source": [
    "(sb-profile:reset)\n",
    "(sb-profile:profile\n",
    " cl-waffe:!matmul\n",
    " cl-waffe:!tanh\n",
    " cl-waffe:backward\n",
    " cl-waffe::backward1)\n",
    "\n",
    "(time (step-model trainer (!ones `(2 100)) (!ones `(2 100)))) ; Batchごとに並列化できないから遅い\n",
    "\n",
    "(sb-profile:report)"
   ]
  },
  {
   "cell_type": "code",
   "execution_count": 18,
   "id": "a4c5eed2-4c30-43db-8de0-3b4244798d88",
   "metadata": {},
   "outputs": [
    {
     "data": {
      "text/plain": [
       "*START-TIME*"
      ]
     },
     "execution_count": 18,
     "metadata": {},
     "output_type": "execute_result"
    },
    {
     "data": {
      "text/plain": [
       "LOSSES"
      ]
     },
     "execution_count": 18,
     "metadata": {},
     "output_type": "execute_result"
    },
    {
     "data": {
      "text/plain": [
       "NIL"
      ]
     },
     "execution_count": 18,
     "metadata": {},
     "output_type": "execute_result"
    },
    {
     "name": "stdout",
     "output_type": "stream",
     "text": [
      "0th Epoch: [0s]\n",
      "Loss: 61.23782\n",
      "Loss: 56.435978\n",
      "Loss: 57.9958\n",
      "Loss: 56.931892\n",
      "Loss: 52.07672\n",
      "Loss: 69.21181\n",
      "Loss: 33.793434\n",
      "Loss: 60.8069\n",
      "Loss: 61.60677\n",
      "Loss: 54.292576\n",
      "Loss: 48.737995\n",
      "Loss: 56.816677\n",
      "Loss: 68.02899\n",
      "Loss: 59.303093\n",
      "Loss: 66.52128\n",
      "1th Epoch: [19s]\n",
      "Loss: 60.908638\n",
      "Loss: 56.007053\n",
      "Loss: 57.431194\n",
      "Loss: 56.20681\n",
      "Loss: 52.47403\n",
      "Loss: 68.95707\n",
      "Loss: 33.61411\n",
      "Loss: 60.444782\n",
      "Loss: 61.203857\n",
      "Loss: 53.52155\n",
      "Loss: 48.4799\n",
      "Loss: 56.30759\n",
      "Loss: 67.7772\n",
      "Loss: 58.994747\n",
      "Loss: 66.094154\n",
      "2th Epoch: [36s]\n",
      "Loss: 60.722725\n",
      "Loss: 55.782906\n",
      "Loss: 57.162533\n",
      "Loss: 55.814148\n",
      "Loss: 52.804974\n",
      "Loss: 68.793495\n",
      "Loss: 33.493168\n",
      "Loss: 60.24007\n",
      "Loss: 61.008297\n",
      "Loss: 53.078907\n",
      "Loss: 48.34694\n",
      "Loss: 56.03871\n",
      "Loss: 67.58445\n",
      "Loss: 58.754894\n",
      "Loss: 65.79689\n",
      "3th Epoch: [53s]\n",
      "Loss: 60.623505\n",
      "Loss: 55.66801\n",
      "Loss: 57.040863\n",
      "Loss: 55.59334\n",
      "Loss: 53.01507\n",
      "Loss: 68.668465\n",
      "Loss: 33.40985\n",
      "Loss: 60.115128\n",
      "Loss: 60.8903\n",
      "Loss: 52.796673\n",
      "Loss: 48.264286\n",
      "Loss: 55.857674\n",
      "Loss: 67.43993\n",
      "Loss: 58.562828\n",
      "Loss: 65.56872\n",
      "4th Epoch: [69s]\n",
      "Loss: 60.54977\n",
      "Loss: 55.593197\n",
      "Loss: 56.98017\n",
      "Loss: 55.46021\n",
      "Loss: 53.16949\n",
      "Loss: 68.55495\n",
      "Loss: 33.338623\n",
      "Loss: 60.021984\n",
      "Loss: 60.826885\n",
      "Loss: 52.62697\n",
      "Loss: 48.208126\n",
      "Loss: 55.761612\n",
      "Loss: 67.307465\n",
      "Loss: 58.393215\n",
      "Loss: 65.40497\n",
      "5th Epoch: [84s]\n",
      "Loss: 60.497055\n",
      "Loss: 55.554848\n",
      "Loss: 56.964672\n",
      "Loss: 55.37262\n",
      "Loss: 53.332783\n",
      "Loss: 68.44292\n",
      "Loss: 33.26944\n",
      "Loss: 59.936085\n",
      "Loss: 60.78466\n",
      "Loss: 52.5131\n",
      "Loss: 48.162407\n",
      "Loss: 55.695557\n",
      "Loss: 67.19006\n",
      "Loss: 58.247562\n",
      "Loss: 65.26793\n",
      "6th Epoch: [102s]\n",
      "Loss: 60.429092\n",
      "Loss: 55.50313\n",
      "Loss: 56.932465\n",
      "Loss: 55.284267\n",
      "Loss: 53.471676\n",
      "Loss: 68.34156\n",
      "Loss: 33.21022\n",
      "Loss: 59.851803\n",
      "Loss: 60.73223\n",
      "Loss: 52.409863\n",
      "Loss: 48.11769\n",
      "Loss: 55.625618\n",
      "Loss: 67.08756\n",
      "Loss: 58.122482\n",
      "Loss: 65.143166\n",
      "7th Epoch: [119s]\n",
      "Loss: 60.347454\n",
      "Loss: 55.440006\n",
      "Loss: 56.888145\n",
      "Loss: 55.19524\n",
      "Loss: 53.59389\n",
      "Loss: 68.241974\n",
      "Loss: 33.153107\n",
      "Loss: 59.76792\n",
      "Loss: 60.678577\n",
      "Loss: 52.317554\n",
      "Loss: 48.071335\n",
      "Loss: 55.56601\n",
      "Loss: 66.98781\n",
      "Loss: 58.00802\n",
      "Loss: 65.03237\n",
      "8th Epoch: [136s]\n",
      "Loss: 60.265667\n",
      "Loss: 55.379612\n",
      "Loss: 56.84687\n",
      "Loss: 55.111206\n",
      "Loss: 53.70874\n",
      "Loss: 68.13934\n",
      "Loss: 33.09477\n",
      "Loss: 59.68428\n",
      "Loss: 60.625618\n",
      "Loss: 52.232887\n",
      "Loss: 48.0223\n",
      "Loss: 55.514324\n",
      "Loss: 66.88907\n",
      "Loss: 57.90103\n",
      "Loss: 64.93054\n",
      "9th Epoch: [152s]\n",
      "Loss: 60.18352\n",
      "Loss: 55.319176\n",
      "Loss: 56.80478\n",
      "Loss: 55.02911\n",
      "Loss: 53.81409\n",
      "Loss: 68.03546\n",
      "Loss: 33.036488\n",
      "Loss: 59.60056\n",
      "Loss: 60.5696\n",
      "Loss: 52.150154\n",
      "Loss: 47.970497\n",
      "Loss: 55.464314\n",
      "Loss: 66.79165\n",
      "Loss: 57.799625\n",
      "Loss: 64.83335\n",
      "Evaluation took:\n",
      "  168.797 seconds of real time\n",
      "  181.685907 seconds of total run time (150.738377 user, 30.947530 system)\n",
      "  [ Run times consist of 11.616 seconds GC time, and 170.070 seconds non-GC time. ]\n",
      "  107.64% CPU\n",
      "  388,903,145,232 processor cycles\n",
      "  137,495,855,824 bytes consed\n",
      "  \n"
     ]
    }
   ],
   "source": [
    "(defparameter *start-time* (get-universal-time))\n",
    "(defparameter losses nil)\n",
    "\n",
    "(time\n",
    "(dotimes (epoch epoch-num)\n",
    "    (format t \"~ath Epoch: [~as]~%\" epoch (- (get-universal-time) *start-time*))\n",
    "    (let ((dataset-size (get-dataset-length *train-dataset*)))\n",
    "          (loop for batch-num fixnum upfrom 0 below dataset-size by batch-size\n",
    "                do (let* ((datum (get-dataset *train-dataset* batch-num))\n",
    "                          (x (car datum))\n",
    "                          (y (second datum)))\n",
    "                         (push (data (step-model trainer x y)) losses)\n",
    "                         (format t \"Loss: ~a~%\" (car losses)))))))"
   ]
  },
  {
   "cell_type": "code",
   "execution_count": 19,
   "id": "7e98f0bb-af68-40d0-a1e2-3036329c7b95",
   "metadata": {},
   "outputs": [
    {
     "data": {
      "text/plain": [
       "#Const(((-0.00... 0.008... ~ 0.009... -0.00...)) :mgl t :shape (1 128) :backward <Node: MULTENSOR{W2845051}>)"
      ]
     },
     "execution_count": 19,
     "metadata": {},
     "output_type": "execute_result"
    }
   ],
   "source": [
    "(!mean (slot-value (slot-value (slot-value (slot-value trainer 'model) 'encoder) 'embedding) 'cl-waffe.nn::weights) 0)"
   ]
  },
  {
   "cell_type": "code",
   "execution_count": 20,
   "id": "4b6a865b-3b6f-406e-814d-695fa7828384",
   "metadata": {},
   "outputs": [
    {
     "data": {
      "text/plain": [
       "*IMGPATH*"
      ]
     },
     "execution_count": 20,
     "metadata": {},
     "output_type": "execute_result"
    },
    {
     "data": {
      "text/plain": [
       "NIL"
      ]
     },
     "execution_count": 20,
     "metadata": {},
     "output_type": "execute_result"
    },
    {
     "data": {
      "text/plain": [
       "NIL"
      ]
     },
     "execution_count": 20,
     "metadata": {},
     "output_type": "execute_result"
    },
    {
     "data": {
      "text/plain": [
       "0"
      ]
     },
     "execution_count": 20,
     "metadata": {},
     "output_type": "execute_result"
    },
    {
     "data": {
      "image/png": "[encoded data removed]",
      "text/plain": [
       "./tmp/Seq2Seq_KFTT_Losses.png"
      ]
     },
     "metadata": {},
     "output_type": "display_data"
    }
   ],
   "source": [
    "(defparameter *imgpath* \"./tmp/Seq2Seq_KFTT_Losses.png\")\n",
    "\n",
    "; Lossのx軸の向きは反対\n",
    "(plot (reverse losses) :output *imgpath*)\n",
    "(jupyter:file *imgpath* :display t)"
   ]
  },
  {
   "cell_type": "code",
   "execution_count": null,
   "id": "08be7158-ca3a-40ec-a247-6bfc0346708d",
   "metadata": {},
   "outputs": [],
   "source": []
  }
 ],
 "metadata": {
  "kernelspec": {
   "display_name": "Common Lisp",
   "language": "common-lisp",
   "name": "common-lisp"
  },
  "language_info": {
   "codemirror_mode": "text/x-common-lisp",
   "file_extension": ".lisp",
   "mimetype": "text/x-common-lisp",
   "name": "common-lisp",
   "pygments_lexer": "common-lisp",
   "version": "2.1.0"
  }
 },
 "nbformat": 4,
 "nbformat_minor": 5
}
