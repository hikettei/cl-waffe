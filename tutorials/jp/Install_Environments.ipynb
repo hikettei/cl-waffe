{
 "cells": [
  {
   "cell_type": "markdown",
   "id": "4344680b-5b15-4785-bd63-c249ac025f9a",
   "metadata": {},
   "source": [
    "# 環境構築\n",
    "\n",
    "Common Lispに初めて触れる方を対象にしています。既に環境構築が済んでいる方は他のNotebookをご覧ください。"
   ]
  },
  {
   "cell_type": "markdown",
   "id": "d36009de-b637-46a6-8540-0de13835ee89",
   "metadata": {},
   "source": [
    "### SBCLをインストールする\n",
    "\n",
    "SBCLはANSI Common Lispに準拠したCommon Lisp処理系の一つです。"
   ]
  },
  {
   "cell_type": "code",
   "execution_count": null,
   "id": "4165035a-c5f7-4602-a640-ef577a850c14",
   "metadata": {},
   "outputs": [],
   "source": []
  }
 ],
 "metadata": {
  "kernelspec": {
   "display_name": "Common Lisp",
   "language": "common-lisp",
   "name": "common-lisp"
  },
  "language_info": {
   "codemirror_mode": "text/x-common-lisp",
   "file_extension": ".lisp",
   "mimetype": "text/x-common-lisp",
   "name": "common-lisp",
   "pygments_lexer": "common-lisp",
   "version": "2.1.0"
  }
 },
 "nbformat": 4,
 "nbformat_minor": 5
}
