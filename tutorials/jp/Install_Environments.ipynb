{
 "cells": [
  {
   "cell_type": "markdown",
   "id": "4344680b-5b15-4785-bd63-c249ac025f9a",
   "metadata": {},
   "source": [
    "# 環境構築\n",
    "\n",
    "Common Lispに初めて触れる方を対象にしています。既に環境構築が済んでいる方は他のNotebookをご覧ください。"
   ]
  },
  {
   "cell_type": "markdown",
   "id": "d36009de-b637-46a6-8540-0de13835ee89",
   "metadata": {},
   "source": [
    "### 手順\n",
    "\n",
    "1. Roswellをインストールする。\n",
    "2. Roswellを用いてSBCL/Quicklispのセットアップをする\n",
    "3. cl-waffeをSBCLから使う"
   ]
  },
  {
   "cell_type": "markdown",
   "id": "fe5e627a-5d3a-4fcc-9ab5-060b928122a3",
   "metadata": {},
   "source": [
    "### Roswellをセットアップする\n",
    "\n",
    "RoswellはCommon Lispの環境構築のための・・・"
   ]
  }
 ],
 "metadata": {
  "kernelspec": {
   "display_name": "Common Lisp",
   "language": "common-lisp",
   "name": "common-lisp"
  },
  "language_info": {
   "codemirror_mode": "text/x-common-lisp",
   "file_extension": ".lisp",
   "mimetype": "text/x-common-lisp",
   "name": "common-lisp",
   "pygments_lexer": "common-lisp",
   "version": "2.1.0"
  }
 },
 "nbformat": 4,
 "nbformat_minor": 5
}
