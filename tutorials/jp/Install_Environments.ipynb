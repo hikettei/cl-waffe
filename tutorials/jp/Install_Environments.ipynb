{
 "cells": [
  {
   "cell_type": "markdown",
   "id": "4344680b-5b15-4785-bd63-c249ac025f9a",
   "metadata": {},
   "source": [
    "# 環境構築\n",
    "\n",
    "Common Lispに初めて触れる方を対象にしています。既に環境構築が済んでいる方は他のNotebookをご覧ください。"
   ]
  },
  {
   "cell_type": "markdown",
   "id": "fe5e627a-5d3a-4fcc-9ab5-060b928122a3",
   "metadata": {},
   "source": [
    "## Roswell\n",
    "\n",
    "[Roswell](https://roswell.github.io/)はそれぞれのCommon Lisp処理系の差異を吸収したり、Quicklispのインストールを行うCommonLispの開発環境です。\n",
    "\n",
    "Common Lispはパッケージ管理システムや処理系などが独立していて環境構築が面倒ですが、Roswellを介せばすぐに行えます。\n",
    "\n",
    "### Roswellのセットアップ\n",
    "\n",
    "主要なOSについては[Roswellの公式ページ](https://roswell.github.io/Installation.html)の指示に従ってください。\n",
    "\n",
    "## SBCL/Quicklispのセットアップ\n",
    "\n",
    "SBCLとQuickLispはそれぞれ、Common Lispの処理系の一つとCommon Lispのパッケージ管理システムです。（cl-waffeはQuicklispに登録していませんが依存関係のインストールに必要なので導入してください）\n",
    "\n",
    "ターミナル上で\n",
    "```lisp\n",
    "$ ros\n",
    "```\n",
    "と入力すれば(記憶があってれば)SBCL2.0.1とQuicklispが無事インストールできるはずです。"
   ]
  },
  {
   "cell_type": "markdown",
   "id": "d6dfa91e-4fd0-4a64-b577-cd0fa6293b58",
   "metadata": {},
   "source": [
    "## cl-waffeを使う\n",
    "\n",
    "cl-waffeが手元にない場合Cloneしてください。\n",
    "\n",
    "```sh\n",
    "$ git clone git@github.com:hikettei/cl-waffe.git\n",
    "$ cd cl-waffe\n",
    "```\n",
    "\n",
    "まず、`./cl-waffe.asd`のPathを確認してください。\n",
    "\n",
    "`(load pathname)`でasdファイル（パッケージの依存関係、構造など）を読み込み、`(ql:quickload :cl-waffe)`でパッケージを読み込みます。\n",
    "\n",
    "以下は例です。\n",
    "\n",
    "```shell\n",
    "$ ros run\n",
    "* (load \"cl-waffe.asd\")\n",
    "T\n",
    "* (ql:quickload :cl-waffe)\n",
    "To load \"cl-waffe\":\n",
    "  Load 1 ASDF system:\n",
    "    cl-waffe\n",
    "; Loading \"cl-waffe\"\n",
    "...Unable to find framework CUDA\n",
    "...........\n",
    "(:CL-WAFFE)\n",
    "* \n",
    "```\n",
    "\n",
    "基本的な関数/マクロはパッケージ`:cl-waffe`に定義していますから、`(use-package :cl-waffe)`をすると標準のパッケージ`CL-USER`でライブラリの機能が使えるようになるはずです。"
   ]
  },
  {
   "cell_type": "markdown",
   "id": "3bccca05-2c49-4b0f-9bea-2b2e102e4b3e",
   "metadata": {},
   "source": [
    "## Jupyterを使う\n",
    "\n",
    "[common-lisp-jupyter](https://github.com/yitzchak/common-lisp-jupyter) (推奨)のインストールをしてください。\n",
    "\n",
    "インストール方法は[こちら](https://yitzchak.github.io/common-lisp-jupyter/install.html)に記述されてます。\n",
    "\n",
    "以下はcommon-lisp jupyterが使える前提で話します。"
   ]
  },
  {
   "cell_type": "code",
   "execution_count": 2,
   "id": "ceff8137-a8ab-4d9b-b5f3-eadaf109f235",
   "metadata": {},
   "outputs": [
    {
     "data": {
      "text/plain": [
       "T"
      ]
     },
     "execution_count": 2,
     "metadata": {},
     "output_type": "execute_result"
    },
    {
     "name": "stdout",
     "output_type": "stream",
     "text": [
      "To load \"cl-waffe\":\n",
      "  Load 1 ASDF system:\n",
      "    cl-waffe\n",
      "; Loading \"cl-waffe\"\n",
      "[package lisp-namespace-asd]......................\n",
      "[package type-r-asd]..............................\n",
      "[package cl-randist-system].......................\n",
      "[package function-cache-system]...................\n",
      "[package lake-asd]................................\n",
      "[package cl-syntax-interpol-asd]..................\n",
      "[package cl-syntax-asd]...........................\n",
      "[package trivial-types-asd].......................\n",
      "[package cl-cuda-asd].............................\n",
      "[package external-program-system].................\n",
      "[package cl-pattern-asd]..........................\n",
      "[package cl-annot-asd]............................\n",
      "[package cl-syntax-annot-asd].....................\n",
      "[package cl-reexport-asd].........................\n",
      "[package flexi-streams-system]...."
     ]
    },
    {
     "data": {
      "text/plain": [
       "(:CL-WAFFE)"
      ]
     },
     "execution_count": 2,
     "metadata": {},
     "output_type": "execute_result"
    },
    {
     "data": {
      "text/plain": [
       "T"
      ]
     },
     "execution_count": 2,
     "metadata": {},
     "output_type": "execute_result"
    },
    {
     "name": "stdout",
     "output_type": "stream",
     "text": [
      "\n"
     ]
    },
    {
     "name": "stderr",
     "output_type": "stream",
     "text": [
      "Unable to find framework CUDA\n"
     ]
    }
   ],
   "source": [
    "(load \"../../cl-waffe.asd\") ; 相対パスは環境に応じて直して下さい。（QuickLispかUltraLispに登録されたら必要なくなる）\n",
    "(ql:quickload :cl-waffe)\n",
    "(use-package :cl-waffe)"
   ]
  },
  {
   "cell_type": "markdown",
   "id": "03145a9b-f025-4efd-9c82-e7178fb3215f",
   "metadata": {},
   "source": [
    "これで全ての環境構築が終わったはずです。\n",
    "\n",
    "CUDAを使う場合はまた別途記述します（CUDAでまだデバックしてないです、ごめんなさい・・・）"
   ]
  },
  {
   "cell_type": "code",
   "execution_count": 3,
   "id": "db8735e6-e3d1-41c3-9348-bf425f2ba2b3",
   "metadata": {},
   "outputs": [
    {
     "data": {
      "text/plain": [
       "#Const(((0.558... 1.557... ~ -0.10... -0.46...)        \n",
       "                 ...\n",
       "        (2.646... 1.466... ~ -0.86... -3.05...)) :mgl t :shape (10 10) :backward <Node: ADDTENSOR{W880}>)"
      ]
     },
     "execution_count": 3,
     "metadata": {},
     "output_type": "execute_result"
    }
   ],
   "source": [
    "(!add (!randn `(10 10)) (!randn `(10 10))) ; Enjoy cl-waffe! ;)"
   ]
  }
 ],
 "metadata": {
  "kernelspec": {
   "display_name": "Common Lisp",
   "language": "common-lisp",
   "name": "common-lisp"
  },
  "language_info": {
   "codemirror_mode": "text/x-common-lisp",
   "file_extension": ".lisp",
   "mimetype": "text/x-common-lisp",
   "name": "common-lisp",
   "pygments_lexer": "common-lisp",
   "version": "2.1.0"
  }
 },
 "nbformat": 4,
 "nbformat_minor": 5
}
