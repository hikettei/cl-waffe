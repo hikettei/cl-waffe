{
 "cells": [
  {
   "cell_type": "code",
   "execution_count": 5,
   "id": "68d52faf-3519-4cbc-9097-393bfc959e2b",
   "metadata": {},
   "outputs": [
    {
     "data": {
      "text/plain": [
       "T"
      ]
     },
     "execution_count": 5,
     "metadata": {},
     "output_type": "execute_result"
    },
    {
     "data": {
      "text/plain": [
       "(:CL-WAFFE)"
      ]
     },
     "execution_count": 5,
     "metadata": {},
     "output_type": "execute_result"
    },
    {
     "data": {
      "text/plain": [
       "T"
      ]
     },
     "execution_count": 5,
     "metadata": {},
     "output_type": "execute_result"
    },
    {
     "name": "stdout",
     "output_type": "stream",
     "text": [
      "SB-KERNEL:REDEFINITION-WITH-DEFMETHOD: redefining PERFORM (#<STANDARD-CLASS ASDF/LISP-ACTION:TEST-OP>\n",
      "                                                           #<SB-MOP:EQL-SPECIALIZER #<SYSTEM \"cl-waffe/test\">>) in DEFMETHOD\n"
     ]
    }
   ],
   "source": [
    "; load cl-waffe\n",
    "(load \"../../cl-waffe.asd\")\n",
    "(ql:quickload :cl-waffe :silent t)\n",
    "(use-package :cl-waffe)"
   ]
  },
  {
   "cell_type": "markdown",
   "id": "bed2f8f7-11df-4119-b1c4-ba91c4aaa09a",
   "metadata": {},
   "source": [
    "### 計算ノードの構築\n",
    "\n",
    "線形回帰のモデルy = ax+bを微分する"
   ]
  },
  {
   "cell_type": "code",
   "execution_count": 13,
   "id": "fd593287-0319-4c03-aeed-769b69ce294a",
   "metadata": {},
   "outputs": [
    {
     "data": {
      "text/plain": [
       "WEIGHT"
      ]
     },
     "execution_count": 13,
     "metadata": {},
     "output_type": "execute_result"
    },
    {
     "data": {
      "text/plain": [
       "X"
      ]
     },
     "execution_count": 13,
     "metadata": {},
     "output_type": "execute_result"
    },
    {
     "data": {
      "text/plain": [
       "BIAS"
      ]
     },
     "execution_count": 13,
     "metadata": {},
     "output_type": "execute_result"
    },
    {
     "data": {
      "text/plain": [
       "#<MGL-MAT:MAT 1x3 AF #2A((0.11111112 0.11111112 0.11111112))>"
      ]
     },
     "execution_count": 13,
     "metadata": {},
     "output_type": "execute_result"
    },
    {
     "name": "stdout",
     "output_type": "stream",
     "text": [
      "\n",
      "#Const(((-0.06... -0.49... 0.522...)        \n",
      "                 ...\n",
      "        (-0.64... -0.49... 1.067...)) :mgl t :shape (3 3) :backward <Node: BROADCASTINGADDTENSOR{W1023}>) \n",
      "#<MGL-MAT:MAT 3x3 F #2A((0.10460331 -0.12771007 -0.015000655)\n",
      "                        (0.10460331 -0.12771007 -0.015000655)\n",
      "                        (0.10460331 -0.12771007 -0.015000655))> \n",
      "#<MGL-MAT:MAT 3x3 F #2A((-0.1168396 -0.1168396 -0.1168396)\n",
      "                        (-0.20334803 -0.20334803 -0.20334803)\n",
      "                        (0.11413112 0.11413112 0.11413112))> \n",
      "#<MGL-MAT:MAT 1x3 F #2A((0.11111112 0.11111112 0.11111112))> "
     ]
    }
   ],
   "source": [
    "(defparameter weight (parameter (!randn `(3 3))))\n",
    "(defparameter x      (parameter (!randn `(3 3))))\n",
    "\n",
    "(defparameter bias   (parameter (!randn `(1 3))))\n",
    "\n",
    "(let ((out (!add (!matmul weight x) bias)))\n",
    "     (print out)\n",
    "     \n",
    "     ; backwardはスカラー値にのみ定義されるため、総和を取ります。\n",
    "     (setq out (!sum out))\n",
    "     \n",
    "     (backward out)\n",
    "     (print (grad weight))\n",
    "     (print (grad x))\n",
    "     (print (grad bias)))"
   ]
  },
  {
   "cell_type": "code",
   "execution_count": null,
   "id": "52608bde-4df5-47ab-951b-dfeec1807761",
   "metadata": {},
   "outputs": [],
   "source": []
  }
 ],
 "metadata": {
  "kernelspec": {
   "display_name": "Common Lisp",
   "language": "common-lisp",
   "name": "common-lisp"
  },
  "language_info": {
   "codemirror_mode": "text/x-common-lisp",
   "file_extension": ".lisp",
   "mimetype": "text/x-common-lisp",
   "name": "common-lisp",
   "pygments_lexer": "common-lisp",
   "version": "2.1.0"
  }
 },
 "nbformat": 4,
 "nbformat_minor": 5
}
