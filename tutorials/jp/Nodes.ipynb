{
 "cells": [
  {
   "cell_type": "code",
   "execution_count": 1,
   "id": "68d52faf-3519-4cbc-9097-393bfc959e2b",
   "metadata": {},
   "outputs": [
    {
     "data": {
      "text/plain": [
       "T"
      ]
     },
     "execution_count": 1,
     "metadata": {},
     "output_type": "execute_result"
    },
    {
     "data": {
      "text/plain": [
       "(:CL-WAFFE)"
      ]
     },
     "execution_count": 1,
     "metadata": {},
     "output_type": "execute_result"
    },
    {
     "data": {
      "text/plain": [
       "T"
      ]
     },
     "execution_count": 1,
     "metadata": {},
     "output_type": "execute_result"
    },
    {
     "name": "stderr",
     "output_type": "stream",
     "text": [
      "Unable to find framework CUDA\n"
     ]
    }
   ],
   "source": [
    "; cl-waffeを読み込む\n",
    "(load \"../../cl-waffe.asd\")\n",
    "(ql:quickload :cl-waffe :silent t)\n",
    "(use-package :cl-waffe)"
   ]
  },
  {
   "cell_type": "markdown",
   "id": "24e38b1f-616c-4032-95a5-8426996ab460",
   "metadata": {},
   "source": [
    "### 行列の初期化\n",
    "関数`(!randn dim)`は平均0分散1の標準分布をサンプリングし、与えられた次元数`dim`の行列を返します。"
   ]
  },
  {
   "cell_type": "code",
   "execution_count": 2,
   "id": "c050d0cd-dafc-42b1-a27a-527a14525c82",
   "metadata": {},
   "outputs": [
    {
     "data": {
      "text/plain": [
       "#Const(((-0.54... 0.253... ~ -0.35... -2.36...)        \n",
       "                 ...\n",
       "        (-1.44... -1.51... ~ -0.72... 0.676...)) :mgl t :shape (10 10) :backward NIL)"
      ]
     },
     "execution_count": 2,
     "metadata": {},
     "output_type": "execute_result"
    }
   ],
   "source": [
    "(!randn `(10 10))"
   ]
  },
  {
   "cell_type": "markdown",
   "id": "c11853c0-0428-4c52-86bd-c0f8e53405cf",
   "metadata": {},
   "source": [
    "### 変数を定義する。\n",
    "上記の関数で生成された行列は、Const(定数)と見做され、逆伝播時に勾配を生成しません。\n",
    "\n",
    "マクロ`(parameter tensor)`を介して受け取った定数を変数にします。\n",
    "\n",
    "parameterマクロの前後で計算ノードは途切れることに注意してください。"
   ]
  },
  {
   "cell_type": "code",
   "execution_count": 3,
   "id": "79763921-1c23-456a-9e39-ce552578b17b",
   "metadata": {},
   "outputs": [
    {
     "data": {
      "text/plain": [
       "#Parameter{((-0.54... 0.253... ~ -0.35... -2.36...)            \n",
       "                         ...\n",
       "            (-1.44... -1.51... ~ -0.72... 0.676...)) :mgl t :shape (10 10) :backward NIL}"
      ]
     },
     "execution_count": 3,
     "metadata": {},
     "output_type": "execute_result"
    }
   ],
   "source": [
    "(parameter *)"
   ]
  },
  {
   "cell_type": "markdown",
   "id": "2f8bdb85-74b0-4e8a-b089-8927f6bb7aa4",
   "metadata": {},
   "source": [
    "### 計算ノードを構築する\n",
    "\n",
    "マクロ`(with-no-grad &body body)`内部でない限り、cl-waffeのノードを介した計算は計算ノードを構築します。\n",
    "\n",
    "計算ノードが構築されていたら、TensorをPrintした時に`:backward ノード名`と表示されます。"
   ]
  },
  {
   "cell_type": "code",
   "execution_count": 4,
   "id": "dea4cba1-f42d-4df2-a7b8-09b4d323e81e",
   "metadata": {},
   "outputs": [
    {
     "data": {
      "text/plain": [
       "A"
      ]
     },
     "execution_count": 4,
     "metadata": {},
     "output_type": "execute_result"
    },
    {
     "data": {
      "text/plain": [
       "<Node: ADDTENSOR{W918}>"
      ]
     },
     "execution_count": 4,
     "metadata": {},
     "output_type": "execute_result"
    },
    {
     "data": {
      "text/plain": [
       "NIL"
      ]
     },
     "execution_count": 4,
     "metadata": {},
     "output_type": "execute_result"
    },
    {
     "name": "stdout",
     "output_type": "stream",
     "text": [
      "\n",
      "#Const(((0.625... -1.29... 2.044...)        \n",
      "                 ...\n",
      "        (0.575... -1.00... -0.62...)) :mgl t :shape (3 3) :backward <Node: ADDTENSOR{W918}>) \n",
      "<Node: ADDTENSOR{W918}> "
     ]
    }
   ],
   "source": [
    "(defparameter a (!randn `(3 3)))\n",
    "\n",
    "(let ((result (!add a 0.0)))\n",
    "     (print result)\n",
    "     (print (cl-waffe::waffetensor-state result)))\n",
    "nil"
   ]
  },
  {
   "cell_type": "markdown",
   "id": "098fc517-2077-452a-9e30-4e4e0ad3b2fb",
   "metadata": {},
   "source": [
    "## 順伝播と逆伝播\n",
    "\n",
    "線形回帰モデル\n",
    "$$\n",
    "y=Ax+b\n",
    "$$\n",
    "を計算する。\n",
    "\n",
    "構築された計算ノードは、最後のノードを`(backward out)`のように呼び出すことで逆伝播される。\n",
    "\n",
    "逆伝播はスカラー値に対してでないと定義されないため、最後の計算ノードは損失関数や、`!sum`, `!mean`等になる。\n",
    "\n",
    "各変数は`(grad tensor)`で勾配を取り出される。（勾配はTensorのデータ構造に依る、構造体`WaffeTensor`ではないことに注意）"
   ]
  },
  {
   "cell_type": "code",
   "execution_count": 5,
   "id": "fd593287-0319-4c03-aeed-769b69ce294a",
   "metadata": {},
   "outputs": [
    {
     "data": {
      "text/plain": [
       "WEIGHT"
      ]
     },
     "execution_count": 5,
     "metadata": {},
     "output_type": "execute_result"
    },
    {
     "data": {
      "text/plain": [
       "X"
      ]
     },
     "execution_count": 5,
     "metadata": {},
     "output_type": "execute_result"
    },
    {
     "data": {
      "text/plain": [
       "BIAS"
      ]
     },
     "execution_count": 5,
     "metadata": {},
     "output_type": "execute_result"
    },
    {
     "data": {
      "text/plain": [
       "#<MGL-MAT:MAT 1x3 AF #2A((0.11111112 0.11111112 0.11111112))>"
      ]
     },
     "execution_count": 5,
     "metadata": {},
     "output_type": "execute_result"
    },
    {
     "name": "stdout",
     "output_type": "stream",
     "text": [
      "\n",
      "#Const(((0.005... 0.664... 2.546...)        \n",
      "                 ...\n",
      "        (-0.42... 0.970... 1.887...)) :mgl t :shape (3 3) :backward <Node: BROADCASTINGADDTENSOR{W943}>) \n",
      "#<MGL-MAT:MAT 3x3 F #2A((-0.117892794 -0.08790654 0.1289539)\n",
      "                        (-0.117892794 -0.08790654 0.1289539)\n",
      "                        (-0.117892794 -0.08790654 0.1289539))> \n",
      "#<MGL-MAT:MAT 3x3 F #2A((0.15121937 0.15121937 0.15121937)\n",
      "                        (0.026950078 0.026950078 0.026950078)\n",
      "                        (-0.2382441 -0.2382441 -0.2382441))> \n",
      "#<MGL-MAT:MAT 1x3 F #2A((0.11111112 0.11111112 0.11111112))> "
     ]
    }
   ],
   "source": [
    "(defparameter weight (parameter (!randn `(3 3))))\n",
    "(defparameter x      (parameter (!randn `(3 3))))\n",
    "\n",
    "(defparameter bias   (parameter (!randn `(1 3))))\n",
    "\n",
    "(let ((out (!add (!matmul weight x) bias)))\n",
    "     (print out)\n",
    "     \n",
    "     (setq out (!sum out))\n",
    "     \n",
    "     (backward out)\n",
    "     \n",
    "     (print (grad weight))\n",
    "     (print (grad x))\n",
    "     (print (grad bias)))"
   ]
  },
  {
   "cell_type": "markdown",
   "id": "15494cc2-5750-438f-b95e-2fc470343e85",
   "metadata": {},
   "source": [
    "## ノードを定義する\n",
    "\n",
    "[defnode](https://hikettei.github.io/cl-waffe-docs/docs/cl-waffe.html#2-defnode)マクロを用いて計算ノードの順伝播と逆伝播を定義できます。\n",
    "\n",
    "defnodeの詳細な解説は、[Qiitaの記事](https://qiita.com/hikettei/items/f38e0bba89795ec8bff9#%E8%87%AA%E5%8B%95%E5%BE%AE%E5%88%86)に置いてあります。\n",
    "\n",
    "こっから書いてない・・・ごめんなさい"
   ]
  },
  {
   "cell_type": "code",
   "execution_count": null,
   "id": "b8dd2741-b432-4442-882d-93393613361c",
   "metadata": {},
   "outputs": [],
   "source": []
  },
  {
   "cell_type": "markdown",
   "id": "eb17aa97-6b5f-425f-b8e8-bda6c3fdff85",
   "metadata": {},
   "source": [
    "## モデルを使う\n",
    "\n",
    "`defmodel`マクロを介してモデルを定義できます。\n",
    "\n",
    "モデルの内部では基本的に自動微分を用います。\n",
    "\n",
    "モデル内部に保存されたTensorの中で`(parameter tensor)`を用いて定義されたものは学習可能パラメーターとみなされ、最適化関数を呼び出したときに破壊的に変更され最適化されます。"
   ]
  },
  {
   "cell_type": "code",
   "execution_count": null,
   "id": "4b20ca78-570c-4ce6-b84a-092c89c0bed0",
   "metadata": {},
   "outputs": [],
   "source": []
  }
 ],
 "metadata": {
  "kernelspec": {
   "display_name": "Common Lisp",
   "language": "common-lisp",
   "name": "common-lisp"
  },
  "language_info": {
   "codemirror_mode": "text/x-common-lisp",
   "file_extension": ".lisp",
   "mimetype": "text/x-common-lisp",
   "name": "common-lisp",
   "pygments_lexer": "common-lisp",
   "version": "2.1.0"
  }
 },
 "nbformat": 4,
 "nbformat_minor": 5
}
