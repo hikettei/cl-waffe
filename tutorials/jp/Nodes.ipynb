{
 "cells": [
  {
   "cell_type": "code",
   "execution_count": 5,
   "id": "68d52faf-3519-4cbc-9097-393bfc959e2b",
   "metadata": {},
   "outputs": [
    {
     "data": {
      "text/plain": [
       "T"
      ]
     },
     "execution_count": 5,
     "metadata": {},
     "output_type": "execute_result"
    },
    {
     "data": {
      "text/plain": [
       "(:CL-WAFFE)"
      ]
     },
     "execution_count": 5,
     "metadata": {},
     "output_type": "execute_result"
    },
    {
     "data": {
      "text/plain": [
       "T"
      ]
     },
     "execution_count": 5,
     "metadata": {},
     "output_type": "execute_result"
    },
    {
     "name": "stdout",
     "output_type": "stream",
     "text": [
      "SB-KERNEL:REDEFINITION-WITH-DEFMETHOD: redefining PERFORM (#<STANDARD-CLASS ASDF/LISP-ACTION:TEST-OP>\n",
      "                                                           #<SB-MOP:EQL-SPECIALIZER #<SYSTEM \"cl-waffe/test\">>) in DEFMETHOD\n"
     ]
    }
   ],
   "source": [
    "; cl-waffeを読み込む\n",
    "(load \"../../cl-waffe.asd\")\n",
    "(ql:quickload :cl-waffe :silent t)\n",
    "(use-package :cl-waffe)"
   ]
  },
  {
   "cell_type": "markdown",
   "id": "24e38b1f-616c-4032-95a5-8426996ab460",
   "metadata": {},
   "source": [
    "### 行列の初期化\n",
    "関数`(!randn dim)`は平均0分散1の標準分布をサンプリングし、与えられた次元数`dim`の行列を返します。"
   ]
  },
  {
   "cell_type": "code",
   "execution_count": 18,
   "id": "c050d0cd-dafc-42b1-a27a-527a14525c82",
   "metadata": {},
   "outputs": [
    {
     "data": {
      "text/plain": [
       "#Const(((1.334... 0.577... ~ 0.900... 1.191...)        \n",
       "                 ...\n",
       "        (0.810... 1.523... ~ -1.18... -1.55...)) :mgl t :shape (10 10) :backward NIL)"
      ]
     },
     "execution_count": 18,
     "metadata": {},
     "output_type": "execute_result"
    }
   ],
   "source": [
    "(!randn `(10 10))"
   ]
  },
  {
   "cell_type": "markdown",
   "id": "c11853c0-0428-4c52-86bd-c0f8e53405cf",
   "metadata": {},
   "source": [
    "### 変数を定義する。\n",
    "上記の関数で生成された行列は、Const(定数)と見做され、逆伝播時に勾配を生成しません。\n",
    "\n",
    "マクロ`(parameter tensor)`を介して受け取った定数を変数にします。\n",
    "\n",
    "parameterマクロの前後で計算ノードは途切れることに注意してください。"
   ]
  },
  {
   "cell_type": "code",
   "execution_count": 19,
   "id": "79763921-1c23-456a-9e39-ce552578b17b",
   "metadata": {},
   "outputs": [
    {
     "data": {
      "text/plain": [
       "#Parameter{((1.334... 0.577... ~ 0.900... 1.191...)            \n",
       "                         ...\n",
       "            (0.810... 1.523... ~ -1.18... -1.55...)) :mgl t :shape (10 10) :backward NIL}"
      ]
     },
     "execution_count": 19,
     "metadata": {},
     "output_type": "execute_result"
    }
   ],
   "source": [
    "(parameter *)"
   ]
  },
  {
   "cell_type": "markdown",
   "id": "2f8bdb85-74b0-4e8a-b089-8927f6bb7aa4",
   "metadata": {},
   "source": [
    "### 計算ノードを構築する\n",
    "\n",
    "マクロ`(with-no-grad &body body)`内部でない限り、cl-waffeのノードを介した計算は計算ノードを構築します。\n",
    "\n",
    "計算ノードが構築されていたら、TensorをPrintした時に`:backward ノード名`と表示されます。"
   ]
  },
  {
   "cell_type": "code",
   "execution_count": 26,
   "id": "dea4cba1-f42d-4df2-a7b8-09b4d323e81e",
   "metadata": {},
   "outputs": [
    {
     "data": {
      "text/plain": [
       "A"
      ]
     },
     "execution_count": 26,
     "metadata": {},
     "output_type": "execute_result"
    },
    {
     "data": {
      "text/plain": [
       "<Node: ADDTENSOR{W1159}>"
      ]
     },
     "execution_count": 26,
     "metadata": {},
     "output_type": "execute_result"
    },
    {
     "data": {
      "text/plain": [
       "NIL"
      ]
     },
     "execution_count": 26,
     "metadata": {},
     "output_type": "execute_result"
    },
    {
     "name": "stdout",
     "output_type": "stream",
     "text": [
      "\n",
      "#Const(((-0.15... -0.03... 0.805...)        \n",
      "                 ...\n",
      "        (-0.28... -0.47... -1.41...)) :mgl t :shape (3 3) :backward <Node: ADDTENSOR{W1159}>) \n",
      "<Node: ADDTENSOR{W1159}> "
     ]
    }
   ],
   "source": [
    "(defparameter a (!randn `(3 3)))\n",
    "\n",
    "(let ((result (!add a 0.0)))\n",
    "     (print result)\n",
    "     (print (cl-waffe::waffetensor-state result)))\n",
    "nil"
   ]
  },
  {
   "cell_type": "markdown",
   "id": "098fc517-2077-452a-9e30-4e4e0ad3b2fb",
   "metadata": {},
   "source": [
    "## 順伝播と逆伝播\n",
    "\n",
    "線形回帰モデル\n",
    "$$\n",
    "y=Ax+b\n",
    "$$\n",
    "を計算する。\n",
    "\n",
    "構築された計算ノードは、最後のノードを`(backward out)`のように呼び出すことで逆伝播される。\n",
    "\n",
    "逆伝播はスカラー値に対してでないと定義されないため、最後の計算ノードは損失関数や、`!sum`, `!mean`等になる。\n",
    "\n",
    "各変数は`(grad tensor)`で勾配を取り出される。（勾配はTensorのデータ構造に依る、構造体`WaffeTensor`ではないことに注意）"
   ]
  },
  {
   "cell_type": "code",
   "execution_count": 28,
   "id": "fd593287-0319-4c03-aeed-769b69ce294a",
   "metadata": {},
   "outputs": [
    {
     "data": {
      "text/plain": [
       "WEIGHT"
      ]
     },
     "execution_count": 28,
     "metadata": {},
     "output_type": "execute_result"
    },
    {
     "data": {
      "text/plain": [
       "X"
      ]
     },
     "execution_count": 28,
     "metadata": {},
     "output_type": "execute_result"
    },
    {
     "data": {
      "text/plain": [
       "BIAS"
      ]
     },
     "execution_count": 28,
     "metadata": {},
     "output_type": "execute_result"
    },
    {
     "data": {
      "text/plain": [
       "#<MGL-MAT:MAT 1x3 AF #2A((0.11111112 0.11111112 0.11111112))>"
      ]
     },
     "execution_count": 28,
     "metadata": {},
     "output_type": "execute_result"
    },
    {
     "name": "stdout",
     "output_type": "stream",
     "text": [
      "\n",
      "#Const(((2.938... 0.878... -0.29...)        \n",
      "                 ...\n",
      "        (1.264... -0.10... -0.60...)) :mgl t :shape (3 3) :backward <Node: BROADCASTINGADDTENSOR{W1167}>) \n",
      "#<MGL-MAT:MAT 3x3 F #2A((-0.22465025 -0.122844614 0.4362781)\n",
      "                        (-0.22465025 -0.122844614 0.4362781)\n",
      "                        (-0.22465025 -0.122844614 0.4362781))> \n",
      "#<MGL-MAT:MAT 3x3 F #2A((0.07945849 0.07945849 0.07945849)\n",
      "                        (0.061249208 0.061249208 0.061249208)\n",
      "                        (0.07049674 0.07049674 0.07049674))> \n",
      "#<MGL-MAT:MAT 1x3 F #2A((0.11111112 0.11111112 0.11111112))> "
     ]
    }
   ],
   "source": [
    "(defparameter weight (parameter (!randn `(3 3))))\n",
    "(defparameter x      (parameter (!randn `(3 3))))\n",
    "\n",
    "(defparameter bias   (parameter (!randn `(1 3))))\n",
    "\n",
    "(let ((out (!add (!matmul weight x) bias)))\n",
    "     (print out)\n",
    "     \n",
    "     (setq out (!sum out))\n",
    "     \n",
    "     (backward out)\n",
    "     \n",
    "     (print (grad weight))\n",
    "     (print (grad x))\n",
    "     (print (grad bias)))"
   ]
  },
  {
   "cell_type": "markdown",
   "id": "15494cc2-5750-438f-b95e-2fc470343e85",
   "metadata": {},
   "source": [
    "## ノードを定義する\n",
    "\n",
    "[defnode](https://hikettei.github.io/cl-waffe-docs/docs/cl-waffe.html#2-defnode)マクロを用いて計算ノードの順伝播と逆伝播を定義できます。\n",
    "\n",
    "defnodeの詳細な解説は、[Qiitaの記事](https://qiita.com/hikettei/items/f38e0bba89795ec8bff9#%E8%87%AA%E5%8B%95%E5%BE%AE%E5%88%86)に置いてあります。"
   ]
  },
  {
   "cell_type": "code",
   "execution_count": null,
   "id": "b8dd2741-b432-4442-882d-93393613361c",
   "metadata": {},
   "outputs": [],
   "source": []
  }
 ],
 "metadata": {
  "kernelspec": {
   "display_name": "Common Lisp",
   "language": "common-lisp",
   "name": "common-lisp"
  },
  "language_info": {
   "codemirror_mode": "text/x-common-lisp",
   "file_extension": ".lisp",
   "mimetype": "text/x-common-lisp",
   "name": "common-lisp",
   "pygments_lexer": "common-lisp",
   "version": "2.1.0"
  }
 },
 "nbformat": 4,
 "nbformat_minor": 5
}
