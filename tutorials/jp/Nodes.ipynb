{
 "cells": [
  {
   "cell_type": "code",
   "execution_count": 1,
   "id": "68d52faf-3519-4cbc-9097-393bfc959e2b",
   "metadata": {},
   "outputs": [
    {
     "data": {
      "text/plain": [
       "T"
      ]
     },
     "execution_count": 1,
     "metadata": {},
     "output_type": "execute_result"
    },
    {
     "data": {
      "text/plain": [
       "(:CL-WAFFE)"
      ]
     },
     "execution_count": 1,
     "metadata": {},
     "output_type": "execute_result"
    },
    {
     "data": {
      "text/plain": [
       "T"
      ]
     },
     "execution_count": 1,
     "metadata": {},
     "output_type": "execute_result"
    },
    {
     "name": "stderr",
     "output_type": "stream",
     "text": [
      "Unable to find framework CUDA\n"
     ]
    }
   ],
   "source": [
    "; cl-waffeを読み込む\n",
    "(load \"../../cl-waffe.asd\")\n",
    "(ql:quickload :cl-waffe :silent t)\n",
    "(use-package :cl-waffe)"
   ]
  },
  {
   "cell_type": "code",
   "execution_count": 2,
   "id": "da34adca-46e7-4ba6-beed-1711121f5a3a",
   "metadata": {},
   "outputs": [
    {
     "data": {
      "text/plain": [
       "((#<SB-KERNEL::CONDITION-CLASSOID SIMPLE-WARNING> . MUFFLE-WARNING))"
      ]
     },
     "execution_count": 2,
     "metadata": {},
     "output_type": "execute_result"
    },
    {
     "name": "stdout",
     "output_type": "stream",
     "text": [
      "SB-INT:SIMPLE-STYLE-WARNING: DECLAIM where DECLARE was probably intended\n"
     ]
    }
   ],
   "source": [
    "#+sbcl(declaim (sb-ext:muffle-conditions cl:simple-warning))"
   ]
  },
  {
   "cell_type": "markdown",
   "id": "24e38b1f-616c-4032-95a5-8426996ab460",
   "metadata": {},
   "source": [
    "### 行列の初期化\n",
    "関数`(!randn dim)`は平均0分散1の標準分布をサンプリングし、与えられた次元数`dim`の行列を返します。"
   ]
  },
  {
   "cell_type": "code",
   "execution_count": 3,
   "id": "c050d0cd-dafc-42b1-a27a-527a14525c82",
   "metadata": {},
   "outputs": [
    {
     "data": {
      "text/plain": [
       "#Const(((-0.54... 0.253... ~ -0.35... -2.36...)        \n",
       "                 ...\n",
       "        (-1.44... -1.51... ~ -0.72... 0.676...)) :mgl t :shape (10 10) :backward NIL)"
      ]
     },
     "execution_count": 3,
     "metadata": {},
     "output_type": "execute_result"
    }
   ],
   "source": [
    "(!randn `(10 10))"
   ]
  },
  {
   "cell_type": "markdown",
   "id": "c11853c0-0428-4c52-86bd-c0f8e53405cf",
   "metadata": {},
   "source": [
    "### 変数を定義する。\n",
    "上記の関数で生成された行列は、Const(定数)と見做され、逆伝播時に勾配を生成しません。\n",
    "\n",
    "マクロ`(parameter tensor)`を介して受け取った定数を変数にします。\n",
    "\n",
    "parameterマクロの前後で計算ノードは途切れることに注意してください。"
   ]
  },
  {
   "cell_type": "code",
   "execution_count": 4,
   "id": "79763921-1c23-456a-9e39-ce552578b17b",
   "metadata": {},
   "outputs": [
    {
     "data": {
      "text/plain": [
       "#Parameter{((-0.54... 0.253... ~ -0.35... -2.36...)            \n",
       "                         ...\n",
       "            (-1.44... -1.51... ~ -0.72... 0.676...)) :mgl t :shape (10 10) :backward NIL}"
      ]
     },
     "execution_count": 4,
     "metadata": {},
     "output_type": "execute_result"
    }
   ],
   "source": [
    "(parameter *)"
   ]
  },
  {
   "cell_type": "markdown",
   "id": "2f8bdb85-74b0-4e8a-b089-8927f6bb7aa4",
   "metadata": {},
   "source": [
    "### 計算ノードを構築する\n",
    "\n",
    "マクロ`(with-no-grad &body body)`内部でない限り、cl-waffeのノードを介した計算は計算ノードを構築します。\n",
    "\n",
    "計算ノードが構築されていたら、TensorをPrintした時に`:backward ノード名`と表示されます。"
   ]
  },
  {
   "cell_type": "code",
   "execution_count": 5,
   "id": "dea4cba1-f42d-4df2-a7b8-09b4d323e81e",
   "metadata": {},
   "outputs": [
    {
     "data": {
      "text/plain": [
       "A"
      ]
     },
     "execution_count": 5,
     "metadata": {},
     "output_type": "execute_result"
    },
    {
     "data": {
      "text/plain": [
       "<Node: ADDTENSOR{W918}>"
      ]
     },
     "execution_count": 5,
     "metadata": {},
     "output_type": "execute_result"
    },
    {
     "data": {
      "text/plain": [
       "NIL"
      ]
     },
     "execution_count": 5,
     "metadata": {},
     "output_type": "execute_result"
    },
    {
     "name": "stdout",
     "output_type": "stream",
     "text": [
      "\n",
      "#Const(((0.625... -1.29... 2.044...)        \n",
      "                 ...\n",
      "        (0.575... -1.00... -0.62...)) :mgl t :shape (3 3) :backward <Node: ADDTENSOR{W918}>) \n",
      "<Node: ADDTENSOR{W918}> "
     ]
    }
   ],
   "source": [
    "(defparameter a (!randn `(3 3)))\n",
    "\n",
    "(let ((result (!add a 0.0)))\n",
    "     (print result)\n",
    "     (print (cl-waffe::waffetensor-state result)))\n",
    "nil"
   ]
  },
  {
   "cell_type": "markdown",
   "id": "098fc517-2077-452a-9e30-4e4e0ad3b2fb",
   "metadata": {},
   "source": [
    "## 順伝播と逆伝播\n",
    "\n",
    "線形回帰モデル\n",
    "$$\n",
    "y=Ax+b\n",
    "$$\n",
    "を計算する。\n",
    "\n",
    "構築された計算ノードは、最後のノードを`(backward out)`のように呼び出すことで逆伝播される。\n",
    "\n",
    "逆伝播はスカラー値に対してでないと定義されないため、最後の計算ノードは損失関数や、`!sum`, `!mean`等になる。\n",
    "\n",
    "各変数は`(grad tensor)`で勾配を取り出される。（勾配はTensorのデータ構造に依る、構造体`WaffeTensor`ではないことに注意）"
   ]
  },
  {
   "cell_type": "code",
   "execution_count": 6,
   "id": "fd593287-0319-4c03-aeed-769b69ce294a",
   "metadata": {},
   "outputs": [
    {
     "data": {
      "text/plain": [
       "WEIGHT"
      ]
     },
     "execution_count": 6,
     "metadata": {},
     "output_type": "execute_result"
    },
    {
     "data": {
      "text/plain": [
       "X"
      ]
     },
     "execution_count": 6,
     "metadata": {},
     "output_type": "execute_result"
    },
    {
     "data": {
      "text/plain": [
       "BIAS"
      ]
     },
     "execution_count": 6,
     "metadata": {},
     "output_type": "execute_result"
    },
    {
     "data": {
      "text/plain": [
       "#<MGL-MAT:MAT 1x3 AF #2A((0.11111112 0.11111112 0.11111112))>"
      ]
     },
     "execution_count": 6,
     "metadata": {},
     "output_type": "execute_result"
    },
    {
     "name": "stdout",
     "output_type": "stream",
     "text": [
      "\n",
      "#Const(((0.005... 0.664... 2.546...)        \n",
      "                 ...\n",
      "        (-0.42... 0.970... 1.887...)) :mgl t :shape (3 3) :backward <Node: BROADCASTINGADDTENSOR{W943}>) \n",
      "#<MGL-MAT:MAT 3x3 F #2A((-0.117892794 -0.08790654 0.1289539)\n",
      "                        (-0.117892794 -0.08790654 0.1289539)\n",
      "                        (-0.117892794 -0.08790654 0.1289539))> \n",
      "#<MGL-MAT:MAT 3x3 F #2A((0.15121937 0.15121937 0.15121937)\n",
      "                        (0.026950078 0.026950078 0.026950078)\n",
      "                        (-0.2382441 -0.2382441 -0.2382441))> \n",
      "#<MGL-MAT:MAT 1x3 F #2A((0.11111112 0.11111112 0.11111112))> "
     ]
    }
   ],
   "source": [
    "(defparameter weight (parameter (!randn `(3 3))))\n",
    "(defparameter x      (parameter (!randn `(3 3))))\n",
    "\n",
    "(defparameter bias   (parameter (!randn `(1 3))))\n",
    "\n",
    "(let ((out (!add (!matmul weight x) bias)))\n",
    "     (print out)\n",
    "     \n",
    "     (setq out (!sum out))\n",
    "     \n",
    "     (backward out)\n",
    "     \n",
    "     (print (grad weight))\n",
    "     (print (grad x))\n",
    "     (print (grad bias)))"
   ]
  },
  {
   "cell_type": "markdown",
   "id": "15494cc2-5750-438f-b95e-2fc470343e85",
   "metadata": {},
   "source": [
    "## ノードを定義する\n",
    "\n",
    "[defnode](https://hikettei.github.io/cl-waffe-docs/docs/cl-waffe.html#2-defnode)マクロを用いて計算ノードの順伝播と逆伝播を定義できます。\n",
    "\n",
    "引用元：[僕のQiitaの記事](https://qiita.com/hikettei/items/f38e0bba89795ec8bff9#%E8%87%AA%E5%8B%95%E5%BE%AE%E5%88%86)に置いてあります。\n",
    "\n",
    "## 自動微分\n",
    "\n",
    "Readmeの英語では`Automatic Differentiation`と記述していますが、`Automatic Backpropagation`の方が適切だと思います。回帰や判別等、教師あり学習や深層学習でモデルを最適化する際に利用する勾配を計算します。(自動微分については`(defnode)`の説明に必要な部分しか書かないので詳しく知りたい方は各自調べてください。[自動微分](https://www.google.com/search?q=%E8%87%AA%E5%8B%95%E5%BE%AE%E5%88%86))\n",
    "\n",
    "勾配は、順伝播時に構築された計算ノードの:backwardスロットをChain Ruleに従って探索することで計算できます。大体のフレームワークと同じくトップダウン型自動微分で、機械学習なら損失関数->各パラメーターみたいな順番でノードを探索します。\n",
    "\n",
    "通常ニューラルネットワークではパラメーターは行列、入力はベクトルですが、ここでは簡単のため全てスカラーとします。\n",
    "\n",
    "$$\n",
    "X, w\\in\\mathbb{R}\n",
    "$$\n",
    "\n",
    "はそれぞれ入力と学習するパラメーターとします\n",
    "\n",
    "説明のための仮のネットワークが\n",
    "\n",
    "$$\n",
    "f(x) = wx\n",
    "$$\n",
    "\n",
    "を用いて\n",
    "\n",
    "$$\n",
    "out_1 = f(X)\n",
    "$$\n",
    "\n",
    "$$\n",
    "out_2 = sin(out_1)\n",
    "$$\n",
    "\n",
    "$$\n",
    "out_3 = cos(out_2)\n",
    "$$\n",
    "\n",
    "という3層の構造から成り立ち、ネットワーク全体は\n",
    "\n",
    "$$\n",
    "out_3 = cos(sin(f(X)))\n",
    "$$\n",
    "\n",
    "と表せるとしましょう。\n",
    "\n",
    "out_3の値から上の式の微分を示します。\n",
    "\n",
    "まず、`out_3=cos(out_2)`の微分(劣微分)は合成関数の微分より\n",
    "\n",
    "$$\n",
    "\\frac{\\partial{cos(out_2)}}{\\partial{out_2}} = -sin(out_2)\\cdot{\\frac{\\partial{sin(out_1)}}{\\partial{out_1}}}\n",
    "$$\n",
    "\n",
    "同様に、`out_1=sin(f(x))`は\n",
    "\n",
    "$$\n",
    "{\\frac{\\partial{sin(out_1)}}{\\partial{out_1}}}=f(out_1)\\cdot{\\frac{\\partial{f(X)}}{\\partial{X}}}\n",
    "$$\n",
    "\n",
    "また、f(x)の微分は\n",
    "\n",
    "$$\n",
    "{\\frac{\\partial{f(X)}}{\\partial{X}}}=w\n",
    "$$\n",
    "\n",
    "ですのでXの勾配が求まりました。上の式でwについて偏微分していたら\n",
    "\n",
    "$$\n",
    "{\\frac{\\partial{f(X)}}{\\partial{w}}}=X\n",
    "$$\n",
    "\n",
    "となりwの勾配が求まります。\n",
    "\n",
    "上記の例は各ノードが自身の出力と上位の関数の勾配のみを用いて自身の勾配を求め、それを下位のノードに伝播していくことで機械的に勾配の計算ができることを示しています。これは単純な計算木での例ですが、ニューラルネットワークのような複雑な計算木が構築されてもこのルールに従うことで機械的に勾配の計算ができることは伝わったでしょうか。\n",
    "\n",
    "## defnodeで表現する\n",
    "\n",
    "cl-waffeでは`cos` `sin`がそれぞれノードに相当し、`(defnode)`を通じて順伝播と逆伝播を定義します。\n",
    "\n",
    "前の項で述べた数式をcl-waffeを用いてCommon Lispのプログラムで表現するには、まず`sin` `cos` `f`関数をノードとして定義する必要があります。`(defnode)`マクロを用いて\n"
   ]
  },
  {
   "cell_type": "code",
   "execution_count": 7,
   "id": "448daab8-92f4-4b04-88e1-758bd8f7dded",
   "metadata": {},
   "outputs": [
    {
     "data": {
      "text/plain": [
       "NIL"
      ]
     },
     "execution_count": 7,
     "metadata": {},
     "output_type": "execute_result"
    },
    {
     "data": {
      "text/plain": [
       "NIL"
      ]
     },
     "execution_count": 7,
     "metadata": {},
     "output_type": "execute_result"
    },
    {
     "data": {
      "text/plain": [
       "NIL"
      ]
     },
     "execution_count": 7,
     "metadata": {},
     "output_type": "execute_result"
    },
    {
     "name": "stdout",
     "output_type": "stream",
     "text": [
      "SB-INT:SIMPLE-STYLE-WARNING: Cannot\n",
      "                                                                                          find\n",
      "                                                                                          type\n",
      "                                                                                          for\n",
      "                                                                                          specializer\n",
      "                                                                                          COMMON-LISP-USER::SINNODE\n",
      "                                                                                          when\n",
      "                                                                                          executing\n",
      "                                                                                          SB-PCL:SPECIALIZER-TYPE-SPECIFIER\n",
      "                                                                                          for\n",
      "                                                                                          a\n",
      "                                                                                          STANDARD-METHOD\n",
      "                                                                                          of\n",
      "                                                                                          a\n",
      "                                                                                          STANDARD-GENERIC-FUNCTION.\n",
      "SB-INT:SIMPLE-STYLE-WARNING: Cannot find type for specializer\n",
      "                             COMMON-LISP-USER::SINNODE when executing\n",
      "                             SB-PCL:SPECIALIZER-TYPE-SPECIFIER for a\n",
      "                             STANDARD-METHOD of a STANDARD-GENERIC-FUNCTION.\n",
      "SB-INT:SIMPLE-STYLE-WARNING: Cannot find type for specializer\n",
      "                             COMMON-LISP-USER::SINNODE when executing\n",
      "                             SB-PCL:SPECIALIZER-TYPE-SPECIFIER for a\n",
      "                             STANDARD-METHOD of a STANDARD-GENERIC-FUNCTION.\n",
      "SB-INT:SIMPLE-STYLE-WARNING: undefined type: COMMON-LISP-USER::SINNODE\n",
      "SB-INT:SIMPLE-STYLE-WARNING: Cannot find type for specializer\n",
      "                             COMMON-LISP-USER::COSNODE when executing\n",
      "                             SB-PCL:SPECIALIZER-TYPE-SPECIFIER for a\n",
      "                             STANDARD-METHOD of a STANDARD-GENERIC-FUNCTION.\n",
      "SB-INT:SIMPLE-STYLE-WARNING: Cannot find type for specializer\n",
      "                             COMMON-LISP-USER::COSNODE when executing\n",
      "                             SB-PCL:SPECIALIZER-TYPE-SPECIFIER for a\n",
      "                             STANDARD-METHOD of a STANDARD-GENERIC-FUNCTION.\n",
      "SB-INT:SIMPLE-STYLE-WARNING: Cannot find type for specializer\n",
      "                             COMMON-LISP-USER::COSNODE when executing\n",
      "                             SB-PCL:SPECIALIZER-TYPE-SPECIFIER for a\n",
      "                             STANDARD-METHOD of a STANDARD-GENERIC-FUNCTION.\n",
      "SB-INT:SIMPLE-STYLE-WARNING: undefined type: COMMON-LISP-USER::COSNODE\n",
      "SB-INT:SIMPLE-STYLE-WARNING: Cannot find type for specializer\n",
      "                             COMMON-LISP-USER::F when executing\n",
      "                             SB-PCL:SPECIALIZER-TYPE-SPECIFIER for a\n",
      "                             STANDARD-METHOD of a STANDARD-GENERIC-FUNCTION.\n",
      "SB-INT:SIMPLE-STYLE-WARNING: Cannot find type for specializer\n",
      "                             COMMON-LISP-USER::F when executing\n",
      "                             SB-PCL:SPECIALIZER-TYPE-SPECIFIER for a\n",
      "                             STANDARD-METHOD of a STANDARD-GENERIC-FUNCTION.\n",
      "SB-INT:SIMPLE-STYLE-WARNING: Cannot find type for specializer\n",
      "                             COMMON-LISP-USER::F when executing\n",
      "                             SB-PCL:SPECIALIZER-TYPE-SPECIFIER for a\n",
      "                             STANDARD-METHOD of a STANDARD-GENERIC-FUNCTION.\n",
      "SB-INT:SIMPLE-STYLE-WARNING: undefined type: COMMON-LISP-USER::F\n"
     ]
    }
   ],
   "source": [
    ";sin(x)\n",
    "(defnode SinNode ()\n",
    "  :parameters ((xi nil))\n",
    "  :forward ((x)\n",
    "            (save-for-backward xi x)\n",
    "            (call-and-dispatch-kernel :sin nil nil x))\n",
    "  :backward ((dy)\n",
    "             (list (!mul dy (!cos (self xi))))))\n",
    "\n",
    ";cos(x)\n",
    "(defnode CosNode ()\n",
    "  :parameters ((xi nil))\n",
    "  :forward ((x)\n",
    "            (save-for-backward xi x)\n",
    "            (call-and-dispatch-kernel :cos nil nil x))\n",
    "  :backward ((dy)\n",
    "             (list (!mul dy (!mul -1.0 (!sin (self xi)))))))\n",
    "\n",
    ";f(x)\n",
    "(defmodel F ()\n",
    "  :parameters ((w (parameter (const 1.0))))\n",
    "  :forward ((x)\n",
    "            (!mul (self w) x)))"
   ]
  },
  {
   "cell_type": "markdown",
   "id": "3d21b8ad-c772-4079-9739-d90d56a65fa6",
   "metadata": {},
   "source": [
    "\n",
    "(補足: `:parameters`はノードが順伝播時と逆伝播時で共有する変数の一覧で`(self パラメーター名)`でアクセス可能かつsetfable, `save-for-backward`は逆伝播が呼び出されうる状況のみおいて変数を自身のパラメーターに保存するマクロ, `call-and-dispatch-kernel`は引数の型に応じて適切なcl-waffeのカーネルを呼び出す関数です。マクロ`(parameter tensor)`は受け取ったWaffeTensorを学習可能パラメーターにします。)\n",
    "\n",
    "四則演算など複数の変数を引数にする場合は計算ノードの分岐として表現します。ですから:backwardは必ずlistで返す必要があり、たとえばforwardの引数なら(x y)なら返り値は(xの勾配 yの勾配)のように記述してください。\n",
    "\n",
    "関数fは単純にwとxの積ですから、ノードを自分で定義しなくても`(defmodel)`と自動微分を用いて定義します。(もちろんsinやcosのノードは標準で定義されています。)"
   ]
  },
  {
   "cell_type": "markdown",
   "id": "976281cd-5604-4649-8115-a64d1caefd7d",
   "metadata": {},
   "source": [
    "## 実際に計算してみる\n",
    "\n",
    "実際に上記の計算を行ってみましょう。"
   ]
  },
  {
   "cell_type": "code",
   "execution_count": 8,
   "id": "1f6ff317-447b-4167-9e32-edbde7060689",
   "metadata": {},
   "outputs": [
    {
     "data": {
      "text/plain": [
       "#Parameter{1.0}"
      ]
     },
     "execution_count": 8,
     "metadata": {},
     "output_type": "execute_result"
    }
   ],
   "source": [
    "; x をパラメーター（最適化するパラメーター）として初期化\n",
    "(setq x (parameter (const 1.0)))"
   ]
  },
  {
   "cell_type": "code",
   "execution_count": 9,
   "id": "20b1b1e6-95ff-4f37-ae0d-dee1ef3c4d7a",
   "metadata": {},
   "outputs": [
    {
     "data": {
      "text/plain": [
       "[Model: F :ident {W1054}]"
      ]
     },
     "execution_count": 9,
     "metadata": {},
     "output_type": "execute_result"
    },
    {
     "data": {
      "text/plain": [
       "#Const(1.0)"
      ]
     },
     "execution_count": 9,
     "metadata": {},
     "output_type": "execute_result"
    },
    {
     "data": {
      "text/plain": [
       "#Const(0.5403023)"
      ]
     },
     "execution_count": 9,
     "metadata": {},
     "output_type": "execute_result"
    },
    {
     "data": {
      "text/plain": [
       "#Const(0.51439524)"
      ]
     },
     "execution_count": 9,
     "metadata": {},
     "output_type": "execute_result"
    },
    {
     "name": "stdout",
     "output_type": "stream",
     "text": [
      "SIMPLE-WARNING: undefined variable: COMMON-LISP-USER::F-MODEL\n",
      "SIMPLE-WARNING: undefined variable: COMMON-LISP-USER::F-MODEL\n",
      "SIMPLE-WARNING: undefined variable: COMMON-LISP-USER::OUT_1\n",
      "SIMPLE-WARNING: undefined variable: COMMON-LISP-USER::OUT_1\n",
      "SIMPLE-WARNING: undefined variable: COMMON-LISP-USER::OUT_2\n",
      "SIMPLE-WARNING: undefined variable: COMMON-LISP-USER::OUT_2\n",
      "SIMPLE-WARNING: undefined variable: COMMON-LISP-USER::OUT_3\n"
     ]
    }
   ],
   "source": [
    "(setq f-model (F)) ; 後で使うので変数に保存\n",
    "; [Model: F :ident {W2142}]\n",
    "\n",
    "(setq out_1 (call f-model x))\n",
    ";#Const(1.0)\n",
    "(setq out_2 (call (CosNode) out_1))\n",
    ";#Const(0.5403023)\n",
    "(setq out_3 (call (SinNode) out_2))\n",
    ";#Const(0.51439524)"
   ]
  },
  {
   "cell_type": "markdown",
   "id": "bf583f90-7274-42fa-b0b4-06464999a283",
   "metadata": {},
   "source": [
    "逆伝播は`(backward out)`という関数で行えます。outはスカラー値でWaffeTensorである必要があります。`(with-verbose)`マクロを用いて計算ノードを可視化しながら逆伝播してみましょう。"
   ]
  },
  {
   "cell_type": "code",
   "execution_count": 10,
   "id": "55ddc4f5-aa0f-4f99-8bbc-cef2a739fa52",
   "metadata": {},
   "outputs": [
    {
     "data": {
      "text/plain": [
       "NIL"
      ]
     },
     "execution_count": 10,
     "metadata": {},
     "output_type": "execute_result"
    },
    {
     "name": "stdout",
     "output_type": "stream",
     "text": [
      "SIMPLE-WARNING: undefined variable: COMMON-LISP-USER::OUT_3\n",
      "<Node: SINNODE{W1111}>\n",
      "<Node: COSNODE{W1093}>\n",
      " <Node: MULTENSOR{W1082}>\n",
      "  <The End of Node>\n",
      "  <The End of Node>\n"
     ]
    }
   ],
   "source": [
    "(with-verbose\n",
    "    (backward out_3))"
   ]
  },
  {
   "cell_type": "markdown",
   "id": "eb17aa97-6b5f-425f-b8e8-bda6c3fdff85",
   "metadata": {},
   "source": [
    "## モデルを使う\n",
    "\n",
    "`defmodel`マクロを介してモデルを定義できます。\n",
    "\n",
    "モデルの内部では基本的に自動微分を用います。\n",
    "\n",
    "モデル内部に保存されたTensorの中で`(parameter tensor)`を用いて定義されたものは学習可能パラメーターとみなされ、最適化関数を呼び出したときに破壊的に変更され最適化されます。\n",
    "\n",
    "\n",
    "`cl-waffe.nn:linear`関数を用いて、線形回帰を行うモデルを定義してみましょう。"
   ]
  },
  {
   "cell_type": "code",
   "execution_count": 11,
   "id": "4b20ca78-570c-4ce6-b84a-092c89c0bed0",
   "metadata": {},
   "outputs": [
    {
     "data": {
      "text/plain": [
       "NIL"
      ]
     },
     "execution_count": 11,
     "metadata": {},
     "output_type": "execute_result"
    },
    {
     "name": "stdout",
     "output_type": "stream",
     "text": [
      "SB-INT:SIMPLE-STYLE-WARNING: Cannot find type for specializer\n",
      "                             COMMON-LISP-USER::MYLINEARLAYER when executing\n",
      "                             SB-PCL:SPECIALIZER-TYPE-SPECIFIER for a\n",
      "                             STANDARD-METHOD of a STANDARD-GENERIC-FUNCTION.\n",
      "SB-INT:SIMPLE-STYLE-WARNING: Cannot find type for specializer\n",
      "                             COMMON-LISP-USER::MYLINEARLAYER when executing\n",
      "                             SB-PCL:SPECIALIZER-TYPE-SPECIFIER for a\n",
      "                             STANDARD-METHOD of a STANDARD-GENERIC-FUNCTION.\n",
      "SB-INT:SIMPLE-STYLE-WARNING: Cannot find type for specializer\n",
      "                             COMMON-LISP-USER::MYLINEARLAYER when executing\n",
      "                             SB-PCL:SPECIALIZER-TYPE-SPECIFIER for a\n",
      "                             STANDARD-METHOD of a STANDARD-GENERIC-FUNCTION.\n",
      "SB-INT:SIMPLE-STYLE-WARNING: undefined type: COMMON-LISP-USER::MYLINEARLAYER\n"
     ]
    }
   ],
   "source": [
    "(defmodel MyLinearLayer (in-features out-features &optional (bias T))\n",
    "    :parameters ((weight\n",
    "                  (parameter (!mul 0.01 (!randn `(,in-features ,out-features))))\n",
    "                  :type waffetensor)\n",
    "                 (bias (if bias\n",
    "                           (parameter (!zeros `(1 ,out-features)))\n",
    "                           nil)))\n",
    "    :forward ((x)\n",
    "              (cl-waffe.nn:linear x (self weight) (self bias))))"
   ]
  },
  {
   "cell_type": "code",
   "execution_count": 14,
   "id": "22e81751-0ed9-464c-b5c4-a76f9d15bd92",
   "metadata": {},
   "outputs": [
    {
     "data": {
      "text/plain": [
       "*MY-MODEL*"
      ]
     },
     "execution_count": 14,
     "metadata": {},
     "output_type": "execute_result"
    },
    {
     "data": {
      "text/plain": [
       "#Const(((0.086... 0.071... ~ 0.131... 0.074...)        \n",
       "                 ...\n",
       "        (-0.08... 0.023... ~ 0.003... -0.02...)) :mgl t :shape (100 10) :backward <Node: BROADCASTINGADDTENSOR{W1267}>)"
      ]
     },
     "execution_count": 14,
     "metadata": {},
     "output_type": "execute_result"
    }
   ],
   "source": [
    "(defparameter *my-model* (MyLinearLayer 100 10))\n",
    "(call *my-model* (!randn `(100 100)))"
   ]
  },
  {
   "cell_type": "code",
   "execution_count": 15,
   "id": "6b88ebb5-d84c-4a51-a4b6-d1d4695e8e89",
   "metadata": {},
   "outputs": [
    {
     "data": {
      "text/plain": [
       "#Const(-1.0428165)"
      ]
     },
     "execution_count": 15,
     "metadata": {},
     "output_type": "execute_result"
    },
    {
     "data": {
      "text/plain": [
       "NIL"
      ]
     },
     "execution_count": 15,
     "metadata": {},
     "output_type": "execute_result"
    }
   ],
   "source": [
    "(!sum *)\n",
    "(backward *)"
   ]
  },
  {
   "cell_type": "code",
   "execution_count": 19,
   "id": "da1991ec-e079-4bb8-a2c5-a28ba9148a7f",
   "metadata": {},
   "outputs": [
    {
     "data": {
      "text/plain": [
       "#Const(((-0.00... -0.00... ~ -0.00... -0.00...)        \n",
       "                 ...\n",
       "        (-0.00... -0.00... ~ -0.00... -0.00...)) :mgl t :shape (100 10) :backward NIL)"
      ]
     },
     "execution_count": 19,
     "metadata": {},
     "output_type": "execute_result"
    }
   ],
   "source": [
    "(const (grad (mylinearlayer-weight *my-model*))) ; (grad)で勾配を取り出すと短くPrintされないので、WaffeTensorにしている。"
   ]
  }
 ],
 "metadata": {
  "kernelspec": {
   "display_name": "Common Lisp",
   "language": "common-lisp",
   "name": "common-lisp"
  },
  "language_info": {
   "codemirror_mode": "text/x-common-lisp",
   "file_extension": ".lisp",
   "mimetype": "text/x-common-lisp",
   "name": "common-lisp",
   "pygments_lexer": "common-lisp",
   "version": "2.1.0"
  }
 },
 "nbformat": 4,
 "nbformat_minor": 5
}
