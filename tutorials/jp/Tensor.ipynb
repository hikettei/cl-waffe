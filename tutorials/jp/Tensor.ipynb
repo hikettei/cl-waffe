{
 "cells": [
  {
   "cell_type": "markdown",
   "id": "f7725d27-c31d-4946-b3ee-0c4030183e52",
   "metadata": {},
   "source": [
    "### Tensorの使い方"
   ]
  },
  {
   "cell_type": "code",
   "execution_count": null,
   "id": "fb3aa469-880d-4271-8744-2507c69b4a76",
   "metadata": {},
   "outputs": [],
   "source": []
  }
 ],
 "metadata": {
  "kernelspec": {
   "display_name": "Common Lisp",
   "language": "common-lisp",
   "name": "common-lisp"
  },
  "language_info": {
   "codemirror_mode": "text/x-common-lisp",
   "file_extension": ".lisp",
   "mimetype": "text/x-common-lisp",
   "name": "common-lisp",
   "pygments_lexer": "common-lisp",
   "version": "2.1.0"
  }
 },
 "nbformat": 4,
 "nbformat_minor": 5
}
