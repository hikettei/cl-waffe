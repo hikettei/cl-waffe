{
 "cells": [
  {
   "cell_type": "code",
   "execution_count": 1,
   "id": "653a9440-2cd3-441e-9c5d-b2cd976a014c",
   "metadata": {},
   "outputs": [
    {
     "data": {
      "text/plain": [
       "T"
      ]
     },
     "execution_count": 1,
     "metadata": {},
     "output_type": "execute_result"
    },
    {
     "data": {
      "text/plain": [
       "(:CL-WAFFE)"
      ]
     },
     "execution_count": 1,
     "metadata": {},
     "output_type": "execute_result"
    },
    {
     "data": {
      "text/plain": [
       "T"
      ]
     },
     "execution_count": 1,
     "metadata": {},
     "output_type": "execute_result"
    },
    {
     "name": "stderr",
     "output_type": "stream",
     "text": [
      "Unable to find framework CUDA\n"
     ]
    }
   ],
   "source": [
    "; cl-waffeの準備\n",
    "(load \"../../cl-waffe.asd\")\n",
    "(ql:quickload :cl-waffe :silent t)\n",
    "(use-package :cl-waffe)"
   ]
  },
  {
   "cell_type": "markdown",
   "id": "f7725d27-c31d-4946-b3ee-0c4030183e52",
   "metadata": {},
   "source": [
    "## WaffeTensorの基本的な使い方\n",
    "\n",
    "WaffeTensorには三種類あります\n",
    "\n",
    "- const 定数として扱われるWaffeTensor (e.g.: データセット)\n",
    "- tensor 勾配を必要とするWaffeTensor (e.g.: モデルの重み) これはTensorの行列と、勾配の行列を保存するから、固定のメモリ使用量が単純に**二倍**になる。\n",
    "- sysconst 計算途中で大量に作成するTensor, 一部型判定などを省略。 (e.g.: !add関数の帰り値)"
   ]
  },
  {
   "cell_type": "code",
   "execution_count": 6,
   "id": "fb3aa469-880d-4271-8744-2507c69b4a76",
   "metadata": {},
   "outputs": [
    {
     "data": {
      "text/plain": [
       "#Const(0)"
      ]
     },
     "execution_count": 6,
     "metadata": {},
     "output_type": "execute_result"
    }
   ],
   "source": [
    "(const 0)"
   ]
  },
  {
   "cell_type": "code",
   "execution_count": 7,
   "id": "fbc1422d-fe03-4188-b22b-d5bde728e646",
   "metadata": {},
   "outputs": [
    {
     "data": {
      "text/plain": [
       "#Parameter{0}"
      ]
     },
     "execution_count": 7,
     "metadata": {},
     "output_type": "execute_result"
    }
   ],
   "source": [
    "(tensor 0)"
   ]
  },
  {
   "cell_type": "code",
   "execution_count": 8,
   "id": "346da313-8851-4933-9648-e838048c164f",
   "metadata": {},
   "outputs": [
    {
     "data": {
      "text/plain": [
       "#Const(0)"
      ]
     },
     "execution_count": 8,
     "metadata": {},
     "output_type": "execute_result"
    }
   ],
   "source": [
    "(sysconst 0)"
   ]
  },
  {
   "cell_type": "markdown",
   "id": "19117e20-c19f-433a-85a6-8298f0823819",
   "metadata": {},
   "source": [
    "## 計算ノードの表示\n",
    "\n",
    "テンソルの:backawrdスロットに、逆伝播を計算するためのNodeが記録されていく。"
   ]
  },
  {
   "cell_type": "code",
   "execution_count": 9,
   "id": "7fe1ee77-112c-4d69-a275-dd1a6d592a12",
   "metadata": {},
   "outputs": [
    {
     "data": {
      "text/plain": [
       "*A*"
      ]
     },
     "execution_count": 9,
     "metadata": {},
     "output_type": "execute_result"
    },
    {
     "data": {
      "text/plain": [
       "#Const(((1.625... -0.29... ~ 0.376... 0.299...)        \n",
       "                 ...\n",
       "        (-0.04... 1.507... ~ 0.486... 0.417...)) :mgl t :shape (10 10) :backward <Node: ADDTENSOR{W937}>)"
      ]
     },
     "execution_count": 9,
     "metadata": {},
     "output_type": "execute_result"
    }
   ],
   "source": [
    "(defparameter *a* (!randn `(10 10)))\n",
    "(!add *a* 1.0)"
   ]
  },
  {
   "cell_type": "markdown",
   "id": "69d8759b-33d9-453e-a77b-395efd6ba8a2",
   "metadata": {},
   "source": [
    "## Transpose/Tracing JITによる遅延評価\n",
    "\n",
    "以下の機能はTensorを遅延評価することで実現される\n",
    "\n",
    "1. `!transpose`関数(演算を遅延評価して、最後の二つの軸を入れ替える)\n",
    "2. Tracing JIT (Waffe標準演算を遅延評価して、(value tensor)が呼ばれたら計算ノードを探索+動的にカーネルを定義)\n",
    "\n",
    "遅延評価されたTensorはλ式として表現されるが、shapeにはアクセスできる。\n",
    "\n",
    "`!reshape`などの関数も普通に使える（特別なコードを加える必要はない）が、その場合遅延評価が受理されるので注意\n",
    "\n",
    "Tracing JITは`with-jit`マクロ内部で有効, `cl-waffe::with-jit-debug`に書き換えると、内部で何をしてるのか分かり易いと思う。"
   ]
  },
  {
   "cell_type": "code",
   "execution_count": 19,
   "id": "be0c3958-7696-4fc6-b11c-682d188f894c",
   "metadata": {},
   "outputs": [
    {
     "data": {
      "text/plain": [
       "*A*"
      ]
     },
     "execution_count": 19,
     "metadata": {},
     "output_type": "execute_result"
    },
    {
     "data": {
      "text/plain": [
       "#Const(#<FUNCTION (LABELS CL-WAFFE.BACKENDS.MGL::LAZYEVALUATEDNODES :IN CL-WAFFE.BACKENDS.MGL::STEP-AND-PRODUCE-LAZY-EVAL) {100178B48B}>)"
      ]
     },
     "execution_count": 19,
     "metadata": {},
     "output_type": "execute_result"
    },
    {
     "name": "stdout",
     "output_type": "stream",
     "text": [
      "\n",
      "(3 3) "
     ]
    }
   ],
   "source": [
    "(defparameter *a* (!randn `(3 3)))\n",
    "\n",
    "(with-jit\n",
    "    (let ((out (!exp (!log *a*))))\n",
    "         (print (!shape out)) ;shapeにアクセス\n",
    "         out)) ; outは遅延評価されている"
   ]
  },
  {
   "cell_type": "code",
   "execution_count": 26,
   "id": "d2b5d52f-016c-45cb-8f33-6df5a4af11d8",
   "metadata": {},
   "outputs": [
    {
     "data": {
      "text/plain": [
       "#Const(((2.242... 0.252... 1.908...)        \n",
       "                 ...\n",
       "        (2.242... 0.355... 1.056...)) :mgl t :shape (3 3) :backward <Node: EXPTENSOR{W1043}>)"
      ]
     },
     "execution_count": 26,
     "metadata": {},
     "output_type": "execute_result"
    },
    {
     "name": "stdout",
     "output_type": "stream",
     "text": [
      "\n",
      "#<MGL-MAT:MAT 3x3 B #2A((2.2420775e-44 0.25249693 1.9089459)\n",
      "                        (2.2420775e-44 0.401076 2.2420775e-44)\n",
      "                        (2.2420775e-44 0.3555825 1.0564866))> "
     ]
    }
   ],
   "source": [
    "(with-jit\n",
    "    (let ((out (!exp (!log *a*))))\n",
    "         (print (value out)) ; valueで遅延評価を受理, valueはmgl-mat:matを返す\n",
    "         out))"
   ]
  },
  {
   "cell_type": "code",
   "execution_count": 28,
   "id": "e4ad04ed-787a-4022-94b4-4a7a56f774b5",
   "metadata": {},
   "outputs": [
    {
     "data": {
      "text/plain": [
       "*M*"
      ]
     },
     "execution_count": 28,
     "metadata": {},
     "output_type": "execute_result"
    },
    {
     "data": {
      "text/plain": [
       "*N*"
      ]
     },
     "execution_count": 28,
     "metadata": {},
     "output_type": "execute_result"
    },
    {
     "data": {
      "text/plain": [
       "#Const(#<FUNCTION (LABELS CL-WAFFE.BACKENDS.MGL::LAZYTRANSPOSE :IN CL-WAFFE.BACKENDS.MGL::LAZY-EVAL-TRANSPOSE) {1002C531FB}>)"
      ]
     },
     "execution_count": 28,
     "metadata": {},
     "output_type": "execute_result"
    }
   ],
   "source": [
    "(defparameter *m* (!randn `(2 3 2)))\n",
    "(defparameter *n* (!randn `(3 2)))\n",
    "\n",
    "(!transpose *m*)"
   ]
  },
  {
   "cell_type": "code",
   "execution_count": 29,
   "id": "012e86a8-42d8-43cd-ae50-2dc1ba2d562e",
   "metadata": {},
   "outputs": [
    {
     "data": {
      "text/plain": [
       "(2 2 3)"
      ]
     },
     "execution_count": 29,
     "metadata": {},
     "output_type": "execute_result"
    }
   ],
   "source": [
    "(!shape *)"
   ]
  },
  {
   "cell_type": "code",
   "execution_count": 32,
   "id": "fd1a99ec-4157-4152-9ba8-067523480300",
   "metadata": {},
   "outputs": [
    {
     "data": {
      "text/plain": [
       "#Const((((3.518... -2.21...)\n",
       "         (0.137... 0.245...))\n",
       "        ((1.567... -0.18...)\n",
       "         (0.946... -1.62...))) :mgl t :shape (2 2 2) :backward <Node: MATMULTENSOR{W1084}>)"
      ]
     },
     "execution_count": 32,
     "metadata": {},
     "output_type": "execute_result"
    },
    {
     "name": "stdout",
     "output_type": "stream",
     "text": [
      "Evaluation took:\n",
      "  0.000 seconds of real time\n",
      "  0.000063 seconds of total run time (0.000063 user, 0.000000 system)\n",
      "  100.00% CPU\n",
      "  143,348 processor cycles\n",
      "  0 bytes consed\n",
      "  \n"
     ]
    }
   ],
   "source": [
    "(time (!matmul (!transpose *m*) *n*)) ; matmulの前のTransposeは遅延評価をしておけば余計なコストがかからない！"
   ]
  },
  {
   "cell_type": "markdown",
   "id": "5a642eaa-b8bd-48d6-b161-d9478bd132f3",
   "metadata": {},
   "source": [
    "## Shapeにアクセス\n",
    "\n",
    "Shapeにアクセスする関数など"
   ]
  },
  {
   "cell_type": "code",
   "execution_count": null,
   "id": "ad3e304f-c70e-4393-9aee-cde7d6137c5e",
   "metadata": {},
   "outputs": [],
   "source": []
  },
  {
   "cell_type": "code",
   "execution_count": null,
   "id": "bff49606-27c1-4e1f-a544-c424352336f8",
   "metadata": {},
   "outputs": [],
   "source": []
  }
 ],
 "metadata": {
  "kernelspec": {
   "display_name": "Common Lisp",
   "language": "common-lisp",
   "name": "common-lisp"
  },
  "language_info": {
   "codemirror_mode": "text/x-common-lisp",
   "file_extension": ".lisp",
   "mimetype": "text/x-common-lisp",
   "name": "common-lisp",
   "pygments_lexer": "common-lisp",
   "version": "2.1.0"
  }
 },
 "nbformat": 4,
 "nbformat_minor": 5
}
