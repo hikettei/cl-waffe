{
 "cells": [
  {
   "cell_type": "markdown",
   "id": "e4983009-0c8e-4210-9641-a347de4c3703",
   "metadata": {},
   "source": [
    "## 確率分布\n",
    "\n",
    "[clgplot](https://github.com/masatoi/clgplot)を使っています。\n"
   ]
  },
  {
   "cell_type": "code",
   "execution_count": 1,
   "id": "f9549488-1ee0-455c-bb0d-fe31d19674fc",
   "metadata": {},
   "outputs": [
    {
     "data": {
      "text/plain": [
       "T"
      ]
     },
     "execution_count": 1,
     "metadata": {},
     "output_type": "execute_result"
    },
    {
     "data": {
      "text/plain": [
       "(:CL-WAFFE :CLGPLOT)"
      ]
     },
     "execution_count": 1,
     "metadata": {},
     "output_type": "execute_result"
    },
    {
     "name": "stderr",
     "output_type": "stream",
     "text": [
      "Unable to find framework CUDA\n"
     ]
    }
   ],
   "source": [
    "; cl-waffeを読み込む\n",
    "(load \"../../cl-waffe.asd\")\n",
    "(ql:quickload `(:cl-waffe :clgplot) :silent t)"
   ]
  },
  {
   "cell_type": "code",
   "execution_count": 2,
   "id": "71828a9a-c2f1-4c22-a0bd-02dea75b7bcd",
   "metadata": {},
   "outputs": [
    {
     "data": {
      "text/plain": [
       "#<PACKAGE \"DISTRIBUTION-EXAMPLE\">"
      ]
     },
     "execution_count": 2,
     "metadata": {},
     "output_type": "execute_result"
    },
    {
     "data": {
      "text/plain": [
       "#<PACKAGE \"DISTRIBUTION-EXAMPLE\">"
      ]
     },
     "execution_count": 2,
     "metadata": {},
     "output_type": "execute_result"
    }
   ],
   "source": [
    "(defpackage :distribution-example\n",
    "    (:use :cl :cl-waffe :clgplot :mgl-mat))\n",
    "\n",
    "(in-package :distribution-example)"
   ]
  },
  {
   "cell_type": "code",
   "execution_count": 3,
   "id": "ec8706a5-8535-4329-aa25-0df1f7866acf",
   "metadata": {},
   "outputs": [
    {
     "data": {
      "text/plain": [
       "((#<SB-KERNEL::CONDITION-CLASSOID SB-KERNEL:REDEFINITION-WARNING>\n",
       "  . MUFFLE-WARNING))"
      ]
     },
     "execution_count": 3,
     "metadata": {},
     "output_type": "execute_result"
    },
    {
     "name": "stdout",
     "output_type": "stream",
     "text": [
      "SB-INT:SIMPLE-STYLE-WARNING: DECLAIM where DECLARE was probably intended\n"
     ]
    }
   ],
   "source": [
    "#+sbcl(declaim (sb-ext:muffle-conditions sb-kernel:redefinition-warning))"
   ]
  },
  {
   "cell_type": "code",
   "execution_count": 4,
   "id": "3f17c761-e201-4688-af2b-c662f5d136e2",
   "metadata": {},
   "outputs": [
    {
     "data": {
      "text/plain": [
       "*OUTPUT-DIR*"
      ]
     },
     "execution_count": 4,
     "metadata": {},
     "output_type": "execute_result"
    },
    {
     "data": {
      "text/plain": [
       "WITH-GNUPLOT"
      ]
     },
     "execution_count": 4,
     "metadata": {},
     "output_type": "execute_result"
    },
    {
     "data": {
      "text/plain": [
       "SHOW-TENSOR"
      ]
     },
     "execution_count": 4,
     "metadata": {},
     "output_type": "execute_result"
    },
    {
     "name": "stdout",
     "output_type": "stream",
     "text": [
      "SB-INT:SIMPLE-STYLE-WARNING: The variable TITLE is defined but never used.\n"
     ]
    }
   ],
   "source": [
    "; Utils\n",
    "\n",
    "(defparameter *output-dir* nil)\n",
    "\n",
    "(defmacro with-gnuplot (title &body body)\n",
    "    `(let ((*output-dir* (format nil \"./tmp/~a.png\" ,title)))\n",
    "          (locally ,@body)\n",
    "          (jupyter:file *output-dir* :display t)))\n",
    "\n",
    "(defun show-tensor (samples pdf &key (sample-n 30) (title \"tmp\"))\n",
    "    \"samples : サンプリングされた確率分布\n",
    "     PDF     : 確率密度関数\"\n",
    "    (declare (type waffetensor samples)\n",
    "             (type function pdf))\n",
    "    (with-facets ((a* ((data samples) 'array)))\n",
    "        (plot-histogram-with-pdf\n",
    "         (coerce a* 'list)\n",
    "         sample-n\n",
    "         pdf\n",
    "         :output *output-dir*)))"
   ]
  },
  {
   "cell_type": "markdown",
   "id": "5e56db11-497e-48ff-9e0f-d5afcdfcab2c",
   "metadata": {},
   "source": [
    "## 正規分布\n",
    "\n",
    "確率密度関数 (σは分散, μは平均) ここではσ=1.0, μ=0.0とする。\n",
    "\n",
    "$$\n",
    "f(x)=\\dfrac{1}{\\sqrt{2\\pi\\sigma^2}}\\exp(-\\dfrac{(x-\\mu)^ 2}{2\\sigma^ 2})\n",
    "$$"
   ]
  },
  {
   "cell_type": "code",
   "execution_count": 5,
   "id": "c6cf577c-4150-4f96-9ac6-169d6a004388",
   "metadata": {},
   "outputs": [
    {
     "data": {
      "text/plain": [
       "PI-SINGLE-FLOAT"
      ]
     },
     "execution_count": 5,
     "metadata": {},
     "output_type": "execute_result"
    },
    {
     "data": {
      "text/plain": [
       "STANDARD-DISTRIBUTION"
      ]
     },
     "execution_count": 5,
     "metadata": {},
     "output_type": "execute_result"
    }
   ],
   "source": [
    "\n",
    "; single-floatで計算する\n",
    "(defparameter pi-single-float (coerce pi 'single-float))\n",
    "\n",
    "; 正規分布の確率密度関数\n",
    "(defun standard-distribution (x &key (mean 0.0) (var 1.0))\n",
    "    (declare (optimize (speed 3))\n",
    "             (type single-float x mean var))\n",
    "    (* (/ (sqrt (* 2 pi-single-float (expt var 2))))\n",
    "       (exp (- (/ (expt (- x mean) 2) (* 2 (expt var 2)))))))"
   ]
  },
  {
   "cell_type": "code",
   "execution_count": 6,
   "id": "f2913ce8-358f-41db-8191-1ee52d0ecb1f",
   "metadata": {},
   "outputs": [
    {
     "data": {
      "image/png": "[encoded data removed]",
      "text/plain": [
       "./tmp/randn.png"
      ]
     },
     "metadata": {},
     "output_type": "display_data"
    }
   ],
   "source": [
    "(with-gnuplot \"randn\"\n",
    "    (show-tensor (!randn `(3000))\n",
    "                 #'standard-distribution))"
   ]
  },
  {
   "cell_type": "markdown",
   "id": "e8ab2264-17f2-4d48-b663-7506203334e5",
   "metadata": {},
   "source": [
    "## ベータ分布\n",
    "\n",
    "確率密度関数\n",
    "\n",
    "$$\n",
    "f(x;\\alpha,\\beta) = \\frac{x^{\\alpha-1}(1-x)^{\\beta-1}}{B(\\alpha, \\beta)} \\quad \\text{where} \\quad x \\in [0, 1]\n",
    "$$\n",
    "\n",
    "$$\n",
    "B(\\alpha, \\beta) = \\frac{\\Gamma(\\alpha)\\Gamma(\\beta)}{\\Gamma(\\alpha+\\beta)}\n",
    "$$"
   ]
  },
  {
   "cell_type": "code",
   "execution_count": 7,
   "id": "5ce8b552-0553-4002-b50d-08bcb65c4b69",
   "metadata": {},
   "outputs": [
    {
     "data": {
      "text/plain": [
       "ALPHA"
      ]
     },
     "execution_count": 7,
     "metadata": {},
     "output_type": "execute_result"
    },
    {
     "data": {
      "text/plain": [
       "BETA"
      ]
     },
     "execution_count": 7,
     "metadata": {},
     "output_type": "execute_result"
    },
    {
     "data": {
      "image/png": "[encoded data removed]",
      "text/plain": [
       "./tmp/Beta.png"
      ]
     },
     "metadata": {},
     "output_type": "display_data"
    }
   ],
   "source": [
    "(defparameter alpha 2.0)\n",
    "(defparameter beta 1.0)\n",
    "\n",
    "(with-gnuplot \"Beta\"\n",
    "    (show-tensor (!beta `(300000) alpha beta) #'(lambda (x) (* 2 x)))) ; とりあえず一次関数で、後で実装する・・・"
   ]
  },
  {
   "cell_type": "code",
   "execution_count": null,
   "id": "a09d480b-6362-4682-9268-2ff0d0b23007",
   "metadata": {},
   "outputs": [],
   "source": []
  }
 ],
 "metadata": {
  "kernelspec": {
   "display_name": "Common Lisp",
   "language": "common-lisp",
   "name": "common-lisp"
  },
  "language_info": {
   "codemirror_mode": "text/x-common-lisp",
   "file_extension": ".lisp",
   "mimetype": "text/x-common-lisp",
   "name": "common-lisp",
   "pygments_lexer": "common-lisp",
   "version": "2.1.0"
  }
 },
 "nbformat": 4,
 "nbformat_minor": 5
}
