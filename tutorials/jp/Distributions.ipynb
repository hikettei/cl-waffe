{
 "cells": [
  {
   "cell_type": "markdown",
   "id": "e4983009-0c8e-4210-9641-a347de4c3703",
   "metadata": {},
   "source": [
    "## 確率分布のサンプリング\n",
    "\n",
    "描画には[clgplot](https://github.com/masatoi/clgplot)を使っています。(gnuplotに依存してるので注意、Macでも動きました。)"
   ]
  },
  {
   "cell_type": "code",
   "execution_count": 1,
   "id": "f9549488-1ee0-455c-bb0d-fe31d19674fc",
   "metadata": {},
   "outputs": [
    {
     "data": {
      "text/plain": [
       "T"
      ]
     },
     "execution_count": 1,
     "metadata": {},
     "output_type": "execute_result"
    },
    {
     "data": {
      "text/plain": [
       "(:CL-WAFFE :CLGPLOT)"
      ]
     },
     "execution_count": 1,
     "metadata": {},
     "output_type": "execute_result"
    },
    {
     "name": "stderr",
     "output_type": "stream",
     "text": [
      "Unable to find framework CUDA\n"
     ]
    }
   ],
   "source": [
    "; cl-waffeを読み込む\n",
    "(load \"../../cl-waffe.asd\")\n",
    "(ql:quickload `(:cl-waffe :clgplot) :silent t)"
   ]
  },
  {
   "cell_type": "code",
   "execution_count": 2,
   "id": "71828a9a-c2f1-4c22-a0bd-02dea75b7bcd",
   "metadata": {},
   "outputs": [
    {
     "data": {
      "text/plain": [
       "#<PACKAGE \"DISTRIBUTION-EXAMPLE\">"
      ]
     },
     "execution_count": 2,
     "metadata": {},
     "output_type": "execute_result"
    },
    {
     "data": {
      "text/plain": [
       "#<PACKAGE \"DISTRIBUTION-EXAMPLE\">"
      ]
     },
     "execution_count": 2,
     "metadata": {},
     "output_type": "execute_result"
    }
   ],
   "source": [
    "(defpackage :distribution-example\n",
    "    (:use :cl :cl-waffe :clgplot :mgl-mat))\n",
    "\n",
    "(in-package :distribution-example)"
   ]
  },
  {
   "cell_type": "code",
   "execution_count": 3,
   "id": "ec8706a5-8535-4329-aa25-0df1f7866acf",
   "metadata": {},
   "outputs": [
    {
     "data": {
      "text/plain": [
       "((#<SB-KERNEL::CONDITION-CLASSOID SB-KERNEL:REDEFINITION-WARNING>\n",
       "  . MUFFLE-WARNING))"
      ]
     },
     "execution_count": 3,
     "metadata": {},
     "output_type": "execute_result"
    },
    {
     "name": "stdout",
     "output_type": "stream",
     "text": [
      "SB-INT:SIMPLE-STYLE-WARNING: DECLAIM where DECLARE was probably intended\n"
     ]
    }
   ],
   "source": [
    "#+sbcl(declaim (sb-ext:muffle-conditions sb-kernel:redefinition-warning))"
   ]
  },
  {
   "cell_type": "code",
   "execution_count": 36,
   "id": "3f17c761-e201-4688-af2b-c662f5d136e2",
   "metadata": {},
   "outputs": [
    {
     "data": {
      "text/plain": [
       "*OUTPUT-DIR*"
      ]
     },
     "execution_count": 36,
     "metadata": {},
     "output_type": "execute_result"
    },
    {
     "data": {
      "text/plain": [
       "WITH-GNUPLOT"
      ]
     },
     "execution_count": 36,
     "metadata": {},
     "output_type": "execute_result"
    },
    {
     "data": {
      "text/plain": [
       "SHOW-TENSOR"
      ]
     },
     "execution_count": 36,
     "metadata": {},
     "output_type": "execute_result"
    },
    {
     "data": {
      "text/plain": [
       "SHOW-HISTOGRAM"
      ]
     },
     "execution_count": 36,
     "metadata": {},
     "output_type": "execute_result"
    },
    {
     "name": "stdout",
     "output_type": "stream",
     "text": [
      "SB-KERNEL:REDEFINITION-WITH-DEFMACRO: redefining DISTRIBUTION-EXAMPLE::WITH-GNUPLOT in DEFMACRO\n"
     ]
    }
   ],
   "source": [
    "; Utils\n",
    "\n",
    "(defparameter *output-dir* nil)\n",
    "\n",
    "(defmacro with-gnuplot (title &body body)\n",
    "    `(let ((*output-dir* (format nil \"./tmp/~a.png\" ,title)))\n",
    "          (locally ,@body)\n",
    "          (jupyter:file *output-dir* :display t)))\n",
    "\n",
    "(defun show-tensor (samples pdf &key (sample-n 30))\n",
    "    \"samples : サンプリングされた確率分布\n",
    "     PDF     : 確率密度関数\"\n",
    "    (declare (type waffetensor samples)\n",
    "             (type function pdf))\n",
    "    (with-facets ((a* ((data samples) 'array)))\n",
    "        (plot-histogram-with-pdf\n",
    "         (coerce a* 'list)\n",
    "         sample-n\n",
    "         pdf\n",
    "         :output *output-dir*)))\n",
    "\n",
    "(defun show-histogram (samples &key (sample-n 30))\n",
    "    (declare (type waffetensor samples))\n",
    "    (with-facets ((a* ((data samples) 'array)))\n",
    "        (plot-histogram (coerce a* 'list) sample-n :output *output-dir*)))"
   ]
  },
  {
   "cell_type": "markdown",
   "id": "5e56db11-497e-48ff-9e0f-d5afcdfcab2c",
   "metadata": {},
   "source": [
    "## 正規分布\n",
    "\n",
    "(σは分散, μは平均) ここではσ=1.0, μ=0.0とする。\n",
    "\n",
    "正規分布（標準分布、ガウス分布とも）は以下の確率密度関数で定義される確率分布。\n",
    "$$\n",
    "f(x)=\\dfrac{1}{\\sqrt{2\\pi\\sigma^2}}\\exp(-\\dfrac{(x-\\mu)^ 2}{2\\sigma^ 2})\n",
    "$$"
   ]
  },
  {
   "cell_type": "code",
   "execution_count": 5,
   "id": "c6cf577c-4150-4f96-9ac6-169d6a004388",
   "metadata": {},
   "outputs": [
    {
     "data": {
      "text/plain": [
       "PI-SINGLE-FLOAT"
      ]
     },
     "execution_count": 5,
     "metadata": {},
     "output_type": "execute_result"
    },
    {
     "data": {
      "text/plain": [
       "STANDARD-DISTRIBUTION"
      ]
     },
     "execution_count": 5,
     "metadata": {},
     "output_type": "execute_result"
    }
   ],
   "source": [
    "; single-floatで計算する\n",
    "(defparameter pi-single-float (coerce pi 'single-float))\n",
    "\n",
    "; 正規分布の確率密度関数\n",
    "(defun standard-distribution (x &key (mean 0.0) (var 1.0))\n",
    "    (declare (optimize (speed 3))\n",
    "             (type single-float x mean var))\n",
    "    (* (/ (sqrt (* 2 pi-single-float (expt var 2))))\n",
    "       (exp (- (/ (expt (- x mean) 2) (* 2 (expt var 2)))))))"
   ]
  },
  {
   "cell_type": "code",
   "execution_count": 6,
   "id": "f2913ce8-358f-41db-8191-1ee52d0ecb1f",
   "metadata": {},
   "outputs": [
    {
     "data": {
      "image/png": "[encoded data removed]",
      "text/plain": [
       "./tmp/randn.png"
      ]
     },
     "metadata": {},
     "output_type": "display_data"
    }
   ],
   "source": [
    "(with-gnuplot \"randn\"\n",
    "    (show-tensor (!randn `(300000))\n",
    "                 #'standard-distribution))"
   ]
  },
  {
   "cell_type": "markdown",
   "id": "e8ab2264-17f2-4d48-b663-7506203334e5",
   "metadata": {},
   "source": [
    "## ベータ分布\n",
    "\n",
    "ベータ分布は、以下の確率密度関数で定義される確率分布\n",
    "\n",
    "$$\n",
    "f(x;\\alpha,\\beta) = \\frac{x^{\\alpha-1}(1-x)^{\\beta-1}}{B(\\alpha, \\beta)} \\quad \\text{where} \\quad x \\in [0, 1]\n",
    "$$\n",
    "\n",
    "$$\n",
    "B(\\alpha, \\beta) = \\frac{\\Gamma(\\alpha)\\Gamma(\\beta)}{\\Gamma(\\alpha+\\beta)}\n",
    "$$\n",
    "\n",
    "今回はα=2.0, β=1.0とする。\n",
    "\n",
    "参考: 内部ではこの[近似アルゴリズム](https://dl.acm.org/doi/pdf/10.1145/359460.359482)を使っている。"
   ]
  },
  {
   "cell_type": "code",
   "execution_count": 7,
   "id": "5ce8b552-0553-4002-b50d-08bcb65c4b69",
   "metadata": {},
   "outputs": [
    {
     "data": {
      "text/plain": [
       "ALPHA"
      ]
     },
     "execution_count": 7,
     "metadata": {},
     "output_type": "execute_result"
    },
    {
     "data": {
      "text/plain": [
       "BETA"
      ]
     },
     "execution_count": 7,
     "metadata": {},
     "output_type": "execute_result"
    },
    {
     "data": {
      "image/png": "[encoded data removed]",
      "text/plain": [
       "./tmp/Beta.png"
      ]
     },
     "metadata": {},
     "output_type": "display_data"
    }
   ],
   "source": [
    "(defparameter alpha 2.0)\n",
    "(defparameter beta 1.0)\n",
    "\n",
    "(with-gnuplot \"Beta\"\n",
    "    (show-tensor (!beta `(300000) alpha beta) #'(lambda (x) (* 2 x)))) ; とりあえず一次関数で、後で実装する・・・"
   ]
  },
  {
   "cell_type": "markdown",
   "id": "0abdaa93-beb8-4a9d-916e-3f7f76c437a8",
   "metadata": {},
   "source": [
    "### ガンマ分布\n",
    "\n",
    "ガンマ分布は、以下の確率密度関数で定義される確率分布\n",
    "$$\n",
    "f(x; k, \\theta) = \\frac{1}{\\Gamma(k)\\theta^k}x^{k-1}e^{-\\frac{x}{\\theta}} \\quad \\text{for} \\quad x > 0, \\; k > 0, \\; \\theta > 0\n",
    "$$\n",
    "\n",
    "(自分で早いアルゴリズム実装しようと思ったけど、すごくめんどくさそうなので気が向いたらやる。現在はnumclの関数を呼び出して生成している。)"
   ]
  },
  {
   "cell_type": "code",
   "execution_count": 54,
   "id": "9943ceb5-1bf9-42bb-994a-4874e0dceb18",
   "metadata": {},
   "outputs": [
    {
     "data": {
      "image/png": "[encoded data removed]",
      "text/plain": [
       "./tmp/Gamma.png"
      ]
     },
     "metadata": {},
     "output_type": "display_data"
    },
    {
     "data": {
      "image/png": "[encoded data removed]",
      "text/plain": [
       "./tmp/Gamma1.png"
      ]
     },
     "metadata": {},
     "output_type": "display_data"
    }
   ],
   "source": [
    "(with-gnuplot \"Gamma\"\n",
    "    (show-histogram (!gamma `(30000) 0.6)))\n",
    "\n",
    "(with-gnuplot \"Gamma1\"\n",
    "    (show-histogram (!gamma `(30000) 4.5)))"
   ]
  },
  {
   "cell_type": "markdown",
   "id": "4bec3dfd-d9f5-494d-b38a-1f4e949d5a5c",
   "metadata": {},
   "source": [
    "### カイ二条分布\n",
    "\n",
    "カイ二乗分布は、ガンマ分布の特殊な場合として導出でき、確率密度関数は\n",
    "\n",
    "$$\n",
    "f(x; ν) = \\frac{1}{\\Gamma(\\frac{ν}{2})2^{\\frac{ν}{2}}}x^{\\frac{ν}{2}-1}e^{-\\frac{x}{2}}\n",
    "$$\n",
    "\n",
    "と定義される（内部でもこっちで計算してる。）"
   ]
  },
  {
   "cell_type": "code",
   "execution_count": 68,
   "id": "dc4169ec-2986-4e1c-8462-d9189742c982",
   "metadata": {},
   "outputs": [
    {
     "data": {
      "image/png": "[encoded data removed]",
      "text/plain": [
       "./tmp/Chisquare.png"
      ]
     },
     "metadata": {},
     "output_type": "display_data"
    }
   ],
   "source": [
    "(with-gnuplot \"Chisquare\"\n",
    "    (show-histogram (!chisquare `(30000) 4.0)))"
   ]
  },
  {
   "cell_type": "markdown",
   "id": "9ce32f94-6989-4aa0-b355-200ba3339fa6",
   "metadata": {},
   "source": [
    "### ベルヌーイ分布\n",
    "\n",
    "ベルヌーイ分布は確率質量関数が次のように定義でき:\n",
    "$$\n",
    "P(X=k) = p^k(1-p)^{1-k} \\quad \\text{for} \\quad k \\in \\{0, 1\\}\n",
    "$$\n",
    "\n",
    "単に確率pで1を、確率(1-p)で0を取る離散確率分布も表現できる。"
   ]
  },
  {
   "cell_type": "code",
   "execution_count": 78,
   "id": "254887fe-3788-4ce4-8bdc-6cd393d657c3",
   "metadata": {},
   "outputs": [
    {
     "data": {
      "image/png": "[encoded data removed]",
      "text/plain": [
       "./tmp/Bernoulli.png"
      ]
     },
     "metadata": {},
     "output_type": "display_data"
    }
   ],
   "source": [
    "(with-gnuplot \"Bernoulli\"\n",
    "    (show-histogram (!bernoulli `(30000) 0.1)))"
   ]
  },
  {
   "cell_type": "markdown",
   "id": "c1ef3e13-07d4-4d4a-8843-1f3fa35bca8d",
   "metadata": {},
   "source": [
    "### 一様乱数\n",
    "\n",
    "xによらず全ての値を取る確率が一定 (6面サイコロとか)"
   ]
  },
  {
   "cell_type": "code",
   "execution_count": 90,
   "id": "d2e73100-5f96-46b8-9ec7-5378f3c0213d",
   "metadata": {},
   "outputs": [
    {
     "data": {
      "image/png": "[encoded data removed]",
      "text/plain": [
       "./tmp/Uniform_Random.png"
      ]
     },
     "metadata": {},
     "output_type": "display_data"
    }
   ],
   "source": [
    "(with-gnuplot \"Uniform_Random\"\n",
    "    (show-histogram (!random `(30000) 6)))"
   ]
  }
 ],
 "metadata": {
  "kernelspec": {
   "display_name": "Common Lisp",
   "language": "common-lisp",
   "name": "common-lisp"
  },
  "language_info": {
   "codemirror_mode": "text/x-common-lisp",
   "file_extension": ".lisp",
   "mimetype": "text/x-common-lisp",
   "name": "common-lisp",
   "pygments_lexer": "common-lisp",
   "version": "2.1.0"
  }
 },
 "nbformat": 4,
 "nbformat_minor": 5
}
